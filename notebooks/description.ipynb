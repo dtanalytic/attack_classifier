{
 "cells": [
  {
   "cell_type": "code",
   "execution_count": null,
   "id": "a47661c7-d227-410c-b194-a01cc77d8ccc",
   "metadata": {},
   "outputs": [],
   "source": []
  },
  {
   "cell_type": "code",
   "execution_count": null,
   "id": "d590c460-de7c-47bf-9815-35d7f6a5251b",
   "metadata": {},
   "outputs": [],
   "source": []
  },
  {
   "cell_type": "markdown",
   "id": "f45599ab-f618-4870-8dad-e32369f38464",
   "metadata": {},
   "source": [
    "# Как можно улучшить классификацию тактик без значимых слов\n",
    "\n",
    "- можно априор сделать равномерным, но тогда может увеличиться ошибочная классификация пустых предложений\n",
    "- возможно добавить n gramms, которые хорошо находят эти тактики"
   ]
  },
  {
   "cell_type": "markdown",
   "id": "9727ed68-85c8-431c-9171-789c632f6cc8",
   "metadata": {},
   "source": [
    "# TO DO"
   ]
  },
  {
   "cell_type": "markdown",
   "id": "6a432e18-d806-4793-acb9-d2ec9c98098a",
   "metadata": {},
   "source": [
    "- проверить на дубли датасет, разобраться с мусором\n",
    "data[data['sentence'].duplicated(keep=False)].sort_values(['sentence'])\n",
    "    - вообoе сделать ноутбук для обработки последующих текстов\n",
    "- нужна отдельная обработка проекта по mittre - на его основе \n",
    "    - изучение основных разделителей атак\n",
    "    - изучение схожих описаний эмбеддингов\n",
    "    - тянуть url откуда предложения появились в датасет\n",
    "      \n",
    "- оценить какие тактики сложно спрогнозировать и почему\n",
    "    - для exfiltration, impact практически нет значимых слов, а для defense-evasion есть такие\n",
    "    - у некоторых классов одинаковые значимые слова могут быть - impact exfiltration\n",
    "\n",
    "- определить, каких тактик прям мало в выборках, из-за этого и ошибки\n",
    "- min_df=10, max_df=0.1 для tf/idf на уровень слов\n"
   ]
  },
  {
   "cell_type": "code",
   "execution_count": null,
   "id": "b78b2538-9ea5-4cc4-a8f7-478b63dae08c",
   "metadata": {},
   "outputs": [],
   "source": []
  }
 ],
 "metadata": {
  "kernelspec": {
   "display_name": "pytorch_env",
   "language": "python",
   "name": "pytorch_env"
  },
  "language_info": {
   "codemirror_mode": {
    "name": "ipython",
    "version": 3
   },
   "file_extension": ".py",
   "mimetype": "text/x-python",
   "name": "python",
   "nbconvert_exporter": "python",
   "pygments_lexer": "ipython3",
   "version": "3.10.14"
  }
 },
 "nbformat": 4,
 "nbformat_minor": 5
}
