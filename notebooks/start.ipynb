{
 "cells": [
  {
   "cell_type": "code",
   "execution_count": 1,
   "id": "069cfb52-c692-475f-8eea-5d9bc3bd4d6a",
   "metadata": {
    "tags": []
   },
   "outputs": [],
   "source": [
    "%load_ext autoreload\n",
    "%autoreload 2"
   ]
  },
  {
   "cell_type": "raw",
   "id": "d3e52f53-587e-4f4a-a7f1-01fb92483cad",
   "metadata": {
    "collapsed": true,
    "jupyter": {
     "outputs_hidden": true
    },
    "tags": []
   },
   "source": [
    "import sys\n",
    "!{sys.executable} -m pip install phik"
   ]
  },
  {
   "cell_type": "code",
   "execution_count": 2,
   "id": "18cc6c9f-f80b-4a63-8326-461c4a3bf9c0",
   "metadata": {
    "tags": []
   },
   "outputs": [],
   "source": [
    "import os\n",
    "os.chdir('C://work/dev/python/progs/texts/sec_bert/')"
   ]
  },
  {
   "cell_type": "code",
   "execution_count": 6,
   "id": "777b50e8-8f6f-42d0-97db-f1acaa053ec8",
   "metadata": {
    "scrolled": true,
    "tags": []
   },
   "outputs": [
    {
     "name": "stdout",
     "output_type": "stream",
     "text": [
      "> \u001b[1;32mc:\\work\\dev\\python\\progs\\texts\\sec_bert\\src\\get_mitre_data.py\u001b[0m(89)\u001b[0;36mmain\u001b[1;34m()\u001b[0m\n",
      "\u001b[1;32m     87 \u001b[1;33m    \u001b[1;32mimport\u001b[0m \u001b[0mpdb\u001b[0m\u001b[1;33m;\u001b[0m\u001b[0mpdb\u001b[0m\u001b[1;33m.\u001b[0m\u001b[0mset_trace\u001b[0m\u001b[1;33m(\u001b[0m\u001b[1;33m)\u001b[0m\u001b[1;33m\u001b[0m\u001b[1;33m\u001b[0m\u001b[0m\n",
      "\u001b[0m\u001b[1;32m     88 \u001b[1;33m    \u001b[1;31m# удаляем строки, где процедуры не было совсем или citatation только (1 запись вроде)\u001b[0m\u001b[1;33m\u001b[0m\u001b[1;33m\u001b[0m\u001b[0m\n",
      "\u001b[0m\u001b[1;32m---> 89 \u001b[1;33m    \u001b[0mmitre_attack_df\u001b[0m \u001b[1;33m=\u001b[0m \u001b[0mmitre_attack_df\u001b[0m\u001b[1;33m[\u001b[0m\u001b[1;33m~\u001b[0m\u001b[0mmitre_attack_df\u001b[0m\u001b[1;33m[\u001b[0m\u001b[1;34m'sentence'\u001b[0m\u001b[1;33m]\u001b[0m\u001b[1;33m.\u001b[0m\u001b[0misna\u001b[0m\u001b[1;33m(\u001b[0m\u001b[1;33m)\u001b[0m\u001b[1;33m]\u001b[0m\u001b[1;33m.\u001b[0m\u001b[0mreset_index\u001b[0m\u001b[1;33m(\u001b[0m\u001b[0mdrop\u001b[0m\u001b[1;33m=\u001b[0m\u001b[1;32mTrue\u001b[0m\u001b[1;33m)\u001b[0m\u001b[1;33m\u001b[0m\u001b[1;33m\u001b[0m\u001b[0m\n",
      "\u001b[0m\u001b[1;32m     90 \u001b[1;33m\u001b[1;33m\u001b[0m\u001b[0m\n",
      "\u001b[0m\u001b[1;32m     91 \u001b[1;33m    \u001b[0mmitre_attack_df\u001b[0m\u001b[1;33m[\u001b[0m\u001b[1;33m[\u001b[0m\u001b[1;34m'sentence'\u001b[0m\u001b[1;33m,\u001b[0m \u001b[1;34m'labels'\u001b[0m\u001b[1;33m,\u001b[0m \u001b[1;34m'url'\u001b[0m\u001b[1;33m,\u001b[0m \u001b[1;34m'par_name'\u001b[0m\u001b[1;33m]\u001b[0m\u001b[1;33m]\u001b[0m\u001b[1;33m.\u001b[0m\u001b[0mto_csv\u001b[0m\u001b[1;33m(\u001b[0m\u001b[0mconf\u001b[0m\u001b[1;33m[\u001b[0m\u001b[1;34m'get_data'\u001b[0m\u001b[1;33m]\u001b[0m\u001b[1;33m[\u001b[0m\u001b[1;34m'data_mitre_attack_proc_fn'\u001b[0m\u001b[1;33m]\u001b[0m\u001b[1;33m,\u001b[0m \u001b[0mindex\u001b[0m\u001b[1;33m=\u001b[0m\u001b[1;32mFalse\u001b[0m\u001b[1;33m)\u001b[0m\u001b[1;33m\u001b[0m\u001b[1;33m\u001b[0m\u001b[0m\n",
      "\u001b[0m\n"
     ]
    },
    {
     "name": "stdin",
     "output_type": "stream",
     "text": [
      "ipdb>  mitre_attack_df[~mitre_attack_df['sentence'].isna()]\n"
     ]
    },
    {
     "name": "stdout",
     "output_type": "stream",
     "text": [
      "                                                      id  \\\n",
      "0      attack-pattern--0042a9f5-f053-4769-b3ef-9ad018...   \n",
      "1      attack-pattern--0042a9f5-f053-4769-b3ef-9ad018...   \n",
      "2      attack-pattern--0042a9f5-f053-4769-b3ef-9ad018...   \n",
      "3      attack-pattern--0042a9f5-f053-4769-b3ef-9ad018...   \n",
      "4      attack-pattern--0042a9f5-f053-4769-b3ef-9ad018...   \n",
      "...                                                  ...   \n",
      "15966  attack-pattern--ff73aa03-0090-4464-83ac-f89e23...   \n",
      "15968  attack-pattern--ffe59ad3-ad9b-4b9f-b74f-5beb3c...   \n",
      "15969  attack-pattern--ffe59ad3-ad9b-4b9f-b74f-5beb3c...   \n",
      "15970  attack-pattern--ffeb0780-356e-4261-b036-cfb6bd...   \n",
      "15971  attack-pattern--ffeb0780-356e-4261-b036-cfb6bd...   \n",
      "\n",
      "                                name  \\\n",
      "0      Extra Window Memory Injection   \n",
      "1      Extra Window Memory Injection   \n",
      "2      Extra Window Memory Injection   \n",
      "3      Extra Window Memory Injection   \n",
      "4      Extra Window Memory Injection   \n",
      "...                              ...   \n",
      "15966         System Shutdown/Reboot   \n",
      "15968      Process Argument Spoofing   \n",
      "15969      Process Argument Spoofing   \n",
      "15970                   COR_PROFILER   \n",
      "15971                   COR_PROFILER   \n",
      "\n",
      "                                                 url     labels  \\\n",
      "0      https://attack.mitre.org/techniques/T1055/011  T1055.011   \n",
      "1      https://attack.mitre.org/techniques/T1055/011  T1055.011   \n",
      "2      https://attack.mitre.org/techniques/T1055/011  T1055.011   \n",
      "3      https://attack.mitre.org/techniques/T1055/011  T1055.011   \n",
      "4      https://attack.mitre.org/techniques/T1055/011  T1055.011   \n",
      "...                                              ...        ...   \n",
      "15966      https://attack.mitre.org/techniques/T1529      T1529   \n",
      "15968  https://attack.mitre.org/techniques/T1564/010  T1564.010   \n",
      "15969  https://attack.mitre.org/techniques/T1564/010  T1564.010   \n",
      "15970  https://attack.mitre.org/techniques/T1574/012  T1574.012   \n",
      "15971  https://attack.mitre.org/techniques/T1574/012  T1574.012   \n",
      "\n",
      "                                                sentence  \\\n",
      "0      Adversaries may inject malicious code into pro...   \n",
      "1      Before creating a window, graphical Windows-ba...   \n",
      "2      Although small, the EWM is large enough to sto...   \n",
      "3      Execution granted through EWM injection may al...   \n",
      "4      Running code in the context of another process...   \n",
      "...                                                  ...   \n",
      "15966      [DustySky] can shutdown the infected machine.   \n",
      "15968  [Cobalt Strike] can use spoof arguments in spa...   \n",
      "15969  [SombRAT] has the ability to modify its proces...   \n",
      "15970  [Blue Mockingbird] has used wmic.exe and Windo...   \n",
      "15971  [DarkTortilla] can detect profilers by verifyi...   \n",
      "\n",
      "                                         kill_chain_tags subtechnique  \\\n",
      "0                [defense-evasion, privilege-escalation]         True   \n",
      "1                [defense-evasion, privilege-escalation]         True   \n",
      "2                [defense-evasion, privilege-escalation]         True   \n",
      "3                [defense-evasion, privilege-escalation]         True   \n",
      "4                [defense-evasion, privilege-escalation]         True   \n",
      "...                                                  ...          ...   \n",
      "15966                                           [impact]        False   \n",
      "15968                                  [defense-evasion]         True   \n",
      "15969                                  [defense-evasion]         True   \n",
      "15970  [persistence, privilege-escalation, defense-ev...         True   \n",
      "15971  [persistence, privilege-escalation, defense-ev...         True   \n",
      "\n",
      "                    par_name  is_proc  \n",
      "0          Process Injection    False  \n",
      "1          Process Injection    False  \n",
      "2          Process Injection    False  \n",
      "3          Process Injection    False  \n",
      "4          Process Injection    False  \n",
      "...                      ...      ...  \n",
      "15966                    NaN     True  \n",
      "15968         Hide Artifacts     True  \n",
      "15969         Hide Artifacts     True  \n",
      "15970  Hijack Execution Flow     True  \n",
      "15971  Hijack Execution Flow     True  \n",
      "\n",
      "[15860 rows x 9 columns]\n"
     ]
    },
    {
     "name": "stdin",
     "output_type": "stream",
     "text": [
      "ipdb>  mitre_attack_df[mitre_attack_df['sentence'].isna()]\n"
     ]
    },
    {
     "name": "stdout",
     "output_type": "stream",
     "text": [
      "                                                      id  \\\n",
      "2997   attack-pattern--04a5a8ab-3bc8-4c83-95c9-55274a...   \n",
      "3115   attack-pattern--0708ae90-d0eb-4938-9a76-d0fc94...   \n",
      "3116   attack-pattern--09312b1a-c3c6-4b45-9844-3ccc78...   \n",
      "3117   attack-pattern--0979abf9-4e26-43ec-9b6e-54efc4...   \n",
      "3261   attack-pattern--09b008a9-b4eb-462a-a751-a0eb58...   \n",
      "...                                                  ...   \n",
      "15159  attack-pattern--ebb42bbe-62d7-47d7-a55f-3b08b6...   \n",
      "15242  attack-pattern--ee7ff928-801c-4f34-8a99-3df965...   \n",
      "15750  attack-pattern--f6fe9070-7a65-49ea-ae72-76292f...   \n",
      "15928  attack-pattern--fc74ba38-dc98-461f-8611-b3dbf9...   \n",
      "15967  attack-pattern--ffbcfdb0-de22-4106-9ed3-fc23c8...   \n",
      "\n",
      "                                       name  \\\n",
      "2997                             Serverless   \n",
      "3115                  Revert Cloud Instance   \n",
      "3116         Gather Victim Host Information   \n",
      "3117                   Digital Certificates   \n",
      "3261                   File/Path Exclusions   \n",
      "...                                     ...   \n",
      "15159  Domain or Tenant Policy Modification   \n",
      "15242                       SNMP (MIB Dump)   \n",
      "15750         System Script Proxy Execution   \n",
      "15928                Downgrade System Image   \n",
      "15967                                   MMC   \n",
      "\n",
      "                                                 url     labels sentence  \\\n",
      "2997   https://attack.mitre.org/techniques/T1583/007  T1583.007      NaN   \n",
      "3115   https://attack.mitre.org/techniques/T1578/004  T1578.004      NaN   \n",
      "3116       https://attack.mitre.org/techniques/T1592      T1592      NaN   \n",
      "3117   https://attack.mitre.org/techniques/T1596/003  T1596.003      NaN   \n",
      "3261   https://attack.mitre.org/techniques/T1564/012  T1564.012      NaN   \n",
      "...                                              ...        ...      ...   \n",
      "15159      https://attack.mitre.org/techniques/T1484      T1484      NaN   \n",
      "15242  https://attack.mitre.org/techniques/T1602/001  T1602.001      NaN   \n",
      "15750      https://attack.mitre.org/techniques/T1216      T1216      NaN   \n",
      "15928  https://attack.mitre.org/techniques/T1601/002  T1601.002      NaN   \n",
      "15967  https://attack.mitre.org/techniques/T1218/014  T1218.014      NaN   \n",
      "\n",
      "                               kill_chain_tags subtechnique  \\\n",
      "2997                    [resource-development]         True   \n",
      "3115                         [defense-evasion]         True   \n",
      "3116                          [reconnaissance]        False   \n",
      "3117                          [reconnaissance]         True   \n",
      "3261                         [defense-evasion]         True   \n",
      "...                                        ...          ...   \n",
      "15159  [defense-evasion, privilege-escalation]        False   \n",
      "15242                             [collection]         True   \n",
      "15750                        [defense-evasion]        False   \n",
      "15928                        [defense-evasion]         True   \n",
      "15967                        [defense-evasion]         True   \n",
      "\n",
      "                                  par_name  is_proc  \n",
      "2997                Acquire Infrastructure     True  \n",
      "3115   Modify Cloud Compute Infrastructure     True  \n",
      "3116                                   NaN     True  \n",
      "3117       Search Open Technical Databases     True  \n",
      "3261                        Hide Artifacts     True  \n",
      "...                                    ...      ...  \n",
      "15159                                  NaN     True  \n",
      "15242   Data from Configuration Repository     True  \n",
      "15750                                  NaN     True  \n",
      "15928                  Modify System Image     True  \n",
      "15967        System Binary Proxy Execution     True  \n",
      "\n",
      "[112 rows x 9 columns]\n"
     ]
    },
    {
     "name": "stdin",
     "output_type": "stream",
     "text": [
      "ipdb>  n\n"
     ]
    },
    {
     "name": "stdout",
     "output_type": "stream",
     "text": [
      "> \u001b[1;32mc:\\work\\dev\\python\\progs\\texts\\sec_bert\\src\\get_mitre_data.py\u001b[0m(91)\u001b[0;36mmain\u001b[1;34m()\u001b[0m\n",
      "\u001b[1;32m     89 \u001b[1;33m    \u001b[0mmitre_attack_df\u001b[0m \u001b[1;33m=\u001b[0m \u001b[0mmitre_attack_df\u001b[0m\u001b[1;33m[\u001b[0m\u001b[1;33m~\u001b[0m\u001b[0mmitre_attack_df\u001b[0m\u001b[1;33m[\u001b[0m\u001b[1;34m'sentence'\u001b[0m\u001b[1;33m]\u001b[0m\u001b[1;33m.\u001b[0m\u001b[0misna\u001b[0m\u001b[1;33m(\u001b[0m\u001b[1;33m)\u001b[0m\u001b[1;33m]\u001b[0m\u001b[1;33m.\u001b[0m\u001b[0mreset_index\u001b[0m\u001b[1;33m(\u001b[0m\u001b[0mdrop\u001b[0m\u001b[1;33m=\u001b[0m\u001b[1;32mTrue\u001b[0m\u001b[1;33m)\u001b[0m\u001b[1;33m\u001b[0m\u001b[1;33m\u001b[0m\u001b[0m\n",
      "\u001b[0m\u001b[1;32m     90 \u001b[1;33m\u001b[1;33m\u001b[0m\u001b[0m\n",
      "\u001b[0m\u001b[1;32m---> 91 \u001b[1;33m    \u001b[0mmitre_attack_df\u001b[0m\u001b[1;33m[\u001b[0m\u001b[1;33m[\u001b[0m\u001b[1;34m'sentence'\u001b[0m\u001b[1;33m,\u001b[0m \u001b[1;34m'labels'\u001b[0m\u001b[1;33m,\u001b[0m \u001b[1;34m'url'\u001b[0m\u001b[1;33m,\u001b[0m \u001b[1;34m'par_name'\u001b[0m\u001b[1;33m]\u001b[0m\u001b[1;33m]\u001b[0m\u001b[1;33m.\u001b[0m\u001b[0mto_csv\u001b[0m\u001b[1;33m(\u001b[0m\u001b[0mconf\u001b[0m\u001b[1;33m[\u001b[0m\u001b[1;34m'get_data'\u001b[0m\u001b[1;33m]\u001b[0m\u001b[1;33m[\u001b[0m\u001b[1;34m'data_mitre_attack_proc_fn'\u001b[0m\u001b[1;33m]\u001b[0m\u001b[1;33m,\u001b[0m \u001b[0mindex\u001b[0m\u001b[1;33m=\u001b[0m\u001b[1;32mFalse\u001b[0m\u001b[1;33m)\u001b[0m\u001b[1;33m\u001b[0m\u001b[1;33m\u001b[0m\u001b[0m\n",
      "\u001b[0m\u001b[1;32m     92 \u001b[1;33m\u001b[1;33m\u001b[0m\u001b[0m\n",
      "\u001b[0m\u001b[1;32m     93 \u001b[1;33m    \u001b[1;32mwith\u001b[0m \u001b[0mopen\u001b[0m\u001b[1;33m(\u001b[0m\u001b[0mconf\u001b[0m\u001b[1;33m[\u001b[0m\u001b[1;34m'get_data'\u001b[0m\u001b[1;33m]\u001b[0m\u001b[1;33m[\u001b[0m\u001b[1;34m'label2tactic_fn'\u001b[0m\u001b[1;33m]\u001b[0m\u001b[1;33m,\u001b[0m \u001b[1;34m'wt'\u001b[0m\u001b[1;33m)\u001b[0m \u001b[1;32mas\u001b[0m \u001b[0mf_wr\u001b[0m\u001b[1;33m:\u001b[0m\u001b[1;33m\u001b[0m\u001b[1;33m\u001b[0m\u001b[0m\n",
      "\u001b[0m\n"
     ]
    },
    {
     "name": "stdin",
     "output_type": "stream",
     "text": [
      "ipdb>  mitre_attack_df.loc[1231]\n"
     ]
    },
    {
     "name": "stdout",
     "output_type": "stream",
     "text": [
      "id                 attack-pattern--8a2f40cf-8325-47f9-96e4-b1ca4c...\n",
      "name                                    Additional Cloud Credentials\n",
      "url                    https://attack.mitre.org/techniques/T1098/001\n",
      "labels                                                     T1098.001\n",
      "sentence                                                            \n",
      "kill_chain_tags                  [persistence, privilege-escalation]\n",
      "subtechnique                                                    True\n",
      "par_name                                        Account Manipulation\n",
      "is_proc                                                        False\n",
      "Name: 1231, dtype: object\n"
     ]
    },
    {
     "name": "stdin",
     "output_type": "stream",
     "text": [
      "ipdb>  mitre_attack_df.loc[1231]['sentence']\n"
     ]
    },
    {
     "name": "stdout",
     "output_type": "stream",
     "text": [
      "''\n"
     ]
    },
    {
     "name": "stdin",
     "output_type": "stream",
     "text": [
      "ipdb>  mitre_attack_df.shape\n"
     ]
    },
    {
     "name": "stdout",
     "output_type": "stream",
     "text": [
      "(15860, 9)\n"
     ]
    },
    {
     "name": "stdin",
     "output_type": "stream",
     "text": [
      "ipdb>  mitre_attack_df = mitre_attack_df[(~mitre_attack_df['sentence'].isna()) & (mitre_attack_df['sentence']!='')].reset_index(drop=True)\n",
      "ipdb>  mitre_attack_df.shape\n"
     ]
    },
    {
     "name": "stdout",
     "output_type": "stream",
     "text": [
      "(15859, 9)\n"
     ]
    },
    {
     "name": "stdin",
     "output_type": "stream",
     "text": [
      "ipdb>  q\n"
     ]
    },
    {
     "ename": "BdbQuit",
     "evalue": "",
     "output_type": "error",
     "traceback": [
      "\u001b[1;31m---------------------------------------------------------------------------\u001b[0m",
      "\u001b[1;31mBdbQuit\u001b[0m                                   Traceback (most recent call last)",
      "File \u001b[1;32mC:\\work\\dev\\python\\progs\\texts\\sec_bert\\src\\get_mitre_data.py:100\u001b[0m\n\u001b[0;32m     94\u001b[0m         json\u001b[38;5;241m.\u001b[39mdump(mitre_attack_df\u001b[38;5;241m.\u001b[39mset_index(\u001b[38;5;124m'\u001b[39m\u001b[38;5;124mlabels\u001b[39m\u001b[38;5;124m'\u001b[39m)[\u001b[38;5;124m'\u001b[39m\u001b[38;5;124mkill_chain_tags\u001b[39m\u001b[38;5;124m'\u001b[39m]\u001b[38;5;241m.\u001b[39mto_dict(), f_wr)\n\u001b[0;32m     98\u001b[0m \u001b[38;5;28;01mif\u001b[39;00m \u001b[38;5;18m__name__\u001b[39m\u001b[38;5;241m==\u001b[39m\u001b[38;5;124m'\u001b[39m\u001b[38;5;124m__main__\u001b[39m\u001b[38;5;124m'\u001b[39m:\n\u001b[1;32m--> 100\u001b[0m     \u001b[43mmain\u001b[49m\u001b[43m(\u001b[49m\u001b[43m)\u001b[49m\n",
      "File \u001b[1;32mC:\\tools\\Anaconda3\\envs\\pytorch_env\\lib\\site-packages\\click\\core.py:1157\u001b[0m, in \u001b[0;36mBaseCommand.__call__\u001b[1;34m(self, *args, **kwargs)\u001b[0m\n\u001b[0;32m   1155\u001b[0m \u001b[38;5;28;01mdef\u001b[39;00m \u001b[38;5;21m__call__\u001b[39m(\u001b[38;5;28mself\u001b[39m, \u001b[38;5;241m*\u001b[39margs: t\u001b[38;5;241m.\u001b[39mAny, \u001b[38;5;241m*\u001b[39m\u001b[38;5;241m*\u001b[39mkwargs: t\u001b[38;5;241m.\u001b[39mAny) \u001b[38;5;241m-\u001b[39m\u001b[38;5;241m>\u001b[39m t\u001b[38;5;241m.\u001b[39mAny:\n\u001b[0;32m   1156\u001b[0m \u001b[38;5;250m    \u001b[39m\u001b[38;5;124;03m\"\"\"Alias for :meth:`main`.\"\"\"\u001b[39;00m\n\u001b[1;32m-> 1157\u001b[0m     \u001b[38;5;28;01mreturn\u001b[39;00m \u001b[38;5;28mself\u001b[39m\u001b[38;5;241m.\u001b[39mmain(\u001b[38;5;241m*\u001b[39margs, \u001b[38;5;241m*\u001b[39m\u001b[38;5;241m*\u001b[39mkwargs)\n",
      "File \u001b[1;32mC:\\tools\\Anaconda3\\envs\\pytorch_env\\lib\\site-packages\\click\\core.py:1078\u001b[0m, in \u001b[0;36mBaseCommand.main\u001b[1;34m(self, args, prog_name, complete_var, standalone_mode, windows_expand_args, **extra)\u001b[0m\n\u001b[0;32m   1076\u001b[0m \u001b[38;5;28;01mtry\u001b[39;00m:\n\u001b[0;32m   1077\u001b[0m     \u001b[38;5;28;01mwith\u001b[39;00m \u001b[38;5;28mself\u001b[39m\u001b[38;5;241m.\u001b[39mmake_context(prog_name, args, \u001b[38;5;241m*\u001b[39m\u001b[38;5;241m*\u001b[39mextra) \u001b[38;5;28;01mas\u001b[39;00m ctx:\n\u001b[1;32m-> 1078\u001b[0m         rv \u001b[38;5;241m=\u001b[39m \u001b[38;5;28;43mself\u001b[39;49m\u001b[38;5;241;43m.\u001b[39;49m\u001b[43minvoke\u001b[49m\u001b[43m(\u001b[49m\u001b[43mctx\u001b[49m\u001b[43m)\u001b[49m\n\u001b[0;32m   1079\u001b[0m         \u001b[38;5;28;01mif\u001b[39;00m \u001b[38;5;129;01mnot\u001b[39;00m standalone_mode:\n\u001b[0;32m   1080\u001b[0m             \u001b[38;5;28;01mreturn\u001b[39;00m rv\n",
      "File \u001b[1;32mC:\\tools\\Anaconda3\\envs\\pytorch_env\\lib\\site-packages\\click\\core.py:1434\u001b[0m, in \u001b[0;36mCommand.invoke\u001b[1;34m(self, ctx)\u001b[0m\n\u001b[0;32m   1431\u001b[0m     echo(style(message, fg\u001b[38;5;241m=\u001b[39m\u001b[38;5;124m\"\u001b[39m\u001b[38;5;124mred\u001b[39m\u001b[38;5;124m\"\u001b[39m), err\u001b[38;5;241m=\u001b[39m\u001b[38;5;28;01mTrue\u001b[39;00m)\n\u001b[0;32m   1433\u001b[0m \u001b[38;5;28;01mif\u001b[39;00m \u001b[38;5;28mself\u001b[39m\u001b[38;5;241m.\u001b[39mcallback \u001b[38;5;129;01mis\u001b[39;00m \u001b[38;5;129;01mnot\u001b[39;00m \u001b[38;5;28;01mNone\u001b[39;00m:\n\u001b[1;32m-> 1434\u001b[0m     \u001b[38;5;28;01mreturn\u001b[39;00m ctx\u001b[38;5;241m.\u001b[39minvoke(\u001b[38;5;28mself\u001b[39m\u001b[38;5;241m.\u001b[39mcallback, \u001b[38;5;241m*\u001b[39m\u001b[38;5;241m*\u001b[39mctx\u001b[38;5;241m.\u001b[39mparams)\n",
      "File \u001b[1;32mC:\\tools\\Anaconda3\\envs\\pytorch_env\\lib\\site-packages\\click\\core.py:783\u001b[0m, in \u001b[0;36mContext.invoke\u001b[1;34m(_Context__self, _Context__callback, *args, **kwargs)\u001b[0m\n\u001b[0;32m    781\u001b[0m \u001b[38;5;28;01mwith\u001b[39;00m augment_usage_errors(__self):\n\u001b[0;32m    782\u001b[0m     \u001b[38;5;28;01mwith\u001b[39;00m ctx:\n\u001b[1;32m--> 783\u001b[0m         \u001b[38;5;28;01mreturn\u001b[39;00m __callback(\u001b[38;5;241m*\u001b[39margs, \u001b[38;5;241m*\u001b[39m\u001b[38;5;241m*\u001b[39mkwargs)\n",
      "File \u001b[1;32mC:\\work\\dev\\python\\progs\\texts\\sec_bert\\src\\get_mitre_data.py:91\u001b[0m, in \u001b[0;36mmain\u001b[1;34m(config_path)\u001b[0m\n\u001b[0;32m     88\u001b[0m \u001b[38;5;66;03m# удаляем строки, где процедуры не было совсем или citatation только (1 запись вроде)\u001b[39;00m\n\u001b[0;32m     89\u001b[0m mitre_attack_df \u001b[38;5;241m=\u001b[39m mitre_attack_df[(\u001b[38;5;241m~\u001b[39mmitre_attack_df[\u001b[38;5;124m'\u001b[39m\u001b[38;5;124msentence\u001b[39m\u001b[38;5;124m'\u001b[39m]\u001b[38;5;241m.\u001b[39misna()) \u001b[38;5;241m&\u001b[39m (mitre_attack_df[\u001b[38;5;124m'\u001b[39m\u001b[38;5;124msentence\u001b[39m\u001b[38;5;124m'\u001b[39m]\u001b[38;5;241m!=\u001b[39m\u001b[38;5;124m'\u001b[39m\u001b[38;5;124m'\u001b[39m)]\u001b[38;5;241m.\u001b[39mreset_index(drop\u001b[38;5;241m=\u001b[39m\u001b[38;5;28;01mTrue\u001b[39;00m)\n\u001b[1;32m---> 91\u001b[0m mitre_attack_df[[\u001b[38;5;124m'\u001b[39m\u001b[38;5;124msentence\u001b[39m\u001b[38;5;124m'\u001b[39m, \u001b[38;5;124m'\u001b[39m\u001b[38;5;124mlabels\u001b[39m\u001b[38;5;124m'\u001b[39m, \u001b[38;5;124m'\u001b[39m\u001b[38;5;124murl\u001b[39m\u001b[38;5;124m'\u001b[39m, \u001b[38;5;124m'\u001b[39m\u001b[38;5;124mpar_name\u001b[39m\u001b[38;5;124m'\u001b[39m]]\u001b[38;5;241m.\u001b[39mto_csv(conf[\u001b[38;5;124m'\u001b[39m\u001b[38;5;124mget_data\u001b[39m\u001b[38;5;124m'\u001b[39m][\u001b[38;5;124m'\u001b[39m\u001b[38;5;124mdata_mitre_attack_proc_fn\u001b[39m\u001b[38;5;124m'\u001b[39m], index\u001b[38;5;241m=\u001b[39m\u001b[38;5;28;01mFalse\u001b[39;00m)\n\u001b[0;32m     93\u001b[0m \u001b[38;5;28;01mwith\u001b[39;00m \u001b[38;5;28mopen\u001b[39m(conf[\u001b[38;5;124m'\u001b[39m\u001b[38;5;124mget_data\u001b[39m\u001b[38;5;124m'\u001b[39m][\u001b[38;5;124m'\u001b[39m\u001b[38;5;124mlabel2tactic_fn\u001b[39m\u001b[38;5;124m'\u001b[39m], \u001b[38;5;124m'\u001b[39m\u001b[38;5;124mwt\u001b[39m\u001b[38;5;124m'\u001b[39m) \u001b[38;5;28;01mas\u001b[39;00m f_wr:\n\u001b[0;32m     94\u001b[0m     json\u001b[38;5;241m.\u001b[39mdump(mitre_attack_df\u001b[38;5;241m.\u001b[39mset_index(\u001b[38;5;124m'\u001b[39m\u001b[38;5;124mlabels\u001b[39m\u001b[38;5;124m'\u001b[39m)[\u001b[38;5;124m'\u001b[39m\u001b[38;5;124mkill_chain_tags\u001b[39m\u001b[38;5;124m'\u001b[39m]\u001b[38;5;241m.\u001b[39mto_dict(), f_wr)\n",
      "File \u001b[1;32mC:\\work\\dev\\python\\progs\\texts\\sec_bert\\src\\get_mitre_data.py:91\u001b[0m, in \u001b[0;36mmain\u001b[1;34m(config_path)\u001b[0m\n\u001b[0;32m     88\u001b[0m \u001b[38;5;66;03m# удаляем строки, где процедуры не было совсем или citatation только (1 запись вроде)\u001b[39;00m\n\u001b[0;32m     89\u001b[0m mitre_attack_df \u001b[38;5;241m=\u001b[39m mitre_attack_df[(\u001b[38;5;241m~\u001b[39mmitre_attack_df[\u001b[38;5;124m'\u001b[39m\u001b[38;5;124msentence\u001b[39m\u001b[38;5;124m'\u001b[39m]\u001b[38;5;241m.\u001b[39misna()) \u001b[38;5;241m&\u001b[39m (mitre_attack_df[\u001b[38;5;124m'\u001b[39m\u001b[38;5;124msentence\u001b[39m\u001b[38;5;124m'\u001b[39m]\u001b[38;5;241m!=\u001b[39m\u001b[38;5;124m'\u001b[39m\u001b[38;5;124m'\u001b[39m)]\u001b[38;5;241m.\u001b[39mreset_index(drop\u001b[38;5;241m=\u001b[39m\u001b[38;5;28;01mTrue\u001b[39;00m)\n\u001b[1;32m---> 91\u001b[0m mitre_attack_df[[\u001b[38;5;124m'\u001b[39m\u001b[38;5;124msentence\u001b[39m\u001b[38;5;124m'\u001b[39m, \u001b[38;5;124m'\u001b[39m\u001b[38;5;124mlabels\u001b[39m\u001b[38;5;124m'\u001b[39m, \u001b[38;5;124m'\u001b[39m\u001b[38;5;124murl\u001b[39m\u001b[38;5;124m'\u001b[39m, \u001b[38;5;124m'\u001b[39m\u001b[38;5;124mpar_name\u001b[39m\u001b[38;5;124m'\u001b[39m]]\u001b[38;5;241m.\u001b[39mto_csv(conf[\u001b[38;5;124m'\u001b[39m\u001b[38;5;124mget_data\u001b[39m\u001b[38;5;124m'\u001b[39m][\u001b[38;5;124m'\u001b[39m\u001b[38;5;124mdata_mitre_attack_proc_fn\u001b[39m\u001b[38;5;124m'\u001b[39m], index\u001b[38;5;241m=\u001b[39m\u001b[38;5;28;01mFalse\u001b[39;00m)\n\u001b[0;32m     93\u001b[0m \u001b[38;5;28;01mwith\u001b[39;00m \u001b[38;5;28mopen\u001b[39m(conf[\u001b[38;5;124m'\u001b[39m\u001b[38;5;124mget_data\u001b[39m\u001b[38;5;124m'\u001b[39m][\u001b[38;5;124m'\u001b[39m\u001b[38;5;124mlabel2tactic_fn\u001b[39m\u001b[38;5;124m'\u001b[39m], \u001b[38;5;124m'\u001b[39m\u001b[38;5;124mwt\u001b[39m\u001b[38;5;124m'\u001b[39m) \u001b[38;5;28;01mas\u001b[39;00m f_wr:\n\u001b[0;32m     94\u001b[0m     json\u001b[38;5;241m.\u001b[39mdump(mitre_attack_df\u001b[38;5;241m.\u001b[39mset_index(\u001b[38;5;124m'\u001b[39m\u001b[38;5;124mlabels\u001b[39m\u001b[38;5;124m'\u001b[39m)[\u001b[38;5;124m'\u001b[39m\u001b[38;5;124mkill_chain_tags\u001b[39m\u001b[38;5;124m'\u001b[39m]\u001b[38;5;241m.\u001b[39mto_dict(), f_wr)\n",
      "File \u001b[1;32mC:\\tools\\Anaconda3\\envs\\pytorch_env\\lib\\bdb.py:90\u001b[0m, in \u001b[0;36mBdb.trace_dispatch\u001b[1;34m(self, frame, event, arg)\u001b[0m\n\u001b[0;32m     88\u001b[0m     \u001b[38;5;28;01mreturn\u001b[39;00m \u001b[38;5;66;03m# None\u001b[39;00m\n\u001b[0;32m     89\u001b[0m \u001b[38;5;28;01mif\u001b[39;00m event \u001b[38;5;241m==\u001b[39m \u001b[38;5;124m'\u001b[39m\u001b[38;5;124mline\u001b[39m\u001b[38;5;124m'\u001b[39m:\n\u001b[1;32m---> 90\u001b[0m     \u001b[38;5;28;01mreturn\u001b[39;00m \u001b[38;5;28;43mself\u001b[39;49m\u001b[38;5;241;43m.\u001b[39;49m\u001b[43mdispatch_line\u001b[49m\u001b[43m(\u001b[49m\u001b[43mframe\u001b[49m\u001b[43m)\u001b[49m\n\u001b[0;32m     91\u001b[0m \u001b[38;5;28;01mif\u001b[39;00m event \u001b[38;5;241m==\u001b[39m \u001b[38;5;124m'\u001b[39m\u001b[38;5;124mcall\u001b[39m\u001b[38;5;124m'\u001b[39m:\n\u001b[0;32m     92\u001b[0m     \u001b[38;5;28;01mreturn\u001b[39;00m \u001b[38;5;28mself\u001b[39m\u001b[38;5;241m.\u001b[39mdispatch_call(frame, arg)\n",
      "File \u001b[1;32mC:\\tools\\Anaconda3\\envs\\pytorch_env\\lib\\bdb.py:115\u001b[0m, in \u001b[0;36mBdb.dispatch_line\u001b[1;34m(self, frame)\u001b[0m\n\u001b[0;32m    113\u001b[0m \u001b[38;5;28;01mif\u001b[39;00m \u001b[38;5;28mself\u001b[39m\u001b[38;5;241m.\u001b[39mstop_here(frame) \u001b[38;5;129;01mor\u001b[39;00m \u001b[38;5;28mself\u001b[39m\u001b[38;5;241m.\u001b[39mbreak_here(frame):\n\u001b[0;32m    114\u001b[0m     \u001b[38;5;28mself\u001b[39m\u001b[38;5;241m.\u001b[39muser_line(frame)\n\u001b[1;32m--> 115\u001b[0m     \u001b[38;5;28;01mif\u001b[39;00m \u001b[38;5;28mself\u001b[39m\u001b[38;5;241m.\u001b[39mquitting: \u001b[38;5;28;01mraise\u001b[39;00m BdbQuit\n\u001b[0;32m    116\u001b[0m \u001b[38;5;28;01mreturn\u001b[39;00m \u001b[38;5;28mself\u001b[39m\u001b[38;5;241m.\u001b[39mtrace_dispatch\n",
      "\u001b[1;31mBdbQuit\u001b[0m: "
     ]
    }
   ],
   "source": [
    "%run src/get_mitre_data.py params.yaml"
   ]
  },
  {
   "cell_type": "code",
   "execution_count": 4,
   "id": "bfb41ebe-afef-4804-b304-b95b94cb84eb",
   "metadata": {
    "collapsed": true,
    "jupyter": {
     "outputs_hidden": true
    }
   },
   "outputs": [
    {
     "name": "stdout",
     "output_type": "stream",
     "text": [
      "> \u001b[1;32mc:\\tools\\anaconda3\\envs\\pytorch_env\\lib\\re.py\u001b[0m(209)\u001b[0;36msub\u001b[1;34m()\u001b[0m\n",
      "\u001b[1;32m    207 \u001b[1;33m    \u001b[0ma\u001b[0m \u001b[0mcallable\u001b[0m\u001b[1;33m,\u001b[0m \u001b[0mit\u001b[0m\u001b[0;31m'\u001b[0m\u001b[0ms\u001b[0m \u001b[0mpassed\u001b[0m \u001b[0mthe\u001b[0m \u001b[0mMatch\u001b[0m \u001b[0mobject\u001b[0m \u001b[1;32mand\u001b[0m \u001b[0mmust\u001b[0m \u001b[1;32mreturn\u001b[0m\u001b[1;33m\u001b[0m\u001b[1;33m\u001b[0m\u001b[0m\n",
      "\u001b[0m\u001b[1;32m    208 \u001b[1;33m    a replacement string to be used.\"\"\"\n",
      "\u001b[0m\u001b[1;32m--> 209 \u001b[1;33m    \u001b[1;32mreturn\u001b[0m \u001b[0m_compile\u001b[0m\u001b[1;33m(\u001b[0m\u001b[0mpattern\u001b[0m\u001b[1;33m,\u001b[0m \u001b[0mflags\u001b[0m\u001b[1;33m)\u001b[0m\u001b[1;33m.\u001b[0m\u001b[0msub\u001b[0m\u001b[1;33m(\u001b[0m\u001b[0mrepl\u001b[0m\u001b[1;33m,\u001b[0m \u001b[0mstring\u001b[0m\u001b[1;33m,\u001b[0m \u001b[0mcount\u001b[0m\u001b[1;33m)\u001b[0m\u001b[1;33m\u001b[0m\u001b[1;33m\u001b[0m\u001b[0m\n",
      "\u001b[0m\u001b[1;32m    210 \u001b[1;33m\u001b[1;33m\u001b[0m\u001b[0m\n",
      "\u001b[0m\u001b[1;32m    211 \u001b[1;33m\u001b[1;32mdef\u001b[0m \u001b[0msubn\u001b[0m\u001b[1;33m(\u001b[0m\u001b[0mpattern\u001b[0m\u001b[1;33m,\u001b[0m \u001b[0mrepl\u001b[0m\u001b[1;33m,\u001b[0m \u001b[0mstring\u001b[0m\u001b[1;33m,\u001b[0m \u001b[0mcount\u001b[0m\u001b[1;33m=\u001b[0m\u001b[1;36m0\u001b[0m\u001b[1;33m,\u001b[0m \u001b[0mflags\u001b[0m\u001b[1;33m=\u001b[0m\u001b[1;36m0\u001b[0m\u001b[1;33m)\u001b[0m\u001b[1;33m:\u001b[0m\u001b[1;33m\u001b[0m\u001b[1;33m\u001b[0m\u001b[0m\n",
      "\u001b[0m\n"
     ]
    },
    {
     "name": "stdin",
     "output_type": "stream",
     "text": [
      "ipdb>  u\n"
     ]
    },
    {
     "name": "stdout",
     "output_type": "stream",
     "text": [
      "> \u001b[1;32mc:\\work\\dev\\python\\progs\\texts\\sec_bert\\src\\funcs.py\u001b[0m(15)\u001b[0;36mpreprocess_text\u001b[1;34m()\u001b[0m\n",
      "\u001b[1;32m     13 \u001b[1;33m    \u001b[1;32mif\u001b[0m \u001b[0msave_only_words\u001b[0m\u001b[1;33m:\u001b[0m\u001b[1;33m\u001b[0m\u001b[1;33m\u001b[0m\u001b[0m\n",
      "\u001b[0m\u001b[1;32m     14 \u001b[1;33m        \u001b[0mtext\u001b[0m \u001b[1;33m=\u001b[0m \u001b[0mre\u001b[0m\u001b[1;33m.\u001b[0m\u001b[0msub\u001b[0m\u001b[1;33m(\u001b[0m\u001b[1;34m'(?u)[^\\w\\s]'\u001b[0m\u001b[1;33m,\u001b[0m \u001b[1;34m''\u001b[0m\u001b[1;33m,\u001b[0m \u001b[0mtext\u001b[0m\u001b[1;33m)\u001b[0m\u001b[1;33m\u001b[0m\u001b[1;33m\u001b[0m\u001b[0m\n",
      "\u001b[0m\u001b[1;32m---> 15 \u001b[1;33m    \u001b[0mtext\u001b[0m \u001b[1;33m=\u001b[0m \u001b[0mre\u001b[0m\u001b[1;33m.\u001b[0m\u001b[0msub\u001b[0m\u001b[1;33m(\u001b[0m\u001b[1;34m' +'\u001b[0m\u001b[1;33m,\u001b[0m \u001b[1;34m' '\u001b[0m\u001b[1;33m,\u001b[0m \u001b[0mtext\u001b[0m\u001b[1;33m)\u001b[0m\u001b[1;33m\u001b[0m\u001b[1;33m\u001b[0m\u001b[0m\n",
      "\u001b[0m\u001b[1;32m     16 \u001b[1;33m\u001b[1;33m\u001b[0m\u001b[0m\n",
      "\u001b[0m\u001b[1;32m     17 \u001b[1;33m    \u001b[1;32mif\u001b[0m \u001b[0mto_lower\u001b[0m\u001b[1;33m:\u001b[0m\u001b[1;33m\u001b[0m\u001b[1;33m\u001b[0m\u001b[0m\n",
      "\u001b[0m\n"
     ]
    },
    {
     "name": "stdin",
     "output_type": "stream",
     "text": [
      "ipdb>  text\n"
     ]
    },
    {
     "name": "stdout",
     "output_type": "stream",
     "text": [
      "nan\n"
     ]
    },
    {
     "name": "stdin",
     "output_type": "stream",
     "text": [
      "ipdb>  u\n"
     ]
    },
    {
     "name": "stdout",
     "output_type": "stream",
     "text": [
      "> \u001b[1;32mc:\\work\\dev\\python\\progs\\texts\\sec_bert\\src\\prep.py\u001b[0m(36)\u001b[0;36m<lambda>\u001b[1;34m()\u001b[0m\n",
      "\u001b[1;32m     34 \u001b[1;33m        \u001b[0mdata\u001b[0m \u001b[1;33m=\u001b[0m \u001b[0mdata\u001b[0m\u001b[1;33m[\u001b[0m\u001b[0mdata\u001b[0m\u001b[1;33m[\u001b[0m\u001b[1;34m'labels'\u001b[0m\u001b[1;33m]\u001b[0m\u001b[1;33m.\u001b[0m\u001b[0mstr\u001b[0m\u001b[1;33m.\u001b[0m\u001b[0mlen\u001b[0m\u001b[1;33m(\u001b[0m\u001b[1;33m)\u001b[0m\u001b[1;33m>\u001b[0m\u001b[1;36m1\u001b[0m\u001b[1;33m]\u001b[0m\u001b[1;33m\u001b[0m\u001b[1;33m\u001b[0m\u001b[0m\n",
      "\u001b[0m\u001b[1;32m     35 \u001b[1;33m\u001b[1;33m\u001b[0m\u001b[0m\n",
      "\u001b[0m\u001b[1;32m---> 36 \u001b[1;33m    data['prep_text'] = data['sentence'].apply(lambda x: preprocess_text(x, to_lower=conf['prep_text']['lower'], \n",
      "\u001b[0m\u001b[1;32m     37 \u001b[1;33m     \u001b[0mmin_len_token\u001b[0m\u001b[1;33m=\u001b[0m\u001b[0mconf\u001b[0m\u001b[1;33m[\u001b[0m\u001b[1;34m'prep_text'\u001b[0m\u001b[1;33m]\u001b[0m\u001b[1;33m[\u001b[0m\u001b[1;34m'min_len_token'\u001b[0m\u001b[1;33m]\u001b[0m\u001b[1;33m,\u001b[0m \u001b[0mmax_len_token\u001b[0m\u001b[1;33m=\u001b[0m\u001b[0mconf\u001b[0m\u001b[1;33m[\u001b[0m\u001b[1;34m'prep_text'\u001b[0m\u001b[1;33m]\u001b[0m\u001b[1;33m[\u001b[0m\u001b[1;34m'max_len_token'\u001b[0m\u001b[1;33m]\u001b[0m\u001b[1;33m,\u001b[0m \u001b[0mstop_words_l\u001b[0m\u001b[1;33m=\u001b[0m\u001b[0mstop_words_l\u001b[0m\u001b[1;33m,\u001b[0m\u001b[1;33m\u001b[0m\u001b[1;33m\u001b[0m\u001b[0m\n",
      "\u001b[0m\u001b[1;32m     38 \u001b[1;33m     \u001b[0mstem_lemm_flag\u001b[0m\u001b[1;33m=\u001b[0m\u001b[0mconf\u001b[0m\u001b[1;33m[\u001b[0m\u001b[1;34m'prep_text'\u001b[0m\u001b[1;33m]\u001b[0m\u001b[1;33m[\u001b[0m\u001b[1;34m'stem_lemm'\u001b[0m\u001b[1;33m]\u001b[0m\u001b[1;33m,\u001b[0m \u001b[0msave_text\u001b[0m\u001b[1;33m=\u001b[0m\u001b[1;32mTrue\u001b[0m\u001b[1;33m,\u001b[0m \u001b[0msave_only_words\u001b[0m\u001b[1;33m=\u001b[0m \u001b[0mconf\u001b[0m\u001b[1;33m[\u001b[0m\u001b[1;34m'prep_text'\u001b[0m\u001b[1;33m]\u001b[0m\u001b[1;33m[\u001b[0m\u001b[1;34m'save_only_words'\u001b[0m\u001b[1;33m]\u001b[0m\u001b[1;33m,\u001b[0m\u001b[1;33m\u001b[0m\u001b[1;33m\u001b[0m\u001b[0m\n",
      "\u001b[0m\n"
     ]
    },
    {
     "name": "stdin",
     "output_type": "stream",
     "text": [
      "ipdb>  data['sentence']\n"
     ]
    },
    {
     "name": "stdout",
     "output_type": "stream",
     "text": [
      "*** NameError: name 'data' is not defined\n"
     ]
    },
    {
     "name": "stdin",
     "output_type": "stream",
     "text": [
      "ipdb>  data\n"
     ]
    },
    {
     "name": "stdout",
     "output_type": "stream",
     "text": [
      "*** NameError: name 'data' is not defined\n"
     ]
    },
    {
     "name": "stdin",
     "output_type": "stream",
     "text": [
      "ipdb>  q\n"
     ]
    }
   ],
   "source": [
    "%debug"
   ]
  },
  {
   "cell_type": "markdown",
   "id": "01495b99-be37-40f8-9f5e-cb5912b6bad9",
   "metadata": {},
   "source": [
    "Как заполнить numpy массивы 0 по заданному измерению"
   ]
  },
  {
   "cell_type": "code",
   "execution_count": null,
   "id": "b322518a-ecd2-44b1-a7de-6863f76da083",
   "metadata": {},
   "outputs": [],
   "source": [
    "dvc exp run -S feat_gen.logreg_c=0.05"
   ]
  },
  {
   "cell_type": "markdown",
   "id": "6ead4410-b92d-4212-9d18-3753ce409467",
   "metadata": {},
   "source": [
    "- dvc exp run -S val_only_proc=false\n",
    "\n",
    "- dvc exp show --drop .* --keep 'Experiment|кол1|кол2' --rev commit"
   ]
  }
 ],
 "metadata": {
  "kernelspec": {
   "display_name": "pytorch_env",
   "language": "python",
   "name": "pytorch_env"
  },
  "language_info": {
   "codemirror_mode": {
    "name": "ipython",
    "version": 3
   },
   "file_extension": ".py",
   "mimetype": "text/x-python",
   "name": "python",
   "nbconvert_exporter": "python",
   "pygments_lexer": "ipython3",
   "version": "3.10.14"
  }
 },
 "nbformat": 4,
 "nbformat_minor": 5
}
