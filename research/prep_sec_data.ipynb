{
 "cells": [
  {
   "cell_type": "markdown",
   "metadata": {
    "id": "MjepYhYNDAeV"
   },
   "source": [
    "# Настройка среды локально"
   ]
  },
  {
   "cell_type": "code",
   "execution_count": 1,
   "metadata": {
    "tags": []
   },
   "outputs": [],
   "source": [
    "%load_ext autoreload\n",
    "%autoreload 2"
   ]
  },
  {
   "cell_type": "raw",
   "metadata": {
    "scrolled": true,
    "tags": []
   },
   "source": [
    "import sys\n",
    "!{sys.executable} -m pip install py3nvml\n"
   ]
  },
  {
   "cell_type": "code",
   "execution_count": 2,
   "metadata": {},
   "outputs": [],
   "source": [
    "import os\n",
    "os.chdir('C://work/dev/python/progs/texts/sec_bert/')"
   ]
  },
  {
   "cell_type": "markdown",
   "metadata": {
    "id": "_eJMuwIOAb3a"
   },
   "source": [
    "# mitre attack"
   ]
  },
  {
   "cell_type": "code",
   "execution_count": 3,
   "metadata": {
    "colab": {
     "base_uri": "https://localhost:8080/"
    },
    "id": "kbBqq0IuAsCA",
    "outputId": "27160cf8-762c-4e30-bf91-7d6a30bd5119"
   },
   "outputs": [
    {
     "data": {
      "text/plain": [
       "dict_keys(['type', 'id', 'spec_version', 'objects'])"
      ]
     },
     "execution_count": 3,
     "metadata": {},
     "output_type": "execute_result"
    }
   ],
   "source": [
    "import json\n",
    "import pandas as pd\n",
    "# d=json.load(open('/content/drive/MyDrive/Colab Notebooks/texts/sec_bert/data/enterprise-attack.json'))\n",
    "d=json.load(open('data/external/enterprise-attack.json'))\n",
    "\n",
    "d.keys()"
   ]
  },
  {
   "cell_type": "markdown",
   "metadata": {
    "id": "poxnkfoRIdJN"
   },
   "source": [
    "## Изучение"
   ]
  },
  {
   "cell_type": "code",
   "execution_count": null,
   "metadata": {
    "colab": {
     "base_uri": "https://localhost:8080/"
    },
    "id": "KXgPbreGGVeY",
    "outputId": "a189a965-d2fa-40d0-c7a0-726ba9edabcc"
   },
   "outputs": [],
   "source": [
    "d['objects'][0].keys()"
   ]
  },
  {
   "cell_type": "markdown",
   "metadata": {
    "id": "itUNKGw-IhCW",
    "jp-MarkdownHeadingCollapsed": true
   },
   "source": [
    "### типы объектов"
   ]
  },
  {
   "cell_type": "code",
   "execution_count": 34,
   "metadata": {
    "colab": {
     "base_uri": "https://localhost:8080/"
    },
    "id": "2kyTCWDdHmoY",
    "outputId": "048c6be1-6e47-41f1-bed7-188eefc15101"
   },
   "outputs": [
    {
     "data": {
      "text/plain": [
       "{'attack-pattern',\n",
       " 'campaign',\n",
       " 'course-of-action',\n",
       " 'identity',\n",
       " 'intrusion-set',\n",
       " 'malware',\n",
       " 'marking-definition',\n",
       " 'relationship',\n",
       " 'tool',\n",
       " 'x-mitre-collection',\n",
       " 'x-mitre-data-component',\n",
       " 'x-mitre-data-source',\n",
       " 'x-mitre-matrix',\n",
       " 'x-mitre-tactic'}"
      ]
     },
     "execution_count": 34,
     "metadata": {},
     "output_type": "execute_result"
    }
   ],
   "source": [
    "set([it['type'] for it in d['objects']])"
   ]
  },
  {
   "cell_type": "markdown",
   "metadata": {
    "id": "itUNKGw-IhCW"
   },
   "source": [
    "### relationship"
   ]
  },
  {
   "cell_type": "code",
   "execution_count": 44,
   "metadata": {
    "colab": {
     "base_uri": "https://localhost:8080/"
    },
    "id": "vowotbcT8QFN",
    "outputId": "6e7b3062-dc37-41f7-8a73-a5785bfe3bff"
   },
   "outputs": [
    {
     "data": {
      "text/plain": [
       "19438"
      ]
     },
     "execution_count": 44,
     "metadata": {},
     "output_type": "execute_result"
    }
   ],
   "source": [
    "# описание конкретных атак со ссылками на сообщения - 165 штук\n",
    "rel_l = [it for it in d['objects'] if it['type']=='relationship']\n",
    "len(rel_l)"
   ]
  },
  {
   "cell_type": "code",
   "execution_count": 47,
   "metadata": {},
   "outputs": [
    {
     "data": {
      "text/plain": [
       "{'attributed-to',\n",
       " 'detects',\n",
       " 'mitigates',\n",
       " 'revoked-by',\n",
       " 'subtechnique-of',\n",
       " 'uses'}"
      ]
     },
     "execution_count": 47,
     "metadata": {},
     "output_type": "execute_result"
    }
   ],
   "source": [
    "set([it['relationship_type'] for it in rel_l])"
   ]
  },
  {
   "cell_type": "markdown",
   "metadata": {},
   "source": [
    "#### subtechnique-of"
   ]
  },
  {
   "cell_type": "code",
   "execution_count": 49,
   "metadata": {},
   "outputs": [],
   "source": [
    "subtech_l = [it for it in rel_l if it['relationship_type']=='subtechnique-of']"
   ]
  },
  {
   "cell_type": "code",
   "execution_count": 52,
   "metadata": {},
   "outputs": [
    {
     "data": {
      "text/plain": [
       "{'object_marking_refs': ['marking-definition--fa42a846-8d90-4e51-bc29-71d5b4802168'],\n",
       " 'id': 'relationship--00814703-3c3b-4872-89e9-cea4ba5edf2d',\n",
       " 'type': 'relationship',\n",
       " 'created': '2020-02-11T20:36:06.423Z',\n",
       " 'created_by_ref': 'identity--c78cb6e5-0c4b-4611-8297-d1b8b55e40b5',\n",
       " 'modified': '2022-04-25T14:00:00.188Z',\n",
       " 'relationship_type': 'subtechnique-of',\n",
       " 'source_ref': 'attack-pattern--8d7bd4f5-3a89-4453-9c82-2c8894d5655e',\n",
       " 'target_ref': 'attack-pattern--435dfb86-2697-4867-85b5-2fef496c0517',\n",
       " 'x_mitre_version': '1.0',\n",
       " 'x_mitre_modified_by_ref': 'identity--c78cb6e5-0c4b-4611-8297-d1b8b55e40b5',\n",
       " 'spec_version': '2.1',\n",
       " 'x_mitre_attack_spec_version': '2.1.0',\n",
       " 'x_mitre_domains': ['enterprise-attack']}"
      ]
     },
     "execution_count": 52,
     "metadata": {},
     "output_type": "execute_result"
    }
   ],
   "source": [
    "subtech_l[0]"
   ]
  },
  {
   "cell_type": "code",
   "execution_count": 53,
   "metadata": {},
   "outputs": [
    {
     "data": {
      "text/plain": [
       "[{'object_marking_refs': ['marking-definition--fa42a846-8d90-4e51-bc29-71d5b4802168'],\n",
       "  'id': 'relationship--5b0a440d-575a-4c1a-97aa-56945686f85a',\n",
       "  'type': 'relationship',\n",
       "  'created': '2020-03-27T21:06:33.285Z',\n",
       "  'created_by_ref': 'identity--c78cb6e5-0c4b-4611-8297-d1b8b55e40b5',\n",
       "  'modified': '2022-04-25T14:00:00.188Z',\n",
       "  'relationship_type': 'subtechnique-of',\n",
       "  'source_ref': 'attack-pattern--4ff5d6a8-c062-4c68-a778-36fc5edd564f',\n",
       "  'target_ref': 'attack-pattern--457c7820-d331-465a-915e-42f85500ccc4',\n",
       "  'x_mitre_version': '1.0',\n",
       "  'x_mitre_modified_by_ref': 'identity--c78cb6e5-0c4b-4611-8297-d1b8b55e40b5',\n",
       "  'spec_version': '2.1',\n",
       "  'x_mitre_attack_spec_version': '2.1.0',\n",
       "  'x_mitre_domains': ['enterprise-attack']}]"
      ]
     },
     "execution_count": 53,
     "metadata": {},
     "output_type": "execute_result"
    }
   ],
   "source": [
    "[it for it in subtech_l if it['source_ref']=='attack-pattern--4ff5d6a8-c062-4c68-a778-36fc5edd564f']"
   ]
  },
  {
   "cell_type": "code",
   "execution_count": 54,
   "metadata": {},
   "outputs": [
    {
     "data": {
      "text/plain": [
       "[{'modified': '2024-03-01T16:25:43.150Z',\n",
       "  'name': 'System Binary Proxy Execution',\n",
       "  'description': 'Adversaries may bypass process and/or signature-based defenses by proxying execution of malicious content with signed, or otherwise trusted, binaries. Binaries used in this technique are often Microsoft-signed files, indicating that they have been either downloaded from Microsoft or are already native in the operating system.(Citation: LOLBAS Project) Binaries signed with trusted digital certificates can typically execute on Windows systems protected by digital signature validation. Several Microsoft signed binaries that are default on Windows installations can be used to proxy execution of other files or commands.\\n\\nSimilarly, on Linux systems adversaries may abuse trusted binaries such as <code>split</code> to proxy execution of malicious commands.(Citation: split man page)(Citation: GTFO split)',\n",
       "  'kill_chain_phases': [{'kill_chain_name': 'mitre-attack',\n",
       "    'phase_name': 'defense-evasion'}],\n",
       "  'x_mitre_contributors': ['Nishan Maharjan, @loki248',\n",
       "   'Hans Christoffer Gaardløs',\n",
       "   'Praetorian',\n",
       "   'Wes Hurd'],\n",
       "  'x_mitre_deprecated': False,\n",
       "  'x_mitre_detection': 'Monitor processes and command-line parameters for signed binaries that may be used to proxy execution of malicious files. Compare recent invocations of signed binaries that may be used to proxy execution with prior history of known good arguments and loaded files to determine anomalous and potentially adversarial activity. Legitimate programs used in suspicious ways, like msiexec.exe downloading an MSI file from the Internet, may be indicative of an intrusion. Correlate activity with other suspicious behavior to reduce false positives that may be due to normal benign use by users and administrators.\\n\\nMonitor for file activity (creations, downloads, modifications, etc.), especially for file types that are not typical within an environment and may be indicative of adversary activity.',\n",
       "  'x_mitre_domains': ['enterprise-attack'],\n",
       "  'x_mitre_is_subtechnique': False,\n",
       "  'x_mitre_platforms': ['Windows', 'Linux', 'macOS'],\n",
       "  'x_mitre_version': '3.1',\n",
       "  'x_mitre_data_sources': ['Network Traffic: Network Connection Creation',\n",
       "   'Windows Registry: Windows Registry Key Modification',\n",
       "   'Module: Module Load',\n",
       "   'File: File Creation',\n",
       "   'Process: OS API Execution',\n",
       "   'Process: Process Creation',\n",
       "   'Command: Command Execution'],\n",
       "  'x_mitre_defense_bypassed': ['Anti-virus',\n",
       "   'Application control',\n",
       "   'Digital Certificate Validation'],\n",
       "  'type': 'attack-pattern',\n",
       "  'id': 'attack-pattern--457c7820-d331-465a-915e-42f85500ccc4',\n",
       "  'created': '2018-04-18T17:59:24.739Z',\n",
       "  'created_by_ref': 'identity--c78cb6e5-0c4b-4611-8297-d1b8b55e40b5',\n",
       "  'revoked': False,\n",
       "  'external_references': [{'source_name': 'mitre-attack',\n",
       "    'url': 'https://attack.mitre.org/techniques/T1218',\n",
       "    'external_id': 'T1218'},\n",
       "   {'source_name': 'GTFO split',\n",
       "    'description': 'GTFOBins. (2020, November 13). split. Retrieved April 18, 2022.',\n",
       "    'url': 'https://gtfobins.github.io/gtfobins/split/'},\n",
       "   {'source_name': 'LOLBAS Project',\n",
       "    'description': 'Oddvar Moe et al. (2022, February).  Living Off The Land Binaries, Scripts and Libraries. Retrieved March 7, 2022.',\n",
       "    'url': 'https://github.com/LOLBAS-Project/LOLBAS#criteria'},\n",
       "   {'source_name': 'split man page',\n",
       "    'description': 'Torbjorn Granlund, Richard M. Stallman. (2020, March null). split(1) — Linux manual page. Retrieved March 25, 2022.',\n",
       "    'url': 'https://man7.org/linux/man-pages/man1/split.1.html'}],\n",
       "  'object_marking_refs': ['marking-definition--fa42a846-8d90-4e51-bc29-71d5b4802168'],\n",
       "  'x_mitre_attack_spec_version': '3.2.0',\n",
       "  'x_mitre_modified_by_ref': 'identity--c78cb6e5-0c4b-4611-8297-d1b8b55e40b5',\n",
       "  'spec_version': '2.1'}]"
      ]
     },
     "execution_count": 54,
     "metadata": {},
     "output_type": "execute_result"
    }
   ],
   "source": [
    "[it for it in attack_l if it['id']=='attack-pattern--457c7820-d331-465a-915e-42f85500ccc4']"
   ]
  },
  {
   "cell_type": "markdown",
   "metadata": {
    "id": "itUNKGw-IhCW"
   },
   "source": [
    "### marking-definition"
   ]
  },
  {
   "cell_type": "code",
   "execution_count": 42,
   "metadata": {
    "colab": {
     "base_uri": "https://localhost:8080/"
    },
    "id": "vowotbcT8QFN",
    "outputId": "6e7b3062-dc37-41f7-8a73-a5785bfe3bff"
   },
   "outputs": [
    {
     "data": {
      "text/plain": [
       "1"
      ]
     },
     "execution_count": 42,
     "metadata": {},
     "output_type": "execute_result"
    }
   ],
   "source": [
    "# описание конкретных атак со ссылками на сообщения - 165 штук\n",
    "mark_l = [it for it in d['objects'] if it['type']=='marking-definition']\n",
    "len(mark_l)"
   ]
  },
  {
   "cell_type": "code",
   "execution_count": 43,
   "metadata": {},
   "outputs": [
    {
     "data": {
      "text/plain": [
       "{'definition': {'statement': 'Copyright 2015-2024, The MITRE Corporation. MITRE ATT&CK and ATT&CK are registered trademarks of The MITRE Corporation.'},\n",
       " 'id': 'marking-definition--fa42a846-8d90-4e51-bc29-71d5b4802168',\n",
       " 'type': 'marking-definition',\n",
       " 'created': '2017-06-01T00:00:00.000Z',\n",
       " 'created_by_ref': 'identity--c78cb6e5-0c4b-4611-8297-d1b8b55e40b5',\n",
       " 'definition_type': 'statement',\n",
       " 'x_mitre_attack_spec_version': '2.1.0',\n",
       " 'spec_version': '2.1',\n",
       " 'x_mitre_domains': ['enterprise-attack']}"
      ]
     },
     "execution_count": 43,
     "metadata": {},
     "output_type": "execute_result"
    }
   ],
   "source": [
    "mark_l[0]"
   ]
  },
  {
   "cell_type": "markdown",
   "metadata": {
    "id": "itUNKGw-IhCW",
    "jp-MarkdownHeadingCollapsed": true
   },
   "source": [
    "### malware"
   ]
  },
  {
   "cell_type": "code",
   "execution_count": 40,
   "metadata": {
    "colab": {
     "base_uri": "https://localhost:8080/"
    },
    "id": "vowotbcT8QFN",
    "outputId": "6e7b3062-dc37-41f7-8a73-a5785bfe3bff"
   },
   "outputs": [
    {
     "data": {
      "text/plain": [
       "596"
      ]
     },
     "execution_count": 40,
     "metadata": {},
     "output_type": "execute_result"
    }
   ],
   "source": [
    "# описание конкретных атак со ссылками на сообщения - 165 штук\n",
    "mal_l = [it for it in d['objects'] if it['type']=='malware']\n",
    "len(mal_l)"
   ]
  },
  {
   "cell_type": "code",
   "execution_count": 41,
   "metadata": {},
   "outputs": [
    {
     "data": {
      "text/plain": [
       "{'modified': '2023-04-04T20:20:59.961Z',\n",
       " 'name': 'HDoor',\n",
       " 'description': '[HDoor](https://attack.mitre.org/software/S0061) is malware that has been customized and used by the [Naikon](https://attack.mitre.org/groups/G0019) group. (Citation: Baumgartner Naikon 2015)',\n",
       " 'x_mitre_platforms': ['Windows'],\n",
       " 'x_mitre_deprecated': False,\n",
       " 'x_mitre_domains': ['enterprise-attack'],\n",
       " 'x_mitre_version': '1.0',\n",
       " 'x_mitre_aliases': ['HDoor', 'Custom HDoor'],\n",
       " 'type': 'malware',\n",
       " 'id': 'malware--007b44b6-e4c5-480b-b5b9-56f2081b1b7b',\n",
       " 'created': '2017-05-31T21:32:40.801Z',\n",
       " 'created_by_ref': 'identity--c78cb6e5-0c4b-4611-8297-d1b8b55e40b5',\n",
       " 'revoked': False,\n",
       " 'external_references': [{'source_name': 'mitre-attack',\n",
       "   'url': 'https://attack.mitre.org/software/S0061',\n",
       "   'external_id': 'S0061'},\n",
       "  {'source_name': 'Baumgartner Naikon 2015',\n",
       "   'description': 'Baumgartner, K., Golovkin, M.. (2015, May). The MsnMM Campaigns: The Earliest Naikon APT Campaigns. Retrieved April 10, 2019.',\n",
       "   'url': 'https://media.kasperskycontenthub.com/wp-content/uploads/sites/43/2018/03/07205555/TheNaikonAPT-MsnMM1.pdf'}],\n",
       " 'object_marking_refs': ['marking-definition--fa42a846-8d90-4e51-bc29-71d5b4802168'],\n",
       " 'x_mitre_attack_spec_version': '3.1.0',\n",
       " 'x_mitre_modified_by_ref': 'identity--c78cb6e5-0c4b-4611-8297-d1b8b55e40b5',\n",
       " 'spec_version': '2.1',\n",
       " 'is_family': True}"
      ]
     },
     "execution_count": 41,
     "metadata": {},
     "output_type": "execute_result"
    }
   ],
   "source": [
    "mal_l[0]"
   ]
  },
  {
   "cell_type": "markdown",
   "metadata": {
    "id": "itUNKGw-IhCW",
    "jp-MarkdownHeadingCollapsed": true
   },
   "source": [
    "### intrusion-set"
   ]
  },
  {
   "cell_type": "code",
   "execution_count": 38,
   "metadata": {
    "colab": {
     "base_uri": "https://localhost:8080/"
    },
    "id": "vowotbcT8QFN",
    "outputId": "6e7b3062-dc37-41f7-8a73-a5785bfe3bff"
   },
   "outputs": [
    {
     "data": {
      "text/plain": [
       "165"
      ]
     },
     "execution_count": 38,
     "metadata": {},
     "output_type": "execute_result"
    }
   ],
   "source": [
    "# описание конкретных атак со ссылками на сообщения - 165 штук\n",
    "intr_l = [it for it in d['objects'] if it['type']=='intrusion-set']\n",
    "len(intr_l)"
   ]
  },
  {
   "cell_type": "code",
   "execution_count": 39,
   "metadata": {
    "collapsed": true,
    "jupyter": {
     "outputs_hidden": true
    }
   },
   "outputs": [
    {
     "data": {
      "text/plain": [
       "{'modified': '2024-04-17T22:08:29.146Z',\n",
       " 'name': 'APT38',\n",
       " 'description': '[APT38](https://attack.mitre.org/groups/G0082) is a North Korean state-sponsored threat group that specializes in financial cyber operations; it has been attributed to the Reconnaissance General Bureau.(Citation: CISA AA20-239A BeagleBoyz August 2020) Active since at least 2014, [APT38](https://attack.mitre.org/groups/G0082) has targeted banks, financial institutions, casinos, cryptocurrency exchanges, SWIFT system endpoints, and ATMs in at least 38 countries worldwide. Significant operations include the 2016 Bank of Bangladesh heist, during which [APT38](https://attack.mitre.org/groups/G0082) stole $81 million, as well as attacks against Bancomext (Citation: FireEye APT38 Oct 2018) and Banco de Chile (Citation: FireEye APT38 Oct 2018); some of their attacks have been destructive.(Citation: CISA AA20-239A BeagleBoyz August 2020)(Citation: FireEye APT38 Oct 2018)(Citation: DOJ North Korea Indictment Feb 2021)(Citation: Kaspersky Lazarus Under The Hood Blog 2017)\\n\\nNorth Korean group definitions are known to have significant overlap, and some security researchers report all North Korean state-sponsored cyber activity under the name [Lazarus Group](https://attack.mitre.org/groups/G0032) instead of tracking clusters or subgroups.',\n",
       " 'aliases': ['APT38',\n",
       "  'NICKEL GLADSTONE',\n",
       "  'BeagleBoyz',\n",
       "  'Bluenoroff',\n",
       "  'Stardust Chollima',\n",
       "  'Sapphire Sleet',\n",
       "  'COPERNICIUM'],\n",
       " 'x_mitre_deprecated': False,\n",
       " 'x_mitre_version': '3.0',\n",
       " 'type': 'intrusion-set',\n",
       " 'id': 'intrusion-set--00f67a77-86a4-4adf-be26-1a54fc713340',\n",
       " 'created': '2019-01-29T21:27:24.793Z',\n",
       " 'created_by_ref': 'identity--c78cb6e5-0c4b-4611-8297-d1b8b55e40b5',\n",
       " 'revoked': False,\n",
       " 'external_references': [{'source_name': 'mitre-attack',\n",
       "   'url': 'https://attack.mitre.org/groups/G0082',\n",
       "   'external_id': 'G0082'},\n",
       "  {'source_name': 'BeagleBoyz',\n",
       "   'description': '(Citation: CISA AA20-239A BeagleBoyz August 2020)'},\n",
       "  {'source_name': 'Stardust Chollima',\n",
       "   'description': '(Citation: CrowdStrike Stardust Chollima Profile April 2018)(Citation: CrowdStrike GTR 2021 June 2021)'},\n",
       "  {'source_name': 'APT38',\n",
       "   'description': '(Citation: FireEye APT38 Oct 2018)'},\n",
       "  {'source_name': 'Bluenoroff',\n",
       "   'description': '(Citation: Kaspersky Lazarus Under The Hood Blog 2017)'},\n",
       "  {'source_name': 'Sapphire Sleet',\n",
       "   'description': '(Citation: Microsoft Threat Actor Naming July 2023)'},\n",
       "  {'source_name': 'COPERNICIUM',\n",
       "   'description': '(Citation: Microsoft Threat Actor Naming July 2023)'},\n",
       "  {'source_name': 'NICKEL GLADSTONE',\n",
       "   'description': '(Citation: SecureWorks NICKEL GLADSTONE profile Sept 2021)'},\n",
       "  {'source_name': 'CrowdStrike GTR 2021 June 2021',\n",
       "   'description': 'CrowdStrike. (2021, June 7). CrowdStrike 2021 Global Threat Report. Retrieved September 29, 2021.',\n",
       "   'url': 'https://go.crowdstrike.com/rs/281-OBQ-266/images/Report2021GTR.pdf'},\n",
       "  {'source_name': 'DOJ North Korea Indictment Feb 2021',\n",
       "   'description': 'Department of Justice. (2021, February 17). Three North Korean Military Hackers Indicted in Wide-Ranging Scheme to Commit Cyberattacks and Financial Crimes Across the Globe. Retrieved June 9, 2021.',\n",
       "   'url': 'https://www.justice.gov/opa/pr/three-north-korean-military-hackers-indicted-wide-ranging-scheme-commit-cyberattacks-and'},\n",
       "  {'source_name': 'CISA AA20-239A BeagleBoyz August 2020',\n",
       "   'description': \"DHS/CISA. (2020, August 26). FASTCash 2.0: North Korea's BeagleBoyz Robbing Banks. Retrieved September 29, 2021.\",\n",
       "   'url': 'https://us-cert.cisa.gov/ncas/alerts/aa20-239a'},\n",
       "  {'source_name': 'FireEye APT38 Oct 2018',\n",
       "   'description': 'FireEye. (2018, October 03). APT38: Un-usual Suspects. Retrieved November 6, 2018.',\n",
       "   'url': 'https://content.fireeye.com/apt/rpt-apt38'},\n",
       "  {'source_name': 'Kaspersky Lazarus Under The Hood Blog 2017',\n",
       "   'description': 'GReAT. (2017, April 3). Lazarus Under the Hood. Retrieved April 17, 2019.',\n",
       "   'url': 'https://securelist.com/lazarus-under-the-hood/77908/'},\n",
       "  {'source_name': 'CrowdStrike Stardust Chollima Profile April 2018',\n",
       "   'description': 'Meyers, Adam. (2018, April 6). Meet CrowdStrike’s Adversary of the Month for April: STARDUST CHOLLIMA. Retrieved September 29, 2021.',\n",
       "   'url': 'https://www.crowdstrike.com/blog/meet-crowdstrikes-adversary-of-the-month-for-april-stardust-chollima/'},\n",
       "  {'source_name': 'Microsoft Threat Actor Naming July 2023',\n",
       "   'description': 'Microsoft . (2023, July 12). How Microsoft names threat actors. Retrieved November 17, 2023.',\n",
       "   'url': 'https://learn.microsoft.com/en-us/microsoft-365/security/intelligence/microsoft-threat-actor-naming?view=o365-worldwide'},\n",
       "  {'source_name': 'SecureWorks NICKEL GLADSTONE profile Sept 2021',\n",
       "   'description': 'SecureWorks. (2021, September 29). NICKEL GLADSTONE Threat Profile. Retrieved September 29, 2021.',\n",
       "   'url': 'https://www.secureworks.com/research/threat-profiles/nickel-gladstone'}],\n",
       " 'object_marking_refs': ['marking-definition--fa42a846-8d90-4e51-bc29-71d5b4802168'],\n",
       " 'x_mitre_domains': ['enterprise-attack', 'ics-attack'],\n",
       " 'x_mitre_attack_spec_version': '3.2.0',\n",
       " 'x_mitre_modified_by_ref': 'identity--c78cb6e5-0c4b-4611-8297-d1b8b55e40b5',\n",
       " 'spec_version': '2.1'}"
      ]
     },
     "execution_count": 39,
     "metadata": {},
     "output_type": "execute_result"
    }
   ],
   "source": [
    "intr_l[0]"
   ]
  },
  {
   "cell_type": "markdown",
   "metadata": {
    "id": "itUNKGw-IhCW",
    "jp-MarkdownHeadingCollapsed": true
   },
   "source": [
    "### identity"
   ]
  },
  {
   "cell_type": "code",
   "execution_count": 37,
   "metadata": {
    "colab": {
     "base_uri": "https://localhost:8080/"
    },
    "id": "vowotbcT8QFN",
    "outputId": "6e7b3062-dc37-41f7-8a73-a5785bfe3bff"
   },
   "outputs": [
    {
     "data": {
      "text/plain": [
       "1"
      ]
     },
     "execution_count": 37,
     "metadata": {},
     "output_type": "execute_result"
    }
   ],
   "source": [
    "ident_l = [it for it in d['objects'] if it['type']=='identity']\n",
    "len(ident_l)"
   ]
  },
  {
   "cell_type": "markdown",
   "metadata": {
    "id": "itUNKGw-IhCW",
    "jp-MarkdownHeadingCollapsed": true
   },
   "source": [
    "### campaign"
   ]
  },
  {
   "cell_type": "code",
   "execution_count": 36,
   "metadata": {
    "colab": {
     "base_uri": "https://localhost:8080/"
    },
    "id": "vowotbcT8QFN",
    "outputId": "6e7b3062-dc37-41f7-8a73-a5785bfe3bff"
   },
   "outputs": [
    {
     "data": {
      "text/plain": [
       "28"
      ]
     },
     "execution_count": 36,
     "metadata": {},
     "output_type": "execute_result"
    }
   ],
   "source": [
    "# описание конкретных атак со ссылками на сообщения, но очень мало\n",
    "camp_l = [it for it in d['objects'] if it['type']=='campaign']\n",
    "len(camp_l)"
   ]
  },
  {
   "cell_type": "markdown",
   "metadata": {
    "id": "a03Aijd18OR2",
    "jp-MarkdownHeadingCollapsed": true
   },
   "source": [
    "### тактика"
   ]
  },
  {
   "cell_type": "code",
   "execution_count": 32,
   "metadata": {
    "colab": {
     "base_uri": "https://localhost:8080/"
    },
    "id": "vowotbcT8QFN",
    "outputId": "6e7b3062-dc37-41f7-8a73-a5785bfe3bff"
   },
   "outputs": [
    {
     "data": {
      "text/plain": [
       "{'x_mitre_domains': ['enterprise-attack'],\n",
       " 'object_marking_refs': ['marking-definition--fa42a846-8d90-4e51-bc29-71d5b4802168'],\n",
       " 'id': 'x-mitre-tactic--2558fd61-8c75-4730-94c4-11926db2a263',\n",
       " 'type': 'x-mitre-tactic',\n",
       " 'created': '2018-10-17T00:14:20.652Z',\n",
       " 'created_by_ref': 'identity--c78cb6e5-0c4b-4611-8297-d1b8b55e40b5',\n",
       " 'external_references': [{'external_id': 'TA0006',\n",
       "   'url': 'https://attack.mitre.org/tactics/TA0006',\n",
       "   'source_name': 'mitre-attack'}],\n",
       " 'modified': '2022-04-25T14:00:00.188Z',\n",
       " 'name': 'Credential Access',\n",
       " 'description': 'The adversary is trying to steal account names and passwords.\\n\\nCredential Access consists of techniques for stealing credentials like account names and passwords. Techniques used to get credentials include keylogging or credential dumping. Using legitimate credentials can give adversaries access to systems, make them harder to detect, and provide the opportunity to create more accounts to help achieve their goals.',\n",
       " 'x_mitre_version': '1.0',\n",
       " 'x_mitre_attack_spec_version': '2.1.0',\n",
       " 'x_mitre_modified_by_ref': 'identity--c78cb6e5-0c4b-4611-8297-d1b8b55e40b5',\n",
       " 'x_mitre_shortname': 'credential-access',\n",
       " 'spec_version': '2.1'}"
      ]
     },
     "execution_count": 32,
     "metadata": {},
     "output_type": "execute_result"
    }
   ],
   "source": [
    "tactic_l = [it for it in d['objects'] if it['type']=='x-mitre-tactic']\n",
    "tactic_l[0]"
   ]
  },
  {
   "cell_type": "code",
   "execution_count": 33,
   "metadata": {
    "colab": {
     "base_uri": "https://localhost:8080/"
    },
    "id": "hF-s2dM69yWq",
    "outputId": "6d6ebd11-7cfd-4f2a-e9df-de8667c431f5"
   },
   "outputs": [
    {
     "data": {
      "text/plain": [
       "[{'x_mitre_domains': ['enterprise-attack'],\n",
       "  'object_marking_refs': ['marking-definition--fa42a846-8d90-4e51-bc29-71d5b4802168'],\n",
       "  'id': 'x-mitre-tactic--4ca45d45-df4d-4613-8980-bac22d278fa5',\n",
       "  'type': 'x-mitre-tactic',\n",
       "  'created': '2018-10-17T00:14:20.652Z',\n",
       "  'created_by_ref': 'identity--c78cb6e5-0c4b-4611-8297-d1b8b55e40b5',\n",
       "  'external_references': [{'external_id': 'TA0002',\n",
       "    'url': 'https://attack.mitre.org/tactics/TA0002',\n",
       "    'source_name': 'mitre-attack'}],\n",
       "  'modified': '2022-04-25T14:00:00.188Z',\n",
       "  'name': 'Execution',\n",
       "  'description': 'The adversary is trying to run malicious code.\\n\\nExecution consists of techniques that result in adversary-controlled code running on a local or remote system. Techniques that run malicious code are often paired with techniques from all other tactics to achieve broader goals, like exploring a network or stealing data. For example, an adversary might use a remote access tool to run a PowerShell script that does Remote System Discovery. ',\n",
       "  'x_mitre_version': '1.0',\n",
       "  'x_mitre_attack_spec_version': '2.1.0',\n",
       "  'x_mitre_modified_by_ref': 'identity--c78cb6e5-0c4b-4611-8297-d1b8b55e40b5',\n",
       "  'x_mitre_shortname': 'execution',\n",
       "  'spec_version': '2.1'}]"
      ]
     },
     "execution_count": 33,
     "metadata": {},
     "output_type": "execute_result"
    }
   ],
   "source": [
    "[it for it in tactic_l if 'Execution' in it['name']]"
   ]
  },
  {
   "cell_type": "markdown",
   "metadata": {
    "id": "lqUNeLtfIu8Y",
    "jp-MarkdownHeadingCollapsed": true
   },
   "source": [
    "### пример"
   ]
  },
  {
   "cell_type": "code",
   "execution_count": null,
   "metadata": {
    "colab": {
     "base_uri": "https://localhost:8080/"
    },
    "id": "7zp6hYsZHGSs",
    "outputId": "cafb0805-4ba4-4133-b1b0-7759d5b9ee4a"
   },
   "outputs": [],
   "source": [
    "it = d['objects'][1000]\n",
    "it['type'], it['name'], it['description'], it['x_mitre_attack_spec_version'], it['x_mitre_version']"
   ]
  },
  {
   "cell_type": "code",
   "execution_count": null,
   "metadata": {
    "colab": {
     "base_uri": "https://localhost:8080/"
    },
    "id": "yg3XERonYaNt",
    "outputId": "e2a40ce9-9c76-47de-9488-40e76da793ee"
   },
   "outputs": [],
   "source": [
    "it['object_marking_refs']"
   ]
  },
  {
   "cell_type": "markdown",
   "metadata": {
    "id": "Isf04mSkIyhU",
    "jp-MarkdownHeadingCollapsed": true
   },
   "source": [
    "### поиск атаки"
   ]
  },
  {
   "cell_type": "code",
   "execution_count": null,
   "metadata": {
    "id": "zwVEIuItI2j9"
   },
   "outputs": [],
   "source": [
    "text = open('/content/drive/MyDrive/Colab Notebooks/texts/sec_bert/data/enterprise-attack.json').read()"
   ]
  },
  {
   "cell_type": "code",
   "execution_count": null,
   "metadata": {
    "colab": {
     "base_uri": "https://localhost:8080/"
    },
    "id": "r3yviKZTI2j-",
    "outputId": "dd82cbe1-0f39-4d88-8a8e-76c9b33d8286"
   },
   "outputs": [],
   "source": [
    "len(text)"
   ]
  },
  {
   "cell_type": "code",
   "execution_count": null,
   "metadata": {
    "id": "JQ2L6QVSI2kA"
   },
   "outputs": [],
   "source": [
    "ch = text.find('Adversaries may execute active reconnaissance scans to gather information that can be used during targeting.')"
   ]
  },
  {
   "cell_type": "code",
   "execution_count": null,
   "metadata": {
    "colab": {
     "base_uri": "https://localhost:8080/",
     "height": 123
    },
    "id": "pepp88UUI2kA",
    "outputId": "a7e4d4bc-d3e6-44fa-bdf9-2f60e8097292"
   },
   "outputs": [],
   "source": [
    "text[ch-1200:ch+100]"
   ]
  },
  {
   "cell_type": "markdown",
   "metadata": {
    "id": "L5CkgCIcJJdB"
   },
   "source": [
    "## возьмем атаки"
   ]
  },
  {
   "cell_type": "code",
   "execution_count": null,
   "metadata": {
    "colab": {
     "base_uri": "https://localhost:8080/"
    },
    "id": "EeE9Q34vI6vp",
    "outputId": "53f71f4a-484d-486e-9f08-fb6d95a5f1db"
   },
   "outputs": [],
   "source": [
    "attack_l = [it for it in d['objects'] if it['type']=='attack-pattern']\n",
    "len(attack_l)"
   ]
  },
  {
   "cell_type": "code",
   "execution_count": null,
   "metadata": {
    "colab": {
     "base_uri": "https://localhost:8080/"
    },
    "id": "gzFpThTL6vRv",
    "outputId": "98710898-a683-4ffa-b594-da0a395e2a78"
   },
   "outputs": [],
   "source": [
    "attack_l[0]\n"
   ]
  },
  {
   "cell_type": "code",
   "execution_count": null,
   "metadata": {
    "colab": {
     "base_uri": "https://localhost:8080/"
    },
    "id": "vL5SNNkX74Vk",
    "outputId": "dde164a2-493e-4e7f-baa8-5afc75bd950e"
   },
   "outputs": [],
   "source": [
    "\n",
    "# 1406, 1575\n",
    "[it for it in attack_l if it['external_references'][0]['external_id']=='T1557.001']"
   ]
  },
  {
   "cell_type": "code",
   "execution_count": null,
   "metadata": {
    "colab": {
     "base_uri": "https://localhost:8080/"
    },
    "id": "X6sY7B3tKSOP",
    "outputId": "7a728f9e-30ef-4b3e-fd4c-1420acd3590a"
   },
   "outputs": [],
   "source": [
    "from itertools import chain\n",
    "set(chain(*[it['x_mitre_domains'] for it in attack_l]))"
   ]
  },
  {
   "cell_type": "code",
   "execution_count": null,
   "metadata": {
    "id": "Rrg6divHJaEM"
   },
   "outputs": [],
   "source": [
    "enterp_attack_l = [it for it in attack_l if 'enterprise-attack' in it['x_mitre_domains']]"
   ]
  },
  {
   "cell_type": "markdown",
   "metadata": {
    "id": "TWoRsVgcNnHK"
   },
   "source": [
    "enterp_attack_l это все, которые попали в наш фильтр, может тогда фильтр слишком жесткий?"
   ]
  },
  {
   "cell_type": "code",
   "execution_count": null,
   "metadata": {
    "colab": {
     "base_uri": "https://localhost:8080/"
    },
    "id": "f6AvBZCuKHTL",
    "outputId": "8f114be5-6901-475a-8a1d-e6376984fdaf"
   },
   "outputs": [],
   "source": [
    "len(enterp_attack_l)"
   ]
  },
  {
   "cell_type": "code",
   "execution_count": null,
   "metadata": {
    "colab": {
     "base_uri": "https://localhost:8080/"
    },
    "id": "Aedz8fY9OkHT",
    "outputId": "cf38c4d7-3e61-4e89-be46-f93ca5bab8e0"
   },
   "outputs": [],
   "source": [
    "# https://attack.mitre.org/techniques/T1059/\n",
    "s = 'Adversaries may scan victim IP blocks to gather information that can be used during targeting.'\n",
    "attack = [it for it in attack_l if s in it['description']]\n",
    "attack"
   ]
  },
  {
   "cell_type": "code",
   "execution_count": null,
   "metadata": {
    "colab": {
     "base_uri": "https://localhost:8080/"
    },
    "id": "DWOjH7psRiJl",
    "outputId": "d345a636-924e-4976-c492-a0899023ff2e"
   },
   "outputs": [],
   "source": [
    "attack[0]['description'], attack[0]['external_references'][0]['external_id'], attack[0]['external_references'][0]['url']"
   ]
  },
  {
   "cell_type": "code",
   "execution_count": null,
   "metadata": {
    "id": "P_4cc0sSWRrA"
   },
   "outputs": [],
   "source": [
    "mitre_df = pd.DataFrame([(attack['description'], attack['external_references'][0]['external_id'], attack['external_references'][0]['url']) for attack in attack_l],\n",
    "                        columns=['sentence', 'labels', 'url'])"
   ]
  },
  {
   "cell_type": "code",
   "execution_count": null,
   "metadata": {
    "colab": {
     "base_uri": "https://localhost:8080/",
     "height": 81
    },
    "id": "bEhDzVmfY3no",
    "outputId": "261e2c07-5ebe-4f2b-afc9-f902ac4410ff"
   },
   "outputs": [],
   "source": [
    "s = 'Adversaries may scan victim IP blocks to gather information that can be used during targeting.'\n",
    "mitre_df.query('sentence.str.contains(@s)')"
   ]
  },
  {
   "cell_type": "code",
   "execution_count": null,
   "metadata": {
    "colab": {
     "base_uri": "https://localhost:8080/",
     "height": 53
    },
    "id": "yjJ_hvBqZQkv",
    "outputId": "0aaa4387-6559-4ebf-83a2-f449dc76718d"
   },
   "outputs": [],
   "source": [
    "url = 'https://attack.mitre.org/tactics/TA0006/'\n",
    "mitre_df.query('url==@url')"
   ]
  },
  {
   "cell_type": "code",
   "execution_count": null,
   "metadata": {
    "colab": {
     "base_uri": "https://localhost:8080/"
    },
    "id": "ev9fBEmNdu-1",
    "outputId": "8f8e8394-96e7-4401-d361-39a8e664c1b9"
   },
   "outputs": [],
   "source": [
    "mitre_df['labels']"
   ]
  },
  {
   "cell_type": "markdown",
   "metadata": {
    "id": "yeAj8hAiGTM4"
   },
   "source": [
    "## ищем по тексту"
   ]
  },
  {
   "cell_type": "code",
   "execution_count": null,
   "metadata": {
    "id": "wB8SCbGxBCgO"
   },
   "outputs": [],
   "source": [
    "text = open('/content/drive/MyDrive/Colab Notebooks/texts/sec_bert/data/enterprise-attack.json').read()"
   ]
  },
  {
   "cell_type": "code",
   "execution_count": null,
   "metadata": {
    "colab": {
     "base_uri": "https://localhost:8080/"
    },
    "id": "uAXJz6hWDqyU",
    "outputId": "29a4c35c-d7ab-435c-80c5-49114b873b48"
   },
   "outputs": [],
   "source": [
    "len(text)"
   ]
  },
  {
   "cell_type": "code",
   "execution_count": null,
   "metadata": {
    "id": "wzb8zfo3DtIT"
   },
   "outputs": [],
   "source": [
    "s = 'has used watering hole attacks, often with zero-day exploits, to gain initial access'\n",
    "ch = text.find(s)"
   ]
  },
  {
   "cell_type": "code",
   "execution_count": null,
   "metadata": {
    "colab": {
     "base_uri": "https://localhost:8080/",
     "height": 88
    },
    "id": "aOFG_rjQD7lZ",
    "outputId": "a05c49a3-2594-47d3-9d03-d3ac596d1fd1"
   },
   "outputs": [],
   "source": [
    "text[ch-150:ch+300]"
   ]
  },
  {
   "cell_type": "code",
   "execution_count": null,
   "metadata": {
    "id": "cEkC4NBaZ5TH"
   },
   "outputs": [],
   "source": [
    "'https://attack.mitre.org/techniques/T1059/002/'"
   ]
  },
  {
   "cell_type": "markdown",
   "metadata": {
    "id": "V2w29ex0dadV",
    "jp-MarkdownHeadingCollapsed": true
   },
   "source": [
    "## ищем признак группы"
   ]
  },
  {
   "cell_type": "code",
   "execution_count": null,
   "metadata": {
    "id": "B4dYat5tdc0D"
   },
   "outputs": [],
   "source": [
    "descr1 = 'may circumvent mechanisms designed to control elevate privileges to gain higher-level permissions.'\n",
    "descr2 = 'Within Linux and MacOS systems, sudo'\n",
    "descr3 = 'Adversaries may gain access and continuously communicate with victims by injecting malicious content into systems through online network traffic'\n",
    "\n",
    "attack1 = [it for it in attack_l if descr1 in it['description']][0]\n",
    "attack2 = [it for it in attack_l if descr2 in it['description']][0]\n",
    "attack3 = [it for it in attack_l if descr3 in it['description']][0]"
   ]
  },
  {
   "cell_type": "code",
   "execution_count": null,
   "metadata": {
    "colab": {
     "base_uri": "https://localhost:8080/"
    },
    "id": "lnpT3o6neFRB",
    "outputId": "649a37f8-2f0e-40c2-8f20-d6c772c47caa"
   },
   "outputs": [],
   "source": [
    "attack2\n",
    "# identity--c78cb6e5-0c4b-4611-8297-d1b8b55e40b5"
   ]
  },
  {
   "cell_type": "code",
   "execution_count": null,
   "metadata": {
    "colab": {
     "base_uri": "https://localhost:8080/"
    },
    "id": "1jKotm3QeCd-",
    "outputId": "c636fe90-37b4-48d8-b724-bee4db1b4152"
   },
   "outputs": [],
   "source": [
    "kill_chain_phases\n"
   ]
  },
  {
   "cell_type": "markdown",
   "metadata": {
    "id": "QE8ByXJcpMK_",
    "jp-MarkdownHeadingCollapsed": true
   },
   "source": [
    "## Удалим ссылки из описания и соберем в отдельном поле"
   ]
  },
  {
   "cell_type": "code",
   "execution_count": null,
   "metadata": {
    "id": "-nstdj4zpa9k"
   },
   "outputs": [],
   "source": [
    "mitre_df['descr_links'] = mitre_df['sentence'].str.findall('\\((https://[^\\s]{1,})\\)')"
   ]
  },
  {
   "cell_type": "code",
   "execution_count": null,
   "metadata": {
    "colab": {
     "base_uri": "https://localhost:8080/",
     "height": 944
    },
    "id": "NHXlw903e5Pd",
    "outputId": "aa62b36f-ff78-4f91-af1c-77fac3730804"
   },
   "outputs": [],
   "source": [
    "mitre_df['sentence'] = mitre_df['sentence'].str.replace(r'\\(https://[^\\s]{1,}\\)', r'', regex=True)\n",
    "mitre_df"
   ]
  },
  {
   "cell_type": "code",
   "execution_count": null,
   "metadata": {
    "id": "hXjghhqsh4gX"
   },
   "outputs": [],
   "source": []
  },
  {
   "cell_type": "markdown",
   "metadata": {
    "id": "S3QH9LuKp1wG",
    "jp-MarkdownHeadingCollapsed": true
   },
   "source": [
    "### ссылки из процедур и митигаций"
   ]
  },
  {
   "cell_type": "code",
   "execution_count": null,
   "metadata": {
    "colab": {
     "base_uri": "https://localhost:8080/",
     "height": 98
    },
    "id": "Dm8RR34LqQ6W",
    "outputId": "db5f361b-a30e-4236-d151-ad6c2bc9df27"
   },
   "outputs": [],
   "source": [
    "attack_sample = mitre_df.query('labels==\"T1548.003\" and not proc_flag')\n",
    "display(attack_sample)\n",
    "id = attack_sample['id'].iloc[0]"
   ]
  },
  {
   "cell_type": "code",
   "execution_count": null,
   "metadata": {
    "colab": {
     "base_uri": "https://localhost:8080/"
    },
    "id": "1FUXZOMbqc-v",
    "outputId": "a35e9a98-22ad-430b-f8fa-446cc615e987"
   },
   "outputs": [],
   "source": [
    "attack = [it for it in attack_l if it['id']==id][0]\n",
    "attack"
   ]
  },
  {
   "cell_type": "code",
   "execution_count": null,
   "metadata": {
    "colab": {
     "base_uri": "https://localhost:8080/"
    },
    "id": "c9me3pqEqdDf",
    "outputId": "8a81348d-9c2e-48b2-cd5c-58157a6557db"
   },
   "outputs": [],
   "source": [
    "attack['x_mitre_platforms'], attack['external_references'][1:], attack['kill_chain_phases'], attack['name'],\n",
    "attack['x_mitre_data_sources'], attack['x_mitre_permissions_required'], attack['x_mitre_effective_permissions'], attack['created']"
   ]
  },
  {
   "cell_type": "code",
   "execution_count": null,
   "metadata": {
    "id": "JU9zFQp0UYih"
   },
   "outputs": [],
   "source": [
    "[Proton](https://attack.mitre.org/software/S0279) modifies the tty_tickets line in the sudoers file.(Citation: objsee mac malware 2017)"
   ]
  },
  {
   "cell_type": "code",
   "execution_count": null,
   "metadata": {
    "colab": {
     "base_uri": "https://localhost:8080/"
    },
    "id": "iaY6gIPlTG9x",
    "outputId": "6a9fe7ae-e75e-4304-93bd-968da5395bf5"
   },
   "outputs": [],
   "source": [
    "proc_software_links = []\n",
    "proc_citation_links = []\n",
    "\n",
    "proc_itms = [it for it in rel_l if (it['target_ref']==attack['id']) and (it['relationship_type']=='uses')]\n",
    "it = proc_itms[1]\n",
    "it"
   ]
  },
  {
   "cell_type": "code",
   "execution_count": null,
   "metadata": {
    "colab": {
     "base_uri": "https://localhost:8080/"
    },
    "id": "C7WTNtfLVYw0",
    "outputId": "ccfd14d4-1753-468d-94e9-61f986307ae4"
   },
   "outputs": [],
   "source": [
    "import re\n",
    "# proc_software_links, proc_descr_links\n",
    "re.findall(r'\\((https://[^\\s\\)]{1,})', it['description']), [subit['url'] for subit in it['external_references']]"
   ]
  },
  {
   "cell_type": "code",
   "execution_count": null,
   "metadata": {
    "colab": {
     "base_uri": "https://localhost:8080/"
    },
    "id": "EW44K3sETN3u",
    "outputId": "e7ba0958-85fb-4c99-d763-b59ce7c1ee4f"
   },
   "outputs": [],
   "source": [
    "det_itms = [it for it in rel_l if (it['target_ref']==attack['id']) and (it['relationship_type']=='detects')]\n",
    "it = det_itms[2]\n",
    "# det_descr, det_data_comp\n",
    "it['description'], it['source_ref']"
   ]
  },
  {
   "cell_type": "code",
   "execution_count": null,
   "metadata": {
    "colab": {
     "base_uri": "https://localhost:8080/"
    },
    "id": "oqZw5AJfgb4j",
    "outputId": "327bdeb5-6f35-4afe-f363-0280075b0c2b"
   },
   "outputs": [],
   "source": [
    "mit_itms = [it for it in rel_l if (it['target_ref']==attack['id']) and (it['relationship_type']=='mitigates')]\n",
    "it = mit_itms[2]\n",
    "it['description'], it['source_ref']"
   ]
  },
  {
   "cell_type": "markdown",
   "metadata": {
    "id": "75XoYeJKZBpv",
    "jp-MarkdownHeadingCollapsed": true
   },
   "source": [
    "## ищем связанные процедуры с objectpath"
   ]
  },
  {
   "cell_type": "code",
   "execution_count": null,
   "metadata": {
    "colab": {
     "base_uri": "https://localhost:8080/"
    },
    "id": "BawNdxE0ZbfS",
    "outputId": "3ef6f968-666a-4ccd-8f12-e00af63dcf81"
   },
   "outputs": [],
   "source": [
    "!pip install objectpath"
   ]
  },
  {
   "cell_type": "code",
   "execution_count": null,
   "metadata": {
    "id": "uNl3ZM34ZZVh"
   },
   "outputs": [],
   "source": [
    "import objectpath as obp\n",
    "\n",
    "query = obp.Tree(d)"
   ]
  },
  {
   "cell_type": "markdown",
   "metadata": {
    "id": "-R43ALQ2n1xF",
    "jp-MarkdownHeadingCollapsed": true
   },
   "source": [
    "### объект по описанию можно найти"
   ]
  },
  {
   "cell_type": "code",
   "execution_count": null,
   "metadata": {
    "id": "hk3w03WFfb5t"
   },
   "outputs": [],
   "source": [
    "s = '[Andariel](https://attack.mitre.org/groups/G0138) has used watering hole attacks, often with zero-day exploits, to gain initial access to victims within a specific IP range.(Citation: AhnLab Andariel Subgroup of Lazarus June 2018)(Citation: TrendMicro New Andariel Tactics July 2018)'\n",
    "\n",
    "res_descr = list(query.execute(f\"$..*[@.description is '{s}']\"))"
   ]
  },
  {
   "cell_type": "code",
   "execution_count": null,
   "metadata": {
    "colab": {
     "base_uri": "https://localhost:8080/"
    },
    "id": "w9I7SYu_gVC_",
    "outputId": "d0b3305e-cf83-453f-de79-89ac02a6cde1"
   },
   "outputs": [],
   "source": [
    "type(res_descr)"
   ]
  },
  {
   "cell_type": "markdown",
   "metadata": {
    "id": "_ptDM8PTmcvN"
   },
   "source": [
    "Связи с атакой:\n",
    "- created_by_ref\n",
    "- target_ref\n",
    "- object_marking_refs"
   ]
  },
  {
   "cell_type": "code",
   "execution_count": 13,
   "metadata": {
    "colab": {
     "base_uri": "https://localhost:8080/"
    },
    "id": "DD70T9PPg511",
    "outputId": "28bfb163-4e24-42b9-9f6d-97462c5408c6"
   },
   "outputs": [],
   "source": [
    "attack = [it for it in attack_l if 'Typical drive-by compromise process:' in it['description']][0]\n"
   ]
  },
  {
   "cell_type": "markdown",
   "metadata": {
    "id": "e1OC3ltVQ1lB",
    "jp-MarkdownHeadingCollapsed": true
   },
   "source": [
    "#### created_by_ref\n",
    "много очень"
   ]
  },
  {
   "cell_type": "code",
   "execution_count": 11,
   "metadata": {
    "collapsed": true,
    "id": "IhnZbG4PQ-pP",
    "jupyter": {
     "outputs_hidden": true
    }
   },
   "outputs": [
    {
     "ename": "NameError",
     "evalue": "name 'query' is not defined",
     "output_type": "error",
     "traceback": [
      "\u001b[1;31m---------------------------------------------------------------------------\u001b[0m",
      "\u001b[1;31mNameError\u001b[0m                                 Traceback (most recent call last)",
      "Cell \u001b[1;32mIn[11], line 3\u001b[0m\n\u001b[0;32m      1\u001b[0m ident \u001b[38;5;241m=\u001b[39m \u001b[38;5;124m'\u001b[39m\u001b[38;5;124midentity--c78cb6e5-0c4b-4611-8297-d1b8b55e40b5\u001b[39m\u001b[38;5;124m'\u001b[39m\n\u001b[1;32m----> 3\u001b[0m res2 \u001b[38;5;241m=\u001b[39m \u001b[38;5;28mlist\u001b[39m(\u001b[43mquery\u001b[49m\u001b[38;5;241m.\u001b[39mexecute(\u001b[38;5;124mf\u001b[39m\u001b[38;5;124m\"\u001b[39m\u001b[38;5;124m$..*[@.created_by_ref is \u001b[39m\u001b[38;5;124m'\u001b[39m\u001b[38;5;132;01m{\u001b[39;00mident\u001b[38;5;132;01m}\u001b[39;00m\u001b[38;5;124m'\u001b[39m\u001b[38;5;124m]\u001b[39m\u001b[38;5;124m\"\u001b[39m))\n",
      "\u001b[1;31mNameError\u001b[0m: name 'query' is not defined"
     ]
    }
   ],
   "source": [
    "ident = 'identity--c78cb6e5-0c4b-4611-8297-d1b8b55e40b5'\n",
    "\n",
    "res2 = list(query.execute(f\"$..*[@.created_by_ref is '{ident}']\"))\n"
   ]
  },
  {
   "cell_type": "code",
   "execution_count": null,
   "metadata": {
    "colab": {
     "base_uri": "https://localhost:8080/"
    },
    "id": "rLv7ptu9Q-pR",
    "outputId": "e09d41a8-cbb9-42d4-e307-bec672ad30e0"
   },
   "outputs": [],
   "source": [
    "res2[0].keys()"
   ]
  },
  {
   "cell_type": "code",
   "execution_count": null,
   "metadata": {
    "id": "Kgmd8zWGQ6iB"
   },
   "outputs": [],
   "source": []
  },
  {
   "cell_type": "markdown",
   "metadata": {
    "id": "snz9P6k9Rx1i",
    "jp-MarkdownHeadingCollapsed": true
   },
   "source": [
    "#### object_marking_refs\n",
    "тут тоже дичь"
   ]
  },
  {
   "cell_type": "code",
   "execution_count": 19,
   "metadata": {},
   "outputs": [
    {
     "data": {
      "text/plain": [
       "array(['marking-definition--fa42a846-8d90-4e51-bc29-71d5b4802168'],\n",
       "      dtype=object)"
      ]
     },
     "execution_count": 19,
     "metadata": {},
     "output_type": "execute_result"
    }
   ],
   "source": [
    "pd.DataFrame([it['object_marking_refs'] for it in attack_l], columns=['val']).explode('val')['val'].unique()"
   ]
  },
  {
   "cell_type": "markdown",
   "metadata": {},
   "source": [
    "Для всех техник атак один тип"
   ]
  },
  {
   "cell_type": "code",
   "execution_count": 12,
   "metadata": {
    "colab": {
     "base_uri": "https://localhost:8080/"
    },
    "id": "ybgnRpFLOTKN",
    "outputId": "697320ac-55d2-42f2-9a9a-d10c2dd1c394"
   },
   "outputs": [
    {
     "ename": "NameError",
     "evalue": "name 'query' is not defined",
     "output_type": "error",
     "traceback": [
      "\u001b[1;31m---------------------------------------------------------------------------\u001b[0m",
      "\u001b[1;31mNameError\u001b[0m                                 Traceback (most recent call last)",
      "Cell \u001b[1;32mIn[12], line 3\u001b[0m\n\u001b[0;32m      1\u001b[0m object_marking_refs \u001b[38;5;241m=\u001b[39m \u001b[38;5;124m'\u001b[39m\u001b[38;5;124mmarking-definition--fa42a846-8d90-4e51-bc29-71d5b4802168\u001b[39m\u001b[38;5;124m'\u001b[39m\n\u001b[1;32m----> 3\u001b[0m res2 \u001b[38;5;241m=\u001b[39m \u001b[38;5;28mlist\u001b[39m(\u001b[43mquery\u001b[49m\u001b[38;5;241m.\u001b[39mexecute(\u001b[38;5;124mf\u001b[39m\u001b[38;5;124m\"\u001b[39m\u001b[38;5;124m$..*[\u001b[39m\u001b[38;5;124m'\u001b[39m\u001b[38;5;132;01m{\u001b[39;00mobject_marking_refs\u001b[38;5;132;01m}\u001b[39;00m\u001b[38;5;124m'\u001b[39m\u001b[38;5;124m in @.object_marking_refs]\u001b[39m\u001b[38;5;124m\"\u001b[39m))\n\u001b[0;32m      4\u001b[0m res2\n",
      "\u001b[1;31mNameError\u001b[0m: name 'query' is not defined"
     ]
    }
   ],
   "source": [
    "object_marking_refs = 'marking-definition--fa42a846-8d90-4e51-bc29-71d5b4802168'\n",
    "\n",
    "res2 = list(query.execute(f\"$..*['{object_marking_refs}' in @.object_marking_refs]\"))\n",
    "res2"
   ]
  },
  {
   "cell_type": "code",
   "execution_count": null,
   "metadata": {
    "colab": {
     "base_uri": "https://localhost:8080/"
    },
    "id": "vTiSst8EQZjH",
    "outputId": "c4b0fd2c-4b91-4068-a9d8-72d39307770b"
   },
   "outputs": [],
   "source": [
    "len(res2[0])"
   ]
  },
  {
   "cell_type": "code",
   "execution_count": null,
   "metadata": {
    "colab": {
     "base_uri": "https://localhost:8080/"
    },
    "id": "Snvf5vtBRkY5",
    "outputId": "73cd8958-eb79-4271-ed6a-dc61330bb251"
   },
   "outputs": [],
   "source": [
    "res2[0]['object_marking_refs']"
   ]
  },
  {
   "cell_type": "markdown",
   "metadata": {
    "id": "LYbBSpfmnq1T",
    "jp-MarkdownHeadingCollapsed": true
   },
   "source": [
    "### по id атаки"
   ]
  },
  {
   "cell_type": "code",
   "execution_count": null,
   "metadata": {
    "id": "o652qX9YZi-m"
   },
   "outputs": [],
   "source": [
    "res = list(query.execute(\"$..*[@.target_ref is 'attack-pattern--d742a578-d70e-4d0e-96a6-02a9c30204e6']\"))"
   ]
  },
  {
   "cell_type": "code",
   "execution_count": null,
   "metadata": {
    "colab": {
     "base_uri": "https://localhost:8080/"
    },
    "id": "qqDUvJ46p7rP",
    "outputId": "f2e5d2dd-9852-4135-bd10-48bff8fc9046"
   },
   "outputs": [],
   "source": [
    "{it['relationship_type'] for it in res}"
   ]
  },
  {
   "cell_type": "markdown",
   "metadata": {
    "id": "ocacduVIwBCP"
   },
   "source": [
    "Тут как раз все виды\n",
    "- uses - процедуры\n",
    "- detects - Detection\n",
    "- mitigates - Mitigations"
   ]
  },
  {
   "cell_type": "code",
   "execution_count": null,
   "metadata": {
    "colab": {
     "base_uri": "https://localhost:8080/"
    },
    "id": "GsCy0582cn1R",
    "outputId": "d954b1b3-0aa6-491c-8254-0917b13b63a6"
   },
   "outputs": [],
   "source": [
    "(len([it for it in res if it['relationship_type']=='uses']), len([it for it in res if it['relationship_type']=='detects']),\n",
    "len([it for it in res if it['relationship_type']=='mitigates']))"
   ]
  },
  {
   "cell_type": "code",
   "execution_count": null,
   "metadata": {
    "colab": {
     "base_uri": "https://localhost:8080/"
    },
    "id": "VS_eX6L7wdsJ",
    "outputId": "d049d6c0-a488-4056-f002-557a32dfc767"
   },
   "outputs": [],
   "source": [
    "[it for it in res if it['relationship_type']=='uses'][-1]"
   ]
  },
  {
   "cell_type": "markdown",
   "metadata": {
    "id": "1GoBbTAIyJzV"
   },
   "source": [
    "- некоторые примеры процедур почему-то на сайте не отображаются\n",
    "  - [пример](https://attack.mitre.org/techniques/T1189/), а в ссылках есть (it['relationship_type']=='uses' с id атаки) и [тут](https://service.securitm.ru/mitre/techniques/T1189)"
   ]
  },
  {
   "cell_type": "markdown",
   "metadata": {
    "id": "BfIY-3mi4rvH",
    "jp-MarkdownHeadingCollapsed": true
   },
   "source": [
    "### поиск процедур\n",
    "сначала нашел родителя, как в файле objectpath и обнаружил, что у него столько же элементов, сколько и у верхнеуровневого objects ключа и сделал вывод, что один"
   ]
  },
  {
   "cell_type": "code",
   "execution_count": null,
   "metadata": {
    "id": "XQUoI3_uOjVg"
   },
   "outputs": [],
   "source": [
    "\n"
   ]
  },
  {
   "cell_type": "code",
   "execution_count": null,
   "metadata": {
    "id": "Ou6mAqEX6abm"
   },
   "outputs": [],
   "source": [
    "obj_target_refs = [it for it in d['objects'] if 'target_ref' in it.keys()]"
   ]
  },
  {
   "cell_type": "code",
   "execution_count": null,
   "metadata": {
    "id": "qOrS-Ynw4_VG"
   },
   "outputs": [],
   "source": [
    "pattern = 'attack-pattern--d742a578-d70e-4d0e-96a6-02a9c30204e6'\n"
   ]
  },
  {
   "cell_type": "code",
   "execution_count": null,
   "metadata": {
    "id": "nOYkItyyICkF"
   },
   "outputs": [],
   "source": [
    "rel_l = [it for it in d['objects'] if it['type']=='relationship']"
   ]
  },
  {
   "cell_type": "markdown",
   "metadata": {
    "id": "YjFGXtC9HLqv"
   },
   "source": [
    "По ходу это объекты с типом relationship"
   ]
  },
  {
   "cell_type": "code",
   "execution_count": null,
   "metadata": {
    "colab": {
     "base_uri": "https://localhost:8080/"
    },
    "id": "oxeJQnzxHQ52",
    "outputId": "c144c35a-253c-44fb-85f2-a7ff385f5eb0"
   },
   "outputs": [],
   "source": [
    "len(obj_target_refs), len(rel_l)"
   ]
  },
  {
   "cell_type": "markdown",
   "metadata": {
    "id": "YjCkGtlkHc_f"
   },
   "source": [
    "количество совпало"
   ]
  },
  {
   "cell_type": "code",
   "execution_count": null,
   "metadata": {
    "colab": {
     "base_uri": "https://localhost:8080/"
    },
    "id": "ZGBlddOsHue2",
    "outputId": "a2b1b7c0-8876-492a-fa32-13a8b19fade4"
   },
   "outputs": [],
   "source": [
    "[it for it in rel_l if not 'target_ref' in it.keys()]"
   ]
  },
  {
   "cell_type": "markdown",
   "metadata": {
    "id": "RR7Y4OI-IOVq"
   },
   "source": [
    "нет item-ов без ссылок атаку target_ref"
   ]
  },
  {
   "cell_type": "code",
   "execution_count": null,
   "metadata": {
    "colab": {
     "base_uri": "https://localhost:8080/"
    },
    "id": "u6VpOPpYIcpq",
    "outputId": "fd1b2c19-e7fa-4ddd-e1e0-d0ff26601185"
   },
   "outputs": [],
   "source": [
    "attack"
   ]
  },
  {
   "cell_type": "markdown",
   "metadata": {
    "id": "KvfS49Jq1cyZ",
    "jp-MarkdownHeadingCollapsed": true
   },
   "source": [
    "## атаки одноименки"
   ]
  },
  {
   "cell_type": "code",
   "execution_count": null,
   "metadata": {
    "id": "3J0gd8ti56cF"
   },
   "outputs": [],
   "source": [
    "import json\n",
    "import re\n",
    "\n",
    "d=json.load(open('/content/drive/MyDrive/Colab Notebooks/texts/sec_bert/data/enterprise-attack.json'))\n",
    "# attack_l = [it for it in d['objects'] if it['type']=='attack-pattern']\n",
    "attack_l = [it for it in d['objects'] if it['type']=='attack-pattern' if not 'revoked' in it.keys() or not it['revoked']]\n",
    "rel_l = [it for it in d['objects'] if it['type']=='relationship']\n",
    "\n",
    "mitre_df = pd.DataFrame([(attack['id'], attack['name'], attack['description'], attack['external_references'][0]['external_id'],\n",
    "                          attack['external_references'][0]['url'], attack['x_mitre_platforms'], attack['kill_chain_phases'],\n",
    "                          attack['created'], attack['external_references'][1:],\n",
    "                          attack['x_mitre_permissions_required'] if 'x_mitre_permissions_required' in attack.keys() else None,\n",
    "                         attack['x_mitre_effective_permissions'] if 'x_mitre_effective_permissions' in attack.keys() else None,\n",
    "                          attack['x_mitre_data_sources'] if 'x_mitre_data_sources' in attack.keys() else None,\n",
    "                          attack['x_mitre_defense_bypassed'] if 'x_mitre_defense_bypassed' in attack.keys() else None\n",
    "                          )\n",
    "                          for attack in attack_l],\n",
    "                        columns=['id', 'name', 'sentence', 'labels', 'url', 'platforms', 'kill_chain_phases',\n",
    "                                 'created', 'doc_refs', 'permissions', 'effective_permissions', 'data_sources', 'defense_bypassed'])\n",
    "mitre_df['proc_flag'] = False\n"
   ]
  },
  {
   "cell_type": "code",
   "execution_count": null,
   "metadata": {
    "colab": {
     "base_uri": "https://localhost:8080/",
     "height": 660
    },
    "id": "BHFMCAJJ7UZL",
    "outputId": "9de452a6-850e-4d19-f1c3-e7370029b028"
   },
   "outputs": [],
   "source": [
    "mitre_df[mitre_df['name'].duplicated(keep=False)].sort_values(by='name').head()"
   ]
  },
  {
   "cell_type": "markdown",
   "metadata": {
    "id": "QlbWmo6UGBgX",
    "jp-MarkdownHeadingCollapsed": true
   },
   "source": [
    "## выделяем субтехники"
   ]
  },
  {
   "cell_type": "code",
   "execution_count": null,
   "metadata": {
    "id": "9vAuRJEEGAQO"
   },
   "outputs": [],
   "source": [
    "import json\n",
    "import re\n",
    "\n",
    "d=json.load(open('/content/drive/MyDrive/Colab Notebooks/texts/sec_bert/data/enterprise-attack.json'))\n",
    "# attack_l = [it for it in d['objects'] if it['type']=='attack-pattern']\n",
    "attack_l = [it for it in d['objects'] if it['type']=='attack-pattern' if not 'revoked' in it.keys() or not it['revoked']]"
   ]
  },
  {
   "cell_type": "code",
   "execution_count": null,
   "metadata": {
    "colab": {
     "base_uri": "https://localhost:8080/"
    },
    "id": "qjHAeXKvGGOU",
    "outputId": "660316a0-b806-4c2c-e32e-892736ba97da"
   },
   "outputs": [],
   "source": [
    "len([it for it in attack_l if  it['x_mitre_is_subtechnique']==False])"
   ]
  },
  {
   "cell_type": "markdown",
   "metadata": {
    "id": "vxKmvvJV5zFU",
    "jp-MarkdownHeadingCollapsed": true
   },
   "source": [
    "## атаки с устаревшими ссылками"
   ]
  },
  {
   "cell_type": "code",
   "execution_count": null,
   "metadata": {
    "id": "QsDL-Eag1e2u"
   },
   "outputs": [],
   "source": [
    "d=json.load(open('/content/drive/MyDrive/Colab Notebooks/texts/sec_bert/data/enterprise-attack.json'))\n",
    "attack_l = [it for it in d['objects'] if it['type']=='attack-pattern']"
   ]
  },
  {
   "cell_type": "markdown",
   "metadata": {
    "id": "gQ38Q8dT3kNu",
    "jp-MarkdownHeadingCollapsed": true
   },
   "source": [
    "### T1067"
   ]
  },
  {
   "cell_type": "code",
   "execution_count": null,
   "metadata": {
    "colab": {
     "base_uri": "https://localhost:8080/"
    },
    "id": "TwSqhs3T300t",
    "outputId": "a76beca1-b685-4607-e32e-00f0513c885f"
   },
   "outputs": [],
   "source": [
    "prb_l = [it for it in attack_l if it['name']=='Bootkit']\n",
    "len(prb_l)"
   ]
  },
  {
   "cell_type": "code",
   "execution_count": null,
   "metadata": {
    "colab": {
     "base_uri": "https://localhost:8080/"
    },
    "id": "kw1bQJXz3-xL",
    "outputId": "677d1513-4770-452f-dde7-d04401542214"
   },
   "outputs": [],
   "source": [
    "prb_l[0]"
   ]
  },
  {
   "cell_type": "code",
   "execution_count": null,
   "metadata": {
    "colab": {
     "base_uri": "https://localhost:8080/"
    },
    "id": "YT3bYS5N4Ojk",
    "outputId": "938b8407-3574-45d8-add6-dfea289d574e"
   },
   "outputs": [],
   "source": [
    "prb_l[1]"
   ]
  },
  {
   "cell_type": "markdown",
   "metadata": {
    "id": "7sBCrDza3fHi",
    "jp-MarkdownHeadingCollapsed": true
   },
   "source": [
    "### T1066"
   ]
  },
  {
   "cell_type": "code",
   "execution_count": null,
   "metadata": {
    "colab": {
     "base_uri": "https://localhost:8080/"
    },
    "id": "yC_g8DkP1gRO",
    "outputId": "4c61effd-ceeb-4675-9783-bfc7b77d0646"
   },
   "outputs": [],
   "source": [
    "prb_l = [it for it in attack_l if it['name']=='Indicator Removal from Tools']\n",
    "prb_l[0]"
   ]
  },
  {
   "cell_type": "code",
   "execution_count": null,
   "metadata": {
    "colab": {
     "base_uri": "https://localhost:8080/"
    },
    "id": "WLxLx4V619xC",
    "outputId": "df280cce-10ef-4ab4-caaa-9561cfb10aa3"
   },
   "outputs": [],
   "source": [
    "prb_l[1]"
   ]
  },
  {
   "cell_type": "markdown",
   "metadata": {
    "id": "fti0J8w_3Ry5"
   },
   "source": [
    "- отличие флаг 'revoked': False (актуальная)"
   ]
  },
  {
   "cell_type": "code",
   "execution_count": null,
   "metadata": {
    "colab": {
     "base_uri": "https://localhost:8080/",
     "height": 305
    },
    "id": "5pI3N7II1lJB",
    "outputId": "7a53eaa8-ac7b-4984-a1e9-c51aceec108f"
   },
   "outputs": [],
   "source": [
    "mitre_df.query('labels.isin([\"T1027.005\", \"T1066\"])')"
   ]
  },
  {
   "cell_type": "markdown",
   "metadata": {
    "id": "V1C_7SepNnaw",
    "jp-MarkdownHeadingCollapsed": true
   },
   "source": [
    "### проблемные id атак"
   ]
  },
  {
   "cell_type": "code",
   "execution_count": null,
   "metadata": {
    "id": "N3uowwg5PALF"
   },
   "outputs": [],
   "source": [
    "d=json.load(open('/content/drive/MyDrive/Colab Notebooks/texts/sec_bert/data/enterprise-attack.json'))\n",
    "attack_l = [it for it in d['objects'] if it['type']=='attack-pattern']\n",
    "mitre_df = pd.DataFrame([(attack['id'], attack['description'], attack['external_references'][0]['external_id'], attack['external_references'][0]['url']) for attack in attack_l],\n",
    "                        columns=['id', 'sentence', 'labels', 'url'])"
   ]
  },
  {
   "cell_type": "code",
   "execution_count": null,
   "metadata": {
    "id": "sg2oWQwnNmHr"
   },
   "outputs": [],
   "source": [
    "pattern = 'attack-pattern--00d0b012-8a03-410e-95de-5826bf542de6'\n",
    "\n",
    "obj_target_refs = [it for it in d['objects'] if 'target_ref' in it.keys()]"
   ]
  },
  {
   "cell_type": "code",
   "execution_count": null,
   "metadata": {
    "colab": {
     "base_uri": "https://localhost:8080/",
     "height": 81
    },
    "id": "5TuU656-OmkD",
    "outputId": "2794b247-8e3f-4e63-82ea-ef3b81d829a3"
   },
   "outputs": [],
   "source": [
    "mitre_df.query(f'id==\"{pattern}\"')"
   ]
  },
  {
   "cell_type": "code",
   "execution_count": null,
   "metadata": {
    "colab": {
     "base_uri": "https://localhost:8080/"
    },
    "id": "fVVz-5dpN7Oy",
    "outputId": "f98245ef-be66-4cb3-a377-9acab682732c"
   },
   "outputs": [],
   "source": [
    "attack = [it for it in attack_l if it['id']==pattern][0]\n",
    "attack"
   ]
  },
  {
   "cell_type": "code",
   "execution_count": null,
   "metadata": {
    "id": "U4jgVImJODQG"
   },
   "outputs": [],
   "source": [
    "res = list(query.execute(f\"$..*[@.target_ref is '{pattern}']\"))"
   ]
  },
  {
   "cell_type": "code",
   "execution_count": null,
   "metadata": {
    "colab": {
     "base_uri": "https://localhost:8080/"
    },
    "id": "ZrQXkbUWODQH",
    "outputId": "3b915b7a-a0f9-47d0-b91f-235c1c7c4cf5"
   },
   "outputs": [],
   "source": [
    "{it['relationship_type'] for it in res}"
   ]
  },
  {
   "cell_type": "code",
   "execution_count": null,
   "metadata": {
    "id": "4PS9zEhnRD__"
   },
   "outputs": [],
   "source": []
  },
  {
   "cell_type": "markdown",
   "metadata": {
    "id": "Did_DrSHyuWj"
   },
   "source": [
    "## Итог"
   ]
  },
  {
   "cell_type": "code",
   "execution_count": 4,
   "metadata": {},
   "outputs": [],
   "source": [
    "import json\n",
    "import re\n",
    "from ruamel.yaml import YAML\n",
    "import pandas as pd\n",
    "\n",
    "\n",
    "conf = YAML().load(open('params.yaml'))"
   ]
  },
  {
   "cell_type": "code",
   "execution_count": 62,
   "metadata": {
    "id": "ZNX8lNwUrkIG"
   },
   "outputs": [],
   "source": [
    "# d=json.load(open('/content/drive/MyDrive/Colab Notebooks/texts/sec_bert/data/enterprise-attack.json'))\n",
    "\n",
    "d=json.load(open(conf['get_data']['mitre_attack_fn']))\n",
    "\n",
    "# attack_l = [it for it in d['objects'] if it['type']=='attack-pattern']\n",
    "attack_l = [it for it in d['objects'] if it['type']=='attack-pattern' if not 'revoked' in it.keys() or not it['revoked']]\n",
    "rel_l = [it for it in d['objects'] if it['type']=='relationship']\n",
    "subtech_l = [it for it in d['objects'] if it['type']=='relationship' and it['relationship_type']=='subtechnique-of']\n",
    "\n",
    "mitre_df = pd.DataFrame([(attack['id'], attack['name'], attack['description'], attack['external_references'][0]['external_id'],\n",
    "                          attack['external_references'][0]['url'], attack['x_mitre_is_subtechnique'], attack['x_mitre_platforms'], attack['kill_chain_phases'],\n",
    "                          attack['created'], attack['external_references'][1:],\n",
    "                          attack['x_mitre_permissions_required'] if 'x_mitre_permissions_required' in attack.keys() else None,\n",
    "                         attack['x_mitre_effective_permissions'] if 'x_mitre_effective_permissions' in attack.keys() else None,\n",
    "                          attack['x_mitre_data_sources'] if 'x_mitre_data_sources' in attack.keys() else None,\n",
    "                          attack['x_mitre_defense_bypassed'] if 'x_mitre_defense_bypassed' in attack.keys() else None\n",
    "                          )\n",
    "                          for attack in attack_l],\n",
    "                        columns=['id', 'name', 'sentence', 'labels', 'url', 'subtechnique', 'platforms', 'kill_chain_phases',\n",
    "                                 'created', 'doc_refs', 'permissions', 'effective_permissions', 'data_sources', 'defense_bypassed'])\n",
    "mitre_df['proc_flag'] = False\n"
   ]
  },
  {
   "cell_type": "code",
   "execution_count": 66,
   "metadata": {
    "id": "v5EQqp554A_e"
   },
   "outputs": [],
   "source": [
    "from itertools import chain\n",
    "mittre_l = []\n",
    "for _, row in mitre_df.iterrows():\n",
    "\n",
    "    proc_itms = [it for it in rel_l if (it['target_ref']==row['id']) and (it['relationship_type']=='uses')]\n",
    "    det_itms = [it for it in rel_l if (it['target_ref']==row['id']) and (it['relationship_type']=='detects')]\n",
    "    mit_itms = [it for it in rel_l if (it['target_ref']==row['id']) and (it['relationship_type']=='mitigates')]\n",
    "\n",
    "\n",
    "    part_df = row.drop(['proc_flag']).to_frame().T\n",
    "    part_df['proc_software_links'] = [list(chain(*[re.findall(r'\\((https://[^\\s\\)]{1,})', it['description']) for it in proc_itms ]))]\n",
    "\n",
    "    \n",
    "    if part_df['subtechnique'].iloc[0]:\n",
    "        part_df['par_id'] = [it for it in subtech_l if it['source_ref']==row['id']][0]['target_ref']\n",
    "    else:\n",
    "        part_df['par_id'] = None\n",
    "    part_df['proc_descr_links'] = [[subit['url'] for it in proc_itms if 'external_references' in it for subit in it['external_references'] ]]\n",
    "    part_df['proc_descr'] = [[it['description'] for it in proc_itms]]\n",
    "    # break\n",
    "\n",
    "    part_df['det_descr'] = [[it['description'] for it in det_itms if 'description' in it]]\n",
    "    part_df['det_data_comp'] = [[it['source_ref'] for it in det_itms if 'source_ref' in it]]\n",
    "    part_df['mit_descr'] = [[it['description'] for it in mit_itms if 'description' in it]]\n",
    "    part_df['mit_coa'] = [[it['source_ref'] for it in mit_itms if 'source_ref' in it]]\n",
    "\n",
    "    mittre_l.append(part_df)\n",
    "\n",
    "\n"
   ]
  },
  {
   "cell_type": "code",
   "execution_count": 67,
   "metadata": {
    "id": "IJu9Zy8N45wI"
   },
   "outputs": [],
   "source": [
    "mitre_df = pd.concat(mittre_l, ignore_index=True)\n"
   ]
  },
  {
   "cell_type": "code",
   "execution_count": 68,
   "metadata": {
    "id": "2jUyRtTC2ubH"
   },
   "outputs": [],
   "source": [
    "mitre_df['kill_chain_tags'] = mitre_df['kill_chain_phases'].map(lambda x: [it['phase_name'] for it in x])"
   ]
  },
  {
   "cell_type": "code",
   "execution_count": 70,
   "metadata": {},
   "outputs": [
    {
     "data": {
      "text/plain": [
       "(649, 23)"
      ]
     },
     "execution_count": 70,
     "metadata": {},
     "output_type": "execute_result"
    }
   ],
   "source": [
    "mitre_df.shape"
   ]
  },
  {
   "cell_type": "code",
   "execution_count": 75,
   "metadata": {},
   "outputs": [
    {
     "data": {
      "text/html": [
       "<div>\n",
       "<style scoped>\n",
       "    .dataframe tbody tr th:only-of-type {\n",
       "        vertical-align: middle;\n",
       "    }\n",
       "\n",
       "    .dataframe tbody tr th {\n",
       "        vertical-align: top;\n",
       "    }\n",
       "\n",
       "    .dataframe thead th {\n",
       "        text-align: right;\n",
       "    }\n",
       "</style>\n",
       "<table border=\"1\" class=\"dataframe\">\n",
       "  <thead>\n",
       "    <tr style=\"text-align: right;\">\n",
       "      <th></th>\n",
       "      <th>id</th>\n",
       "      <th>name</th>\n",
       "      <th>sentence</th>\n",
       "      <th>labels</th>\n",
       "      <th>url</th>\n",
       "      <th>subtechnique</th>\n",
       "      <th>platforms</th>\n",
       "      <th>kill_chain_phases</th>\n",
       "      <th>created</th>\n",
       "      <th>doc_refs</th>\n",
       "      <th>...</th>\n",
       "      <th>proc_software_links</th>\n",
       "      <th>par_id</th>\n",
       "      <th>proc_descr_links</th>\n",
       "      <th>proc_descr</th>\n",
       "      <th>det_descr</th>\n",
       "      <th>det_data_comp</th>\n",
       "      <th>mit_descr</th>\n",
       "      <th>mit_coa</th>\n",
       "      <th>kill_chain_tags</th>\n",
       "      <th>par_name</th>\n",
       "    </tr>\n",
       "  </thead>\n",
       "  <tbody>\n",
       "    <tr>\n",
       "      <th>0</th>\n",
       "      <td>attack-pattern--0042a9f5-f053-4769-b3ef-9ad018...</td>\n",
       "      <td>Extra Window Memory Injection</td>\n",
       "      <td>Adversaries may inject malicious code into pro...</td>\n",
       "      <td>T1055.011</td>\n",
       "      <td>https://attack.mitre.org/techniques/T1055/011</td>\n",
       "      <td>True</td>\n",
       "      <td>[Windows]</td>\n",
       "      <td>[{'kill_chain_name': 'mitre-attack', 'phase_na...</td>\n",
       "      <td>2020-01-14T17:18:32.126Z</td>\n",
       "      <td>[{'url': 'https://msdn.microsoft.com/library/w...</td>\n",
       "      <td>...</td>\n",
       "      <td>[https://attack.mitre.org/software/S0091, http...</td>\n",
       "      <td>attack-pattern--43e7dc91-05b2-474c-b9ac-2ed4fe...</td>\n",
       "      <td>[https://recon.cx/2018/brussels/resources/slid...</td>\n",
       "      <td>[[Epic](https://attack.mitre.org/software/S009...</td>\n",
       "      <td>[Monitor for API calls related to enumerating ...</td>\n",
       "      <td>[x-mitre-data-component--9bde2f9d-a695-4344-bf...</td>\n",
       "      <td>[Some endpoint security solutions can be confi...</td>\n",
       "      <td>[course-of-action--90f39ee1-d5a3-4aaa-9f28-3b4...</td>\n",
       "      <td>[defense-evasion, privilege-escalation]</td>\n",
       "      <td>Process Injection</td>\n",
       "    </tr>\n",
       "    <tr>\n",
       "      <th>1</th>\n",
       "      <td>attack-pattern--005a06c6-14bf-4118-afa0-ebcd8a...</td>\n",
       "      <td>Scheduled Task</td>\n",
       "      <td>Adversaries may abuse the Windows Task Schedul...</td>\n",
       "      <td>T1053.005</td>\n",
       "      <td>https://attack.mitre.org/techniques/T1053/005</td>\n",
       "      <td>True</td>\n",
       "      <td>[Windows]</td>\n",
       "      <td>[{'kill_chain_name': 'mitre-attack', 'phase_na...</td>\n",
       "      <td>2019-11-27T14:58:00.429Z</td>\n",
       "      <td>[{'source_name': 'ProofPoint Serpent', 'descri...</td>\n",
       "      <td>...</td>\n",
       "      <td>[https://attack.mitre.org/software/S0588, http...</td>\n",
       "      <td>attack-pattern--35dd844a-b219-4e2b-a6bb-efa9a7...</td>\n",
       "      <td>[https://www.microsoft.com/security/blog/2021/...</td>\n",
       "      <td>[[GoldMax](https://attack.mitre.org/software/S...</td>\n",
       "      <td>[Monitor for newly constructed registry keys u...</td>\n",
       "      <td>[x-mitre-data-component--7f70fae7-a68d-4730-a8...</td>\n",
       "      <td>[Configure the Increase Scheduling Priority op...</td>\n",
       "      <td>[course-of-action--9bb9e696-bff8-4ae1-9454-961...</td>\n",
       "      <td>[execution, persistence, privilege-escalation]</td>\n",
       "      <td>Scheduled Task/Job</td>\n",
       "    </tr>\n",
       "  </tbody>\n",
       "</table>\n",
       "<p>2 rows × 24 columns</p>\n",
       "</div>"
      ],
      "text/plain": [
       "                                                  id  \\\n",
       "0  attack-pattern--0042a9f5-f053-4769-b3ef-9ad018...   \n",
       "1  attack-pattern--005a06c6-14bf-4118-afa0-ebcd8a...   \n",
       "\n",
       "                            name  \\\n",
       "0  Extra Window Memory Injection   \n",
       "1                 Scheduled Task   \n",
       "\n",
       "                                            sentence     labels  \\\n",
       "0  Adversaries may inject malicious code into pro...  T1055.011   \n",
       "1  Adversaries may abuse the Windows Task Schedul...  T1053.005   \n",
       "\n",
       "                                             url subtechnique  platforms  \\\n",
       "0  https://attack.mitre.org/techniques/T1055/011         True  [Windows]   \n",
       "1  https://attack.mitre.org/techniques/T1053/005         True  [Windows]   \n",
       "\n",
       "                                   kill_chain_phases  \\\n",
       "0  [{'kill_chain_name': 'mitre-attack', 'phase_na...   \n",
       "1  [{'kill_chain_name': 'mitre-attack', 'phase_na...   \n",
       "\n",
       "                    created  \\\n",
       "0  2020-01-14T17:18:32.126Z   \n",
       "1  2019-11-27T14:58:00.429Z   \n",
       "\n",
       "                                            doc_refs  ...  \\\n",
       "0  [{'url': 'https://msdn.microsoft.com/library/w...  ...   \n",
       "1  [{'source_name': 'ProofPoint Serpent', 'descri...  ...   \n",
       "\n",
       "                                 proc_software_links  \\\n",
       "0  [https://attack.mitre.org/software/S0091, http...   \n",
       "1  [https://attack.mitre.org/software/S0588, http...   \n",
       "\n",
       "                                              par_id  \\\n",
       "0  attack-pattern--43e7dc91-05b2-474c-b9ac-2ed4fe...   \n",
       "1  attack-pattern--35dd844a-b219-4e2b-a6bb-efa9a7...   \n",
       "\n",
       "                                    proc_descr_links  \\\n",
       "0  [https://recon.cx/2018/brussels/resources/slid...   \n",
       "1  [https://www.microsoft.com/security/blog/2021/...   \n",
       "\n",
       "                                          proc_descr  \\\n",
       "0  [[Epic](https://attack.mitre.org/software/S009...   \n",
       "1  [[GoldMax](https://attack.mitre.org/software/S...   \n",
       "\n",
       "                                           det_descr  \\\n",
       "0  [Monitor for API calls related to enumerating ...   \n",
       "1  [Monitor for newly constructed registry keys u...   \n",
       "\n",
       "                                       det_data_comp  \\\n",
       "0  [x-mitre-data-component--9bde2f9d-a695-4344-bf...   \n",
       "1  [x-mitre-data-component--7f70fae7-a68d-4730-a8...   \n",
       "\n",
       "                                           mit_descr  \\\n",
       "0  [Some endpoint security solutions can be confi...   \n",
       "1  [Configure the Increase Scheduling Priority op...   \n",
       "\n",
       "                                             mit_coa  \\\n",
       "0  [course-of-action--90f39ee1-d5a3-4aaa-9f28-3b4...   \n",
       "1  [course-of-action--9bb9e696-bff8-4ae1-9454-961...   \n",
       "\n",
       "                                  kill_chain_tags            par_name  \n",
       "0         [defense-evasion, privilege-escalation]   Process Injection  \n",
       "1  [execution, persistence, privilege-escalation]  Scheduled Task/Job  \n",
       "\n",
       "[2 rows x 24 columns]"
      ]
     },
     "execution_count": 75,
     "metadata": {},
     "output_type": "execute_result"
    }
   ],
   "source": [
    "mitre_df = mitre_df.merge(mitre_df[['id', 'name']].rename(columns={'id':'par_id', 'name':'par_name'}), on='par_id', how='left')\n",
    "mitre_df.head(2)"
   ]
  },
  {
   "cell_type": "code",
   "execution_count": 20,
   "metadata": {},
   "outputs": [],
   "source": [
    "mitre_df.to_csv(conf['get_data']['data_mitre_fn'], index=False)\n",
    "# import joblib\n",
    "# joblib.dump(mitre_df, '/content/drive/MyDrive/Colab Notebooks/texts/sec_bert/data/mitre_df.pkl')"
   ]
  },
  {
   "cell_type": "code",
   "execution_count": null,
   "metadata": {},
   "outputs": [],
   "source": []
  },
  {
   "cell_type": "code",
   "execution_count": null,
   "metadata": {
    "colab": {
     "base_uri": "https://localhost:8080/"
    },
    "id": "KAdLWbcDYsjS",
    "outputId": "70894bde-d5b2-46c2-8eaa-ffac2a5bc812"
   },
   "outputs": [],
   "source": []
  },
  {
   "cell_type": "markdown",
   "metadata": {
    "id": "it6m4bSfxJoV",
    "jp-MarkdownHeadingCollapsed": true
   },
   "source": [
    "### развертывание mitr"
   ]
  },
  {
   "cell_type": "code",
   "execution_count": 3,
   "metadata": {
    "id": "kcWeDjqCrasG"
   },
   "outputs": [],
   "source": [
    "import pandas as pd"
   ]
  },
  {
   "cell_type": "code",
   "execution_count": 23,
   "metadata": {},
   "outputs": [],
   "source": [
    "mitre_df = pd.read_csv(conf['get_data']['data_mitre_fn'])\n",
    "\n",
    "type_list_cols = ['platforms', 'kill_chain_phases', 'doc_refs', 'permissions', 'effective_permissions', 'data_sources', 'defense_bypassed','proc_software_links', 'proc_descr_links', 'proc_descr', 'det_descr',\n",
    "'det_data_comp', 'mit_descr', 'mit_coa', 'kill_chain_tags']\n",
    "\n",
    "for col in type_list_cols:\n",
    "    mitre_df[col] = mitre_df[col].map(lambda x: eval(x), na_action='ignore')\n",
    "\n",
    "# import joblib\n",
    "# mitre_df = joblib.load('/content/drive/MyDrive/Colab Notebooks/texts/sec_bert/data/mitre_df.pkl')\n"
   ]
  },
  {
   "cell_type": "code",
   "execution_count": null,
   "metadata": {},
   "outputs": [],
   "source": []
  },
  {
   "cell_type": "code",
   "execution_count": 28,
   "metadata": {
    "id": "-BL_W_gbvx78"
   },
   "outputs": [],
   "source": [
    "proc_df = mitre_df[['id', 'name', 'url', 'labels', 'proc_descr', 'kill_chain_tags', 'subtechnique']].explode('proc_descr')\\\n",
    "                  .rename(columns={'proc_descr':'sentence'})\\\n",
    "                  .assign(is_proc=True)\n",
    "main_descr_df = mitre_df[['id', 'name', 'url', 'labels', 'sentence', 'kill_chain_tags', 'subtechnique']].assign(is_proc=False)\n",
    "mitre_attack_df = pd.concat([main_descr_df, proc_df], ignore_index=True)"
   ]
  },
  {
   "cell_type": "code",
   "execution_count": 29,
   "metadata": {
    "collapsed": true,
    "id": "l3lCDHno0MCS",
    "jupyter": {
     "outputs_hidden": true
    }
   },
   "outputs": [
    {
     "data": {
      "text/html": [
       "<div>\n",
       "<style scoped>\n",
       "    .dataframe tbody tr th:only-of-type {\n",
       "        vertical-align: middle;\n",
       "    }\n",
       "\n",
       "    .dataframe tbody tr th {\n",
       "        vertical-align: top;\n",
       "    }\n",
       "\n",
       "    .dataframe thead th {\n",
       "        text-align: right;\n",
       "    }\n",
       "</style>\n",
       "<table border=\"1\" class=\"dataframe\">\n",
       "  <thead>\n",
       "    <tr style=\"text-align: right;\">\n",
       "      <th></th>\n",
       "      <th>id</th>\n",
       "      <th>name</th>\n",
       "      <th>url</th>\n",
       "      <th>labels</th>\n",
       "      <th>sentence</th>\n",
       "      <th>kill_chain_tags</th>\n",
       "      <th>subtechnique</th>\n",
       "      <th>is_proc</th>\n",
       "    </tr>\n",
       "  </thead>\n",
       "  <tbody>\n",
       "    <tr>\n",
       "      <th>0</th>\n",
       "      <td>attack-pattern--0042a9f5-f053-4769-b3ef-9ad018...</td>\n",
       "      <td>Extra Window Memory Injection</td>\n",
       "      <td>https://attack.mitre.org/techniques/T1055/011</td>\n",
       "      <td>T1055.011</td>\n",
       "      <td>Adversaries may inject malicious code into pro...</td>\n",
       "      <td>[defense-evasion, privilege-escalation]</td>\n",
       "      <td>True</td>\n",
       "      <td>False</td>\n",
       "    </tr>\n",
       "    <tr>\n",
       "      <th>1</th>\n",
       "      <td>attack-pattern--005a06c6-14bf-4118-afa0-ebcd8a...</td>\n",
       "      <td>Scheduled Task</td>\n",
       "      <td>https://attack.mitre.org/techniques/T1053/005</td>\n",
       "      <td>T1053.005</td>\n",
       "      <td>Adversaries may abuse the Windows Task Schedul...</td>\n",
       "      <td>[execution, persistence, privilege-escalation]</td>\n",
       "      <td>True</td>\n",
       "      <td>False</td>\n",
       "    </tr>\n",
       "  </tbody>\n",
       "</table>\n",
       "</div>"
      ],
      "text/plain": [
       "                                                  id  \\\n",
       "0  attack-pattern--0042a9f5-f053-4769-b3ef-9ad018...   \n",
       "1  attack-pattern--005a06c6-14bf-4118-afa0-ebcd8a...   \n",
       "\n",
       "                            name  \\\n",
       "0  Extra Window Memory Injection   \n",
       "1                 Scheduled Task   \n",
       "\n",
       "                                             url     labels  \\\n",
       "0  https://attack.mitre.org/techniques/T1055/011  T1055.011   \n",
       "1  https://attack.mitre.org/techniques/T1053/005  T1053.005   \n",
       "\n",
       "                                            sentence  \\\n",
       "0  Adversaries may inject malicious code into pro...   \n",
       "1  Adversaries may abuse the Windows Task Schedul...   \n",
       "\n",
       "                                  kill_chain_tags  subtechnique  is_proc  \n",
       "0         [defense-evasion, privilege-escalation]          True    False  \n",
       "1  [execution, persistence, privilege-escalation]          True    False  "
      ]
     },
     "execution_count": 29,
     "metadata": {},
     "output_type": "execute_result"
    }
   ],
   "source": [
    "# удаляем строки, где процедуры не было совсем\n",
    "mitre_attack_df = mitre_attack_df[~mitre_attack_df['sentence'].isna()].reset_index(drop=True)\n",
    "\n",
    "\n",
    "# удалим ссылочки\n",
    "mitre_attack_df['sentence'] = mitre_attack_df['sentence'].str.replace(r'\\(https://[^\\s]{1,}\\)', r'', regex=True)\n",
    "mitre_attack_df.head(2)"
   ]
  },
  {
   "cell_type": "code",
   "execution_count": 30,
   "metadata": {
    "id": "uQ4--W6tt1CV"
   },
   "outputs": [],
   "source": [
    "label2tactic = mitre_attack_df.set_index('labels')['kill_chain_tags'].to_dict()"
   ]
  },
  {
   "cell_type": "markdown",
   "metadata": {
    "id": "Yo7kb1y02mmQ"
   },
   "source": []
  },
  {
   "cell_type": "markdown",
   "metadata": {
    "id": "z26evyiDuksY",
    "jp-MarkdownHeadingCollapsed": true
   },
   "source": [
    "#### dumps"
   ]
  },
  {
   "cell_type": "code",
   "execution_count": 33,
   "metadata": {},
   "outputs": [],
   "source": [
    "import json\n",
    "\n",
    "with open(conf['get_data']['label2tactic_fn'], 'wt') as f_wr:\n",
    "    json.dump(label2tactic, f_wr)\n",
    "# joblib.dump(label2tactic, '/content/drive/MyDrive/Colab Notebooks/texts/sec_bert/data/label2tactic.pkl')"
   ]
  },
  {
   "cell_type": "code",
   "execution_count": null,
   "metadata": {},
   "outputs": [],
   "source": []
  },
  {
   "cell_type": "code",
   "execution_count": null,
   "metadata": {},
   "outputs": [],
   "source": [
    "mitre_attack_df[['sentence', 'labels', 'url']].to_csv(conf['get_data']['data_mitre_attack_proc_fn'], index=False)\n",
    "\n",
    "# joblib.dump(mitre_attack_df[['sentence', 'labels']]\\\n",
    "#         .assign(labels = mitre_attack_df['labels'].map(lambda x:[x])), '/content/drive/MyDrive/Colab Notebooks/texts/sec_bert/data/mitre_source.pkl')"
   ]
  },
  {
   "cell_type": "code",
   "execution_count": null,
   "metadata": {},
   "outputs": [],
   "source": []
  },
  {
   "cell_type": "code",
   "execution_count": 40,
   "metadata": {
    "colab": {
     "base_uri": "https://localhost:8080/"
    },
    "collapsed": true,
    "id": "bGG2TFqNuHde",
    "jupyter": {
     "outputs_hidden": true
    },
    "outputId": "297e227b-b4de-4323-8c5c-a74ad05a688d"
   },
   "outputs": [
    {
     "data": {
      "text/html": [
       "<div>\n",
       "<style scoped>\n",
       "    .dataframe tbody tr th:only-of-type {\n",
       "        vertical-align: middle;\n",
       "    }\n",
       "\n",
       "    .dataframe tbody tr th {\n",
       "        vertical-align: top;\n",
       "    }\n",
       "\n",
       "    .dataframe thead th {\n",
       "        text-align: right;\n",
       "    }\n",
       "</style>\n",
       "<table border=\"1\" class=\"dataframe\">\n",
       "  <thead>\n",
       "    <tr style=\"text-align: right;\">\n",
       "      <th></th>\n",
       "      <th>sentence</th>\n",
       "      <th>labels</th>\n",
       "      <th>url</th>\n",
       "    </tr>\n",
       "  </thead>\n",
       "  <tbody>\n",
       "    <tr>\n",
       "      <th>0</th>\n",
       "      <td>Adversaries may inject malicious code into pro...</td>\n",
       "      <td>[T1055.011]</td>\n",
       "      <td>https://attack.mitre.org/techniques/T1055/011</td>\n",
       "    </tr>\n",
       "    <tr>\n",
       "      <th>1</th>\n",
       "      <td>Adversaries may abuse the Windows Task Schedul...</td>\n",
       "      <td>[T1053.005]</td>\n",
       "      <td>https://attack.mitre.org/techniques/T1053/005</td>\n",
       "    </tr>\n",
       "    <tr>\n",
       "      <th>2</th>\n",
       "      <td>Adversaries may attach filters to a network so...</td>\n",
       "      <td>[T1205.002]</td>\n",
       "      <td>https://attack.mitre.org/techniques/T1205/002</td>\n",
       "    </tr>\n",
       "    <tr>\n",
       "      <th>3</th>\n",
       "      <td>Adversaries may use utilities to compress and/...</td>\n",
       "      <td>[T1560.001]</td>\n",
       "      <td>https://attack.mitre.org/techniques/T1560/001</td>\n",
       "    </tr>\n",
       "    <tr>\n",
       "      <th>4</th>\n",
       "      <td>Adversaries may use [Valid Accounts] to remote...</td>\n",
       "      <td>[T1021.005]</td>\n",
       "      <td>https://attack.mitre.org/techniques/T1021/005</td>\n",
       "    </tr>\n",
       "    <tr>\n",
       "      <th>...</th>\n",
       "      <td>...</td>\n",
       "      <td>...</td>\n",
       "      <td>...</td>\n",
       "    </tr>\n",
       "    <tr>\n",
       "      <th>14353</th>\n",
       "      <td>[DustySky] can shutdown the infected machine.(...</td>\n",
       "      <td>[T1529]</td>\n",
       "      <td>https://attack.mitre.org/techniques/T1529</td>\n",
       "    </tr>\n",
       "    <tr>\n",
       "      <th>14354</th>\n",
       "      <td>[Cobalt Strike] can use spoof arguments in spa...</td>\n",
       "      <td>[T1564.010]</td>\n",
       "      <td>https://attack.mitre.org/techniques/T1564/010</td>\n",
       "    </tr>\n",
       "    <tr>\n",
       "      <th>14355</th>\n",
       "      <td>[SombRAT] has the ability to modify its proces...</td>\n",
       "      <td>[T1564.010]</td>\n",
       "      <td>https://attack.mitre.org/techniques/T1564/010</td>\n",
       "    </tr>\n",
       "    <tr>\n",
       "      <th>14356</th>\n",
       "      <td>[Blue Mockingbird] has used wmic.exe and Windo...</td>\n",
       "      <td>[T1574.012]</td>\n",
       "      <td>https://attack.mitre.org/techniques/T1574/012</td>\n",
       "    </tr>\n",
       "    <tr>\n",
       "      <th>14357</th>\n",
       "      <td>[DarkTortilla] can detect profilers by verifyi...</td>\n",
       "      <td>[T1574.012]</td>\n",
       "      <td>https://attack.mitre.org/techniques/T1574/012</td>\n",
       "    </tr>\n",
       "  </tbody>\n",
       "</table>\n",
       "<p>14358 rows × 3 columns</p>\n",
       "</div>"
      ],
      "text/plain": [
       "                                                sentence       labels  \\\n",
       "0      Adversaries may inject malicious code into pro...  [T1055.011]   \n",
       "1      Adversaries may abuse the Windows Task Schedul...  [T1053.005]   \n",
       "2      Adversaries may attach filters to a network so...  [T1205.002]   \n",
       "3      Adversaries may use utilities to compress and/...  [T1560.001]   \n",
       "4      Adversaries may use [Valid Accounts] to remote...  [T1021.005]   \n",
       "...                                                  ...          ...   \n",
       "14353  [DustySky] can shutdown the infected machine.(...      [T1529]   \n",
       "14354  [Cobalt Strike] can use spoof arguments in spa...  [T1564.010]   \n",
       "14355  [SombRAT] has the ability to modify its proces...  [T1564.010]   \n",
       "14356  [Blue Mockingbird] has used wmic.exe and Windo...  [T1574.012]   \n",
       "14357  [DarkTortilla] can detect profilers by verifyi...  [T1574.012]   \n",
       "\n",
       "                                                 url  \n",
       "0      https://attack.mitre.org/techniques/T1055/011  \n",
       "1      https://attack.mitre.org/techniques/T1053/005  \n",
       "2      https://attack.mitre.org/techniques/T1205/002  \n",
       "3      https://attack.mitre.org/techniques/T1560/001  \n",
       "4      https://attack.mitre.org/techniques/T1021/005  \n",
       "...                                              ...  \n",
       "14353      https://attack.mitre.org/techniques/T1529  \n",
       "14354  https://attack.mitre.org/techniques/T1564/010  \n",
       "14355  https://attack.mitre.org/techniques/T1564/010  \n",
       "14356  https://attack.mitre.org/techniques/T1574/012  \n",
       "14357  https://attack.mitre.org/techniques/T1574/012  \n",
       "\n",
       "[14358 rows x 3 columns]"
      ]
     },
     "execution_count": 40,
     "metadata": {},
     "output_type": "execute_result"
    }
   ],
   "source": [
    "mitre_attack_df = pd.read_csv(conf['get_data']['data_mitre_attack_proc_fn'])\\\n",
    "                    .assign(labels = mitre_attack_df['labels'].map(lambda x:[x]))\n",
    "mitre_attack_df"
   ]
  },
  {
   "cell_type": "code",
   "execution_count": 34,
   "metadata": {},
   "outputs": [],
   "source": [
    "with open(conf['get_data']['label2tactic_fn'], 'rt') as f_r:\n",
    "    label2tactic = json.load(f_r)"
   ]
  },
  {
   "cell_type": "markdown",
   "metadata": {
    "id": "2jpLl-SPO_0r",
    "jp-MarkdownHeadingCollapsed": true
   },
   "source": [
    "### другие файлы\n"
   ]
  },
  {
   "cell_type": "code",
   "execution_count": 21,
   "metadata": {
    "id": "qQ5lwrqOfj-E"
   },
   "outputs": [],
   "source": [
    "import pandas as pd\n",
    "import joblib\n",
    "import numpy as np"
   ]
  },
  {
   "cell_type": "code",
   "execution_count": 27,
   "metadata": {
    "id": "bxI2nm2PPCIY"
   },
   "outputs": [
    {
     "data": {
      "text/plain": [
       "False"
      ]
     },
     "execution_count": 27,
     "metadata": {},
     "output_type": "execute_result"
    }
   ],
   "source": []
  },
  {
   "cell_type": "markdown",
   "metadata": {
    "id": "2jpLl-SPO_0r",
    "jp-MarkdownHeadingCollapsed": true
   },
   "source": [
    "#### tram\n"
   ]
  },
  {
   "cell_type": "code",
   "execution_count": 30,
   "metadata": {
    "collapsed": true,
    "id": "FEohRXbr5Lu9",
    "jupyter": {
     "outputs_hidden": true
    }
   },
   "outputs": [
    {
     "data": {
      "text/html": [
       "<div>\n",
       "<style scoped>\n",
       "    .dataframe tbody tr th:only-of-type {\n",
       "        vertical-align: middle;\n",
       "    }\n",
       "\n",
       "    .dataframe tbody tr th {\n",
       "        vertical-align: top;\n",
       "    }\n",
       "\n",
       "    .dataframe thead th {\n",
       "        text-align: right;\n",
       "    }\n",
       "</style>\n",
       "<table border=\"1\" class=\"dataframe\">\n",
       "  <thead>\n",
       "    <tr style=\"text-align: right;\">\n",
       "      <th></th>\n",
       "      <th>sentence</th>\n",
       "      <th>labels</th>\n",
       "    </tr>\n",
       "  </thead>\n",
       "  <tbody>\n",
       "    <tr>\n",
       "      <th>0</th>\n",
       "      <td>title: NotPetya Technical Analysis – A Triple ...</td>\n",
       "      <td>[]</td>\n",
       "    </tr>\n",
       "    <tr>\n",
       "      <th>1</th>\n",
       "      <td>Executive Summary This technical analysis prov...</td>\n",
       "      <td>[]</td>\n",
       "    </tr>\n",
       "    <tr>\n",
       "      <th>2</th>\n",
       "      <td>For more information on CrowdStrike’s proactiv...</td>\n",
       "      <td>[]</td>\n",
       "    </tr>\n",
       "    <tr>\n",
       "      <th>3</th>\n",
       "      <td>NotPetya combines ransomware with the ability ...</td>\n",
       "      <td>[]</td>\n",
       "    </tr>\n",
       "    <tr>\n",
       "      <th>4</th>\n",
       "      <td>It spreads to Microsoft Windows machines using...</td>\n",
       "      <td>[T1210]</td>\n",
       "    </tr>\n",
       "    <tr>\n",
       "      <th>...</th>\n",
       "      <td>...</td>\n",
       "      <td>...</td>\n",
       "    </tr>\n",
       "    <tr>\n",
       "      <th>19173</th>\n",
       "      <td>[2] Eclypsium Blog - TrickBot Now Offers 'Tric...</td>\n",
       "      <td>[]</td>\n",
       "    </tr>\n",
       "    <tr>\n",
       "      <th>19174</th>\n",
       "      <td>Initial Version March 24, 2021:</td>\n",
       "      <td>[]</td>\n",
       "    </tr>\n",
       "    <tr>\n",
       "      <th>19175</th>\n",
       "      <td>Added MITRE ATT&amp;CK Technique T1592.003 used fo...</td>\n",
       "      <td>[]</td>\n",
       "    </tr>\n",
       "    <tr>\n",
       "      <th>19176</th>\n",
       "      <td>Added new MITRE ATT&amp;CKs and updated Table 1</td>\n",
       "      <td>[]</td>\n",
       "    </tr>\n",
       "    <tr>\n",
       "      <th>19177</th>\n",
       "      <td>This product is provided subject to this Notif...</td>\n",
       "      <td>[]</td>\n",
       "    </tr>\n",
       "  </tbody>\n",
       "</table>\n",
       "<p>19178 rows × 2 columns</p>\n",
       "</div>"
      ],
      "text/plain": [
       "                                                sentence   labels\n",
       "0      title: NotPetya Technical Analysis – A Triple ...       []\n",
       "1      Executive Summary This technical analysis prov...       []\n",
       "2      For more information on CrowdStrike’s proactiv...       []\n",
       "3      NotPetya combines ransomware with the ability ...       []\n",
       "4      It spreads to Microsoft Windows machines using...  [T1210]\n",
       "...                                                  ...      ...\n",
       "19173  [2] Eclypsium Blog - TrickBot Now Offers 'Tric...       []\n",
       "19174                    Initial Version March 24, 2021:       []\n",
       "19175  Added MITRE ATT&CK Technique T1592.003 used fo...       []\n",
       "19176       Added new MITRE ATT&CKs and updated Table 1        []\n",
       "19177  This product is provided subject to this Notif...       []\n",
       "\n",
       "[19178 rows x 2 columns]"
      ]
     },
     "execution_count": 30,
     "metadata": {},
     "output_type": "execute_result"
    }
   ],
   "source": [
    "# tram_df = pd.read_json('/content/drive/MyDrive/Colab Notebooks/texts/sec_bert/scibert/multi_label.json').drop(columns='doc_title')\n",
    "\n",
    "\n",
    "tram_df = pd.read_json(conf['get_data']['tram_fn']).drop(columns='doc_title')\n",
    "tram_df"
   ]
  },
  {
   "cell_type": "markdown",
   "metadata": {
    "id": "2jpLl-SPO_0r",
    "jp-MarkdownHeadingCollapsed": true
   },
   "source": [
    "#### sec_bert\n"
   ]
  },
  {
   "cell_type": "code",
   "execution_count": 28,
   "metadata": {
    "id": "83uc0kH-roZC"
   },
   "outputs": [
    {
     "name": "stderr",
     "output_type": "stream",
     "text": [
      "C:\\Users\\admin\\AppData\\Local\\Temp\\ipykernel_16512\\1707112105.py:4: FutureWarning: Series.__getitem__ treating keys as positions is deprecated. In a future version, integer keys will always be treated as labels (consistent with DataFrame behavior). To access a value by position, use `ser.iloc[pos]`\n",
      "  mitr_alt_data['labels'] = mitr_alt_data[['label_subtec', 'label_tec']].apply(lambda x: list(set((x[0], x[1]))), axis=1)\n"
     ]
    }
   ],
   "source": [
    "# mitr_alt_data = pd.read_csv('/content/drive/MyDrive/Colab Notebooks/texts/sec_bert/data/dataset.txt')\n",
    "mitr_alt_data = pd.read_csv(conf['get_data']['mitre_alt_fn'])\n",
    "\n",
    "mitr_alt_data['labels'] = mitr_alt_data[['label_subtec', 'label_tec']].apply(lambda x: list(set((x[0], x[1]))), axis=1)\n",
    "mitr_alt_data = mitr_alt_data[['sentence', 'labels']]"
   ]
  },
  {
   "cell_type": "code",
   "execution_count": null,
   "metadata": {
    "colab": {
     "base_uri": "https://localhost:8080/"
    },
    "id": "vI63e29Tv_1M",
    "outputId": "ea9c22d1-c73a-4d2b-9c73-755c558f4c72"
   },
   "outputs": [],
   "source": [
    "joblib.dump(mitr_alt_data[['sentence', 'labels']], '/content/drive/MyDrive/Colab Notebooks/texts/sec_bert/data/mitre_alt.pkl')"
   ]
  },
  {
   "cell_type": "markdown",
   "metadata": {
    "id": "wdrwB36jTMiq"
   },
   "source": []
  },
  {
   "cell_type": "code",
   "execution_count": 31,
   "metadata": {
    "id": "9NSmbqjw66Lv"
   },
   "outputs": [],
   "source": [
    "if conf['get_data']['use_alt_mitre']:\n",
    "  mitr_df = mitr_alt_data\n",
    "else:\n",
    "  mitr_df = mitre_attack_df"
   ]
  },
  {
   "cell_type": "code",
   "execution_count": null,
   "metadata": {},
   "outputs": [],
   "source": []
  },
  {
   "cell_type": "code",
   "execution_count": null,
   "metadata": {
    "colab": {
     "base_uri": "https://localhost:8080/",
     "height": 181
    },
    "id": "8LHb4WWhf6b7",
    "outputId": "cfad0567-f26f-4c0c-b8e6-38fe08315925"
   },
   "outputs": [],
   "source": [
    "rep_data  = joblib.load('/content/drive/MyDrive/Colab Notebooks/texts/sec_bert/data/rep_data.pkl')\n",
    "rep_data.head(2)"
   ]
  },
  {
   "cell_type": "code",
   "execution_count": null,
   "metadata": {
    "id": "EnTDSu6k9EYT"
   },
   "outputs": [],
   "source": [
    "df = pd.concat([mitr_df, tram_df], ignore_index=True)"
   ]
  },
  {
   "cell_type": "code",
   "execution_count": null,
   "metadata": {
    "id": "HeG4Bfue-CJN"
   },
   "outputs": [],
   "source": [
    "https://attack.mitre.org/techniques/T1574/002/"
   ]
  },
  {
   "cell_type": "code",
   "execution_count": null,
   "metadata": {
    "colab": {
     "base_uri": "https://localhost:8080/",
     "height": 293
    },
    "id": "OKA397Ek5Gew",
    "outputId": "69bb857f-092f-4d38-d1a3-26dcabc1a680"
   },
   "outputs": [],
   "source": [
    "with pd.option_context('display.max_colwidth', 500):\n",
    "  display(tram_df.head())"
   ]
  },
  {
   "cell_type": "code",
   "execution_count": null,
   "metadata": {
    "id": "yTnWaBlogFBU"
   },
   "outputs": [],
   "source": [
    "df = pd.concat([df, rep_data[['sentence', 'labels']]], ignore_index=True)"
   ]
  },
  {
   "cell_type": "code",
   "execution_count": null,
   "metadata": {
    "colab": {
     "base_uri": "https://localhost:8080/"
    },
    "id": "3X6o7qlw-DiO",
    "outputId": "68910871-1d08-4075-b598-d79264200c90"
   },
   "outputs": [],
   "source": [
    "target = 'tactic'\n",
    "if target == 'tactic':\n",
    "  from itertools import chain\n",
    "  label2tactic = joblib.load('/content/drive/MyDrive/Colab Notebooks/texts/sec_bert/data/label2tactic.pkl')\n",
    "\n",
    "  df['labels'] = df['labels'].map(lambda x: list(chain(*[label2tactic[it] for it in x])))\n",
    "\n",
    "\n",
    "joblib.dump(df, '/content/drive/MyDrive/Colab Notebooks/texts/sec_bert/data/mitre_full_df.pkl')"
   ]
  },
  {
   "cell_type": "markdown",
   "metadata": {
    "id": "ZD0qthhT56qT",
    "jp-MarkdownHeadingCollapsed": true
   },
   "source": [
    "### небольшая eda"
   ]
  },
  {
   "cell_type": "code",
   "execution_count": null,
   "metadata": {
    "colab": {
     "base_uri": "https://localhost:8080/",
     "height": 335
    },
    "id": "qVvpL32K9oQD",
    "outputId": "64967fd4-8a08-4684-c915-9bbdb067b0ab"
   },
   "outputs": [],
   "source": [
    "mitre_df.head(2)"
   ]
  },
  {
   "cell_type": "code",
   "execution_count": null,
   "metadata": {
    "id": "d6wPZEF-Ao8q"
   },
   "outputs": [],
   "source": []
  },
  {
   "cell_type": "markdown",
   "metadata": {
    "id": "UgThHVuoApBm",
    "jp-MarkdownHeadingCollapsed": true
   },
   "source": [
    "#### data_sources"
   ]
  },
  {
   "cell_type": "code",
   "execution_count": null,
   "metadata": {
    "colab": {
     "base_uri": "https://localhost:8080/"
    },
    "id": "FMQUSwqjApBn",
    "outputId": "2b65e664-71a2-493b-af20-98ad823453d8"
   },
   "outputs": [],
   "source": [
    "mitre_df['data_sources'].isna().sum(), mitre_df['data_sources'].isna().mean()"
   ]
  },
  {
   "cell_type": "code",
   "execution_count": null,
   "metadata": {
    "colab": {
     "base_uri": "https://localhost:8080/"
    },
    "id": "rReOVoMvApBn",
    "outputId": "b56a12b1-4296-4786-b362-94c417d30d41"
   },
   "outputs": [],
   "source": [
    "temp_df = mitre_df.explode('data_sources')\n",
    "temp_df['data_sources'].nunique() , temp_df.shape[0], temp_df['data_sources'].nunique()/temp_df.shape[0]"
   ]
  },
  {
   "cell_type": "code",
   "execution_count": null,
   "metadata": {
    "colab": {
     "base_uri": "https://localhost:8080/"
    },
    "id": "FXMCRZuQA2R2",
    "outputId": "e5872882-493b-423c-edaa-be3034639935"
   },
   "outputs": [],
   "source": [
    "temp_df['data_sources'].duplicated().mean()"
   ]
  },
  {
   "cell_type": "markdown",
   "metadata": {
    "id": "FTGN1JD-ApBo"
   },
   "source": [
    "- Мало пропусков, 100 уникальных и почти каждая дублируется, может хорошо разделить данные"
   ]
  },
  {
   "cell_type": "markdown",
   "metadata": {
    "id": "TsmCAWk0_Tem",
    "jp-MarkdownHeadingCollapsed": true
   },
   "source": [
    "#### permissions"
   ]
  },
  {
   "cell_type": "code",
   "execution_count": null,
   "metadata": {
    "colab": {
     "base_uri": "https://localhost:8080/"
    },
    "id": "-YKfw7u9_bWI",
    "outputId": "2e0801a5-1fe1-466f-aa87-c8eeb4e7602a"
   },
   "outputs": [],
   "source": [
    "mitre_df['effective_permissions'].isna().mean(), mitre_df['permissions'].isna().mean()"
   ]
  },
  {
   "cell_type": "code",
   "execution_count": null,
   "metadata": {
    "colab": {
     "base_uri": "https://localhost:8080/"
    },
    "id": "AlmY35Rg_qF2",
    "outputId": "59540c28-c12b-441e-aaf9-e0322ac332aa"
   },
   "outputs": [],
   "source": [
    "temp_df = mitre_df.explode('permissions')\n",
    "temp_df['permissions'].nunique() , temp_df.shape[0], temp_df['permissions'].nunique()/temp_df.shape[0]"
   ]
  },
  {
   "cell_type": "markdown",
   "metadata": {
    "id": "z7RSiYnE_iHi"
   },
   "source": [
    "- Мало записей с разрешениями\n",
    "- уникальных мало, поэтому можно добавить к эмбеддингу"
   ]
  },
  {
   "cell_type": "markdown",
   "metadata": {
    "id": "KIHF14N4_T3-",
    "jp-MarkdownHeadingCollapsed": true
   },
   "source": [
    "#### defense_bypassed"
   ]
  },
  {
   "cell_type": "code",
   "execution_count": null,
   "metadata": {
    "colab": {
     "base_uri": "https://localhost:8080/"
    },
    "id": "V-zzdZztAKXZ",
    "outputId": "27429687-97b0-4161-ab45-2f0678f8cbaa"
   },
   "outputs": [],
   "source": [
    "mitre_df['defense_bypassed'].isna().sum(), mitre_df['defense_bypassed'].isna().mean()"
   ]
  },
  {
   "cell_type": "code",
   "execution_count": null,
   "metadata": {
    "colab": {
     "base_uri": "https://localhost:8080/"
    },
    "id": "UTFSW4RtAdpn",
    "outputId": "91814acf-e446-4dcc-cc4a-bc9f3bffdc7c"
   },
   "outputs": [],
   "source": [
    "temp_df = mitre_df.explode('defense_bypassed')\n",
    "temp_df['defense_bypassed'].nunique() , temp_df.shape[0], temp_df['defense_bypassed'].nunique()/temp_df.shape[0]"
   ]
  },
  {
   "cell_type": "markdown",
   "metadata": {
    "id": "oUIjVDnbAWQ0"
   },
   "source": [
    "- Мало записей с обходом защиты\n",
    "- уникальных 39, поэтому можно добавить к эмбеддингу"
   ]
  },
  {
   "cell_type": "markdown",
   "metadata": {
    "id": "Tc-0X8iX_PGU",
    "jp-MarkdownHeadingCollapsed": true
   },
   "source": [
    "#### mit coa"
   ]
  },
  {
   "cell_type": "code",
   "execution_count": null,
   "metadata": {
    "colab": {
     "base_uri": "https://localhost:8080/",
     "height": 1000
    },
    "id": "PGtbDJdTPxiO",
    "outputId": "9a68f346-7e70-4082-dacb-acf925e2b15d"
   },
   "outputs": [],
   "source": [
    "#\tmit_coa\n",
    "mitre_df.explode('mit_coa')"
   ]
  },
  {
   "cell_type": "code",
   "execution_count": null,
   "metadata": {
    "colab": {
     "base_uri": "https://localhost:8080/"
    },
    "id": "a_91NK6rQf13",
    "outputId": "e269a2a6-2971-44fa-fe38-0b391e20b336"
   },
   "outputs": [],
   "source": [
    "mitre_df.explode('mit_coa')['mit_coa'].value_counts().loc[lambda x: x==1].sum(), mitre_df.explode('mit_coa').shape[0]"
   ]
  },
  {
   "cell_type": "markdown",
   "metadata": {
    "id": "6F3kISJSHrbE",
    "jp-MarkdownHeadingCollapsed": true
   },
   "source": [
    "#### det_data_comp"
   ]
  },
  {
   "cell_type": "code",
   "execution_count": null,
   "metadata": {
    "colab": {
     "base_uri": "https://localhost:8080/"
    },
    "id": "jpe_xobVQFHg",
    "outputId": "05629950-b06e-46a2-aee0-1c934ba8305f"
   },
   "outputs": [],
   "source": [
    "mitre_df.explode('det_data_comp')['det_data_comp'].value_counts().loc[lambda x: x==1].sum(), mitre_df.explode('det_data_comp').shape[0]"
   ]
  },
  {
   "cell_type": "markdown",
   "metadata": {
    "id": "34BDTk1uHt2i",
    "jp-MarkdownHeadingCollapsed": true
   },
   "source": [
    "#### proc_descr_links"
   ]
  },
  {
   "cell_type": "code",
   "execution_count": null,
   "metadata": {
    "colab": {
     "base_uri": "https://localhost:8080/"
    },
    "id": "z4Drkkq2ImA-",
    "outputId": "83fb9cfb-b229-4efd-c106-6b68f87dd60c"
   },
   "outputs": [],
   "source": [
    "mitre_df.explode('proc_descr_links')['proc_descr_links'].value_counts().loc[lambda x: x==1].sum(), mitre_df.explode('proc_descr_links').shape[0]"
   ]
  },
  {
   "cell_type": "markdown",
   "metadata": {
    "id": "a6J7XDLowcDu"
   },
   "source": [
    "proc_descr_links содержит дубли если шо"
   ]
  },
  {
   "cell_type": "markdown",
   "metadata": {
    "id": "t2I9s5SpHwD_",
    "jp-MarkdownHeadingCollapsed": true
   },
   "source": [
    "#### proc_software_links"
   ]
  },
  {
   "cell_type": "code",
   "execution_count": null,
   "metadata": {
    "colab": {
     "base_uri": "https://localhost:8080/"
    },
    "id": "BPmf89k59tpt",
    "outputId": "66ed6c38-2c79-4af9-c500-25559417fe51"
   },
   "outputs": [],
   "source": [
    "# столько ссылок software встречаются однократно\n",
    "mitre_df.explode('proc_software_links')['proc_software_links'].value_counts().loc[lambda x: x==1].sum()/mitre_df.explode('proc_software_links').shape[0]"
   ]
  },
  {
   "cell_type": "code",
   "execution_count": null,
   "metadata": {
    "colab": {
     "base_uri": "https://localhost:8080/"
    },
    "id": "Ftv2xOll97Us",
    "outputId": "2632319f-ca57-470b-c0d4-de41081fab2f"
   },
   "outputs": [],
   "source": [
    "mitre_df.explode('proc_software_links')['proc_software_links'].nunique(), mitre_df.explode('proc_software_links').shape[0]"
   ]
  },
  {
   "cell_type": "markdown",
   "metadata": {
    "id": "H1vmbbHbHykI",
    "jp-MarkdownHeadingCollapsed": true
   },
   "source": [
    "#### doc_refs"
   ]
  },
  {
   "cell_type": "code",
   "execution_count": null,
   "metadata": {
    "colab": {
     "base_uri": "https://localhost:8080/"
    },
    "id": "9IF2-niF6dQj",
    "outputId": "217dc08c-d32e-4c1a-bf60-01a584ad54f8"
   },
   "outputs": [],
   "source": [
    "# столько ссылок встречаются однократно\n",
    "mitre_df.explode('doc_refs')['doc_refs'].value_counts().loc[lambda x: x==1].sum()/mitre_df.explode('doc_refs').shape[0], mitre_df.explode('doc_refs').shape[0]"
   ]
  },
  {
   "cell_type": "code",
   "execution_count": null,
   "metadata": {
    "colab": {
     "base_uri": "https://localhost:8080/"
    },
    "id": "RfqReVi96McQ",
    "outputId": "4311853b-c02e-467b-f62d-45c4ec5682b4"
   },
   "outputs": [],
   "source": [
    "mitre_df['platforms'].explode().unique()"
   ]
  },
  {
   "cell_type": "code",
   "execution_count": null,
   "metadata": {
    "colab": {
     "base_uri": "https://localhost:8080/"
    },
    "id": "9WcXGDeg3VQF",
    "outputId": "49eede90-2c4e-4e60-f844-b9a556c49e39"
   },
   "outputs": [],
   "source": [
    "mitre_df['kill_chain_tags'].explode().unique()"
   ]
  },
  {
   "cell_type": "code",
   "execution_count": null,
   "metadata": {
    "colab": {
     "base_uri": "https://localhost:8080/",
     "height": 266
    },
    "id": "WEJRa87JAB_3",
    "outputId": "761d511b-6e0a-4155-9180-2ef7183e89c2"
   },
   "outputs": [],
   "source": [
    "# где пусто, там пустые списки\n",
    "for col in ['proc_software_links', 'det_data_comp', 'mit_coa', 'proc_descr_links', 'doc_refs', 'platforms', 'kill_chain_tags']:\n",
    "\n",
    "  display(mitre_df[mitre_df[col].map(lambda x: (len(x)==0) & (not isinstance(x, list)))])"
   ]
  },
  {
   "cell_type": "markdown",
   "metadata": {
    "id": "WfNFvhdEIVkf"
   },
   "source": [
    "- doc_refs немного, но повторения встречаютс только для половины\n",
    "- proc_software_links в 10 раз больше, повторяются почти все\n",
    "- proc_descr_links около 18 тыс. записей,\n",
    "- det_data_comp, mit_coa поменьше можно\n",
    "\n",
    "включаем в общий датасет пока proc_software_links, det_data_comp, mit_coa  и сцепляем. platforms и kill_chain_tags можно потом добавить one hot"
   ]
  },
  {
   "cell_type": "markdown",
   "metadata": {
    "id": "lkWDSoz1xNod",
    "jp-MarkdownHeadingCollapsed": true
   },
   "source": [
    "#### subtechnique"
   ]
  },
  {
   "cell_type": "code",
   "execution_count": null,
   "metadata": {
    "id": "1KOWUQDpxQ4a"
   },
   "outputs": [],
   "source": []
  },
  {
   "cell_type": "code",
   "execution_count": null,
   "metadata": {
    "colab": {
     "base_uri": "https://localhost:8080/"
    },
    "id": "SepvpNCNre04",
    "outputId": "8bb84ab4-f987-4dbc-a879-6520c57a1921"
   },
   "outputs": [],
   "source": [
    "mitre_attack_df.loc[(mitre_attack_df.subtechnique!=True), 'labels'].str.len().describe()"
   ]
  },
  {
   "cell_type": "code",
   "execution_count": null,
   "metadata": {
    "colab": {
     "base_uri": "https://localhost:8080/"
    },
    "id": "ZHCBKnpFxHVH",
    "outputId": "90227452-1fa7-4f2f-f1da-1aed9b420613"
   },
   "outputs": [],
   "source": [
    "mitre_attack_df.loc[(mitre_attack_df.subtechnique==True), 'labels'].str.len().describe()"
   ]
  },
  {
   "cell_type": "markdown",
   "metadata": {
    "id": "LUg1zBpp6EUC",
    "jp-MarkdownHeadingCollapsed": true
   },
   "source": [
    "### после вытягивания процедур"
   ]
  },
  {
   "cell_type": "code",
   "execution_count": null,
   "metadata": {
    "id": "e_yEZMzejmF7"
   },
   "outputs": [],
   "source": [
    "mitre_df['descr_links'] = mitre_df['sentence'].str.findall('\\((https://[^\\s]{1,})\\)')"
   ]
  },
  {
   "cell_type": "code",
   "execution_count": null,
   "metadata": {
    "colab": {
     "base_uri": "https://localhost:8080/",
     "height": 944
    },
    "id": "231x5N58jmGK",
    "outputId": "aa62b36f-ff78-4f91-af1c-77fac3730804"
   },
   "outputs": [],
   "source": [
    "mitre_df['sentence'] = mitre_df['sentence'].str.replace(r'\\(https://[^\\s]{1,}\\)', r'', regex=True)\n",
    "mitre_df"
   ]
  },
  {
   "cell_type": "code",
   "execution_count": null,
   "metadata": {
    "id": "lEtyui97CZy4"
   },
   "outputs": [],
   "source": []
  },
  {
   "cell_type": "code",
   "execution_count": null,
   "metadata": {
    "colab": {
     "base_uri": "https://localhost:8080/",
     "height": 303
    },
    "id": "O2p7iZt1NS2K",
    "outputId": "6d7f196a-db1b-42b7-c83b-10156d717358"
   },
   "outputs": [],
   "source": [
    "with pd.option_context('display.max_colwidth', 400):\n",
    "  display(mitre_df.query('sentence.str.contains(\"Binary padding effectively changes\")'))"
   ]
  },
  {
   "cell_type": "code",
   "execution_count": null,
   "metadata": {
    "colab": {
     "base_uri": "https://localhost:8080/",
     "height": 1000
    },
    "id": "aUumxMSj_qYq",
    "outputId": "f7c13daf-8b66-4417-cdb8-2771589b5e36"
   },
   "outputs": [],
   "source": [
    "with pd.option_context('display.max_colwidth', 400):\n",
    "  display(mitre_df.query('id==\"attack-pattern--5bfccc3f-2326-4112-86cc-c1ece9d8a2b5\"'))"
   ]
  },
  {
   "cell_type": "markdown",
   "metadata": {
    "id": "KSXmQVZfNM7C"
   },
   "source": [
    "у кого нет процедур, возможно, ссылаются на другие атаки, у кого есть"
   ]
  },
  {
   "cell_type": "markdown",
   "metadata": {
    "id": "YaaZCR7w7SbA",
    "jp-MarkdownHeadingCollapsed": true
   },
   "source": [
    "## Проблемы"
   ]
  },
  {
   "cell_type": "markdown",
   "metadata": {
    "id": "tEfDaniD7UvJ",
    "jp-MarkdownHeadingCollapsed": true
   },
   "source": [
    "### одинаковое описание разные атаки"
   ]
  },
  {
   "cell_type": "markdown",
   "metadata": {
    "id": "JYfoxSX07T4E"
   },
   "source": [
    "- https://attack.mitre.org/techniques/T1009\n",
    "- https://attack.mitre.org/techniques/T1027.001"
   ]
  },
  {
   "cell_type": "markdown",
   "metadata": {
    "id": "EFA147SV7jfM"
   },
   "source": [
    "удалим почти дубли, надо подумать как"
   ]
  },
  {
   "cell_type": "markdown",
   "metadata": {
    "id": "lhPU_rqK78Js",
    "jp-MarkdownHeadingCollapsed": true
   },
   "source": [
    "### на сайте чего-то нет, но есть в данных (правильно?)"
   ]
  },
  {
   "cell_type": "markdown",
   "metadata": {
    "id": "7gpgnDFI7-v7"
   },
   "source": [
    "- некоторые примеры процедур почему-то на сайте не отображаются\n",
    "  - [пример](https://attack.mitre.org/techniques/T1189/), а в ссылках есть (it['relationship_type']=='uses' с id атаки) и [тут](https://service.securitm.ru/mitre/techniques/T1189)"
   ]
  },
  {
   "cell_type": "markdown",
   "metadata": {
    "id": "Nx34_URo8JW3",
    "jp-MarkdownHeadingCollapsed": true
   },
   "source": [
    "### нет процедур"
   ]
  },
  {
   "cell_type": "markdown",
   "metadata": {
    "id": "mJeNzWNf8MfX"
   },
   "source": [
    "- хотя ссылаются на другие атаки\n",
    "  - https://attack.mitre.org/techniques/T1066\n",
    "  T1067"
   ]
  },
  {
   "cell_type": "code",
   "execution_count": null,
   "metadata": {
    "colab": {
     "base_uri": "https://localhost:8080/",
     "height": 147
    },
    "id": "fHA1hSVFrMHr",
    "outputId": "3318eae9-b326-4a01-caf5-753d3ac00db4"
   },
   "outputs": [],
   "source": [
    "mitre_df.query('labels.isin([\"T1027.005\", \"T1066\"])')[['name', 'id', 'url', 'mit_coa', 'kill_chain_tags']]"
   ]
  },
  {
   "cell_type": "markdown",
   "metadata": {
    "id": "j_UK-DOgxbX2"
   },
   "source": [
    "Одна запись ссылается на другую при этом у них разные mit_coa"
   ]
  },
  {
   "cell_type": "markdown",
   "metadata": {
    "id": "qIfnyyK-a9hN"
   },
   "source": [
    "- как оценить похожесть текстов"
   ]
  },
  {
   "cell_type": "markdown",
   "metadata": {
    "id": "bn_YtJqJo5hU",
    "jp-MarkdownHeadingCollapsed": true
   },
   "source": [
    "## найдем похожие атаки"
   ]
  },
  {
   "cell_type": "markdown",
   "metadata": {
    "id": "un4FPNzyo8P1"
   },
   "source": [
    "- по разделу\n",
    "- по общим сссылкам\n",
    "- по общим описаниям"
   ]
  },
  {
   "cell_type": "markdown",
   "metadata": {
    "id": "11tusJ8HAZvp",
    "jp-MarkdownHeadingCollapsed": true
   },
   "source": [
    "# tram"
   ]
  },
  {
   "cell_type": "code",
   "execution_count": 2,
   "metadata": {},
   "outputs": [],
   "source": [
    "import pandas as pd"
   ]
  },
  {
   "cell_type": "code",
   "execution_count": 24,
   "metadata": {
    "colab": {
     "base_uri": "https://localhost:8080/",
     "height": 424
    },
    "id": "MtSE38Fq3_n1",
    "outputId": "a753b1d7-0db3-473c-92f5-8ffc58fdae3e"
   },
   "outputs": [
    {
     "data": {
      "text/html": [
       "<div>\n",
       "<style scoped>\n",
       "    .dataframe tbody tr th:only-of-type {\n",
       "        vertical-align: middle;\n",
       "    }\n",
       "\n",
       "    .dataframe tbody tr th {\n",
       "        vertical-align: top;\n",
       "    }\n",
       "\n",
       "    .dataframe thead th {\n",
       "        text-align: right;\n",
       "    }\n",
       "</style>\n",
       "<table border=\"1\" class=\"dataframe\">\n",
       "  <thead>\n",
       "    <tr style=\"text-align: right;\">\n",
       "      <th></th>\n",
       "      <th>sentence</th>\n",
       "      <th>labels</th>\n",
       "      <th>doc_title</th>\n",
       "    </tr>\n",
       "  </thead>\n",
       "  <tbody>\n",
       "    <tr>\n",
       "      <th>0</th>\n",
       "      <td>title: NotPetya Technical Analysis – A Triple ...</td>\n",
       "      <td>[]</td>\n",
       "      <td>NotPetya Technical Analysis – A Triple Threat:...</td>\n",
       "    </tr>\n",
       "    <tr>\n",
       "      <th>1</th>\n",
       "      <td>Executive Summary This technical analysis prov...</td>\n",
       "      <td>[]</td>\n",
       "      <td>NotPetya Technical Analysis – A Triple Threat:...</td>\n",
       "    </tr>\n",
       "    <tr>\n",
       "      <th>2</th>\n",
       "      <td>For more information on CrowdStrike’s proactiv...</td>\n",
       "      <td>[]</td>\n",
       "      <td>NotPetya Technical Analysis – A Triple Threat:...</td>\n",
       "    </tr>\n",
       "    <tr>\n",
       "      <th>3</th>\n",
       "      <td>NotPetya combines ransomware with the ability ...</td>\n",
       "      <td>[]</td>\n",
       "      <td>NotPetya Technical Analysis – A Triple Threat:...</td>\n",
       "    </tr>\n",
       "    <tr>\n",
       "      <th>4</th>\n",
       "      <td>It spreads to Microsoft Windows machines using...</td>\n",
       "      <td>[T1210]</td>\n",
       "      <td>NotPetya Technical Analysis – A Triple Threat:...</td>\n",
       "    </tr>\n",
       "    <tr>\n",
       "      <th>...</th>\n",
       "      <td>...</td>\n",
       "      <td>...</td>\n",
       "      <td>...</td>\n",
       "    </tr>\n",
       "    <tr>\n",
       "      <th>19173</th>\n",
       "      <td>[2] Eclypsium Blog - TrickBot Now Offers 'Tric...</td>\n",
       "      <td>[]</td>\n",
       "      <td>AA21-076A: TrickBot Malware</td>\n",
       "    </tr>\n",
       "    <tr>\n",
       "      <th>19174</th>\n",
       "      <td>Initial Version March 24, 2021:</td>\n",
       "      <td>[]</td>\n",
       "      <td>AA21-076A: TrickBot Malware</td>\n",
       "    </tr>\n",
       "    <tr>\n",
       "      <th>19175</th>\n",
       "      <td>Added MITRE ATT&amp;CK Technique T1592.003 used fo...</td>\n",
       "      <td>[]</td>\n",
       "      <td>AA21-076A: TrickBot Malware</td>\n",
       "    </tr>\n",
       "    <tr>\n",
       "      <th>19176</th>\n",
       "      <td>Added new MITRE ATT&amp;CKs and updated Table 1</td>\n",
       "      <td>[]</td>\n",
       "      <td>AA21-076A: TrickBot Malware</td>\n",
       "    </tr>\n",
       "    <tr>\n",
       "      <th>19177</th>\n",
       "      <td>This product is provided subject to this Notif...</td>\n",
       "      <td>[]</td>\n",
       "      <td>AA21-076A: TrickBot Malware</td>\n",
       "    </tr>\n",
       "  </tbody>\n",
       "</table>\n",
       "<p>19178 rows × 3 columns</p>\n",
       "</div>"
      ],
      "text/plain": [
       "                                                sentence   labels  \\\n",
       "0      title: NotPetya Technical Analysis – A Triple ...       []   \n",
       "1      Executive Summary This technical analysis prov...       []   \n",
       "2      For more information on CrowdStrike’s proactiv...       []   \n",
       "3      NotPetya combines ransomware with the ability ...       []   \n",
       "4      It spreads to Microsoft Windows machines using...  [T1210]   \n",
       "...                                                  ...      ...   \n",
       "19173  [2] Eclypsium Blog - TrickBot Now Offers 'Tric...       []   \n",
       "19174                    Initial Version March 24, 2021:       []   \n",
       "19175  Added MITRE ATT&CK Technique T1592.003 used fo...       []   \n",
       "19176       Added new MITRE ATT&CKs and updated Table 1        []   \n",
       "19177  This product is provided subject to this Notif...       []   \n",
       "\n",
       "                                               doc_title  \n",
       "0      NotPetya Technical Analysis – A Triple Threat:...  \n",
       "1      NotPetya Technical Analysis – A Triple Threat:...  \n",
       "2      NotPetya Technical Analysis – A Triple Threat:...  \n",
       "3      NotPetya Technical Analysis – A Triple Threat:...  \n",
       "4      NotPetya Technical Analysis – A Triple Threat:...  \n",
       "...                                                  ...  \n",
       "19173                        AA21-076A: TrickBot Malware  \n",
       "19174                        AA21-076A: TrickBot Malware  \n",
       "19175                        AA21-076A: TrickBot Malware  \n",
       "19176                        AA21-076A: TrickBot Malware  \n",
       "19177                        AA21-076A: TrickBot Malware  \n",
       "\n",
       "[19178 rows x 3 columns]"
      ]
     },
     "execution_count": 24,
     "metadata": {},
     "output_type": "execute_result"
    }
   ],
   "source": [
    "tram_data = pd.read_json(conf['get_data']['tram_fn'])\n",
    "tram_data"
   ]
  },
  {
   "cell_type": "code",
   "execution_count": null,
   "metadata": {
    "colab": {
     "base_uri": "https://localhost:8080/",
     "height": 615
    },
    "id": "vj8NVqU_knfG",
    "outputId": "11fa74e5-8c90-480d-e180-cd0a0d8c7490"
   },
   "outputs": [],
   "source": [
    "data = pd.read_csv('/content/drive/MyDrive/Colab Notebooks/texts/sec_bert/data/data_df.csv')\n",
    "data['labels'] = data['labels'].map(lambda x: eval(x))\n",
    "data"
   ]
  },
  {
   "cell_type": "code",
   "execution_count": null,
   "metadata": {
    "colab": {
     "base_uri": "https://localhost:8080/",
     "height": 53
    },
    "id": "i45x9uRsWQNj",
    "outputId": "c2112cd1-e826-49c6-9ba5-28dbc15ab14d"
   },
   "outputs": [],
   "source": [
    "data[data['labels'].map(lambda x: 'T1027.005' in x)]"
   ]
  },
  {
   "cell_type": "code",
   "execution_count": null,
   "metadata": {
    "colab": {
     "base_uri": "https://localhost:8080/",
     "height": 676
    },
    "id": "NOAyDrmqXGgT",
    "outputId": "27f31e88-27ea-40f6-a876-c9777de4fa78"
   },
   "outputs": [],
   "source": [
    "mitr_data[mitr_data['labels'].map(lambda x: 'T1027.005' in x)]"
   ]
  },
  {
   "cell_type": "markdown",
   "metadata": {
    "id": "kmSVlFghVXkr",
    "jp-MarkdownHeadingCollapsed": true
   },
   "source": [
    "# sec bert\n"
   ]
  },
  {
   "cell_type": "code",
   "execution_count": null,
   "metadata": {
    "id": "83uc0kH-roZC"
   },
   "outputs": [],
   "source": [
    "mitr_data = pd.read_csv('/content/drive/MyDrive/Colab Notebooks/texts/sec_bert/data/dataset.txt')\n",
    "mitr_data['labels'] = mitr_data[['label_subtec', 'label_tec']].apply(lambda x: list(set((x[0], x[1]))), axis=1)\n",
    "mitr_data = mitr_data[['sentence', 'labels']]"
   ]
  },
  {
   "cell_type": "code",
   "execution_count": null,
   "metadata": {
    "colab": {
     "base_uri": "https://localhost:8080/"
    },
    "id": "vI63e29Tv_1M",
    "outputId": "ea9c22d1-c73a-4d2b-9c73-755c558f4c72"
   },
   "outputs": [],
   "source": [
    "joblib.dump(mitr_data[['sentence', 'labels']], '/content/drive/MyDrive/Colab Notebooks/texts/sec_bert/data/mitre_alt.pkl')"
   ]
  }
 ],
 "metadata": {
  "colab": {
   "collapsed_sections": [
    "KIHF14N4_T3-"
   ],
   "provenance": [],
   "toc_visible": true
  },
  "kernelspec": {
   "display_name": "pytorch_env",
   "language": "python",
   "name": "pytorch_env"
  },
  "language_info": {
   "codemirror_mode": {
    "name": "ipython",
    "version": 3
   },
   "file_extension": ".py",
   "mimetype": "text/x-python",
   "name": "python",
   "nbconvert_exporter": "python",
   "pygments_lexer": "ipython3",
   "version": "3.10.14"
  }
 },
 "nbformat": 4,
 "nbformat_minor": 4
}
