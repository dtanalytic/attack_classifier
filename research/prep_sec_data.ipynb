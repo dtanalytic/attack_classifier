{
 "cells": [
  {
   "cell_type": "code",
   "execution_count": null,
   "metadata": {
    "id": "S_OrHKOgrhzF"
   },
   "outputs": [],
   "source": [
    "import pandas as pd"
   ]
  },
  {
   "cell_type": "markdown",
   "metadata": {
    "id": "_eJMuwIOAb3a"
   },
   "source": [
    "# mitre attack"
   ]
  },
  {
   "cell_type": "code",
   "execution_count": null,
   "metadata": {
    "colab": {
     "base_uri": "https://localhost:8080/"
    },
    "id": "kbBqq0IuAsCA",
    "outputId": "27160cf8-762c-4e30-bf91-7d6a30bd5119"
   },
   "outputs": [],
   "source": [
    "import json\n",
    "d=json.load(open('/content/drive/MyDrive/Colab Notebooks/texts/sec_bert/data/enterprise-attack.json'))\n",
    "d.keys()"
   ]
  },
  {
   "cell_type": "markdown",
   "metadata": {
    "id": "poxnkfoRIdJN"
   },
   "source": [
    "## Изучение"
   ]
  },
  {
   "cell_type": "code",
   "execution_count": null,
   "metadata": {
    "colab": {
     "base_uri": "https://localhost:8080/"
    },
    "id": "KXgPbreGGVeY",
    "outputId": "a189a965-d2fa-40d0-c7a0-726ba9edabcc"
   },
   "outputs": [],
   "source": [
    "d['objects'][0].keys()"
   ]
  },
  {
   "cell_type": "markdown",
   "metadata": {
    "id": "itUNKGw-IhCW"
   },
   "source": [
    "### типы объектов"
   ]
  },
  {
   "cell_type": "code",
   "execution_count": null,
   "metadata": {
    "colab": {
     "base_uri": "https://localhost:8080/"
    },
    "id": "2kyTCWDdHmoY",
    "outputId": "048c6be1-6e47-41f1-bed7-188eefc15101"
   },
   "outputs": [],
   "source": [
    "set([it['type'] for it in d['objects']])"
   ]
  },
  {
   "cell_type": "markdown",
   "metadata": {
    "id": "a03Aijd18OR2"
   },
   "source": [
    "### тактика"
   ]
  },
  {
   "cell_type": "code",
   "execution_count": null,
   "metadata": {
    "colab": {
     "base_uri": "https://localhost:8080/"
    },
    "id": "vowotbcT8QFN",
    "outputId": "6e7b3062-dc37-41f7-8a73-a5785bfe3bff"
   },
   "outputs": [],
   "source": [
    "tactic_l = [it for it in d['objects'] if it['type']=='x-mitre-tactic']\n"
   ]
  },
  {
   "cell_type": "code",
   "execution_count": null,
   "metadata": {
    "colab": {
     "base_uri": "https://localhost:8080/"
    },
    "id": "hF-s2dM69yWq",
    "outputId": "6d6ebd11-7cfd-4f2a-e9df-de8667c431f5"
   },
   "outputs": [],
   "source": [
    "[it for it in tactic_l if 'eva' in it['name']]"
   ]
  },
  {
   "cell_type": "markdown",
   "metadata": {
    "id": "lqUNeLtfIu8Y"
   },
   "source": [
    "### пример"
   ]
  },
  {
   "cell_type": "code",
   "execution_count": null,
   "metadata": {
    "colab": {
     "base_uri": "https://localhost:8080/"
    },
    "id": "7zp6hYsZHGSs",
    "outputId": "cafb0805-4ba4-4133-b1b0-7759d5b9ee4a"
   },
   "outputs": [],
   "source": [
    "it = d['objects'][1000]\n",
    "it['type'], it['name'], it['description'], it['x_mitre_attack_spec_version'], it['x_mitre_version']"
   ]
  },
  {
   "cell_type": "code",
   "execution_count": null,
   "metadata": {
    "colab": {
     "base_uri": "https://localhost:8080/"
    },
    "id": "yg3XERonYaNt",
    "outputId": "e2a40ce9-9c76-47de-9488-40e76da793ee"
   },
   "outputs": [],
   "source": [
    "it['object_marking_refs']"
   ]
  },
  {
   "cell_type": "markdown",
   "metadata": {
    "id": "Isf04mSkIyhU"
   },
   "source": [
    "### поиск атаки"
   ]
  },
  {
   "cell_type": "code",
   "execution_count": null,
   "metadata": {
    "id": "zwVEIuItI2j9"
   },
   "outputs": [],
   "source": [
    "text = open('/content/drive/MyDrive/Colab Notebooks/texts/sec_bert/data/enterprise-attack.json').read()"
   ]
  },
  {
   "cell_type": "code",
   "execution_count": null,
   "metadata": {
    "colab": {
     "base_uri": "https://localhost:8080/"
    },
    "id": "r3yviKZTI2j-",
    "outputId": "dd82cbe1-0f39-4d88-8a8e-76c9b33d8286"
   },
   "outputs": [],
   "source": [
    "len(text)"
   ]
  },
  {
   "cell_type": "code",
   "execution_count": null,
   "metadata": {
    "id": "JQ2L6QVSI2kA"
   },
   "outputs": [],
   "source": [
    "ch = text.find('Adversaries may execute active reconnaissance scans to gather information that can be used during targeting.')"
   ]
  },
  {
   "cell_type": "code",
   "execution_count": null,
   "metadata": {
    "colab": {
     "base_uri": "https://localhost:8080/",
     "height": 123
    },
    "id": "pepp88UUI2kA",
    "outputId": "a7e4d4bc-d3e6-44fa-bdf9-2f60e8097292"
   },
   "outputs": [],
   "source": [
    "text[ch-1200:ch+100]"
   ]
  },
  {
   "cell_type": "markdown",
   "metadata": {
    "id": "L5CkgCIcJJdB"
   },
   "source": [
    "## возьмем атаки"
   ]
  },
  {
   "cell_type": "code",
   "execution_count": null,
   "metadata": {
    "colab": {
     "base_uri": "https://localhost:8080/"
    },
    "id": "EeE9Q34vI6vp",
    "outputId": "53f71f4a-484d-486e-9f08-fb6d95a5f1db"
   },
   "outputs": [],
   "source": [
    "attack_l = [it for it in d['objects'] if it['type']=='attack-pattern']\n",
    "len(attack_l)"
   ]
  },
  {
   "cell_type": "code",
   "execution_count": null,
   "metadata": {
    "colab": {
     "base_uri": "https://localhost:8080/"
    },
    "id": "gzFpThTL6vRv",
    "outputId": "98710898-a683-4ffa-b594-da0a395e2a78"
   },
   "outputs": [],
   "source": [
    "attack_l[0]\n"
   ]
  },
  {
   "cell_type": "code",
   "execution_count": null,
   "metadata": {
    "colab": {
     "base_uri": "https://localhost:8080/"
    },
    "id": "vL5SNNkX74Vk",
    "outputId": "dde164a2-493e-4e7f-baa8-5afc75bd950e"
   },
   "outputs": [],
   "source": [
    "\n",
    "# 1406, 1575\n",
    "[it for it in attack_l if it['external_references'][0]['external_id']=='T1557.001']"
   ]
  },
  {
   "cell_type": "code",
   "execution_count": null,
   "metadata": {
    "colab": {
     "base_uri": "https://localhost:8080/"
    },
    "id": "X6sY7B3tKSOP",
    "outputId": "7a728f9e-30ef-4b3e-fd4c-1420acd3590a"
   },
   "outputs": [],
   "source": [
    "from itertools import chain\n",
    "set(chain(*[it['x_mitre_domains'] for it in attack_l]))"
   ]
  },
  {
   "cell_type": "code",
   "execution_count": null,
   "metadata": {
    "id": "Rrg6divHJaEM"
   },
   "outputs": [],
   "source": [
    "enterp_attack_l = [it for it in attack_l if 'enterprise-attack' in it['x_mitre_domains']]"
   ]
  },
  {
   "cell_type": "markdown",
   "metadata": {
    "id": "TWoRsVgcNnHK"
   },
   "source": [
    "enterp_attack_l это все, которые попали в наш фильтр, может тогда фильтр слишком жесткий?"
   ]
  },
  {
   "cell_type": "code",
   "execution_count": null,
   "metadata": {
    "colab": {
     "base_uri": "https://localhost:8080/"
    },
    "id": "f6AvBZCuKHTL",
    "outputId": "8f114be5-6901-475a-8a1d-e6376984fdaf"
   },
   "outputs": [],
   "source": [
    "len(enterp_attack_l)"
   ]
  },
  {
   "cell_type": "code",
   "execution_count": null,
   "metadata": {
    "colab": {
     "base_uri": "https://localhost:8080/"
    },
    "id": "Aedz8fY9OkHT",
    "outputId": "cf38c4d7-3e61-4e89-be46-f93ca5bab8e0"
   },
   "outputs": [],
   "source": [
    "# https://attack.mitre.org/techniques/T1059/\n",
    "s = 'Adversaries may scan victim IP blocks to gather information that can be used during targeting.'\n",
    "attack = [it for it in attack_l if s in it['description']]\n",
    "attack"
   ]
  },
  {
   "cell_type": "code",
   "execution_count": null,
   "metadata": {
    "colab": {
     "base_uri": "https://localhost:8080/"
    },
    "id": "DWOjH7psRiJl",
    "outputId": "d345a636-924e-4976-c492-a0899023ff2e"
   },
   "outputs": [],
   "source": [
    "attack[0]['description'], attack[0]['external_references'][0]['external_id'], attack[0]['external_references'][0]['url']"
   ]
  },
  {
   "cell_type": "code",
   "execution_count": null,
   "metadata": {
    "id": "P_4cc0sSWRrA"
   },
   "outputs": [],
   "source": [
    "mitre_df = pd.DataFrame([(attack['description'], attack['external_references'][0]['external_id'], attack['external_references'][0]['url']) for attack in attack_l],\n",
    "                        columns=['sentence', 'labels', 'url'])"
   ]
  },
  {
   "cell_type": "code",
   "execution_count": null,
   "metadata": {
    "colab": {
     "base_uri": "https://localhost:8080/",
     "height": 81
    },
    "id": "bEhDzVmfY3no",
    "outputId": "261e2c07-5ebe-4f2b-afc9-f902ac4410ff"
   },
   "outputs": [],
   "source": [
    "s = 'Adversaries may scan victim IP blocks to gather information that can be used during targeting.'\n",
    "mitre_df.query('sentence.str.contains(@s)')"
   ]
  },
  {
   "cell_type": "code",
   "execution_count": null,
   "metadata": {
    "colab": {
     "base_uri": "https://localhost:8080/",
     "height": 53
    },
    "id": "yjJ_hvBqZQkv",
    "outputId": "0aaa4387-6559-4ebf-83a2-f449dc76718d"
   },
   "outputs": [],
   "source": [
    "url = 'https://attack.mitre.org/tactics/TA0006/'\n",
    "mitre_df.query('url==@url')"
   ]
  },
  {
   "cell_type": "code",
   "execution_count": null,
   "metadata": {
    "colab": {
     "base_uri": "https://localhost:8080/"
    },
    "id": "ev9fBEmNdu-1",
    "outputId": "8f8e8394-96e7-4401-d361-39a8e664c1b9"
   },
   "outputs": [],
   "source": [
    "mitre_df['labels']"
   ]
  },
  {
   "cell_type": "markdown",
   "metadata": {
    "id": "yeAj8hAiGTM4"
   },
   "source": [
    "## ищем по тексту"
   ]
  },
  {
   "cell_type": "code",
   "execution_count": null,
   "metadata": {
    "id": "wB8SCbGxBCgO"
   },
   "outputs": [],
   "source": [
    "text = open('/content/drive/MyDrive/Colab Notebooks/texts/sec_bert/data/enterprise-attack.json').read()"
   ]
  },
  {
   "cell_type": "code",
   "execution_count": null,
   "metadata": {
    "colab": {
     "base_uri": "https://localhost:8080/"
    },
    "id": "uAXJz6hWDqyU",
    "outputId": "29a4c35c-d7ab-435c-80c5-49114b873b48"
   },
   "outputs": [],
   "source": [
    "len(text)"
   ]
  },
  {
   "cell_type": "code",
   "execution_count": null,
   "metadata": {
    "id": "wzb8zfo3DtIT"
   },
   "outputs": [],
   "source": [
    "s = 'has used watering hole attacks, often with zero-day exploits, to gain initial access'\n",
    "ch = text.find(s)"
   ]
  },
  {
   "cell_type": "code",
   "execution_count": null,
   "metadata": {
    "colab": {
     "base_uri": "https://localhost:8080/",
     "height": 88
    },
    "id": "aOFG_rjQD7lZ",
    "outputId": "a05c49a3-2594-47d3-9d03-d3ac596d1fd1"
   },
   "outputs": [],
   "source": [
    "text[ch-150:ch+300]"
   ]
  },
  {
   "cell_type": "code",
   "execution_count": null,
   "metadata": {
    "id": "cEkC4NBaZ5TH"
   },
   "outputs": [],
   "source": [
    "'https://attack.mitre.org/techniques/T1059/002/'"
   ]
  },
  {
   "cell_type": "markdown",
   "metadata": {
    "id": "V2w29ex0dadV"
   },
   "source": [
    "## ищем признак группы"
   ]
  },
  {
   "cell_type": "code",
   "execution_count": null,
   "metadata": {
    "id": "B4dYat5tdc0D"
   },
   "outputs": [],
   "source": [
    "descr1 = 'may circumvent mechanisms designed to control elevate privileges to gain higher-level permissions.'\n",
    "descr2 = 'Within Linux and MacOS systems, sudo'\n",
    "descr3 = 'Adversaries may gain access and continuously communicate with victims by injecting malicious content into systems through online network traffic'\n",
    "\n",
    "attack1 = [it for it in attack_l if descr1 in it['description']][0]\n",
    "attack2 = [it for it in attack_l if descr2 in it['description']][0]\n",
    "attack3 = [it for it in attack_l if descr3 in it['description']][0]"
   ]
  },
  {
   "cell_type": "code",
   "execution_count": null,
   "metadata": {
    "colab": {
     "base_uri": "https://localhost:8080/"
    },
    "id": "lnpT3o6neFRB",
    "outputId": "649a37f8-2f0e-40c2-8f20-d6c772c47caa"
   },
   "outputs": [],
   "source": [
    "attack2\n",
    "# identity--c78cb6e5-0c4b-4611-8297-d1b8b55e40b5"
   ]
  },
  {
   "cell_type": "code",
   "execution_count": null,
   "metadata": {
    "colab": {
     "base_uri": "https://localhost:8080/"
    },
    "id": "1jKotm3QeCd-",
    "outputId": "c636fe90-37b4-48d8-b724-bee4db1b4152"
   },
   "outputs": [],
   "source": [
    "kill_chain_phases\n"
   ]
  },
  {
   "cell_type": "markdown",
   "metadata": {
    "id": "QE8ByXJcpMK_"
   },
   "source": [
    "## Удалим ссылки из описания и соберем в отдельном поле"
   ]
  },
  {
   "cell_type": "code",
   "execution_count": null,
   "metadata": {
    "id": "-nstdj4zpa9k"
   },
   "outputs": [],
   "source": [
    "mitre_df['descr_links'] = mitre_df['sentence'].str.findall('\\((https://[^\\s]{1,})\\)')"
   ]
  },
  {
   "cell_type": "code",
   "execution_count": null,
   "metadata": {
    "colab": {
     "base_uri": "https://localhost:8080/",
     "height": 944
    },
    "id": "NHXlw903e5Pd",
    "outputId": "aa62b36f-ff78-4f91-af1c-77fac3730804"
   },
   "outputs": [],
   "source": [
    "mitre_df['sentence'] = mitre_df['sentence'].str.replace(r'\\(https://[^\\s]{1,}\\)', r'', regex=True)\n",
    "mitre_df"
   ]
  },
  {
   "cell_type": "code",
   "execution_count": null,
   "metadata": {
    "id": "hXjghhqsh4gX"
   },
   "outputs": [],
   "source": []
  },
  {
   "cell_type": "markdown",
   "metadata": {
    "id": "S3QH9LuKp1wG"
   },
   "source": [
    "### ссылки из процедур и митигаций"
   ]
  },
  {
   "cell_type": "code",
   "execution_count": null,
   "metadata": {
    "colab": {
     "base_uri": "https://localhost:8080/",
     "height": 98
    },
    "id": "Dm8RR34LqQ6W",
    "outputId": "db5f361b-a30e-4236-d151-ad6c2bc9df27"
   },
   "outputs": [],
   "source": [
    "attack_sample = mitre_df.query('labels==\"T1548.003\" and not proc_flag')\n",
    "display(attack_sample)\n",
    "id = attack_sample['id'].iloc[0]"
   ]
  },
  {
   "cell_type": "code",
   "execution_count": null,
   "metadata": {
    "colab": {
     "base_uri": "https://localhost:8080/"
    },
    "id": "1FUXZOMbqc-v",
    "outputId": "a35e9a98-22ad-430b-f8fa-446cc615e987"
   },
   "outputs": [],
   "source": [
    "attack = [it for it in attack_l if it['id']==id][0]\n",
    "attack"
   ]
  },
  {
   "cell_type": "code",
   "execution_count": null,
   "metadata": {
    "colab": {
     "base_uri": "https://localhost:8080/"
    },
    "id": "c9me3pqEqdDf",
    "outputId": "8a81348d-9c2e-48b2-cd5c-58157a6557db"
   },
   "outputs": [],
   "source": [
    "attack['x_mitre_platforms'], attack['external_references'][1:], attack['kill_chain_phases'], attack['name'],\n",
    "attack['x_mitre_data_sources'], attack['x_mitre_permissions_required'], attack['x_mitre_effective_permissions'], attack['created']"
   ]
  },
  {
   "cell_type": "code",
   "execution_count": null,
   "metadata": {
    "id": "JU9zFQp0UYih"
   },
   "outputs": [],
   "source": [
    "[Proton](https://attack.mitre.org/software/S0279) modifies the tty_tickets line in the sudoers file.(Citation: objsee mac malware 2017)"
   ]
  },
  {
   "cell_type": "code",
   "execution_count": null,
   "metadata": {
    "colab": {
     "base_uri": "https://localhost:8080/"
    },
    "id": "iaY6gIPlTG9x",
    "outputId": "6a9fe7ae-e75e-4304-93bd-968da5395bf5"
   },
   "outputs": [],
   "source": [
    "proc_software_links = []\n",
    "proc_citation_links = []\n",
    "\n",
    "proc_itms = [it for it in rel_l if (it['target_ref']==attack['id']) and (it['relationship_type']=='uses')]\n",
    "it = proc_itms[1]\n",
    "it"
   ]
  },
  {
   "cell_type": "code",
   "execution_count": null,
   "metadata": {
    "colab": {
     "base_uri": "https://localhost:8080/"
    },
    "id": "C7WTNtfLVYw0",
    "outputId": "ccfd14d4-1753-468d-94e9-61f986307ae4"
   },
   "outputs": [],
   "source": [
    "import re\n",
    "# proc_software_links, proc_descr_links\n",
    "re.findall(r'\\((https://[^\\s\\)]{1,})', it['description']), [subit['url'] for subit in it['external_references']]"
   ]
  },
  {
   "cell_type": "code",
   "execution_count": null,
   "metadata": {
    "colab": {
     "base_uri": "https://localhost:8080/"
    },
    "id": "EW44K3sETN3u",
    "outputId": "e7ba0958-85fb-4c99-d763-b59ce7c1ee4f"
   },
   "outputs": [],
   "source": [
    "det_itms = [it for it in rel_l if (it['target_ref']==attack['id']) and (it['relationship_type']=='detects')]\n",
    "it = det_itms[2]\n",
    "# det_descr, det_data_comp\n",
    "it['description'], it['source_ref']"
   ]
  },
  {
   "cell_type": "code",
   "execution_count": null,
   "metadata": {
    "colab": {
     "base_uri": "https://localhost:8080/"
    },
    "id": "oqZw5AJfgb4j",
    "outputId": "327bdeb5-6f35-4afe-f363-0280075b0c2b"
   },
   "outputs": [],
   "source": [
    "mit_itms = [it for it in rel_l if (it['target_ref']==attack['id']) and (it['relationship_type']=='mitigates')]\n",
    "it = mit_itms[2]\n",
    "it['description'], it['source_ref']"
   ]
  },
  {
   "cell_type": "markdown",
   "metadata": {
    "id": "75XoYeJKZBpv"
   },
   "source": [
    "## ищем связанные процедуры с objectpath"
   ]
  },
  {
   "cell_type": "code",
   "execution_count": null,
   "metadata": {
    "colab": {
     "base_uri": "https://localhost:8080/"
    },
    "id": "BawNdxE0ZbfS",
    "outputId": "3ef6f968-666a-4ccd-8f12-e00af63dcf81"
   },
   "outputs": [],
   "source": [
    "!pip install objectpath"
   ]
  },
  {
   "cell_type": "code",
   "execution_count": null,
   "metadata": {
    "id": "uNl3ZM34ZZVh"
   },
   "outputs": [],
   "source": [
    "import objectpath as obp\n",
    "\n",
    "query = obp.Tree(d)"
   ]
  },
  {
   "cell_type": "markdown",
   "metadata": {
    "id": "-R43ALQ2n1xF"
   },
   "source": [
    "### объект по описанию можно найти"
   ]
  },
  {
   "cell_type": "code",
   "execution_count": null,
   "metadata": {
    "id": "hk3w03WFfb5t"
   },
   "outputs": [],
   "source": [
    "s = '[Andariel](https://attack.mitre.org/groups/G0138) has used watering hole attacks, often with zero-day exploits, to gain initial access to victims within a specific IP range.(Citation: AhnLab Andariel Subgroup of Lazarus June 2018)(Citation: TrendMicro New Andariel Tactics July 2018)'\n",
    "\n",
    "res_descr = list(query.execute(f\"$..*[@.description is '{s}']\"))"
   ]
  },
  {
   "cell_type": "code",
   "execution_count": null,
   "metadata": {
    "colab": {
     "base_uri": "https://localhost:8080/"
    },
    "id": "w9I7SYu_gVC_",
    "outputId": "d0b3305e-cf83-453f-de79-89ac02a6cde1"
   },
   "outputs": [],
   "source": [
    "type(res_descr)"
   ]
  },
  {
   "cell_type": "markdown",
   "metadata": {
    "id": "_ptDM8PTmcvN"
   },
   "source": [
    "Связи с атакой:\n",
    "- created_by_ref\n",
    "- target_ref\n",
    "- object_marking_refs"
   ]
  },
  {
   "cell_type": "code",
   "execution_count": null,
   "metadata": {
    "colab": {
     "base_uri": "https://localhost:8080/"
    },
    "id": "DD70T9PPg511",
    "outputId": "28bfb163-4e24-42b9-9f6d-97462c5408c6"
   },
   "outputs": [],
   "source": [
    "attack = [it for it in attack_l if 'Typical drive-by compromise process:' in it['description']][0]\n",
    "attack"
   ]
  },
  {
   "cell_type": "markdown",
   "metadata": {
    "id": "e1OC3ltVQ1lB"
   },
   "source": [
    "#### created_by_ref\n",
    "много очень"
   ]
  },
  {
   "cell_type": "code",
   "execution_count": null,
   "metadata": {
    "id": "IhnZbG4PQ-pP"
   },
   "outputs": [],
   "source": [
    "ident = 'identity--c78cb6e5-0c4b-4611-8297-d1b8b55e40b5'\n",
    "\n",
    "res2 = list(query.execute(f\"$..*[@.created_by_ref is '{ident}']\"))\n"
   ]
  },
  {
   "cell_type": "code",
   "execution_count": null,
   "metadata": {
    "colab": {
     "base_uri": "https://localhost:8080/"
    },
    "id": "rLv7ptu9Q-pR",
    "outputId": "e09d41a8-cbb9-42d4-e307-bec672ad30e0"
   },
   "outputs": [],
   "source": [
    "res2[0].keys()"
   ]
  },
  {
   "cell_type": "code",
   "execution_count": null,
   "metadata": {
    "id": "Kgmd8zWGQ6iB"
   },
   "outputs": [],
   "source": []
  },
  {
   "cell_type": "markdown",
   "metadata": {
    "id": "snz9P6k9Rx1i"
   },
   "source": [
    "#### object_marking_refs\n",
    "тут тоже дичь"
   ]
  },
  {
   "cell_type": "code",
   "execution_count": null,
   "metadata": {
    "colab": {
     "base_uri": "https://localhost:8080/"
    },
    "id": "ybgnRpFLOTKN",
    "outputId": "697320ac-55d2-42f2-9a9a-d10c2dd1c394"
   },
   "outputs": [],
   "source": [
    "object_marking_refs = 'marking-definition--fa42a846-8d90-4e51-bc29-71d5b4802168'\n",
    "\n",
    "res2 = list(query.execute(f\"$..*['{object_marking_refs}' in @.object_marking_refs]\"))\n",
    "res2"
   ]
  },
  {
   "cell_type": "code",
   "execution_count": null,
   "metadata": {
    "colab": {
     "base_uri": "https://localhost:8080/"
    },
    "id": "vTiSst8EQZjH",
    "outputId": "c4b0fd2c-4b91-4068-a9d8-72d39307770b"
   },
   "outputs": [],
   "source": [
    "len(res2[0])"
   ]
  },
  {
   "cell_type": "code",
   "execution_count": null,
   "metadata": {
    "colab": {
     "base_uri": "https://localhost:8080/"
    },
    "id": "Snvf5vtBRkY5",
    "outputId": "73cd8958-eb79-4271-ed6a-dc61330bb251"
   },
   "outputs": [],
   "source": [
    "res2[0]['object_marking_refs']"
   ]
  },
  {
   "cell_type": "markdown",
   "metadata": {
    "id": "LYbBSpfmnq1T"
   },
   "source": [
    "### по id атаки"
   ]
  },
  {
   "cell_type": "code",
   "execution_count": null,
   "metadata": {
    "id": "o652qX9YZi-m"
   },
   "outputs": [],
   "source": [
    "res = list(query.execute(\"$..*[@.target_ref is 'attack-pattern--d742a578-d70e-4d0e-96a6-02a9c30204e6']\"))"
   ]
  },
  {
   "cell_type": "code",
   "execution_count": null,
   "metadata": {
    "colab": {
     "base_uri": "https://localhost:8080/"
    },
    "id": "qqDUvJ46p7rP",
    "outputId": "f2e5d2dd-9852-4135-bd10-48bff8fc9046"
   },
   "outputs": [],
   "source": [
    "{it['relationship_type'] for it in res}"
   ]
  },
  {
   "cell_type": "markdown",
   "metadata": {
    "id": "ocacduVIwBCP"
   },
   "source": [
    "Тут как раз все виды\n",
    "- uses - процедуры\n",
    "- detects - Detection\n",
    "- mitigates - Mitigations"
   ]
  },
  {
   "cell_type": "code",
   "execution_count": null,
   "metadata": {
    "colab": {
     "base_uri": "https://localhost:8080/"
    },
    "id": "GsCy0582cn1R",
    "outputId": "d954b1b3-0aa6-491c-8254-0917b13b63a6"
   },
   "outputs": [],
   "source": [
    "(len([it for it in res if it['relationship_type']=='uses']), len([it for it in res if it['relationship_type']=='detects']),\n",
    "len([it for it in res if it['relationship_type']=='mitigates']))"
   ]
  },
  {
   "cell_type": "code",
   "execution_count": null,
   "metadata": {
    "colab": {
     "base_uri": "https://localhost:8080/"
    },
    "id": "VS_eX6L7wdsJ",
    "outputId": "d049d6c0-a488-4056-f002-557a32dfc767"
   },
   "outputs": [],
   "source": [
    "[it for it in res if it['relationship_type']=='uses'][-1]"
   ]
  },
  {
   "cell_type": "markdown",
   "metadata": {
    "id": "1GoBbTAIyJzV"
   },
   "source": [
    "- некоторые примеры процедур почему-то на сайте не отображаются\n",
    "  - [пример](https://attack.mitre.org/techniques/T1189/), а в ссылках есть (it['relationship_type']=='uses' с id атаки) и [тут](https://service.securitm.ru/mitre/techniques/T1189)"
   ]
  },
  {
   "cell_type": "markdown",
   "metadata": {
    "id": "BfIY-3mi4rvH"
   },
   "source": [
    "### поиск процедур\n",
    "сначала нашел родителя, как в файле objectpath и обнаружил, что у него столько же элементов, сколько и у верхнеуровневого objects ключа и сделал вывод, что один"
   ]
  },
  {
   "cell_type": "code",
   "execution_count": null,
   "metadata": {
    "id": "XQUoI3_uOjVg"
   },
   "outputs": [],
   "source": [
    "\n"
   ]
  },
  {
   "cell_type": "code",
   "execution_count": null,
   "metadata": {
    "id": "Ou6mAqEX6abm"
   },
   "outputs": [],
   "source": [
    "obj_target_refs = [it for it in d['objects'] if 'target_ref' in it.keys()]"
   ]
  },
  {
   "cell_type": "code",
   "execution_count": null,
   "metadata": {
    "id": "qOrS-Ynw4_VG"
   },
   "outputs": [],
   "source": [
    "pattern = 'attack-pattern--d742a578-d70e-4d0e-96a6-02a9c30204e6'\n"
   ]
  },
  {
   "cell_type": "code",
   "execution_count": null,
   "metadata": {
    "id": "nOYkItyyICkF"
   },
   "outputs": [],
   "source": [
    "rel_l = [it for it in d['objects'] if it['type']=='relationship']"
   ]
  },
  {
   "cell_type": "markdown",
   "metadata": {
    "id": "YjFGXtC9HLqv"
   },
   "source": [
    "По ходу это объекты с типом relationship"
   ]
  },
  {
   "cell_type": "code",
   "execution_count": null,
   "metadata": {
    "colab": {
     "base_uri": "https://localhost:8080/"
    },
    "id": "oxeJQnzxHQ52",
    "outputId": "c144c35a-253c-44fb-85f2-a7ff385f5eb0"
   },
   "outputs": [],
   "source": [
    "len(obj_target_refs), len(rel_l)"
   ]
  },
  {
   "cell_type": "markdown",
   "metadata": {
    "id": "YjCkGtlkHc_f"
   },
   "source": [
    "количество совпало"
   ]
  },
  {
   "cell_type": "code",
   "execution_count": null,
   "metadata": {
    "colab": {
     "base_uri": "https://localhost:8080/"
    },
    "id": "ZGBlddOsHue2",
    "outputId": "a2b1b7c0-8876-492a-fa32-13a8b19fade4"
   },
   "outputs": [],
   "source": [
    "[it for it in rel_l if not 'target_ref' in it.keys()]"
   ]
  },
  {
   "cell_type": "markdown",
   "metadata": {
    "id": "RR7Y4OI-IOVq"
   },
   "source": [
    "нет item-ов без ссылок атаку target_ref"
   ]
  },
  {
   "cell_type": "code",
   "execution_count": null,
   "metadata": {
    "colab": {
     "base_uri": "https://localhost:8080/"
    },
    "id": "u6VpOPpYIcpq",
    "outputId": "fd1b2c19-e7fa-4ddd-e1e0-d0ff26601185"
   },
   "outputs": [],
   "source": [
    "attack"
   ]
  },
  {
   "cell_type": "markdown",
   "metadata": {
    "id": "KvfS49Jq1cyZ"
   },
   "source": [
    "## атаки одноименки"
   ]
  },
  {
   "cell_type": "code",
   "execution_count": null,
   "metadata": {
    "id": "3J0gd8ti56cF"
   },
   "outputs": [],
   "source": [
    "import json\n",
    "import re\n",
    "\n",
    "d=json.load(open('/content/drive/MyDrive/Colab Notebooks/texts/sec_bert/data/enterprise-attack.json'))\n",
    "# attack_l = [it for it in d['objects'] if it['type']=='attack-pattern']\n",
    "attack_l = [it for it in d['objects'] if it['type']=='attack-pattern' if not 'revoked' in it.keys() or not it['revoked']]\n",
    "rel_l = [it for it in d['objects'] if it['type']=='relationship']\n",
    "\n",
    "mitre_df = pd.DataFrame([(attack['id'], attack['name'], attack['description'], attack['external_references'][0]['external_id'],\n",
    "                          attack['external_references'][0]['url'], attack['x_mitre_platforms'], attack['kill_chain_phases'],\n",
    "                          attack['created'], attack['external_references'][1:],\n",
    "                          attack['x_mitre_permissions_required'] if 'x_mitre_permissions_required' in attack.keys() else None,\n",
    "                         attack['x_mitre_effective_permissions'] if 'x_mitre_effective_permissions' in attack.keys() else None,\n",
    "                          attack['x_mitre_data_sources'] if 'x_mitre_data_sources' in attack.keys() else None,\n",
    "                          attack['x_mitre_defense_bypassed'] if 'x_mitre_defense_bypassed' in attack.keys() else None\n",
    "                          )\n",
    "                          for attack in attack_l],\n",
    "                        columns=['id', 'name', 'sentence', 'labels', 'url', 'platforms', 'kill_chain_phases',\n",
    "                                 'created', 'doc_refs', 'permissions', 'effective_permissions', 'data_sources', 'defense_bypassed'])\n",
    "mitre_df['proc_flag'] = False\n"
   ]
  },
  {
   "cell_type": "code",
   "execution_count": null,
   "metadata": {
    "colab": {
     "base_uri": "https://localhost:8080/",
     "height": 660
    },
    "id": "BHFMCAJJ7UZL",
    "outputId": "9de452a6-850e-4d19-f1c3-e7370029b028"
   },
   "outputs": [],
   "source": [
    "mitre_df[mitre_df['name'].duplicated(keep=False)].sort_values(by='name').head()"
   ]
  },
  {
   "cell_type": "markdown",
   "metadata": {
    "id": "QlbWmo6UGBgX"
   },
   "source": [
    "## выделяем субтехники"
   ]
  },
  {
   "cell_type": "code",
   "execution_count": null,
   "metadata": {
    "id": "9vAuRJEEGAQO"
   },
   "outputs": [],
   "source": [
    "import json\n",
    "import re\n",
    "\n",
    "d=json.load(open('/content/drive/MyDrive/Colab Notebooks/texts/sec_bert/data/enterprise-attack.json'))\n",
    "# attack_l = [it for it in d['objects'] if it['type']=='attack-pattern']\n",
    "attack_l = [it for it in d['objects'] if it['type']=='attack-pattern' if not 'revoked' in it.keys() or not it['revoked']]"
   ]
  },
  {
   "cell_type": "code",
   "execution_count": null,
   "metadata": {
    "colab": {
     "base_uri": "https://localhost:8080/"
    },
    "id": "qjHAeXKvGGOU",
    "outputId": "660316a0-b806-4c2c-e32e-892736ba97da"
   },
   "outputs": [],
   "source": [
    "len([it for it in attack_l if  it['x_mitre_is_subtechnique']==False])"
   ]
  },
  {
   "cell_type": "markdown",
   "metadata": {
    "id": "vxKmvvJV5zFU"
   },
   "source": [
    "## атаки с устаревшими ссылками"
   ]
  },
  {
   "cell_type": "code",
   "execution_count": null,
   "metadata": {
    "id": "QsDL-Eag1e2u"
   },
   "outputs": [],
   "source": [
    "d=json.load(open('/content/drive/MyDrive/Colab Notebooks/texts/sec_bert/data/enterprise-attack.json'))\n",
    "attack_l = [it for it in d['objects'] if it['type']=='attack-pattern']"
   ]
  },
  {
   "cell_type": "markdown",
   "metadata": {
    "id": "gQ38Q8dT3kNu"
   },
   "source": [
    "### T1067"
   ]
  },
  {
   "cell_type": "code",
   "execution_count": null,
   "metadata": {
    "colab": {
     "base_uri": "https://localhost:8080/"
    },
    "id": "TwSqhs3T300t",
    "outputId": "a76beca1-b685-4607-e32e-00f0513c885f"
   },
   "outputs": [],
   "source": [
    "prb_l = [it for it in attack_l if it['name']=='Bootkit']\n",
    "len(prb_l)"
   ]
  },
  {
   "cell_type": "code",
   "execution_count": null,
   "metadata": {
    "colab": {
     "base_uri": "https://localhost:8080/"
    },
    "id": "kw1bQJXz3-xL",
    "outputId": "677d1513-4770-452f-dde7-d04401542214"
   },
   "outputs": [],
   "source": [
    "prb_l[0]"
   ]
  },
  {
   "cell_type": "code",
   "execution_count": null,
   "metadata": {
    "colab": {
     "base_uri": "https://localhost:8080/"
    },
    "id": "YT3bYS5N4Ojk",
    "outputId": "938b8407-3574-45d8-add6-dfea289d574e"
   },
   "outputs": [],
   "source": [
    "prb_l[1]"
   ]
  },
  {
   "cell_type": "markdown",
   "metadata": {
    "id": "7sBCrDza3fHi"
   },
   "source": [
    "### T1066"
   ]
  },
  {
   "cell_type": "code",
   "execution_count": null,
   "metadata": {
    "colab": {
     "base_uri": "https://localhost:8080/"
    },
    "id": "yC_g8DkP1gRO",
    "outputId": "4c61effd-ceeb-4675-9783-bfc7b77d0646"
   },
   "outputs": [],
   "source": [
    "prb_l = [it for it in attack_l if it['name']=='Indicator Removal from Tools']\n",
    "prb_l[0]"
   ]
  },
  {
   "cell_type": "code",
   "execution_count": null,
   "metadata": {
    "colab": {
     "base_uri": "https://localhost:8080/"
    },
    "id": "WLxLx4V619xC",
    "outputId": "df280cce-10ef-4ab4-caaa-9561cfb10aa3"
   },
   "outputs": [],
   "source": [
    "prb_l[1]"
   ]
  },
  {
   "cell_type": "markdown",
   "metadata": {
    "id": "fti0J8w_3Ry5"
   },
   "source": [
    "- отличие флаг 'revoked': False (актуальная)"
   ]
  },
  {
   "cell_type": "code",
   "execution_count": null,
   "metadata": {
    "colab": {
     "base_uri": "https://localhost:8080/",
     "height": 305
    },
    "id": "5pI3N7II1lJB",
    "outputId": "7a53eaa8-ac7b-4984-a1e9-c51aceec108f"
   },
   "outputs": [],
   "source": [
    "mitre_df.query('labels.isin([\"T1027.005\", \"T1066\"])')"
   ]
  },
  {
   "cell_type": "markdown",
   "metadata": {
    "id": "V1C_7SepNnaw"
   },
   "source": [
    "### проблемные id атак"
   ]
  },
  {
   "cell_type": "code",
   "execution_count": null,
   "metadata": {
    "id": "N3uowwg5PALF"
   },
   "outputs": [],
   "source": [
    "d=json.load(open('/content/drive/MyDrive/Colab Notebooks/texts/sec_bert/data/enterprise-attack.json'))\n",
    "attack_l = [it for it in d['objects'] if it['type']=='attack-pattern']\n",
    "mitre_df = pd.DataFrame([(attack['id'], attack['description'], attack['external_references'][0]['external_id'], attack['external_references'][0]['url']) for attack in attack_l],\n",
    "                        columns=['id', 'sentence', 'labels', 'url'])"
   ]
  },
  {
   "cell_type": "code",
   "execution_count": null,
   "metadata": {
    "id": "sg2oWQwnNmHr"
   },
   "outputs": [],
   "source": [
    "pattern = 'attack-pattern--00d0b012-8a03-410e-95de-5826bf542de6'\n",
    "\n",
    "obj_target_refs = [it for it in d['objects'] if 'target_ref' in it.keys()]"
   ]
  },
  {
   "cell_type": "code",
   "execution_count": null,
   "metadata": {
    "colab": {
     "base_uri": "https://localhost:8080/",
     "height": 81
    },
    "id": "5TuU656-OmkD",
    "outputId": "2794b247-8e3f-4e63-82ea-ef3b81d829a3"
   },
   "outputs": [],
   "source": [
    "mitre_df.query(f'id==\"{pattern}\"')"
   ]
  },
  {
   "cell_type": "code",
   "execution_count": null,
   "metadata": {
    "colab": {
     "base_uri": "https://localhost:8080/"
    },
    "id": "fVVz-5dpN7Oy",
    "outputId": "f98245ef-be66-4cb3-a377-9acab682732c"
   },
   "outputs": [],
   "source": [
    "attack = [it for it in attack_l if it['id']==pattern][0]\n",
    "attack"
   ]
  },
  {
   "cell_type": "code",
   "execution_count": null,
   "metadata": {
    "id": "U4jgVImJODQG"
   },
   "outputs": [],
   "source": [
    "res = list(query.execute(f\"$..*[@.target_ref is '{pattern}']\"))"
   ]
  },
  {
   "cell_type": "code",
   "execution_count": null,
   "metadata": {
    "colab": {
     "base_uri": "https://localhost:8080/"
    },
    "id": "ZrQXkbUWODQH",
    "outputId": "3b915b7a-a0f9-47d0-b91f-235c1c7c4cf5"
   },
   "outputs": [],
   "source": [
    "{it['relationship_type'] for it in res}"
   ]
  },
  {
   "cell_type": "code",
   "execution_count": null,
   "metadata": {
    "id": "4PS9zEhnRD__"
   },
   "outputs": [],
   "source": []
  },
  {
   "cell_type": "markdown",
   "metadata": {
    "id": "Did_DrSHyuWj"
   },
   "source": [
    "## Итог"
   ]
  },
  {
   "cell_type": "code",
   "execution_count": null,
   "metadata": {
    "id": "ZNX8lNwUrkIG"
   },
   "outputs": [],
   "source": [
    "import json\n",
    "import re\n",
    "\n",
    "d=json.load(open('/content/drive/MyDrive/Colab Notebooks/texts/sec_bert/data/enterprise-attack.json'))\n",
    "# attack_l = [it for it in d['objects'] if it['type']=='attack-pattern']\n",
    "attack_l = [it for it in d['objects'] if it['type']=='attack-pattern' if not 'revoked' in it.keys() or not it['revoked']]\n",
    "rel_l = [it for it in d['objects'] if it['type']=='relationship']\n",
    "\n",
    "mitre_df = pd.DataFrame([(attack['id'], attack['name'], attack['description'], attack['external_references'][0]['external_id'],\n",
    "                          attack['external_references'][0]['url'], attack['x_mitre_is_subtechnique'], attack['x_mitre_platforms'], attack['kill_chain_phases'],\n",
    "                          attack['created'], attack['external_references'][1:],\n",
    "                          attack['x_mitre_permissions_required'] if 'x_mitre_permissions_required' in attack.keys() else None,\n",
    "                         attack['x_mitre_effective_permissions'] if 'x_mitre_effective_permissions' in attack.keys() else None,\n",
    "                          attack['x_mitre_data_sources'] if 'x_mitre_data_sources' in attack.keys() else None,\n",
    "                          attack['x_mitre_defense_bypassed'] if 'x_mitre_defense_bypassed' in attack.keys() else None\n",
    "                          )\n",
    "                          for attack in attack_l],\n",
    "                        columns=['id', 'name', 'sentence', 'labels', 'url', 'subtechnique', 'platforms', 'kill_chain_phases',\n",
    "                                 'created', 'doc_refs', 'permissions', 'effective_permissions', 'data_sources', 'defense_bypassed'])\n",
    "mitre_df['proc_flag'] = False\n"
   ]
  },
  {
   "cell_type": "code",
   "execution_count": null,
   "metadata": {
    "id": "v5EQqp554A_e"
   },
   "outputs": [],
   "source": [
    "from itertools import chain\n",
    "mittre_l = []\n",
    "for _, row in mitre_df.iterrows():\n",
    "\n",
    "    proc_itms = [it for it in rel_l if (it['target_ref']==row['id']) and (it['relationship_type']=='uses')]\n",
    "    det_itms = [it for it in rel_l if (it['target_ref']==row['id']) and (it['relationship_type']=='detects')]\n",
    "    mit_itms = [it for it in rel_l if (it['target_ref']==row['id']) and (it['relationship_type']=='mitigates')]\n",
    "\n",
    "\n",
    "    part_df = row.drop(['proc_flag']).to_frame().T\n",
    "    part_df['proc_software_links'] = [list(chain(*[re.findall(r'\\((https://[^\\s\\)]{1,})', it['description']) for it in proc_itms ]))]\n",
    "\n",
    "    part_df['proc_descr_links'] = [[subit['url'] for it in proc_itms if 'external_references' in it for subit in it['external_references'] ]]\n",
    "    part_df['proc_descr'] = [[it['description'] for it in proc_itms]]\n",
    "    # break\n",
    "\n",
    "    part_df['det_descr'] = [[it['description'] for it in det_itms if 'description' in it]]\n",
    "    part_df['det_data_comp'] = [[it['source_ref'] for it in det_itms if 'source_ref' in it]]\n",
    "    part_df['mit_descr'] = [[it['description'] for it in mit_itms if 'description' in it]]\n",
    "    part_df['mit_coa'] = [[it['source_ref'] for it in mit_itms if 'source_ref' in it]]\n",
    "\n",
    "    mittre_l.append(part_df)\n",
    "\n",
    "\n"
   ]
  },
  {
   "cell_type": "code",
   "execution_count": null,
   "metadata": {
    "id": "IJu9Zy8N45wI"
   },
   "outputs": [],
   "source": [
    "mitre_df = pd.concat(mittre_l, ignore_index=True)\n"
   ]
  },
  {
   "cell_type": "code",
   "execution_count": null,
   "metadata": {
    "id": "2jUyRtTC2ubH"
   },
   "outputs": [],
   "source": [
    "mitre_df['kill_chain_tags'] = mitre_df['kill_chain_phases'].map(lambda x: [it['phase_name'] for it in x])"
   ]
  },
  {
   "cell_type": "code",
   "execution_count": null,
   "metadata": {
    "colab": {
     "base_uri": "https://localhost:8080/",
     "height": 335
    },
    "id": "kvLTV8Jq6A-K",
    "outputId": "d8c15418-ea56-4d1e-e3e0-27490d15ee83"
   },
   "outputs": [],
   "source": [
    "mitre_df.head(2)"
   ]
  },
  {
   "cell_type": "code",
   "execution_count": null,
   "metadata": {
    "colab": {
     "base_uri": "https://localhost:8080/"
    },
    "id": "KAdLWbcDYsjS",
    "outputId": "70894bde-d5b2-46c2-8eaa-ffac2a5bc812"
   },
   "outputs": [],
   "source": [
    "import joblib\n",
    "joblib.dump(mitre_df, '/content/drive/MyDrive/Colab Notebooks/texts/sec_bert/data/mitre_df.pkl')"
   ]
  },
  {
   "cell_type": "code",
   "execution_count": null,
   "metadata": {
    "colab": {
     "base_uri": "https://localhost:8080/"
    },
    "id": "m2avHnPF82xI",
    "outputId": "c82178ac-a2fe-4422-a866-1640fce50409"
   },
   "outputs": [],
   "source": [
    "!grep -rl -E '/content/drive/MyDrive/Colab Notebooks/texts/sec_bert/data/mitre_df.pkl'  '/content/drive/MyDrive/Colab Notebooks'"
   ]
  },
  {
   "cell_type": "markdown",
   "metadata": {
    "id": "G0msmIruQUm-"
   },
   "source": [
    "Алан, добрый день.\n",
    "\n",
    "Для получения доступа к ML Space вам необходимо обратиться к администратору организации, в которую вас пригласили, чтобы он выдал вам права на платформу:\n",
    "https://cloud.ru/docs/administration/ug/topics/guides__employees_add.html\n",
    "\n",
    "Создать новый проект может также администратор организации, вам необходимо обратиться к нему для создания нового проекта: https://cloud.ru/docs/administration/ug/topics/guides__projects.html#id1"
   ]
  },
  {
   "cell_type": "markdown",
   "metadata": {
    "id": "it6m4bSfxJoV"
   },
   "source": [
    "### загрузка для предсказаний"
   ]
  },
  {
   "cell_type": "code",
   "execution_count": null,
   "metadata": {
    "id": "kcWeDjqCrasG"
   },
   "outputs": [],
   "source": [
    "import pandas as pd"
   ]
  },
  {
   "cell_type": "code",
   "execution_count": null,
   "metadata": {
    "id": "0Er36Jusvui5"
   },
   "outputs": [],
   "source": [
    "import joblib\n",
    "mitre_df = joblib.load('/content/drive/MyDrive/Colab Notebooks/texts/sec_bert/data/mitre_df.pkl')"
   ]
  },
  {
   "cell_type": "code",
   "execution_count": null,
   "metadata": {
    "colab": {
     "base_uri": "https://localhost:8080/",
     "height": 1000
    },
    "id": "xOPi4J1LObGO",
    "outputId": "d71ae81a-1d61-4b86-ad4a-9d6e008cc8ec"
   },
   "outputs": [],
   "source": [
    "mitre_df"
   ]
  },
  {
   "cell_type": "code",
   "execution_count": null,
   "metadata": {
    "id": "-BL_W_gbvx78"
   },
   "outputs": [],
   "source": [
    "proc_df = mitre_df[['id', 'name', 'url', 'labels', 'proc_descr', 'kill_chain_tags', 'subtechnique']].explode('proc_descr')\\\n",
    "                  .rename(columns={'proc_descr':'sentence'})\\\n",
    "                  .assign(is_proc=True)\n",
    "main_descr_df = mitre_df[['id', 'name', 'url', 'labels', 'sentence', 'kill_chain_tags', 'subtechnique']].assign(is_proc=False)\n",
    "mitre_attack_df = pd.concat([main_descr_df, proc_df], ignore_index=True)"
   ]
  },
  {
   "cell_type": "code",
   "execution_count": null,
   "metadata": {
    "id": "l3lCDHno0MCS"
   },
   "outputs": [],
   "source": [
    "# удаляем строки, где процедуры не было совсем\n",
    "mitre_attack_df = mitre_attack_df[~mitre_attack_df['sentence'].isna()].reset_index(drop=True)\n"
   ]
  },
  {
   "cell_type": "code",
   "execution_count": null,
   "metadata": {
    "colab": {
     "base_uri": "https://localhost:8080/",
     "height": 305
    },
    "id": "uNWmsMrX1eDh",
    "outputId": "a6f74be3-c1a7-4c8b-f12e-4b9a03ecd696"
   },
   "outputs": [],
   "source": [
    "# удалим ссылочки\n",
    "mitre_attack_df['sentence'] = mitre_attack_df['sentence'].str.replace(r'\\(https://[^\\s]{1,}\\)', r'', regex=True)\n",
    "mitre_attack_df.head(2)"
   ]
  },
  {
   "cell_type": "code",
   "execution_count": null,
   "metadata": {
    "colab": {
     "base_uri": "https://localhost:8080/",
     "height": 475
    },
    "id": "TjxQkQsTRKRT",
    "outputId": "0a3af058-fda4-4fa8-f72c-4ea65abafed9"
   },
   "outputs": [],
   "source": [
    "mitre_attack_df.query('labels==\"T1574.002\"').head(3)"
   ]
  },
  {
   "cell_type": "code",
   "execution_count": null,
   "metadata": {
    "id": "uQ4--W6tt1CV"
   },
   "outputs": [],
   "source": [
    "label2tactic = mitre_attack_df.set_index('labels')['kill_chain_tags'].to_dict()"
   ]
  },
  {
   "cell_type": "markdown",
   "metadata": {
    "id": "z26evyiDuksY"
   },
   "source": [
    "#### dumps"
   ]
  },
  {
   "cell_type": "code",
   "execution_count": null,
   "metadata": {
    "colab": {
     "base_uri": "https://localhost:8080/"
    },
    "id": "9WVJTRpatiqn",
    "outputId": "0a52d727-b351-446c-956d-edf65aa62b4a"
   },
   "outputs": [],
   "source": [
    "joblib.dump(mitre_attack_df[['sentence', 'labels']]\\\n",
    "        .assign(labels = mitre_attack_df['labels'].map(lambda x:[x])), '/content/drive/MyDrive/Colab Notebooks/texts/sec_bert/data/mitre_source.pkl')"
   ]
  },
  {
   "cell_type": "code",
   "execution_count": null,
   "metadata": {
    "colab": {
     "base_uri": "https://localhost:8080/"
    },
    "id": "bGG2TFqNuHde",
    "outputId": "297e227b-b4de-4323-8c5c-a74ad05a688d"
   },
   "outputs": [],
   "source": [
    "joblib.dump(label2tactic, '/content/drive/MyDrive/Colab Notebooks/texts/sec_bert/data/label2tactic.pkl')"
   ]
  },
  {
   "cell_type": "markdown",
   "metadata": {
    "id": "ZD0qthhT56qT"
   },
   "source": [
    "### небольшая eda"
   ]
  },
  {
   "cell_type": "code",
   "execution_count": null,
   "metadata": {
    "colab": {
     "base_uri": "https://localhost:8080/",
     "height": 335
    },
    "id": "qVvpL32K9oQD",
    "outputId": "64967fd4-8a08-4684-c915-9bbdb067b0ab"
   },
   "outputs": [],
   "source": [
    "mitre_df.head(2)"
   ]
  },
  {
   "cell_type": "code",
   "execution_count": null,
   "metadata": {
    "id": "d6wPZEF-Ao8q"
   },
   "outputs": [],
   "source": []
  },
  {
   "cell_type": "markdown",
   "metadata": {
    "id": "UgThHVuoApBm"
   },
   "source": [
    "#### data_sources"
   ]
  },
  {
   "cell_type": "code",
   "execution_count": null,
   "metadata": {
    "colab": {
     "base_uri": "https://localhost:8080/"
    },
    "id": "FMQUSwqjApBn",
    "outputId": "2b65e664-71a2-493b-af20-98ad823453d8"
   },
   "outputs": [],
   "source": [
    "mitre_df['data_sources'].isna().sum(), mitre_df['data_sources'].isna().mean()"
   ]
  },
  {
   "cell_type": "code",
   "execution_count": null,
   "metadata": {
    "colab": {
     "base_uri": "https://localhost:8080/"
    },
    "id": "rReOVoMvApBn",
    "outputId": "b56a12b1-4296-4786-b362-94c417d30d41"
   },
   "outputs": [],
   "source": [
    "temp_df = mitre_df.explode('data_sources')\n",
    "temp_df['data_sources'].nunique() , temp_df.shape[0], temp_df['data_sources'].nunique()/temp_df.shape[0]"
   ]
  },
  {
   "cell_type": "code",
   "execution_count": null,
   "metadata": {
    "colab": {
     "base_uri": "https://localhost:8080/"
    },
    "id": "FXMCRZuQA2R2",
    "outputId": "e5872882-493b-423c-edaa-be3034639935"
   },
   "outputs": [],
   "source": [
    "temp_df['data_sources'].duplicated().mean()"
   ]
  },
  {
   "cell_type": "markdown",
   "metadata": {
    "id": "FTGN1JD-ApBo"
   },
   "source": [
    "- Мало пропусков, 100 уникальных и почти каждая дублируется, может хорошо разделить данные"
   ]
  },
  {
   "cell_type": "markdown",
   "metadata": {
    "id": "TsmCAWk0_Tem"
   },
   "source": [
    "#### permissions"
   ]
  },
  {
   "cell_type": "code",
   "execution_count": null,
   "metadata": {
    "colab": {
     "base_uri": "https://localhost:8080/"
    },
    "id": "-YKfw7u9_bWI",
    "outputId": "2e0801a5-1fe1-466f-aa87-c8eeb4e7602a"
   },
   "outputs": [],
   "source": [
    "mitre_df['effective_permissions'].isna().mean(), mitre_df['permissions'].isna().mean()"
   ]
  },
  {
   "cell_type": "code",
   "execution_count": null,
   "metadata": {
    "colab": {
     "base_uri": "https://localhost:8080/"
    },
    "id": "AlmY35Rg_qF2",
    "outputId": "59540c28-c12b-441e-aaf9-e0322ac332aa"
   },
   "outputs": [],
   "source": [
    "temp_df = mitre_df.explode('permissions')\n",
    "temp_df['permissions'].nunique() , temp_df.shape[0], temp_df['permissions'].nunique()/temp_df.shape[0]"
   ]
  },
  {
   "cell_type": "markdown",
   "metadata": {
    "id": "z7RSiYnE_iHi"
   },
   "source": [
    "- Мало записей с разрешениями\n",
    "- уникальных мало, поэтому можно добавить к эмбеддингу"
   ]
  },
  {
   "cell_type": "markdown",
   "metadata": {
    "id": "KIHF14N4_T3-"
   },
   "source": [
    "#### defense_bypassed"
   ]
  },
  {
   "cell_type": "code",
   "execution_count": null,
   "metadata": {
    "colab": {
     "base_uri": "https://localhost:8080/"
    },
    "id": "V-zzdZztAKXZ",
    "outputId": "27429687-97b0-4161-ab45-2f0678f8cbaa"
   },
   "outputs": [],
   "source": [
    "mitre_df['defense_bypassed'].isna().sum(), mitre_df['defense_bypassed'].isna().mean()"
   ]
  },
  {
   "cell_type": "code",
   "execution_count": null,
   "metadata": {
    "colab": {
     "base_uri": "https://localhost:8080/"
    },
    "id": "UTFSW4RtAdpn",
    "outputId": "91814acf-e446-4dcc-cc4a-bc9f3bffdc7c"
   },
   "outputs": [],
   "source": [
    "temp_df = mitre_df.explode('defense_bypassed')\n",
    "temp_df['defense_bypassed'].nunique() , temp_df.shape[0], temp_df['defense_bypassed'].nunique()/temp_df.shape[0]"
   ]
  },
  {
   "cell_type": "markdown",
   "metadata": {
    "id": "oUIjVDnbAWQ0"
   },
   "source": [
    "- Мало записей с обходом защиты\n",
    "- уникальных 39, поэтому можно добавить к эмбеддингу"
   ]
  },
  {
   "cell_type": "markdown",
   "metadata": {
    "id": "Tc-0X8iX_PGU"
   },
   "source": [
    "#### mit coa"
   ]
  },
  {
   "cell_type": "code",
   "execution_count": null,
   "metadata": {
    "colab": {
     "base_uri": "https://localhost:8080/",
     "height": 1000
    },
    "id": "PGtbDJdTPxiO",
    "outputId": "9a68f346-7e70-4082-dacb-acf925e2b15d"
   },
   "outputs": [],
   "source": [
    "#\tmit_coa\n",
    "mitre_df.explode('mit_coa')"
   ]
  },
  {
   "cell_type": "code",
   "execution_count": null,
   "metadata": {
    "colab": {
     "base_uri": "https://localhost:8080/"
    },
    "id": "a_91NK6rQf13",
    "outputId": "e269a2a6-2971-44fa-fe38-0b391e20b336"
   },
   "outputs": [],
   "source": [
    "mitre_df.explode('mit_coa')['mit_coa'].value_counts().loc[lambda x: x==1].sum(), mitre_df.explode('mit_coa').shape[0]"
   ]
  },
  {
   "cell_type": "markdown",
   "metadata": {
    "id": "6F3kISJSHrbE"
   },
   "source": [
    "#### det_data_comp"
   ]
  },
  {
   "cell_type": "code",
   "execution_count": null,
   "metadata": {
    "colab": {
     "base_uri": "https://localhost:8080/"
    },
    "id": "jpe_xobVQFHg",
    "outputId": "05629950-b06e-46a2-aee0-1c934ba8305f"
   },
   "outputs": [],
   "source": [
    "mitre_df.explode('det_data_comp')['det_data_comp'].value_counts().loc[lambda x: x==1].sum(), mitre_df.explode('det_data_comp').shape[0]"
   ]
  },
  {
   "cell_type": "markdown",
   "metadata": {
    "id": "34BDTk1uHt2i"
   },
   "source": [
    "#### proc_descr_links"
   ]
  },
  {
   "cell_type": "code",
   "execution_count": null,
   "metadata": {
    "colab": {
     "base_uri": "https://localhost:8080/"
    },
    "id": "z4Drkkq2ImA-",
    "outputId": "83fb9cfb-b229-4efd-c106-6b68f87dd60c"
   },
   "outputs": [],
   "source": [
    "mitre_df.explode('proc_descr_links')['proc_descr_links'].value_counts().loc[lambda x: x==1].sum(), mitre_df.explode('proc_descr_links').shape[0]"
   ]
  },
  {
   "cell_type": "markdown",
   "metadata": {
    "id": "a6J7XDLowcDu"
   },
   "source": [
    "proc_descr_links содержит дубли если шо"
   ]
  },
  {
   "cell_type": "markdown",
   "metadata": {
    "id": "t2I9s5SpHwD_"
   },
   "source": [
    "#### proc_software_links"
   ]
  },
  {
   "cell_type": "code",
   "execution_count": null,
   "metadata": {
    "colab": {
     "base_uri": "https://localhost:8080/"
    },
    "id": "BPmf89k59tpt",
    "outputId": "66ed6c38-2c79-4af9-c500-25559417fe51"
   },
   "outputs": [],
   "source": [
    "# столько ссылок software встречаются однократно\n",
    "mitre_df.explode('proc_software_links')['proc_software_links'].value_counts().loc[lambda x: x==1].sum()/mitre_df.explode('proc_software_links').shape[0]"
   ]
  },
  {
   "cell_type": "code",
   "execution_count": null,
   "metadata": {
    "colab": {
     "base_uri": "https://localhost:8080/"
    },
    "id": "Ftv2xOll97Us",
    "outputId": "2632319f-ca57-470b-c0d4-de41081fab2f"
   },
   "outputs": [],
   "source": [
    "mitre_df.explode('proc_software_links')['proc_software_links'].nunique(), mitre_df.explode('proc_software_links').shape[0]"
   ]
  },
  {
   "cell_type": "markdown",
   "metadata": {
    "id": "H1vmbbHbHykI"
   },
   "source": [
    "#### doc_refs"
   ]
  },
  {
   "cell_type": "code",
   "execution_count": null,
   "metadata": {
    "colab": {
     "base_uri": "https://localhost:8080/"
    },
    "id": "9IF2-niF6dQj",
    "outputId": "217dc08c-d32e-4c1a-bf60-01a584ad54f8"
   },
   "outputs": [],
   "source": [
    "# столько ссылок встречаются однократно\n",
    "mitre_df.explode('doc_refs')['doc_refs'].value_counts().loc[lambda x: x==1].sum()/mitre_df.explode('doc_refs').shape[0], mitre_df.explode('doc_refs').shape[0]"
   ]
  },
  {
   "cell_type": "code",
   "execution_count": null,
   "metadata": {
    "colab": {
     "base_uri": "https://localhost:8080/"
    },
    "id": "RfqReVi96McQ",
    "outputId": "4311853b-c02e-467b-f62d-45c4ec5682b4"
   },
   "outputs": [],
   "source": [
    "mitre_df['platforms'].explode().unique()"
   ]
  },
  {
   "cell_type": "code",
   "execution_count": null,
   "metadata": {
    "colab": {
     "base_uri": "https://localhost:8080/"
    },
    "id": "9WcXGDeg3VQF",
    "outputId": "49eede90-2c4e-4e60-f844-b9a556c49e39"
   },
   "outputs": [],
   "source": [
    "mitre_df['kill_chain_tags'].explode().unique()"
   ]
  },
  {
   "cell_type": "code",
   "execution_count": null,
   "metadata": {
    "colab": {
     "base_uri": "https://localhost:8080/",
     "height": 266
    },
    "id": "WEJRa87JAB_3",
    "outputId": "761d511b-6e0a-4155-9180-2ef7183e89c2"
   },
   "outputs": [],
   "source": [
    "# где пусто, там пустые списки\n",
    "for col in ['proc_software_links', 'det_data_comp', 'mit_coa', 'proc_descr_links', 'doc_refs', 'platforms', 'kill_chain_tags']:\n",
    "\n",
    "  display(mitre_df[mitre_df[col].map(lambda x: (len(x)==0) & (not isinstance(x, list)))])"
   ]
  },
  {
   "cell_type": "markdown",
   "metadata": {
    "id": "WfNFvhdEIVkf"
   },
   "source": [
    "- doc_refs немного, но повторения встречаютс только для половины\n",
    "- proc_software_links в 10 раз больше, повторяются почти все\n",
    "- proc_descr_links около 18 тыс. записей,\n",
    "- det_data_comp, mit_coa поменьше можно\n",
    "\n",
    "включаем в общий датасет пока proc_software_links, det_data_comp, mit_coa  и сцепляем. platforms и kill_chain_tags можно потом добавить one hot"
   ]
  },
  {
   "cell_type": "markdown",
   "metadata": {
    "id": "lkWDSoz1xNod"
   },
   "source": [
    "#### subtechnique"
   ]
  },
  {
   "cell_type": "code",
   "execution_count": null,
   "metadata": {
    "id": "1KOWUQDpxQ4a"
   },
   "outputs": [],
   "source": []
  },
  {
   "cell_type": "code",
   "execution_count": null,
   "metadata": {
    "colab": {
     "base_uri": "https://localhost:8080/"
    },
    "id": "SepvpNCNre04",
    "outputId": "8bb84ab4-f987-4dbc-a879-6520c57a1921"
   },
   "outputs": [],
   "source": [
    "mitre_attack_df.loc[(mitre_attack_df.subtechnique!=True), 'labels'].str.len().describe()"
   ]
  },
  {
   "cell_type": "code",
   "execution_count": null,
   "metadata": {
    "colab": {
     "base_uri": "https://localhost:8080/"
    },
    "id": "ZHCBKnpFxHVH",
    "outputId": "90227452-1fa7-4f2f-f1da-1aed9b420613"
   },
   "outputs": [],
   "source": [
    "mitre_attack_df.loc[(mitre_attack_df.subtechnique==True), 'labels'].str.len().describe()"
   ]
  },
  {
   "cell_type": "markdown",
   "metadata": {
    "id": "LUg1zBpp6EUC"
   },
   "source": [
    "### после вытягивания процедур"
   ]
  },
  {
   "cell_type": "code",
   "execution_count": null,
   "metadata": {
    "id": "e_yEZMzejmF7"
   },
   "outputs": [],
   "source": [
    "mitre_df['descr_links'] = mitre_df['sentence'].str.findall('\\((https://[^\\s]{1,})\\)')"
   ]
  },
  {
   "cell_type": "code",
   "execution_count": null,
   "metadata": {
    "colab": {
     "base_uri": "https://localhost:8080/",
     "height": 944
    },
    "id": "231x5N58jmGK",
    "outputId": "aa62b36f-ff78-4f91-af1c-77fac3730804"
   },
   "outputs": [],
   "source": [
    "mitre_df['sentence'] = mitre_df['sentence'].str.replace(r'\\(https://[^\\s]{1,}\\)', r'', regex=True)\n",
    "mitre_df"
   ]
  },
  {
   "cell_type": "code",
   "execution_count": null,
   "metadata": {
    "id": "lEtyui97CZy4"
   },
   "outputs": [],
   "source": []
  },
  {
   "cell_type": "code",
   "execution_count": null,
   "metadata": {
    "colab": {
     "base_uri": "https://localhost:8080/",
     "height": 303
    },
    "id": "O2p7iZt1NS2K",
    "outputId": "6d7f196a-db1b-42b7-c83b-10156d717358"
   },
   "outputs": [],
   "source": [
    "with pd.option_context('display.max_colwidth', 400):\n",
    "  display(mitre_df.query('sentence.str.contains(\"Binary padding effectively changes\")'))"
   ]
  },
  {
   "cell_type": "code",
   "execution_count": null,
   "metadata": {
    "colab": {
     "base_uri": "https://localhost:8080/",
     "height": 1000
    },
    "id": "aUumxMSj_qYq",
    "outputId": "f7c13daf-8b66-4417-cdb8-2771589b5e36"
   },
   "outputs": [],
   "source": [
    "with pd.option_context('display.max_colwidth', 400):\n",
    "  display(mitre_df.query('id==\"attack-pattern--5bfccc3f-2326-4112-86cc-c1ece9d8a2b5\"'))"
   ]
  },
  {
   "cell_type": "markdown",
   "metadata": {
    "id": "KSXmQVZfNM7C"
   },
   "source": [
    "у кого нет процедур, возможно, ссылаются на другие атаки, у кого есть"
   ]
  },
  {
   "cell_type": "markdown",
   "metadata": {
    "id": "YaaZCR7w7SbA"
   },
   "source": [
    "## Проблемы"
   ]
  },
  {
   "cell_type": "markdown",
   "metadata": {
    "id": "tEfDaniD7UvJ"
   },
   "source": [
    "### одинаковое описание разные атаки"
   ]
  },
  {
   "cell_type": "markdown",
   "metadata": {
    "id": "JYfoxSX07T4E"
   },
   "source": [
    "- https://attack.mitre.org/techniques/T1009\n",
    "- https://attack.mitre.org/techniques/T1027.001"
   ]
  },
  {
   "cell_type": "markdown",
   "metadata": {
    "id": "EFA147SV7jfM"
   },
   "source": [
    "удалим почти дубли, надо подумать как"
   ]
  },
  {
   "cell_type": "markdown",
   "metadata": {
    "id": "lhPU_rqK78Js"
   },
   "source": [
    "### на сайте чего-то нет, но есть в данных (правильно?)"
   ]
  },
  {
   "cell_type": "markdown",
   "metadata": {
    "id": "7gpgnDFI7-v7"
   },
   "source": [
    "- некоторые примеры процедур почему-то на сайте не отображаются\n",
    "  - [пример](https://attack.mitre.org/techniques/T1189/), а в ссылках есть (it['relationship_type']=='uses' с id атаки) и [тут](https://service.securitm.ru/mitre/techniques/T1189)"
   ]
  },
  {
   "cell_type": "markdown",
   "metadata": {
    "id": "Nx34_URo8JW3"
   },
   "source": [
    "### нет процедур"
   ]
  },
  {
   "cell_type": "markdown",
   "metadata": {
    "id": "mJeNzWNf8MfX"
   },
   "source": [
    "- хотя ссылаются на другие атаки\n",
    "  - https://attack.mitre.org/techniques/T1066\n",
    "  T1067"
   ]
  },
  {
   "cell_type": "code",
   "execution_count": null,
   "metadata": {
    "colab": {
     "base_uri": "https://localhost:8080/",
     "height": 147
    },
    "id": "fHA1hSVFrMHr",
    "outputId": "3318eae9-b326-4a01-caf5-753d3ac00db4"
   },
   "outputs": [],
   "source": [
    "mitre_df.query('labels.isin([\"T1027.005\", \"T1066\"])')[['name', 'id', 'url', 'mit_coa', 'kill_chain_tags']]"
   ]
  },
  {
   "cell_type": "markdown",
   "metadata": {
    "id": "j_UK-DOgxbX2"
   },
   "source": [
    "Одна запись ссылается на другую при этом у них разные mit_coa"
   ]
  },
  {
   "cell_type": "markdown",
   "metadata": {
    "id": "qIfnyyK-a9hN"
   },
   "source": [
    "- как оценить похожесть текстов"
   ]
  },
  {
   "cell_type": "markdown",
   "metadata": {
    "id": "bn_YtJqJo5hU"
   },
   "source": [
    "## найдем похожие атаки"
   ]
  },
  {
   "cell_type": "markdown",
   "metadata": {
    "id": "un4FPNzyo8P1"
   },
   "source": [
    "- по разделу\n",
    "- по общим сссылкам\n",
    "- по общим описаниям"
   ]
  },
  {
   "cell_type": "markdown",
   "metadata": {
    "id": "11tusJ8HAZvp"
   },
   "source": [
    "# tram"
   ]
  },
  {
   "cell_type": "code",
   "execution_count": null,
   "metadata": {
    "colab": {
     "base_uri": "https://localhost:8080/",
     "height": 424
    },
    "id": "MtSE38Fq3_n1",
    "outputId": "a753b1d7-0db3-473c-92f5-8ffc58fdae3e"
   },
   "outputs": [],
   "source": [
    "tram_data = pd.read_json('/content/drive/MyDrive/Colab Notebooks/texts/sec_bert/scibert/multi_label.json').drop(columns='doc_title')\n",
    "tram_data"
   ]
  },
  {
   "cell_type": "code",
   "execution_count": null,
   "metadata": {
    "colab": {
     "base_uri": "https://localhost:8080/",
     "height": 615
    },
    "id": "vj8NVqU_knfG",
    "outputId": "11fa74e5-8c90-480d-e180-cd0a0d8c7490"
   },
   "outputs": [],
   "source": [
    "data = pd.read_csv('/content/drive/MyDrive/Colab Notebooks/texts/sec_bert/data/data_df.csv')\n",
    "data['labels'] = data['labels'].map(lambda x: eval(x))\n",
    "data"
   ]
  },
  {
   "cell_type": "code",
   "execution_count": null,
   "metadata": {
    "colab": {
     "base_uri": "https://localhost:8080/",
     "height": 53
    },
    "id": "i45x9uRsWQNj",
    "outputId": "c2112cd1-e826-49c6-9ba5-28dbc15ab14d"
   },
   "outputs": [],
   "source": [
    "data[data['labels'].map(lambda x: 'T1027.005' in x)]"
   ]
  },
  {
   "cell_type": "code",
   "execution_count": null,
   "metadata": {
    "colab": {
     "base_uri": "https://localhost:8080/",
     "height": 676
    },
    "id": "NOAyDrmqXGgT",
    "outputId": "27f31e88-27ea-40f6-a876-c9777de4fa78"
   },
   "outputs": [],
   "source": [
    "mitr_data[mitr_data['labels'].map(lambda x: 'T1027.005' in x)]"
   ]
  },
  {
   "cell_type": "markdown",
   "metadata": {
    "id": "kmSVlFghVXkr"
   },
   "source": [
    "# sec bert\n"
   ]
  },
  {
   "cell_type": "code",
   "execution_count": null,
   "metadata": {
    "id": "83uc0kH-roZC"
   },
   "outputs": [],
   "source": [
    "mitr_data = pd.read_csv('/content/drive/MyDrive/Colab Notebooks/texts/sec_bert/data/dataset.txt')\n",
    "mitr_data['labels'] = mitr_data[['label_subtec', 'label_tec']].apply(lambda x: list(set((x[0], x[1]))), axis=1)\n",
    "mitr_data = mitr_data[['sentence', 'labels']]"
   ]
  },
  {
   "cell_type": "code",
   "execution_count": null,
   "metadata": {
    "colab": {
     "base_uri": "https://localhost:8080/"
    },
    "id": "vI63e29Tv_1M",
    "outputId": "ea9c22d1-c73a-4d2b-9c73-755c558f4c72"
   },
   "outputs": [],
   "source": [
    "joblib.dump(mitr_data[['sentence', 'labels']], '/content/drive/MyDrive/Colab Notebooks/texts/sec_bert/data/mitre_alt.pkl')"
   ]
  },
  {
   "cell_type": "markdown",
   "metadata": {
    "id": "2jpLl-SPO_0r"
   },
   "source": [
    "# итоговая выгрузка на ноут"
   ]
  },
  {
   "cell_type": "code",
   "execution_count": null,
   "metadata": {
    "id": "qQ5lwrqOfj-E"
   },
   "outputs": [],
   "source": [
    "import pandas as pd\n",
    "import joblib\n",
    "import numpy as np"
   ]
  },
  {
   "cell_type": "code",
   "execution_count": null,
   "metadata": {
    "id": "bxI2nm2PPCIY"
   },
   "outputs": [],
   "source": [
    "use_old_mitre = False"
   ]
  },
  {
   "cell_type": "code",
   "execution_count": null,
   "metadata": {
    "id": "FEohRXbr5Lu9"
   },
   "outputs": [],
   "source": [
    "tram_df = pd.read_json('/content/drive/MyDrive/Colab Notebooks/texts/sec_bert/scibert/multi_label.json').drop(columns='doc_title')\n"
   ]
  },
  {
   "cell_type": "markdown",
   "metadata": {
    "id": "wdrwB36jTMiq"
   },
   "source": []
  },
  {
   "cell_type": "code",
   "execution_count": null,
   "metadata": {
    "id": "9NSmbqjw66Lv"
   },
   "outputs": [],
   "source": [
    "if use_old_mitre:\n",
    "  mitr_df = joblib.load('/content/drive/MyDrive/Colab Notebooks/texts/sec_bert/data/mitre_alt.pkl')\n",
    "else:\n",
    "  mitr_df = joblib.load('/content/drive/MyDrive/Colab Notebooks/texts/sec_bert/data/mitre_source.pkl')"
   ]
  },
  {
   "cell_type": "code",
   "execution_count": null,
   "metadata": {
    "colab": {
     "base_uri": "https://localhost:8080/",
     "height": 181
    },
    "id": "8LHb4WWhf6b7",
    "outputId": "cfad0567-f26f-4c0c-b8e6-38fe08315925"
   },
   "outputs": [],
   "source": [
    "rep_data  = joblib.load('/content/drive/MyDrive/Colab Notebooks/texts/sec_bert/data/rep_data.pkl')\n",
    "rep_data.head(2)"
   ]
  },
  {
   "cell_type": "code",
   "execution_count": null,
   "metadata": {
    "id": "EnTDSu6k9EYT"
   },
   "outputs": [],
   "source": [
    "df = pd.concat([mitr_df, tram_df], ignore_index=True)"
   ]
  },
  {
   "cell_type": "code",
   "execution_count": null,
   "metadata": {
    "id": "HeG4Bfue-CJN"
   },
   "outputs": [],
   "source": [
    "https://attack.mitre.org/techniques/T1574/002/"
   ]
  },
  {
   "cell_type": "code",
   "execution_count": null,
   "metadata": {
    "colab": {
     "base_uri": "https://localhost:8080/",
     "height": 293
    },
    "id": "OKA397Ek5Gew",
    "outputId": "69bb857f-092f-4d38-d1a3-26dcabc1a680"
   },
   "outputs": [],
   "source": [
    "with pd.option_context('display.max_colwidth', 500):\n",
    "  display(tram_df.head())"
   ]
  },
  {
   "cell_type": "code",
   "execution_count": null,
   "metadata": {
    "id": "yTnWaBlogFBU"
   },
   "outputs": [],
   "source": [
    "df = pd.concat([df, rep_data[['sentence', 'labels']]], ignore_index=True)"
   ]
  },
  {
   "cell_type": "code",
   "execution_count": null,
   "metadata": {
    "colab": {
     "base_uri": "https://localhost:8080/"
    },
    "id": "3X6o7qlw-DiO",
    "outputId": "68910871-1d08-4075-b598-d79264200c90"
   },
   "outputs": [],
   "source": [
    "target = 'tactic'\n",
    "if target == 'tactic':\n",
    "  from itertools import chain\n",
    "  label2tactic = joblib.load('/content/drive/MyDrive/Colab Notebooks/texts/sec_bert/data/label2tactic.pkl')\n",
    "\n",
    "  df['labels'] = df['labels'].map(lambda x: list(chain(*[label2tactic[it] for it in x])))\n",
    "\n",
    "\n",
    "joblib.dump(df, '/content/drive/MyDrive/Colab Notebooks/texts/sec_bert/data/mitre_full_df.pkl')"
   ]
  },
  {
   "cell_type": "code",
   "execution_count": null,
   "metadata": {
    "colab": {
     "base_uri": "https://localhost:8080/",
     "height": 423
    },
    "id": "h28rjq8ATcyY",
    "outputId": "80ab2c33-c84f-4fe2-b82b-930fb06381a1"
   },
   "outputs": [],
   "source": [
    "df"
   ]
  },
  {
   "cell_type": "code",
   "execution_count": null,
   "metadata": {
    "colab": {
     "base_uri": "https://localhost:8080/",
     "height": 80
    },
    "id": "_w5spf4zTYaH",
    "outputId": "140c441c-88e3-4284-af2b-60e9f460c4e2"
   },
   "outputs": [],
   "source": [
    "df[df.sentence.str.contains('The downloader obtains and launches a vulnerable application')]\n"
   ]
  },
  {
   "cell_type": "code",
   "execution_count": null,
   "metadata": {
    "colab": {
     "base_uri": "https://localhost:8080/",
     "height": 206
    },
    "id": "ql63-pbLFi_7",
    "outputId": "eeee2539-08ba-45a8-826b-b70d3dfb5224"
   },
   "outputs": [],
   "source": [
    "df[df['sentence']=='Obfuscated Files or Information']"
   ]
  },
  {
   "cell_type": "code",
   "execution_count": null,
   "metadata": {
    "colab": {
     "base_uri": "https://localhost:8080/",
     "height": 53
    },
    "id": "slFnDYKuGOqi",
    "outputId": "36b1043b-2cb5-4f20-819f-dd5bc85d4e65"
   },
   "outputs": [],
   "source": [
    "word = 'citat'\n",
    "\n",
    "\n",
    "mitr_df.explode('labels').query('labels==\"impact\" and sentence.str.contains(@word)')"
   ]
  },
  {
   "cell_type": "markdown",
   "metadata": {
    "id": "Yo7kb1y02mmQ"
   },
   "source": [
    "# Links\n",
    "- [Потом почитать про аннотирование данных](https://github.com/center-for-threat-informed-defense/tram/wiki/Data-Annotation)"
   ]
  },
  {
   "cell_type": "markdown",
   "metadata": {
    "id": "gwMuo6xv2tXB"
   },
   "source": [
    "# Старое"
   ]
  },
  {
   "cell_type": "code",
   "execution_count": null,
   "metadata": {
    "id": "9vtjevlnrG4u"
   },
   "outputs": [],
   "source": []
  },
  {
   "cell_type": "code",
   "execution_count": null,
   "metadata": {
    "id": "508jlHLRrG7x"
   },
   "outputs": [],
   "source": [
    "add_df_l = []\n",
    "prbl_l = []\n",
    "for row in mitre_df.itertuples():\n",
    "    part_df = pd.DataFrame({'id':row.id, 'labels':row.labels, 'url':row.url, 'proc_flag':True}, index=[0])\n",
    "\n",
    "    sentences = [it['description'] for it in rel_l if (it['target_ref']==row.id) and (it['relationship_type']=='uses')]\n",
    "    if sentences:\n",
    "      add_df_l.append(pd.concat([part_df.assign(sentence=sentence) for sentence in sentences], ignore_index=True))\n",
    "    else:\n",
    "      prbl_l.append(part_df)\n",
    "\n"
   ]
  },
  {
   "cell_type": "code",
   "execution_count": null,
   "metadata": {
    "id": "8h4E2bK-b97_"
   },
   "outputs": [],
   "source": [
    "mitre_df = pd.concat([mitre_df]+add_df_l, ignore_index=True)"
   ]
  }
 ],
 "metadata": {
  "colab": {
   "collapsed_sections": [
    "KIHF14N4_T3-"
   ],
   "provenance": [],
   "toc_visible": true
  },
  "kernelspec": {
   "display_name": "Python 3 (ipykernel)",
   "language": "python",
   "name": "python3"
  },
  "language_info": {
   "codemirror_mode": {
    "name": "ipython",
    "version": 3
   },
   "file_extension": ".py",
   "mimetype": "text/x-python",
   "name": "python",
   "nbconvert_exporter": "python",
   "pygments_lexer": "ipython3",
   "version": "3.10.14"
  }
 },
 "nbformat": 4,
 "nbformat_minor": 4
}
