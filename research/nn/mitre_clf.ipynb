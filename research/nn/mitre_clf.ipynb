{
 "cells": [
  {
   "cell_type": "markdown",
   "metadata": {
    "id": "MjepYhYNDAeV"
   },
   "source": [
    "# Настройка среды локально"
   ]
  },
  {
   "cell_type": "code",
   "execution_count": 1,
   "metadata": {
    "tags": []
   },
   "outputs": [],
   "source": [
    "%load_ext autoreload\n",
    "%autoreload 2"
   ]
  },
  {
   "cell_type": "raw",
   "metadata": {
    "scrolled": true,
    "tags": []
   },
   "source": [
    "import sys\n",
    "!{sys.executable} -m pip install py3nvml\n"
   ]
  },
  {
   "cell_type": "code",
   "execution_count": 2,
   "metadata": {},
   "outputs": [],
   "source": [
    "import os\n",
    "os.chdir('C://work/dev/python/progs/texts/sec_bert/')"
   ]
  },
  {
   "cell_type": "code",
   "execution_count": 3,
   "metadata": {},
   "outputs": [],
   "source": [
    "from ruamel.yaml import YAML\n",
    "\n",
    "\n",
    "\n",
    "conf = YAML().load(open('params.yaml'))"
   ]
  },
  {
   "cell_type": "markdown",
   "metadata": {
    "id": "MjepYhYNDAeV"
   },
   "source": [
    "# Настройка среды в облаке"
   ]
  },
  {
   "cell_type": "raw",
   "metadata": {
    "colab": {
     "base_uri": "https://localhost:8080/"
    },
    "id": "4Q0i_RAMzES9",
    "outputId": "26555077-e4e2-4857-f789-d74022683f03"
   },
   "source": [
    "!pip install datasets -q\n",
    "!pip install transformers[torch] -q\n",
    "!pip install accelerate -U -q\n",
    "!pip install iterative-stratification"
   ]
  },
  {
   "cell_type": "raw",
   "metadata": {
    "colab": {
     "base_uri": "https://localhost:8080/"
    },
    "id": "BjqcBSd9id58",
    "outputId": "f0de4946-5b99-4d86-e14a-af4511f2472e"
   },
   "source": [
    "!mkdir scibert_multi_label_model\n",
    "!wget https://ctidtram.blob.core.windows.net/tram-models/multi-label-20230803/config.json -O scibert_multi_label_model/config.json\n",
    "!wget https://ctidtram.blob.core.windows.net/tram-models/multi-label-20230803/pytorch_model.bin -O scibert_multi_label_model/pytorch_model.bin\n"
   ]
  },
  {
   "cell_type": "markdown",
   "metadata": {
    "id": "84jLHJ40C9AQ"
   },
   "source": [
    "# Препроцессинг"
   ]
  },
  {
   "cell_type": "code",
   "execution_count": 4,
   "metadata": {
    "id": "zGIRJ8U76dDG"
   },
   "outputs": [],
   "source": [
    "import pandas as pd\n",
    "import numpy as np\n",
    "SEED = 0\n",
    "np.random.seed(SEED)\n",
    "import joblib\n",
    "from sklearn.metrics import average_precision_score\n"
   ]
  },
  {
   "cell_type": "code",
   "execution_count": 5,
   "metadata": {
    "id": "I-zUX2n_Ifxl"
   },
   "outputs": [],
   "source": [
    "import torch\n",
    "torch.manual_seed(0)\n",
    "from torch.utils.data import DataLoader\n",
    "\n",
    "DEVICE = torch.device(\"cuda\") if torch.cuda.is_available() else torch.device(\"cpu\")\n",
    "torch.cuda.manual_seed_all(0)"
   ]
  },
  {
   "cell_type": "code",
   "execution_count": 6,
   "metadata": {
    "id": "3g2-dDVdH1ld"
   },
   "outputs": [
    {
     "name": "stderr",
     "output_type": "stream",
     "text": [
      "C:\\tools\\Anaconda3\\envs\\pytorch_env\\lib\\site-packages\\tqdm\\auto.py:21: TqdmWarning: IProgress not found. Please update jupyter and ipywidgets. See https://ipywidgets.readthedocs.io/en/stable/user_install.html\n",
      "  from .autonotebook import tqdm as notebook_tqdm\n"
     ]
    }
   ],
   "source": [
    "from transformers import BertTokenizer, BertForSequenceClassification\n",
    "from transformers import AutoTokenizer, AutoModelForMaskedLM, BertConfig, AutoModel\n",
    "from transformers import DataCollatorWithPadding\n",
    "from transformers import RobertaTokenizer, RobertaModel\n"
   ]
  },
  {
   "cell_type": "markdown",
   "metadata": {
    "id": "_xo6lDSZ1MT6"
   },
   "source": [
    "## функции"
   ]
  },
  {
   "cell_type": "code",
   "execution_count": 7,
   "metadata": {
    "id": "ExkDgYRN1Nhn"
   },
   "outputs": [],
   "source": [
    "from src.train_eval_model import metric_multi"
   ]
  },
  {
   "cell_type": "code",
   "execution_count": 9,
   "metadata": {
    "id": "f9XJfNqyMjZU"
   },
   "outputs": [],
   "source": [
    "from itertools import chain\n",
    "from collections import defaultdict\n",
    "\n",
    "def get_preds(model, ld):\n",
    "\n",
    "    model.eval()\n",
    "    res_d = defaultdict(list)\n",
    "\n",
    "    with torch.no_grad():\n",
    "        for batch in ld:\n",
    "            pred = model(batch)\n",
    "            sigm_preds = pred.sigmoid().cpu()\n",
    "            res_d['target'].append(batch['target'].numpy())\n",
    "            res_d['pred'].append(sigm_preds.numpy())\n",
    "\n",
    "    res_d['target'] = list(chain(*res_d['target']))\n",
    "    res_d['pred'] = list(chain(*res_d['pred']))\n",
    "\n",
    "    return res_d"
   ]
  },
  {
   "cell_type": "markdown",
   "metadata": {
    "id": "4Jxuv8oelLIm"
   },
   "source": [
    "## переменные\n"
   ]
  },
  {
   "cell_type": "code",
   "execution_count": 10,
   "metadata": {
    "id": "T6dnaX336_Tc"
   },
   "outputs": [],
   "source": [
    "use_old_mitre = False\n",
    "target = 'tactic' # 'tech', 'subtech'\n",
    "\n",
    "TRAIN_BATCH_SIZE = 8\n",
    "VALID_BATCH_SIZE = 8\n",
    "\n",
    "MAX_SEQ_LENGTH = 128\n",
    "\n",
    "DROPOUT_RATIO = 0.3\n",
    "\n",
    "MODE = 'cls' # pooler\n",
    "\n",
    "LEARNING_RATE = 1e-5\n",
    "EPOCH_NUM = 10\n",
    "\n"
   ]
  },
  {
   "cell_type": "markdown",
   "metadata": {
    "id": "9Fvxmd_WC58I"
   },
   "source": [
    "## загрузка датасета и формирование target"
   ]
  },
  {
   "cell_type": "code",
   "execution_count": 12,
   "metadata": {},
   "outputs": [],
   "source": [
    "mlb = joblib.load(conf['prep_text']['mlb_fn'])\n",
    "data = pd.read_csv(conf['feat_gen']['data_fn'])\n",
    "\n",
    "data['target'] = data['target'].map(lambda x: eval(x))\n",
    "data['labels'] = data['labels'].map(lambda x: eval(x))\n",
    "tr_idx = data.query('split==\"tr\"').index\n",
    "val_idx = data.query('split==\"val\"').index\n",
    "ts_idx = data.query('split==\"ts\"').index"
   ]
  },
  {
   "cell_type": "markdown",
   "metadata": {
    "id": "MOqRoJLDd2uu"
   },
   "source": [
    "# Моделирование"
   ]
  },
  {
   "cell_type": "markdown",
   "metadata": {
    "id": "cb2MZSlRkxq8"
   },
   "source": [
    "## загрузка модели"
   ]
  },
  {
   "cell_type": "markdown",
   "metadata": {},
   "source": []
  },
  {
   "cell_type": "code",
   "execution_count": 14,
   "metadata": {
    "colab": {
     "base_uri": "https://localhost:8080/",
     "height": 205,
     "referenced_widgets": [
      "1ccd2a13d8aa44afb8c02c8c081aaedf",
      "ea12986f5c994964b7ddffc0762e98a3",
      "1412e2c8ecea46efa4a75a29a6c66757",
      "9010179ef7eb4730b87e1cff291ac1ac",
      "f0ab725516cb468d93a13cc6b0f7d8b1",
      "9209f94cac044169b04fee78097110f7",
      "d09d742055bc4a3c9fc3bef0bdacf84f",
      "fccd16c42c0f4cd9bf55d69539898737",
      "749890e8d8d84ab0b420a2212ebc4e76",
      "607bdcfcddb7410ca93f953ba635d2d9",
      "d51433921bd4498a9dbdba38c082a207",
      "16d9bd41cf0540ea8f5f20b877d10504",
      "47ea94a1e5a245cd80202f00fbb77fb6",
      "f2f7506de6084ad297d33b35d5ae7555",
      "f24afc40e7a64a768888d3f5e9d90906",
      "153e906e928d49b78424a8d7d8c7f8e6",
      "0ba7ebb675e24d7eaaab5208da688a6e",
      "d0f4ad279ebd440f8b23d42a47fdca55",
      "cecd1ef9d14b4d66872e4e1a16d70376",
      "4ce030fe73ae454689669ac2f06f633d",
      "eb0305267ce64fe2bf2b38aa2573a4fd",
      "2d636289925a4cb18dc0a21b1a7c07a5"
     ]
    },
    "id": "X8dps8eDd1ub",
    "outputId": "ea4167a7-6dd9-44ad-d718-d02765ccbfd9",
    "scrolled": true
   },
   "outputs": [
    {
     "name": "stderr",
     "output_type": "stream",
     "text": [
      "Some weights of RobertaModel were not initialized from the model checkpoint at ehsanaghaei/SecureBERT_Plus and are newly initialized: ['roberta.pooler.dense.bias', 'roberta.pooler.dense.weight']\n",
      "You should probably TRAIN this model on a down-stream task to be able to use it for predictions and inference.\n"
     ]
    }
   ],
   "source": [
    "checkpoint = \"ehsanaghaei/SecureBERT_Plus\"\n",
    "tokenizer = RobertaTokenizer.from_pretrained(checkpoint)\n",
    "model = RobertaModel.from_pretrained(checkpoint, output_hidden_states=True)\n",
    "tokenizer_opts = {'max_length':MAX_SEQ_LENGTH, 'return_tensors':\"pt\", 'padding':True, 'truncation':True, 'add_special_tokens':True}\n",
    "bert_model= model\n",
    "\n",
    "# checkpoint = 'allenai/scibert_scivocab_uncased'\n",
    "# tokenizer = BertTokenizer.from_pretrained(checkpoint, max_length=512)\n",
    "# model = BertForSequenceClassification.from_pretrained('scibert_multi_label_model')\n",
    "# bert_model= model.bert\n",
    "# tokenizer_opts = {'return_tensors':\"pt\", 'truncation':True,\n",
    "#                   'padding':'max_length', 'max_length':MAX_SEQ_LENGTH}\n",
    "\n",
    "# checkpoint = \"jackaduma/SecBERT\"\n",
    "# tokenizer = AutoTokenizer.from_pretrained(checkpoint)\n",
    "# tokenizer_opts = {'max_length':MAX_SEQ_LENGTH, 'return_tensors':\"pt\", 'padding':True, 'truncation':True, 'add_special_tokens':True}\n",
    "# config = BertConfig.from_pretrained(checkpoint, output_hidden_states=True)\n",
    "# bert_model = AutoModel.from_pretrained(checkpoint, config=config).base_model"
   ]
  },
  {
   "cell_type": "markdown",
   "metadata": {
    "id": "ZpPV8aYNIBvY"
   },
   "source": [
    "## подготовка данных"
   ]
  },
  {
   "cell_type": "code",
   "execution_count": 16,
   "metadata": {
    "id": "b9xshGDmo1sw"
   },
   "outputs": [],
   "source": [
    "from torch.utils.data import Dataset\n",
    "\n",
    "class TextDFDataset(Dataset):\n",
    "\n",
    "    def __init__(self, df):\n",
    "\n",
    "      self.df = df\n",
    "\n",
    "    def __getitem__(self, idx):\n",
    "      # import pdb;pdb.set_trace()\n",
    "      tok_d = tokenizer(self.df.loc[self.df.index[idx], 'sentence'], **tokenizer_opts)\n",
    "\n",
    "      return {**{k:v.flatten() for k,v in tok_d.items()}, **{'target':torch.tensor(self.df.loc[self.df.index[idx], 'target'], dtype=torch.float)}}\n",
    "\n",
    "    def __len__(self):\n",
    "\n",
    "      return self.df.shape[0]\n",
    "\n",
    "tr_ds = TextDFDataset(data.query('split==\"tr\"').reset_index(drop=True))\n",
    "val_ds = TextDFDataset(data.query('split==\"val\"').reset_index(drop=True))\n",
    "ts_ds = TextDFDataset(data.query('split==\"ts\"').reset_index(drop=True))\n"
   ]
  },
  {
   "cell_type": "code",
   "execution_count": 17,
   "metadata": {
    "id": "YAwramXdjhfk"
   },
   "outputs": [],
   "source": [
    "tr_ld = DataLoader(tr_ds, batch_size = TRAIN_BATCH_SIZE, shuffle = True, collate_fn = DataCollatorWithPadding(tokenizer=tokenizer))\n",
    "val_ld = DataLoader(val_ds, batch_size = VALID_BATCH_SIZE, shuffle = False, collate_fn = DataCollatorWithPadding(tokenizer=tokenizer))\n",
    "ts_ld = DataLoader(ts_ds, batch_size = VALID_BATCH_SIZE, shuffle = False, collate_fn = DataCollatorWithPadding(tokenizer=tokenizer))"
   ]
  },
  {
   "cell_type": "markdown",
   "metadata": {
    "id": "Jfmbgp0ybHD4"
   },
   "source": [
    "### проверка"
   ]
  },
  {
   "cell_type": "code",
   "execution_count": 18,
   "metadata": {
    "id": "aruPAx7zlOsU"
   },
   "outputs": [],
   "source": [
    "batch = next(iter(val_ld))\n"
   ]
  },
  {
   "cell_type": "markdown",
   "metadata": {
    "id": "UjHbfG2fmsjY"
   },
   "source": [
    "## архитектура модели"
   ]
  },
  {
   "cell_type": "code",
   "execution_count": 20,
   "metadata": {},
   "outputs": [
    {
     "data": {
      "text/plain": [
       "14"
      ]
     },
     "execution_count": 20,
     "metadata": {},
     "output_type": "execute_result"
    }
   ],
   "source": [
    "len(mlb.classes_)"
   ]
  },
  {
   "cell_type": "code",
   "execution_count": 22,
   "metadata": {
    "id": "W-CNLxzopjAW"
   },
   "outputs": [],
   "source": [
    "class TextModelClass(torch.nn.Module):\n",
    "\n",
    "    def __init__(self, classnum, dropout_ratio):\n",
    "\n",
    "        super().__init__()\n",
    "        self.bert = bert_model\n",
    "        self.lin = torch.nn.Linear(768, 768)\n",
    "        self.drop_out = torch.nn.Dropout(dropout_ratio)\n",
    "        self.lin_out = torch.nn.Linear(768, classnum)\n",
    "\n",
    "    def forward(self, X):\n",
    "\n",
    "        out = self.bert(**{k: v.to(DEVICE) for k, v in X.items() if k!='target'})\n",
    "        if MODE=='cls':\n",
    "            out = out.last_hidden_state[:,0,:]\n",
    "        elif MODE=='pooler':\n",
    "            out = out.pooler_output\n",
    "        out = self.lin(out)\n",
    "        out = torch.nn.ReLU()(out)\n",
    "        out = self.drop_out(out)\n",
    "        out = self.lin_out(out)\n",
    "\n",
    "        return out\n",
    "\n",
    "model = TextModelClass(classnum=len(mlb.classes_), dropout_ratio=DROPOUT_RATIO)\n",
    "model = model.to(DEVICE)\n",
    "\n"
   ]
  },
  {
   "cell_type": "code",
   "execution_count": 23,
   "metadata": {
    "id": "H9rAmZTTmxO0"
   },
   "outputs": [],
   "source": [
    "# Заморозьте все слои\n",
    "for param in model.bert.parameters():\n",
    "    param.requires_grad = False"
   ]
  },
  {
   "cell_type": "markdown",
   "metadata": {
    "id": "l13SXRYOWrf1"
   },
   "source": [
    "### проверка"
   ]
  },
  {
   "cell_type": "markdown",
   "metadata": {
    "id": "yHyiwJq0Whlq"
   },
   "source": [
    "out = model(batch)\n",
    "out"
   ]
  },
  {
   "cell_type": "markdown",
   "metadata": {
    "id": "ODLv8L7C94UC"
   },
   "source": [
    "## обучение"
   ]
  },
  {
   "cell_type": "code",
   "execution_count": 24,
   "metadata": {
    "colab": {
     "base_uri": "https://localhost:8080/",
     "height": 49,
     "referenced_widgets": [
      "f8caa329869745d696a7e3de26a7c73e",
      "c3d20ec05b7043448fdb24cbd8ef5ac6",
      "0882ddb6162943b6b4ff34ebee4f4d41",
      "03fda7025890417da9a07468bfcdc608",
      "69aaddfa8ce046dbb5629e7ca1bfba90",
      "96109246071c4bcab5c489bf0f0c1fda",
      "c1627c7bf1024ed5bd2357dc2bdf5b97",
      "5aa11edbc82c47b1b2408db5589a7bef",
      "1cb6884c4d4e466a9e4cf31b3894fb6b",
      "7c585dd04e984b6d96a296fbf40f7b4f",
      "11a77ad1e6fc4b91bafc051f20082bad"
     ]
    },
    "id": "st_amtTHigYE",
    "outputId": "6752325c-cb10-4331-8cad-a1ca8319ef5b"
   },
   "outputs": [
    {
     "name": "stderr",
     "output_type": "stream",
     "text": [
      " 20%|████████████████▌                                                                  | 1/5 [04:08<16:34, 248.54s/it]\n",
      "KeyboardInterrupt\n",
      "\n"
     ]
    }
   ],
   "source": [
    "from tqdm.auto import tqdm\n",
    "\n",
    "EPOCH_NUM = 5\n",
    "loss_fn = torch.nn.BCEWithLogitsLoss()\n",
    "\n",
    "# optimizer = torch.optim.Adam(params =  model.parameters(), lr=LEARNING_RATE)\n",
    "optimizer = torch.optim.RMSprop(model.parameters(), lr=LEARNING_RATE)\n",
    "\n",
    "val_iter_num = 1\n",
    "refresh_cache_iter = 10\n",
    "progress_bar = tqdm(range(EPOCH_NUM))\n",
    "\n",
    "loss_d = {}\n",
    "\n",
    "model = model.to(DEVICE)\n",
    "\n",
    "for epoch in range(1, EPOCH_NUM+1):\n",
    "    loss_tr_l = []\n",
    "    model.train()\n",
    "    tr_batch_num = len(tr_ld)\n",
    "    tr_loss_epoch = 0\n",
    "    for batch_tr in tr_ld:\n",
    "        out = model(batch_tr)\n",
    "        # import pdb;pdb.set_trace()\n",
    "        optimizer.zero_grad()\n",
    "\n",
    "        loss = loss_fn(out, batch_tr['target'].to(DEVICE))\n",
    "        loss.backward()\n",
    "        optimizer.step()\n",
    "        tr_loss_epoch = tr_loss_epoch + loss.item()\n",
    "        \n",
    "\n",
    "    if epoch%val_iter_num==0:\n",
    "        model.eval()\n",
    "        val_batch_num = len(val_ld)\n",
    "        val_loss_epoch = 0\n",
    "        pr_auc = 0\n",
    "        res_d = defaultdict(list)\n",
    "        with torch.no_grad():\n",
    "            for batch_val in val_ld:\n",
    "                pred = model(batch_val)\n",
    "                val_loss = loss_fn(pred, batch_val['target'].to(DEVICE))\n",
    "                val_loss_epoch = val_loss_epoch+val_loss.item()\n",
    "                sigm_preds = pred.sigmoid().cpu()\n",
    "\n",
    "                pr_auc = pr_auc + metric_multi(batch_val['target'].numpy(), sigm_preds.numpy(), average_precision_score)[0]\n",
    "\n",
    "                res_d['target'].append(batch_val['target'].numpy())\n",
    "                res_d['pred'].append(sigm_preds.numpy())\n",
    "\n",
    "            res_d['target'] = list(chain(*res_d['target']))\n",
    "            res_d['pred'] = list(chain(*res_d['pred']))\n",
    "\n",
    "    loss_d[epoch] = {'loss_tr':tr_loss_epoch/tr_batch_num,\n",
    "                      'loss_val':val_loss_epoch/val_batch_num,\n",
    "                    'pr_auc_batch':pr_auc/val_batch_num,\n",
    "                     'pr_auc':metric_multi(np.array(res_d['target']), np.array(res_d['pred']), average_precision_score)[0]}\n",
    "\n",
    "    progress_bar.update(1)"
   ]
  },
  {
   "cell_type": "code",
   "execution_count": 41,
   "metadata": {
    "colab": {
     "base_uri": "https://localhost:8080/"
    },
    "id": "x-vvM4rXYCHn",
    "outputId": "220b90eb-9dfc-44c3-8e1a-f1f95b4ba709"
   },
   "outputs": [
    {
     "data": {
      "text/plain": [
       "[0.3710388512426114,\n",
       " 0.40038585810994426,\n",
       " 0.4263454602383034,\n",
       " 0.450738006405177,\n",
       " 0.47223063070978405]"
      ]
     },
     "execution_count": 41,
     "metadata": {},
     "output_type": "execute_result"
    }
   ],
   "source": [
    "[it['pr_auc'] for it in loss_d.values()]"
   ]
  },
  {
   "cell_type": "code",
   "execution_count": 42,
   "metadata": {
    "colab": {
     "base_uri": "https://localhost:8080/"
    },
    "id": "WIU1l48fiL3G",
    "outputId": "bbb57b62-c93b-48c2-9b04-6b625d24eb6f"
   },
   "outputs": [
    {
     "data": {
      "text/plain": [
       "[0.1306697061026898,\n",
       " 0.12292649539904363,\n",
       " 0.11735514902479105,\n",
       " 0.11313511422023881,\n",
       " 0.10940911666288951]"
      ]
     },
     "execution_count": 42,
     "metadata": {},
     "output_type": "execute_result"
    }
   ],
   "source": [
    "[it['loss_val'] for it in loss_d.values()]"
   ]
  },
  {
   "cell_type": "code",
   "execution_count": 43,
   "metadata": {
    "colab": {
     "base_uri": "https://localhost:8080/"
    },
    "id": "WIU1l48fiL3G",
    "outputId": "bbb57b62-c93b-48c2-9b04-6b625d24eb6f"
   },
   "outputs": [
    {
     "data": {
      "text/plain": [
       "[0.1427033097231644,\n",
       " 0.13402065215815584,\n",
       " 0.12762271530379762,\n",
       " 0.12275041699915964,\n",
       " 0.11897184678581618]"
      ]
     },
     "execution_count": 43,
     "metadata": {},
     "output_type": "execute_result"
    }
   ],
   "source": [
    "[it['loss_tr'] for it in loss_d.values()]"
   ]
  },
  {
   "cell_type": "code",
   "execution_count": null,
   "metadata": {
    "id": "8Hh03PtqGYwh"
   },
   "outputs": [],
   "source": [
    "0.62 pr_auc на val, надо на переобучение смотреть\n",
    "\n",
    "- 130 эпох\n",
    "- batch = 8\n",
    "- seq_len = 128\n",
    "- можно со скоростью поиграть еще"
   ]
  },
  {
   "cell_type": "markdown",
   "metadata": {
    "id": "wCKWQgfH4Rgt"
   },
   "source": [
    "# Дотренировка"
   ]
  },
  {
   "cell_type": "code",
   "execution_count": null,
   "metadata": {
    "id": "1JoDZmv_pKAU"
   },
   "outputs": [],
   "source": [
    "# !mkdir '/content/drive/MyDrive/Colab Notebooks/texts/sec_bert/data/models'"
   ]
  },
  {
   "cell_type": "code",
   "execution_count": 44,
   "metadata": {
    "id": "EgkzBpKx7nLu"
   },
   "outputs": [],
   "source": [
    "# torch.save(model, 'data/models/jackaduma_model130.pt')\n",
    "torch.save(model, 'data/models/secbertplus7.pt')\n",
    "# torch.save(model, '/content/drive/MyDrive/Colab Notebooks/texts/sec_bert/data/models/allenai_model12.pt')"
   ]
  },
  {
   "cell_type": "code",
   "execution_count": null,
   "metadata": {
    "id": "A7017wxd4Yi1"
   },
   "outputs": [],
   "source": [
    "# model= torch.load('/content/drive/MyDrive/Colab Notebooks/texts/sec_bert/data/models/jackaduma_model15.pt')\n",
    "model= torch.load('/content/drive/MyDrive/Colab Notebooks/texts/sec_bert/data/models/allenai_model6.pt')"
   ]
  },
  {
   "cell_type": "markdown",
   "metadata": {
    "id": "nY2jmDjx3V8P"
   },
   "source": [
    "# Проверка предсказаний"
   ]
  },
  {
   "cell_type": "code",
   "execution_count": 77,
   "metadata": {
    "id": "ffkCOiTG995-"
   },
   "outputs": [],
   "source": [
    "res_val = get_preds(model, ld=val_ld)\n",
    "res_tr = get_preds(model, ld=tr_ld)"
   ]
  },
  {
   "cell_type": "code",
   "execution_count": 78,
   "metadata": {
    "id": "ffkCOiTG995-"
   },
   "outputs": [],
   "source": [
    "res_ts = get_preds(model, ld=ts_ld)"
   ]
  },
  {
   "cell_type": "code",
   "execution_count": 80,
   "metadata": {
    "id": "GpNLhxyDEhxt"
   },
   "outputs": [
    {
     "name": "stdout",
     "output_type": "stream",
     "text": [
      "0.6283845738053753\n",
      "0.8246917459390393\n",
      "0.6080092609464837\n"
     ]
    }
   ],
   "source": [
    "fin_metric, res_l = metric_multi(np.array(res_val['target']), np.array(res_val['pred']), average_precision_score)\n",
    "print(fin_metric)\n",
    "res_val_df = pd.DataFrame({'qual':res_l, 'class':mlb.classes_})\n",
    "\n",
    "fin_metric, res_l = metric_multi(np.array(res_tr['target']), np.array(res_tr['pred']), average_precision_score)\n",
    "print(fin_metric)\n",
    "res_tr_df = pd.DataFrame({'qual':res_l, 'class':mlb.classes_})\n",
    "\n",
    "fin_metric, res_l = metric_multi(np.array(res_ts['target']), np.array(res_ts['pred']), average_precision_score)\n",
    "print(fin_metric)\n",
    "res_ts_df = pd.DataFrame({'qual':res_l, 'class':mlb.classes_})"
   ]
  },
  {
   "cell_type": "code",
   "execution_count": 86,
   "metadata": {
    "colab": {
     "base_uri": "https://localhost:8080/",
     "height": 206
    },
    "id": "oG02WSmdKSbI",
    "outputId": "0a24d3ad-476f-4389-80f5-c981456592c6"
   },
   "outputs": [
    {
     "data": {
      "text/html": [
       "<div>\n",
       "<style scoped>\n",
       "    .dataframe tbody tr th:only-of-type {\n",
       "        vertical-align: middle;\n",
       "    }\n",
       "\n",
       "    .dataframe tbody tr th {\n",
       "        vertical-align: top;\n",
       "    }\n",
       "\n",
       "    .dataframe thead th {\n",
       "        text-align: right;\n",
       "    }\n",
       "</style>\n",
       "<table border=\"1\" class=\"dataframe\">\n",
       "  <thead>\n",
       "    <tr style=\"text-align: right;\">\n",
       "      <th></th>\n",
       "      <th>qual</th>\n",
       "      <th>class</th>\n",
       "    </tr>\n",
       "  </thead>\n",
       "  <tbody>\n",
       "    <tr>\n",
       "      <th>0</th>\n",
       "      <td>0.688127</td>\n",
       "      <td>defense-evasion</td>\n",
       "    </tr>\n",
       "    <tr>\n",
       "      <th>1</th>\n",
       "      <td>0.643182</td>\n",
       "      <td>privilege-escalation</td>\n",
       "    </tr>\n",
       "    <tr>\n",
       "      <th>2</th>\n",
       "      <td>0.677441</td>\n",
       "      <td>execution</td>\n",
       "    </tr>\n",
       "    <tr>\n",
       "      <th>3</th>\n",
       "      <td>0.635038</td>\n",
       "      <td>persistence</td>\n",
       "    </tr>\n",
       "    <tr>\n",
       "      <th>4</th>\n",
       "      <td>0.789678</td>\n",
       "      <td>command-and-control</td>\n",
       "    </tr>\n",
       "    <tr>\n",
       "      <th>5</th>\n",
       "      <td>0.602379</td>\n",
       "      <td>collection</td>\n",
       "    </tr>\n",
       "    <tr>\n",
       "      <th>6</th>\n",
       "      <td>0.307826</td>\n",
       "      <td>lateral-movement</td>\n",
       "    </tr>\n",
       "    <tr>\n",
       "      <th>7</th>\n",
       "      <td>0.551490</td>\n",
       "      <td>credential-access</td>\n",
       "    </tr>\n",
       "    <tr>\n",
       "      <th>9</th>\n",
       "      <td>0.718708</td>\n",
       "      <td>resource-development</td>\n",
       "    </tr>\n",
       "    <tr>\n",
       "      <th>10</th>\n",
       "      <td>0.678109</td>\n",
       "      <td>reconnaissance</td>\n",
       "    </tr>\n",
       "    <tr>\n",
       "      <th>11</th>\n",
       "      <td>0.372998</td>\n",
       "      <td>impact</td>\n",
       "    </tr>\n",
       "    <tr>\n",
       "      <th>12</th>\n",
       "      <td>0.509775</td>\n",
       "      <td>initial-access</td>\n",
       "    </tr>\n",
       "    <tr>\n",
       "      <th>13</th>\n",
       "      <td>0.512851</td>\n",
       "      <td>exfiltration</td>\n",
       "    </tr>\n",
       "  </tbody>\n",
       "</table>\n",
       "</div>"
      ],
      "text/plain": [
       "        qual                 class\n",
       "0   0.688127       defense-evasion\n",
       "1   0.643182  privilege-escalation\n",
       "2   0.677441             execution\n",
       "3   0.635038           persistence\n",
       "4   0.789678   command-and-control\n",
       "5   0.602379            collection\n",
       "6   0.307826      lateral-movement\n",
       "7   0.551490     credential-access\n",
       "9   0.718708  resource-development\n",
       "10  0.678109        reconnaissance\n",
       "11  0.372998                impact\n",
       "12  0.509775        initial-access\n",
       "13  0.512851          exfiltration"
      ]
     },
     "execution_count": 86,
     "metadata": {},
     "output_type": "execute_result"
    }
   ],
   "source": [
    "res_ts_df.query('qual<0.8')"
   ]
  },
  {
   "cell_type": "code",
   "execution_count": null,
   "metadata": {
    "colab": {
     "base_uri": "https://localhost:8080/"
    },
    "id": "KJ_wLxL2Mig9",
    "outputId": "05314898-6a58-4bc6-801d-cc0693c83170"
   },
   "outputs": [
    {
     "data": {
      "text/plain": [
       "0     0.622477\n",
       "1     0.511515\n",
       "2     0.511755\n",
       "3     0.453695\n",
       "4     0.653399\n",
       "5     0.459702\n",
       "8     0.808540\n",
       "12    0.427619\n",
       "Name: qual, dtype: float64"
      ]
     },
     "execution_count": 91,
     "metadata": {},
     "output_type": "execute_result"
    }
   ],
   "source": [
    "res_val_df.query('qual>0.4')['qual']"
   ]
  },
  {
   "cell_type": "code",
   "execution_count": null,
   "metadata": {
    "colab": {
     "base_uri": "https://localhost:8080/",
     "height": 229
    },
    "id": "krOqTDyOMrl8",
    "outputId": "74f72ba2-efa0-431e-d90b-6cacf6ac514d"
   },
   "outputs": [
    {
     "data": {
      "application/vnd.google.colaboratory.intrinsic+json": {
       "summary": "{\n  \"name\": \"df\",\n  \"rows\": 3,\n  \"fields\": [\n    {\n      \"column\": \"split\",\n      \"properties\": {\n        \"dtype\": \"string\",\n        \"num_unique_values\": 3,\n        \"samples\": [\n          \"tr\",\n          \"ts\",\n          \"val\"\n        ],\n        \"semantic_type\": \"\",\n        \"description\": \"\"\n      }\n    },\n    {\n      \"column\": \"collection\",\n      \"properties\": {\n        \"dtype\": \"number\",\n        \"std\": 693,\n        \"min\": 52,\n        \"max\": 1253,\n        \"num_unique_values\": 2,\n        \"samples\": [\n          52,\n          1253\n        ],\n        \"semantic_type\": \"\",\n        \"description\": \"\"\n      }\n    },\n    {\n      \"column\": \"command-and-control\",\n      \"properties\": {\n        \"dtype\": \"number\",\n        \"std\": 1415,\n        \"min\": 106,\n        \"max\": 2559,\n        \"num_unique_values\": 3,\n        \"samples\": [\n          2559,\n          106\n        ],\n        \"semantic_type\": \"\",\n        \"description\": \"\"\n      }\n    },\n    {\n      \"column\": \"credential-access\",\n      \"properties\": {\n        \"dtype\": \"number\",\n        \"std\": 536,\n        \"min\": 40,\n        \"max\": 969,\n        \"num_unique_values\": 3,\n        \"samples\": [\n          969,\n          41\n        ],\n        \"semantic_type\": \"\",\n        \"description\": \"\"\n      }\n    },\n    {\n      \"column\": \"defense-evasion\",\n      \"properties\": {\n        \"dtype\": \"number\",\n        \"std\": 2908,\n        \"min\": 216,\n        \"max\": 5254,\n        \"num_unique_values\": 3,\n        \"samples\": [\n          5254,\n          218\n        ],\n        \"semantic_type\": \"\",\n        \"description\": \"\"\n      }\n    },\n    {\n      \"column\": \"discovery\",\n      \"properties\": {\n        \"dtype\": \"number\",\n        \"std\": 1639,\n        \"min\": 122,\n        \"max\": 2964,\n        \"num_unique_values\": 3,\n        \"samples\": [\n          2964,\n          122\n        ],\n        \"semantic_type\": \"\",\n        \"description\": \"\"\n      }\n    },\n    {\n      \"column\": \"execution\",\n      \"properties\": {\n        \"dtype\": \"number\",\n        \"std\": 1391,\n        \"min\": 105,\n        \"max\": 2517,\n        \"num_unique_values\": 3,\n        \"samples\": [\n          2517,\n          105\n        ],\n        \"semantic_type\": \"\",\n        \"description\": \"\"\n      }\n    },\n    {\n      \"column\": \"exfiltration\",\n      \"properties\": {\n        \"dtype\": \"number\",\n        \"std\": 204,\n        \"min\": 15,\n        \"max\": 370,\n        \"num_unique_values\": 3,\n        \"samples\": [\n          370,\n          15\n        ],\n        \"semantic_type\": \"\",\n        \"description\": \"\"\n      }\n    },\n    {\n      \"column\": \"impact\",\n      \"properties\": {\n        \"dtype\": \"number\",\n        \"std\": 135,\n        \"min\": 10,\n        \"max\": 244,\n        \"num_unique_values\": 2,\n        \"samples\": [\n          10,\n          244\n        ],\n        \"semantic_type\": \"\",\n        \"description\": \"\"\n      }\n    },\n    {\n      \"column\": \"initial-access\",\n      \"properties\": {\n        \"dtype\": \"number\",\n        \"std\": 438,\n        \"min\": 33,\n        \"max\": 793,\n        \"num_unique_values\": 2,\n        \"samples\": [\n          33,\n          793\n        ],\n        \"semantic_type\": \"\",\n        \"description\": \"\"\n      }\n    },\n    {\n      \"column\": \"lateral-movement\",\n      \"properties\": {\n        \"dtype\": \"number\",\n        \"std\": 262,\n        \"min\": 20,\n        \"max\": 474,\n        \"num_unique_values\": 2,\n        \"samples\": [\n          20,\n          474\n        ],\n        \"semantic_type\": \"\",\n        \"description\": \"\"\n      }\n    },\n    {\n      \"column\": \"persistence\",\n      \"properties\": {\n        \"dtype\": \"number\",\n        \"std\": 950,\n        \"min\": 71,\n        \"max\": 1719,\n        \"num_unique_values\": 3,\n        \"samples\": [\n          1719,\n          71\n        ],\n        \"semantic_type\": \"\",\n        \"description\": \"\"\n      }\n    },\n    {\n      \"column\": \"privilege-escalation\",\n      \"properties\": {\n        \"dtype\": \"number\",\n        \"std\": 1180,\n        \"min\": 88,\n        \"max\": 2135,\n        \"num_unique_values\": 3,\n        \"samples\": [\n          2135,\n          88\n        ],\n        \"semantic_type\": \"\",\n        \"description\": \"\"\n      }\n    },\n    {\n      \"column\": \"reconnaissance\",\n      \"properties\": {\n        \"dtype\": \"number\",\n        \"std\": 77,\n        \"min\": 6,\n        \"max\": 140,\n        \"num_unique_values\": 2,\n        \"samples\": [\n          6,\n          140\n        ],\n        \"semantic_type\": \"\",\n        \"description\": \"\"\n      }\n    },\n    {\n      \"column\": \"resource-development\",\n      \"properties\": {\n        \"dtype\": \"number\",\n        \"std\": 203,\n        \"min\": 15,\n        \"max\": 368,\n        \"num_unique_values\": 2,\n        \"samples\": [\n          15,\n          368\n        ],\n        \"semantic_type\": \"\",\n        \"description\": \"\"\n      }\n    }\n  ]\n}",
       "type": "dataframe"
      },
      "text/html": [
       "\n",
       "  <div id=\"df-83e16bf2-7e1a-44cb-bc5c-991e810e385c\" class=\"colab-df-container\">\n",
       "    <div>\n",
       "<style scoped>\n",
       "    .dataframe tbody tr th:only-of-type {\n",
       "        vertical-align: middle;\n",
       "    }\n",
       "\n",
       "    .dataframe tbody tr th {\n",
       "        vertical-align: top;\n",
       "    }\n",
       "\n",
       "    .dataframe thead th {\n",
       "        text-align: right;\n",
       "    }\n",
       "</style>\n",
       "<table border=\"1\" class=\"dataframe\">\n",
       "  <thead>\n",
       "    <tr style=\"text-align: right;\">\n",
       "      <th>labels</th>\n",
       "      <th>collection</th>\n",
       "      <th>command-and-control</th>\n",
       "      <th>credential-access</th>\n",
       "      <th>defense-evasion</th>\n",
       "      <th>discovery</th>\n",
       "      <th>execution</th>\n",
       "      <th>exfiltration</th>\n",
       "      <th>impact</th>\n",
       "      <th>initial-access</th>\n",
       "      <th>lateral-movement</th>\n",
       "      <th>persistence</th>\n",
       "      <th>privilege-escalation</th>\n",
       "      <th>reconnaissance</th>\n",
       "      <th>resource-development</th>\n",
       "    </tr>\n",
       "    <tr>\n",
       "      <th>split</th>\n",
       "      <th></th>\n",
       "      <th></th>\n",
       "      <th></th>\n",
       "      <th></th>\n",
       "      <th></th>\n",
       "      <th></th>\n",
       "      <th></th>\n",
       "      <th></th>\n",
       "      <th></th>\n",
       "      <th></th>\n",
       "      <th></th>\n",
       "      <th></th>\n",
       "      <th></th>\n",
       "      <th></th>\n",
       "    </tr>\n",
       "  </thead>\n",
       "  <tbody>\n",
       "    <tr>\n",
       "      <th>tr</th>\n",
       "      <td>1253</td>\n",
       "      <td>2559</td>\n",
       "      <td>969</td>\n",
       "      <td>5254</td>\n",
       "      <td>2964</td>\n",
       "      <td>2517</td>\n",
       "      <td>370</td>\n",
       "      <td>244</td>\n",
       "      <td>793</td>\n",
       "      <td>474</td>\n",
       "      <td>1719</td>\n",
       "      <td>2135</td>\n",
       "      <td>140</td>\n",
       "      <td>368</td>\n",
       "    </tr>\n",
       "    <tr>\n",
       "      <th>ts</th>\n",
       "      <td>52</td>\n",
       "      <td>106</td>\n",
       "      <td>41</td>\n",
       "      <td>218</td>\n",
       "      <td>122</td>\n",
       "      <td>105</td>\n",
       "      <td>15</td>\n",
       "      <td>10</td>\n",
       "      <td>33</td>\n",
       "      <td>20</td>\n",
       "      <td>71</td>\n",
       "      <td>88</td>\n",
       "      <td>6</td>\n",
       "      <td>15</td>\n",
       "    </tr>\n",
       "    <tr>\n",
       "      <th>val</th>\n",
       "      <td>52</td>\n",
       "      <td>108</td>\n",
       "      <td>40</td>\n",
       "      <td>216</td>\n",
       "      <td>125</td>\n",
       "      <td>109</td>\n",
       "      <td>16</td>\n",
       "      <td>10</td>\n",
       "      <td>33</td>\n",
       "      <td>20</td>\n",
       "      <td>73</td>\n",
       "      <td>91</td>\n",
       "      <td>6</td>\n",
       "      <td>15</td>\n",
       "    </tr>\n",
       "  </tbody>\n",
       "</table>\n",
       "</div>\n",
       "    <div class=\"colab-df-buttons\">\n",
       "\n",
       "  <div class=\"colab-df-container\">\n",
       "    <button class=\"colab-df-convert\" onclick=\"convertToInteractive('df-83e16bf2-7e1a-44cb-bc5c-991e810e385c')\"\n",
       "            title=\"Convert this dataframe to an interactive table.\"\n",
       "            style=\"display:none;\">\n",
       "\n",
       "  <svg xmlns=\"http://www.w3.org/2000/svg\" height=\"24px\" viewBox=\"0 -960 960 960\">\n",
       "    <path d=\"M120-120v-720h720v720H120Zm60-500h600v-160H180v160Zm220 220h160v-160H400v160Zm0 220h160v-160H400v160ZM180-400h160v-160H180v160Zm440 0h160v-160H620v160ZM180-180h160v-160H180v160Zm440 0h160v-160H620v160Z\"/>\n",
       "  </svg>\n",
       "    </button>\n",
       "\n",
       "  <style>\n",
       "    .colab-df-container {\n",
       "      display:flex;\n",
       "      gap: 12px;\n",
       "    }\n",
       "\n",
       "    .colab-df-convert {\n",
       "      background-color: #E8F0FE;\n",
       "      border: none;\n",
       "      border-radius: 50%;\n",
       "      cursor: pointer;\n",
       "      display: none;\n",
       "      fill: #1967D2;\n",
       "      height: 32px;\n",
       "      padding: 0 0 0 0;\n",
       "      width: 32px;\n",
       "    }\n",
       "\n",
       "    .colab-df-convert:hover {\n",
       "      background-color: #E2EBFA;\n",
       "      box-shadow: 0px 1px 2px rgba(60, 64, 67, 0.3), 0px 1px 3px 1px rgba(60, 64, 67, 0.15);\n",
       "      fill: #174EA6;\n",
       "    }\n",
       "\n",
       "    .colab-df-buttons div {\n",
       "      margin-bottom: 4px;\n",
       "    }\n",
       "\n",
       "    [theme=dark] .colab-df-convert {\n",
       "      background-color: #3B4455;\n",
       "      fill: #D2E3FC;\n",
       "    }\n",
       "\n",
       "    [theme=dark] .colab-df-convert:hover {\n",
       "      background-color: #434B5C;\n",
       "      box-shadow: 0px 1px 3px 1px rgba(0, 0, 0, 0.15);\n",
       "      filter: drop-shadow(0px 1px 2px rgba(0, 0, 0, 0.3));\n",
       "      fill: #FFFFFF;\n",
       "    }\n",
       "  </style>\n",
       "\n",
       "    <script>\n",
       "      const buttonEl =\n",
       "        document.querySelector('#df-83e16bf2-7e1a-44cb-bc5c-991e810e385c button.colab-df-convert');\n",
       "      buttonEl.style.display =\n",
       "        google.colab.kernel.accessAllowed ? 'block' : 'none';\n",
       "\n",
       "      async function convertToInteractive(key) {\n",
       "        const element = document.querySelector('#df-83e16bf2-7e1a-44cb-bc5c-991e810e385c');\n",
       "        const dataTable =\n",
       "          await google.colab.kernel.invokeFunction('convertToInteractive',\n",
       "                                                    [key], {});\n",
       "        if (!dataTable) return;\n",
       "\n",
       "        const docLinkHtml = 'Like what you see? Visit the ' +\n",
       "          '<a target=\"_blank\" href=https://colab.research.google.com/notebooks/data_table.ipynb>data table notebook</a>'\n",
       "          + ' to learn more about interactive tables.';\n",
       "        element.innerHTML = '';\n",
       "        dataTable['output_type'] = 'display_data';\n",
       "        await google.colab.output.renderOutput(dataTable, element);\n",
       "        const docLink = document.createElement('div');\n",
       "        docLink.innerHTML = docLinkHtml;\n",
       "        element.appendChild(docLink);\n",
       "      }\n",
       "    </script>\n",
       "  </div>\n",
       "\n",
       "\n",
       "<div id=\"df-cfc6ef63-397c-44fe-9ef5-287a75865bb5\">\n",
       "  <button class=\"colab-df-quickchart\" onclick=\"quickchart('df-cfc6ef63-397c-44fe-9ef5-287a75865bb5')\"\n",
       "            title=\"Suggest charts\"\n",
       "            style=\"display:none;\">\n",
       "\n",
       "<svg xmlns=\"http://www.w3.org/2000/svg\" height=\"24px\"viewBox=\"0 0 24 24\"\n",
       "     width=\"24px\">\n",
       "    <g>\n",
       "        <path d=\"M19 3H5c-1.1 0-2 .9-2 2v14c0 1.1.9 2 2 2h14c1.1 0 2-.9 2-2V5c0-1.1-.9-2-2-2zM9 17H7v-7h2v7zm4 0h-2V7h2v10zm4 0h-2v-4h2v4z\"/>\n",
       "    </g>\n",
       "</svg>\n",
       "  </button>\n",
       "\n",
       "<style>\n",
       "  .colab-df-quickchart {\n",
       "      --bg-color: #E8F0FE;\n",
       "      --fill-color: #1967D2;\n",
       "      --hover-bg-color: #E2EBFA;\n",
       "      --hover-fill-color: #174EA6;\n",
       "      --disabled-fill-color: #AAA;\n",
       "      --disabled-bg-color: #DDD;\n",
       "  }\n",
       "\n",
       "  [theme=dark] .colab-df-quickchart {\n",
       "      --bg-color: #3B4455;\n",
       "      --fill-color: #D2E3FC;\n",
       "      --hover-bg-color: #434B5C;\n",
       "      --hover-fill-color: #FFFFFF;\n",
       "      --disabled-bg-color: #3B4455;\n",
       "      --disabled-fill-color: #666;\n",
       "  }\n",
       "\n",
       "  .colab-df-quickchart {\n",
       "    background-color: var(--bg-color);\n",
       "    border: none;\n",
       "    border-radius: 50%;\n",
       "    cursor: pointer;\n",
       "    display: none;\n",
       "    fill: var(--fill-color);\n",
       "    height: 32px;\n",
       "    padding: 0;\n",
       "    width: 32px;\n",
       "  }\n",
       "\n",
       "  .colab-df-quickchart:hover {\n",
       "    background-color: var(--hover-bg-color);\n",
       "    box-shadow: 0 1px 2px rgba(60, 64, 67, 0.3), 0 1px 3px 1px rgba(60, 64, 67, 0.15);\n",
       "    fill: var(--button-hover-fill-color);\n",
       "  }\n",
       "\n",
       "  .colab-df-quickchart-complete:disabled,\n",
       "  .colab-df-quickchart-complete:disabled:hover {\n",
       "    background-color: var(--disabled-bg-color);\n",
       "    fill: var(--disabled-fill-color);\n",
       "    box-shadow: none;\n",
       "  }\n",
       "\n",
       "  .colab-df-spinner {\n",
       "    border: 2px solid var(--fill-color);\n",
       "    border-color: transparent;\n",
       "    border-bottom-color: var(--fill-color);\n",
       "    animation:\n",
       "      spin 1s steps(1) infinite;\n",
       "  }\n",
       "\n",
       "  @keyframes spin {\n",
       "    0% {\n",
       "      border-color: transparent;\n",
       "      border-bottom-color: var(--fill-color);\n",
       "      border-left-color: var(--fill-color);\n",
       "    }\n",
       "    20% {\n",
       "      border-color: transparent;\n",
       "      border-left-color: var(--fill-color);\n",
       "      border-top-color: var(--fill-color);\n",
       "    }\n",
       "    30% {\n",
       "      border-color: transparent;\n",
       "      border-left-color: var(--fill-color);\n",
       "      border-top-color: var(--fill-color);\n",
       "      border-right-color: var(--fill-color);\n",
       "    }\n",
       "    40% {\n",
       "      border-color: transparent;\n",
       "      border-right-color: var(--fill-color);\n",
       "      border-top-color: var(--fill-color);\n",
       "    }\n",
       "    60% {\n",
       "      border-color: transparent;\n",
       "      border-right-color: var(--fill-color);\n",
       "    }\n",
       "    80% {\n",
       "      border-color: transparent;\n",
       "      border-right-color: var(--fill-color);\n",
       "      border-bottom-color: var(--fill-color);\n",
       "    }\n",
       "    90% {\n",
       "      border-color: transparent;\n",
       "      border-bottom-color: var(--fill-color);\n",
       "    }\n",
       "  }\n",
       "</style>\n",
       "\n",
       "  <script>\n",
       "    async function quickchart(key) {\n",
       "      const quickchartButtonEl =\n",
       "        document.querySelector('#' + key + ' button');\n",
       "      quickchartButtonEl.disabled = true;  // To prevent multiple clicks.\n",
       "      quickchartButtonEl.classList.add('colab-df-spinner');\n",
       "      try {\n",
       "        const charts = await google.colab.kernel.invokeFunction(\n",
       "            'suggestCharts', [key], {});\n",
       "      } catch (error) {\n",
       "        console.error('Error during call to suggestCharts:', error);\n",
       "      }\n",
       "      quickchartButtonEl.classList.remove('colab-df-spinner');\n",
       "      quickchartButtonEl.classList.add('colab-df-quickchart-complete');\n",
       "    }\n",
       "    (() => {\n",
       "      let quickchartButtonEl =\n",
       "        document.querySelector('#df-cfc6ef63-397c-44fe-9ef5-287a75865bb5 button');\n",
       "      quickchartButtonEl.style.display =\n",
       "        google.colab.kernel.accessAllowed ? 'block' : 'none';\n",
       "    })();\n",
       "  </script>\n",
       "</div>\n",
       "    </div>\n",
       "  </div>\n"
      ],
      "text/plain": [
       "labels  collection  command-and-control  credential-access  defense-evasion  \\\n",
       "split                                                                         \n",
       "tr            1253                 2559                969             5254   \n",
       "ts              52                  106                 41              218   \n",
       "val             52                  108                 40              216   \n",
       "\n",
       "labels  discovery  execution  exfiltration  impact  initial-access  \\\n",
       "split                                                                \n",
       "tr           2964       2517           370     244             793   \n",
       "ts            122        105            15      10              33   \n",
       "val           125        109            16      10              33   \n",
       "\n",
       "labels  lateral-movement  persistence  privilege-escalation  reconnaissance  \\\n",
       "split                                                                         \n",
       "tr                   474         1719                  2135             140   \n",
       "ts                    20           71                    88               6   \n",
       "val                   20           73                    91               6   \n",
       "\n",
       "labels  resource-development  \n",
       "split                         \n",
       "tr                       368  \n",
       "ts                        15  \n",
       "val                       15  "
      ]
     },
     "execution_count": 89,
     "metadata": {},
     "output_type": "execute_result"
    }
   ],
   "source": [
    "df.drop(columns='target').explode('labels').pivot_table(index = ['split'], columns = ['labels'], values='labels', aggfunc='count' )"
   ]
  },
  {
   "cell_type": "code",
   "execution_count": null,
   "metadata": {
    "id": "ilnPj-fkNGAQ"
   },
   "outputs": [],
   "source": []
  }
 ],
 "metadata": {
  "colab": {
   "provenance": [],
   "toc_visible": true
  },
  "kernelspec": {
   "display_name": "pytorch_env",
   "language": "python",
   "name": "pytorch_env"
  },
  "language_info": {
   "codemirror_mode": {
    "name": "ipython",
    "version": 3
   },
   "file_extension": ".py",
   "mimetype": "text/x-python",
   "name": "python",
   "nbconvert_exporter": "python",
   "pygments_lexer": "ipython3",
   "version": "3.10.14"
  },
  "widgets": {
   "application/vnd.jupyter.widget-state+json": {
    "03fda7025890417da9a07468bfcdc608": {
     "model_module": "@jupyter-widgets/controls",
     "model_module_version": "1.5.0",
     "model_name": "HTMLModel",
     "state": {
      "_dom_classes": [],
      "_model_module": "@jupyter-widgets/controls",
      "_model_module_version": "1.5.0",
      "_model_name": "HTMLModel",
      "_view_count": null,
      "_view_module": "@jupyter-widgets/controls",
      "_view_module_version": "1.5.0",
      "_view_name": "HTMLView",
      "description": "",
      "description_tooltip": null,
      "layout": "IPY_MODEL_7c585dd04e984b6d96a296fbf40f7b4f",
      "placeholder": "​",
      "style": "IPY_MODEL_11a77ad1e6fc4b91bafc051f20082bad",
      "value": " 0/2 [00:00&lt;?, ?it/s]"
     }
    },
    "0882ddb6162943b6b4ff34ebee4f4d41": {
     "model_module": "@jupyter-widgets/controls",
     "model_module_version": "1.5.0",
     "model_name": "FloatProgressModel",
     "state": {
      "_dom_classes": [],
      "_model_module": "@jupyter-widgets/controls",
      "_model_module_version": "1.5.0",
      "_model_name": "FloatProgressModel",
      "_view_count": null,
      "_view_module": "@jupyter-widgets/controls",
      "_view_module_version": "1.5.0",
      "_view_name": "ProgressView",
      "bar_style": "",
      "description": "",
      "description_tooltip": null,
      "layout": "IPY_MODEL_5aa11edbc82c47b1b2408db5589a7bef",
      "max": 2,
      "min": 0,
      "orientation": "horizontal",
      "style": "IPY_MODEL_1cb6884c4d4e466a9e4cf31b3894fb6b",
      "value": 0
     }
    },
    "0ba7ebb675e24d7eaaab5208da688a6e": {
     "model_module": "@jupyter-widgets/base",
     "model_module_version": "1.2.0",
     "model_name": "LayoutModel",
     "state": {
      "_model_module": "@jupyter-widgets/base",
      "_model_module_version": "1.2.0",
      "_model_name": "LayoutModel",
      "_view_count": null,
      "_view_module": "@jupyter-widgets/base",
      "_view_module_version": "1.2.0",
      "_view_name": "LayoutView",
      "align_content": null,
      "align_items": null,
      "align_self": null,
      "border": null,
      "bottom": null,
      "display": null,
      "flex": null,
      "flex_flow": null,
      "grid_area": null,
      "grid_auto_columns": null,
      "grid_auto_flow": null,
      "grid_auto_rows": null,
      "grid_column": null,
      "grid_gap": null,
      "grid_row": null,
      "grid_template_areas": null,
      "grid_template_columns": null,
      "grid_template_rows": null,
      "height": null,
      "justify_content": null,
      "justify_items": null,
      "left": null,
      "margin": null,
      "max_height": null,
      "max_width": null,
      "min_height": null,
      "min_width": null,
      "object_fit": null,
      "object_position": null,
      "order": null,
      "overflow": null,
      "overflow_x": null,
      "overflow_y": null,
      "padding": null,
      "right": null,
      "top": null,
      "visibility": null,
      "width": null
     }
    },
    "11a77ad1e6fc4b91bafc051f20082bad": {
     "model_module": "@jupyter-widgets/controls",
     "model_module_version": "1.5.0",
     "model_name": "DescriptionStyleModel",
     "state": {
      "_model_module": "@jupyter-widgets/controls",
      "_model_module_version": "1.5.0",
      "_model_name": "DescriptionStyleModel",
      "_view_count": null,
      "_view_module": "@jupyter-widgets/base",
      "_view_module_version": "1.2.0",
      "_view_name": "StyleView",
      "description_width": ""
     }
    },
    "1412e2c8ecea46efa4a75a29a6c66757": {
     "model_module": "@jupyter-widgets/controls",
     "model_module_version": "1.5.0",
     "model_name": "FloatProgressModel",
     "state": {
      "_dom_classes": [],
      "_model_module": "@jupyter-widgets/controls",
      "_model_module_version": "1.5.0",
      "_model_name": "FloatProgressModel",
      "_view_count": null,
      "_view_module": "@jupyter-widgets/controls",
      "_view_module_version": "1.5.0",
      "_view_name": "ProgressView",
      "bar_style": "success",
      "description": "",
      "description_tooltip": null,
      "layout": "IPY_MODEL_fccd16c42c0f4cd9bf55d69539898737",
      "max": 227845,
      "min": 0,
      "orientation": "horizontal",
      "style": "IPY_MODEL_749890e8d8d84ab0b420a2212ebc4e76",
      "value": 227845
     }
    },
    "153e906e928d49b78424a8d7d8c7f8e6": {
     "model_module": "@jupyter-widgets/base",
     "model_module_version": "1.2.0",
     "model_name": "LayoutModel",
     "state": {
      "_model_module": "@jupyter-widgets/base",
      "_model_module_version": "1.2.0",
      "_model_name": "LayoutModel",
      "_view_count": null,
      "_view_module": "@jupyter-widgets/base",
      "_view_module_version": "1.2.0",
      "_view_name": "LayoutView",
      "align_content": null,
      "align_items": null,
      "align_self": null,
      "border": null,
      "bottom": null,
      "display": null,
      "flex": null,
      "flex_flow": null,
      "grid_area": null,
      "grid_auto_columns": null,
      "grid_auto_flow": null,
      "grid_auto_rows": null,
      "grid_column": null,
      "grid_gap": null,
      "grid_row": null,
      "grid_template_areas": null,
      "grid_template_columns": null,
      "grid_template_rows": null,
      "height": null,
      "justify_content": null,
      "justify_items": null,
      "left": null,
      "margin": null,
      "max_height": null,
      "max_width": null,
      "min_height": null,
      "min_width": null,
      "object_fit": null,
      "object_position": null,
      "order": null,
      "overflow": null,
      "overflow_x": null,
      "overflow_y": null,
      "padding": null,
      "right": null,
      "top": null,
      "visibility": null,
      "width": null
     }
    },
    "16d9bd41cf0540ea8f5f20b877d10504": {
     "model_module": "@jupyter-widgets/controls",
     "model_module_version": "1.5.0",
     "model_name": "HBoxModel",
     "state": {
      "_dom_classes": [],
      "_model_module": "@jupyter-widgets/controls",
      "_model_module_version": "1.5.0",
      "_model_name": "HBoxModel",
      "_view_count": null,
      "_view_module": "@jupyter-widgets/controls",
      "_view_module_version": "1.5.0",
      "_view_name": "HBoxView",
      "box_style": "",
      "children": [
       "IPY_MODEL_47ea94a1e5a245cd80202f00fbb77fb6",
       "IPY_MODEL_f2f7506de6084ad297d33b35d5ae7555",
       "IPY_MODEL_f24afc40e7a64a768888d3f5e9d90906"
      ],
      "layout": "IPY_MODEL_153e906e928d49b78424a8d7d8c7f8e6"
     }
    },
    "1cb6884c4d4e466a9e4cf31b3894fb6b": {
     "model_module": "@jupyter-widgets/controls",
     "model_module_version": "1.5.0",
     "model_name": "ProgressStyleModel",
     "state": {
      "_model_module": "@jupyter-widgets/controls",
      "_model_module_version": "1.5.0",
      "_model_name": "ProgressStyleModel",
      "_view_count": null,
      "_view_module": "@jupyter-widgets/base",
      "_view_module_version": "1.2.0",
      "_view_name": "StyleView",
      "bar_color": null,
      "description_width": ""
     }
    },
    "1ccd2a13d8aa44afb8c02c8c081aaedf": {
     "model_module": "@jupyter-widgets/controls",
     "model_module_version": "1.5.0",
     "model_name": "HBoxModel",
     "state": {
      "_dom_classes": [],
      "_model_module": "@jupyter-widgets/controls",
      "_model_module_version": "1.5.0",
      "_model_name": "HBoxModel",
      "_view_count": null,
      "_view_module": "@jupyter-widgets/controls",
      "_view_module_version": "1.5.0",
      "_view_name": "HBoxView",
      "box_style": "",
      "children": [
       "IPY_MODEL_ea12986f5c994964b7ddffc0762e98a3",
       "IPY_MODEL_1412e2c8ecea46efa4a75a29a6c66757",
       "IPY_MODEL_9010179ef7eb4730b87e1cff291ac1ac"
      ],
      "layout": "IPY_MODEL_f0ab725516cb468d93a13cc6b0f7d8b1"
     }
    },
    "2d636289925a4cb18dc0a21b1a7c07a5": {
     "model_module": "@jupyter-widgets/controls",
     "model_module_version": "1.5.0",
     "model_name": "DescriptionStyleModel",
     "state": {
      "_model_module": "@jupyter-widgets/controls",
      "_model_module_version": "1.5.0",
      "_model_name": "DescriptionStyleModel",
      "_view_count": null,
      "_view_module": "@jupyter-widgets/base",
      "_view_module_version": "1.2.0",
      "_view_name": "StyleView",
      "description_width": ""
     }
    },
    "47ea94a1e5a245cd80202f00fbb77fb6": {
     "model_module": "@jupyter-widgets/controls",
     "model_module_version": "1.5.0",
     "model_name": "HTMLModel",
     "state": {
      "_dom_classes": [],
      "_model_module": "@jupyter-widgets/controls",
      "_model_module_version": "1.5.0",
      "_model_name": "HTMLModel",
      "_view_count": null,
      "_view_module": "@jupyter-widgets/controls",
      "_view_module_version": "1.5.0",
      "_view_name": "HTMLView",
      "description": "",
      "description_tooltip": null,
      "layout": "IPY_MODEL_0ba7ebb675e24d7eaaab5208da688a6e",
      "placeholder": "​",
      "style": "IPY_MODEL_d0f4ad279ebd440f8b23d42a47fdca55",
      "value": "config.json: 100%"
     }
    },
    "4ce030fe73ae454689669ac2f06f633d": {
     "model_module": "@jupyter-widgets/controls",
     "model_module_version": "1.5.0",
     "model_name": "ProgressStyleModel",
     "state": {
      "_model_module": "@jupyter-widgets/controls",
      "_model_module_version": "1.5.0",
      "_model_name": "ProgressStyleModel",
      "_view_count": null,
      "_view_module": "@jupyter-widgets/base",
      "_view_module_version": "1.2.0",
      "_view_name": "StyleView",
      "bar_color": null,
      "description_width": ""
     }
    },
    "5aa11edbc82c47b1b2408db5589a7bef": {
     "model_module": "@jupyter-widgets/base",
     "model_module_version": "1.2.0",
     "model_name": "LayoutModel",
     "state": {
      "_model_module": "@jupyter-widgets/base",
      "_model_module_version": "1.2.0",
      "_model_name": "LayoutModel",
      "_view_count": null,
      "_view_module": "@jupyter-widgets/base",
      "_view_module_version": "1.2.0",
      "_view_name": "LayoutView",
      "align_content": null,
      "align_items": null,
      "align_self": null,
      "border": null,
      "bottom": null,
      "display": null,
      "flex": null,
      "flex_flow": null,
      "grid_area": null,
      "grid_auto_columns": null,
      "grid_auto_flow": null,
      "grid_auto_rows": null,
      "grid_column": null,
      "grid_gap": null,
      "grid_row": null,
      "grid_template_areas": null,
      "grid_template_columns": null,
      "grid_template_rows": null,
      "height": null,
      "justify_content": null,
      "justify_items": null,
      "left": null,
      "margin": null,
      "max_height": null,
      "max_width": null,
      "min_height": null,
      "min_width": null,
      "object_fit": null,
      "object_position": null,
      "order": null,
      "overflow": null,
      "overflow_x": null,
      "overflow_y": null,
      "padding": null,
      "right": null,
      "top": null,
      "visibility": null,
      "width": null
     }
    },
    "607bdcfcddb7410ca93f953ba635d2d9": {
     "model_module": "@jupyter-widgets/base",
     "model_module_version": "1.2.0",
     "model_name": "LayoutModel",
     "state": {
      "_model_module": "@jupyter-widgets/base",
      "_model_module_version": "1.2.0",
      "_model_name": "LayoutModel",
      "_view_count": null,
      "_view_module": "@jupyter-widgets/base",
      "_view_module_version": "1.2.0",
      "_view_name": "LayoutView",
      "align_content": null,
      "align_items": null,
      "align_self": null,
      "border": null,
      "bottom": null,
      "display": null,
      "flex": null,
      "flex_flow": null,
      "grid_area": null,
      "grid_auto_columns": null,
      "grid_auto_flow": null,
      "grid_auto_rows": null,
      "grid_column": null,
      "grid_gap": null,
      "grid_row": null,
      "grid_template_areas": null,
      "grid_template_columns": null,
      "grid_template_rows": null,
      "height": null,
      "justify_content": null,
      "justify_items": null,
      "left": null,
      "margin": null,
      "max_height": null,
      "max_width": null,
      "min_height": null,
      "min_width": null,
      "object_fit": null,
      "object_position": null,
      "order": null,
      "overflow": null,
      "overflow_x": null,
      "overflow_y": null,
      "padding": null,
      "right": null,
      "top": null,
      "visibility": null,
      "width": null
     }
    },
    "69aaddfa8ce046dbb5629e7ca1bfba90": {
     "model_module": "@jupyter-widgets/base",
     "model_module_version": "1.2.0",
     "model_name": "LayoutModel",
     "state": {
      "_model_module": "@jupyter-widgets/base",
      "_model_module_version": "1.2.0",
      "_model_name": "LayoutModel",
      "_view_count": null,
      "_view_module": "@jupyter-widgets/base",
      "_view_module_version": "1.2.0",
      "_view_name": "LayoutView",
      "align_content": null,
      "align_items": null,
      "align_self": null,
      "border": null,
      "bottom": null,
      "display": null,
      "flex": null,
      "flex_flow": null,
      "grid_area": null,
      "grid_auto_columns": null,
      "grid_auto_flow": null,
      "grid_auto_rows": null,
      "grid_column": null,
      "grid_gap": null,
      "grid_row": null,
      "grid_template_areas": null,
      "grid_template_columns": null,
      "grid_template_rows": null,
      "height": null,
      "justify_content": null,
      "justify_items": null,
      "left": null,
      "margin": null,
      "max_height": null,
      "max_width": null,
      "min_height": null,
      "min_width": null,
      "object_fit": null,
      "object_position": null,
      "order": null,
      "overflow": null,
      "overflow_x": null,
      "overflow_y": null,
      "padding": null,
      "right": null,
      "top": null,
      "visibility": null,
      "width": null
     }
    },
    "749890e8d8d84ab0b420a2212ebc4e76": {
     "model_module": "@jupyter-widgets/controls",
     "model_module_version": "1.5.0",
     "model_name": "ProgressStyleModel",
     "state": {
      "_model_module": "@jupyter-widgets/controls",
      "_model_module_version": "1.5.0",
      "_model_name": "ProgressStyleModel",
      "_view_count": null,
      "_view_module": "@jupyter-widgets/base",
      "_view_module_version": "1.2.0",
      "_view_name": "StyleView",
      "bar_color": null,
      "description_width": ""
     }
    },
    "7c585dd04e984b6d96a296fbf40f7b4f": {
     "model_module": "@jupyter-widgets/base",
     "model_module_version": "1.2.0",
     "model_name": "LayoutModel",
     "state": {
      "_model_module": "@jupyter-widgets/base",
      "_model_module_version": "1.2.0",
      "_model_name": "LayoutModel",
      "_view_count": null,
      "_view_module": "@jupyter-widgets/base",
      "_view_module_version": "1.2.0",
      "_view_name": "LayoutView",
      "align_content": null,
      "align_items": null,
      "align_self": null,
      "border": null,
      "bottom": null,
      "display": null,
      "flex": null,
      "flex_flow": null,
      "grid_area": null,
      "grid_auto_columns": null,
      "grid_auto_flow": null,
      "grid_auto_rows": null,
      "grid_column": null,
      "grid_gap": null,
      "grid_row": null,
      "grid_template_areas": null,
      "grid_template_columns": null,
      "grid_template_rows": null,
      "height": null,
      "justify_content": null,
      "justify_items": null,
      "left": null,
      "margin": null,
      "max_height": null,
      "max_width": null,
      "min_height": null,
      "min_width": null,
      "object_fit": null,
      "object_position": null,
      "order": null,
      "overflow": null,
      "overflow_x": null,
      "overflow_y": null,
      "padding": null,
      "right": null,
      "top": null,
      "visibility": null,
      "width": null
     }
    },
    "9010179ef7eb4730b87e1cff291ac1ac": {
     "model_module": "@jupyter-widgets/controls",
     "model_module_version": "1.5.0",
     "model_name": "HTMLModel",
     "state": {
      "_dom_classes": [],
      "_model_module": "@jupyter-widgets/controls",
      "_model_module_version": "1.5.0",
      "_model_name": "HTMLModel",
      "_view_count": null,
      "_view_module": "@jupyter-widgets/controls",
      "_view_module_version": "1.5.0",
      "_view_name": "HTMLView",
      "description": "",
      "description_tooltip": null,
      "layout": "IPY_MODEL_607bdcfcddb7410ca93f953ba635d2d9",
      "placeholder": "​",
      "style": "IPY_MODEL_d51433921bd4498a9dbdba38c082a207",
      "value": " 228k/228k [00:00&lt;00:00, 1.75MB/s]"
     }
    },
    "9209f94cac044169b04fee78097110f7": {
     "model_module": "@jupyter-widgets/base",
     "model_module_version": "1.2.0",
     "model_name": "LayoutModel",
     "state": {
      "_model_module": "@jupyter-widgets/base",
      "_model_module_version": "1.2.0",
      "_model_name": "LayoutModel",
      "_view_count": null,
      "_view_module": "@jupyter-widgets/base",
      "_view_module_version": "1.2.0",
      "_view_name": "LayoutView",
      "align_content": null,
      "align_items": null,
      "align_self": null,
      "border": null,
      "bottom": null,
      "display": null,
      "flex": null,
      "flex_flow": null,
      "grid_area": null,
      "grid_auto_columns": null,
      "grid_auto_flow": null,
      "grid_auto_rows": null,
      "grid_column": null,
      "grid_gap": null,
      "grid_row": null,
      "grid_template_areas": null,
      "grid_template_columns": null,
      "grid_template_rows": null,
      "height": null,
      "justify_content": null,
      "justify_items": null,
      "left": null,
      "margin": null,
      "max_height": null,
      "max_width": null,
      "min_height": null,
      "min_width": null,
      "object_fit": null,
      "object_position": null,
      "order": null,
      "overflow": null,
      "overflow_x": null,
      "overflow_y": null,
      "padding": null,
      "right": null,
      "top": null,
      "visibility": null,
      "width": null
     }
    },
    "96109246071c4bcab5c489bf0f0c1fda": {
     "model_module": "@jupyter-widgets/base",
     "model_module_version": "1.2.0",
     "model_name": "LayoutModel",
     "state": {
      "_model_module": "@jupyter-widgets/base",
      "_model_module_version": "1.2.0",
      "_model_name": "LayoutModel",
      "_view_count": null,
      "_view_module": "@jupyter-widgets/base",
      "_view_module_version": "1.2.0",
      "_view_name": "LayoutView",
      "align_content": null,
      "align_items": null,
      "align_self": null,
      "border": null,
      "bottom": null,
      "display": null,
      "flex": null,
      "flex_flow": null,
      "grid_area": null,
      "grid_auto_columns": null,
      "grid_auto_flow": null,
      "grid_auto_rows": null,
      "grid_column": null,
      "grid_gap": null,
      "grid_row": null,
      "grid_template_areas": null,
      "grid_template_columns": null,
      "grid_template_rows": null,
      "height": null,
      "justify_content": null,
      "justify_items": null,
      "left": null,
      "margin": null,
      "max_height": null,
      "max_width": null,
      "min_height": null,
      "min_width": null,
      "object_fit": null,
      "object_position": null,
      "order": null,
      "overflow": null,
      "overflow_x": null,
      "overflow_y": null,
      "padding": null,
      "right": null,
      "top": null,
      "visibility": null,
      "width": null
     }
    },
    "c1627c7bf1024ed5bd2357dc2bdf5b97": {
     "model_module": "@jupyter-widgets/controls",
     "model_module_version": "1.5.0",
     "model_name": "DescriptionStyleModel",
     "state": {
      "_model_module": "@jupyter-widgets/controls",
      "_model_module_version": "1.5.0",
      "_model_name": "DescriptionStyleModel",
      "_view_count": null,
      "_view_module": "@jupyter-widgets/base",
      "_view_module_version": "1.2.0",
      "_view_name": "StyleView",
      "description_width": ""
     }
    },
    "c3d20ec05b7043448fdb24cbd8ef5ac6": {
     "model_module": "@jupyter-widgets/controls",
     "model_module_version": "1.5.0",
     "model_name": "HTMLModel",
     "state": {
      "_dom_classes": [],
      "_model_module": "@jupyter-widgets/controls",
      "_model_module_version": "1.5.0",
      "_model_name": "HTMLModel",
      "_view_count": null,
      "_view_module": "@jupyter-widgets/controls",
      "_view_module_version": "1.5.0",
      "_view_name": "HTMLView",
      "description": "",
      "description_tooltip": null,
      "layout": "IPY_MODEL_96109246071c4bcab5c489bf0f0c1fda",
      "placeholder": "​",
      "style": "IPY_MODEL_c1627c7bf1024ed5bd2357dc2bdf5b97",
      "value": "  0%"
     }
    },
    "cecd1ef9d14b4d66872e4e1a16d70376": {
     "model_module": "@jupyter-widgets/base",
     "model_module_version": "1.2.0",
     "model_name": "LayoutModel",
     "state": {
      "_model_module": "@jupyter-widgets/base",
      "_model_module_version": "1.2.0",
      "_model_name": "LayoutModel",
      "_view_count": null,
      "_view_module": "@jupyter-widgets/base",
      "_view_module_version": "1.2.0",
      "_view_name": "LayoutView",
      "align_content": null,
      "align_items": null,
      "align_self": null,
      "border": null,
      "bottom": null,
      "display": null,
      "flex": null,
      "flex_flow": null,
      "grid_area": null,
      "grid_auto_columns": null,
      "grid_auto_flow": null,
      "grid_auto_rows": null,
      "grid_column": null,
      "grid_gap": null,
      "grid_row": null,
      "grid_template_areas": null,
      "grid_template_columns": null,
      "grid_template_rows": null,
      "height": null,
      "justify_content": null,
      "justify_items": null,
      "left": null,
      "margin": null,
      "max_height": null,
      "max_width": null,
      "min_height": null,
      "min_width": null,
      "object_fit": null,
      "object_position": null,
      "order": null,
      "overflow": null,
      "overflow_x": null,
      "overflow_y": null,
      "padding": null,
      "right": null,
      "top": null,
      "visibility": null,
      "width": null
     }
    },
    "d09d742055bc4a3c9fc3bef0bdacf84f": {
     "model_module": "@jupyter-widgets/controls",
     "model_module_version": "1.5.0",
     "model_name": "DescriptionStyleModel",
     "state": {
      "_model_module": "@jupyter-widgets/controls",
      "_model_module_version": "1.5.0",
      "_model_name": "DescriptionStyleModel",
      "_view_count": null,
      "_view_module": "@jupyter-widgets/base",
      "_view_module_version": "1.2.0",
      "_view_name": "StyleView",
      "description_width": ""
     }
    },
    "d0f4ad279ebd440f8b23d42a47fdca55": {
     "model_module": "@jupyter-widgets/controls",
     "model_module_version": "1.5.0",
     "model_name": "DescriptionStyleModel",
     "state": {
      "_model_module": "@jupyter-widgets/controls",
      "_model_module_version": "1.5.0",
      "_model_name": "DescriptionStyleModel",
      "_view_count": null,
      "_view_module": "@jupyter-widgets/base",
      "_view_module_version": "1.2.0",
      "_view_name": "StyleView",
      "description_width": ""
     }
    },
    "d51433921bd4498a9dbdba38c082a207": {
     "model_module": "@jupyter-widgets/controls",
     "model_module_version": "1.5.0",
     "model_name": "DescriptionStyleModel",
     "state": {
      "_model_module": "@jupyter-widgets/controls",
      "_model_module_version": "1.5.0",
      "_model_name": "DescriptionStyleModel",
      "_view_count": null,
      "_view_module": "@jupyter-widgets/base",
      "_view_module_version": "1.2.0",
      "_view_name": "StyleView",
      "description_width": ""
     }
    },
    "ea12986f5c994964b7ddffc0762e98a3": {
     "model_module": "@jupyter-widgets/controls",
     "model_module_version": "1.5.0",
     "model_name": "HTMLModel",
     "state": {
      "_dom_classes": [],
      "_model_module": "@jupyter-widgets/controls",
      "_model_module_version": "1.5.0",
      "_model_name": "HTMLModel",
      "_view_count": null,
      "_view_module": "@jupyter-widgets/controls",
      "_view_module_version": "1.5.0",
      "_view_name": "HTMLView",
      "description": "",
      "description_tooltip": null,
      "layout": "IPY_MODEL_9209f94cac044169b04fee78097110f7",
      "placeholder": "​",
      "style": "IPY_MODEL_d09d742055bc4a3c9fc3bef0bdacf84f",
      "value": "vocab.txt: 100%"
     }
    },
    "eb0305267ce64fe2bf2b38aa2573a4fd": {
     "model_module": "@jupyter-widgets/base",
     "model_module_version": "1.2.0",
     "model_name": "LayoutModel",
     "state": {
      "_model_module": "@jupyter-widgets/base",
      "_model_module_version": "1.2.0",
      "_model_name": "LayoutModel",
      "_view_count": null,
      "_view_module": "@jupyter-widgets/base",
      "_view_module_version": "1.2.0",
      "_view_name": "LayoutView",
      "align_content": null,
      "align_items": null,
      "align_self": null,
      "border": null,
      "bottom": null,
      "display": null,
      "flex": null,
      "flex_flow": null,
      "grid_area": null,
      "grid_auto_columns": null,
      "grid_auto_flow": null,
      "grid_auto_rows": null,
      "grid_column": null,
      "grid_gap": null,
      "grid_row": null,
      "grid_template_areas": null,
      "grid_template_columns": null,
      "grid_template_rows": null,
      "height": null,
      "justify_content": null,
      "justify_items": null,
      "left": null,
      "margin": null,
      "max_height": null,
      "max_width": null,
      "min_height": null,
      "min_width": null,
      "object_fit": null,
      "object_position": null,
      "order": null,
      "overflow": null,
      "overflow_x": null,
      "overflow_y": null,
      "padding": null,
      "right": null,
      "top": null,
      "visibility": null,
      "width": null
     }
    },
    "f0ab725516cb468d93a13cc6b0f7d8b1": {
     "model_module": "@jupyter-widgets/base",
     "model_module_version": "1.2.0",
     "model_name": "LayoutModel",
     "state": {
      "_model_module": "@jupyter-widgets/base",
      "_model_module_version": "1.2.0",
      "_model_name": "LayoutModel",
      "_view_count": null,
      "_view_module": "@jupyter-widgets/base",
      "_view_module_version": "1.2.0",
      "_view_name": "LayoutView",
      "align_content": null,
      "align_items": null,
      "align_self": null,
      "border": null,
      "bottom": null,
      "display": null,
      "flex": null,
      "flex_flow": null,
      "grid_area": null,
      "grid_auto_columns": null,
      "grid_auto_flow": null,
      "grid_auto_rows": null,
      "grid_column": null,
      "grid_gap": null,
      "grid_row": null,
      "grid_template_areas": null,
      "grid_template_columns": null,
      "grid_template_rows": null,
      "height": null,
      "justify_content": null,
      "justify_items": null,
      "left": null,
      "margin": null,
      "max_height": null,
      "max_width": null,
      "min_height": null,
      "min_width": null,
      "object_fit": null,
      "object_position": null,
      "order": null,
      "overflow": null,
      "overflow_x": null,
      "overflow_y": null,
      "padding": null,
      "right": null,
      "top": null,
      "visibility": null,
      "width": null
     }
    },
    "f24afc40e7a64a768888d3f5e9d90906": {
     "model_module": "@jupyter-widgets/controls",
     "model_module_version": "1.5.0",
     "model_name": "HTMLModel",
     "state": {
      "_dom_classes": [],
      "_model_module": "@jupyter-widgets/controls",
      "_model_module_version": "1.5.0",
      "_model_name": "HTMLModel",
      "_view_count": null,
      "_view_module": "@jupyter-widgets/controls",
      "_view_module_version": "1.5.0",
      "_view_name": "HTMLView",
      "description": "",
      "description_tooltip": null,
      "layout": "IPY_MODEL_eb0305267ce64fe2bf2b38aa2573a4fd",
      "placeholder": "​",
      "style": "IPY_MODEL_2d636289925a4cb18dc0a21b1a7c07a5",
      "value": " 385/385 [00:00&lt;00:00, 14.6kB/s]"
     }
    },
    "f2f7506de6084ad297d33b35d5ae7555": {
     "model_module": "@jupyter-widgets/controls",
     "model_module_version": "1.5.0",
     "model_name": "FloatProgressModel",
     "state": {
      "_dom_classes": [],
      "_model_module": "@jupyter-widgets/controls",
      "_model_module_version": "1.5.0",
      "_model_name": "FloatProgressModel",
      "_view_count": null,
      "_view_module": "@jupyter-widgets/controls",
      "_view_module_version": "1.5.0",
      "_view_name": "ProgressView",
      "bar_style": "success",
      "description": "",
      "description_tooltip": null,
      "layout": "IPY_MODEL_cecd1ef9d14b4d66872e4e1a16d70376",
      "max": 385,
      "min": 0,
      "orientation": "horizontal",
      "style": "IPY_MODEL_4ce030fe73ae454689669ac2f06f633d",
      "value": 385
     }
    },
    "f8caa329869745d696a7e3de26a7c73e": {
     "model_module": "@jupyter-widgets/controls",
     "model_module_version": "1.5.0",
     "model_name": "HBoxModel",
     "state": {
      "_dom_classes": [],
      "_model_module": "@jupyter-widgets/controls",
      "_model_module_version": "1.5.0",
      "_model_name": "HBoxModel",
      "_view_count": null,
      "_view_module": "@jupyter-widgets/controls",
      "_view_module_version": "1.5.0",
      "_view_name": "HBoxView",
      "box_style": "",
      "children": [
       "IPY_MODEL_c3d20ec05b7043448fdb24cbd8ef5ac6",
       "IPY_MODEL_0882ddb6162943b6b4ff34ebee4f4d41",
       "IPY_MODEL_03fda7025890417da9a07468bfcdc608"
      ],
      "layout": "IPY_MODEL_69aaddfa8ce046dbb5629e7ca1bfba90"
     }
    },
    "fccd16c42c0f4cd9bf55d69539898737": {
     "model_module": "@jupyter-widgets/base",
     "model_module_version": "1.2.0",
     "model_name": "LayoutModel",
     "state": {
      "_model_module": "@jupyter-widgets/base",
      "_model_module_version": "1.2.0",
      "_model_name": "LayoutModel",
      "_view_count": null,
      "_view_module": "@jupyter-widgets/base",
      "_view_module_version": "1.2.0",
      "_view_name": "LayoutView",
      "align_content": null,
      "align_items": null,
      "align_self": null,
      "border": null,
      "bottom": null,
      "display": null,
      "flex": null,
      "flex_flow": null,
      "grid_area": null,
      "grid_auto_columns": null,
      "grid_auto_flow": null,
      "grid_auto_rows": null,
      "grid_column": null,
      "grid_gap": null,
      "grid_row": null,
      "grid_template_areas": null,
      "grid_template_columns": null,
      "grid_template_rows": null,
      "height": null,
      "justify_content": null,
      "justify_items": null,
      "left": null,
      "margin": null,
      "max_height": null,
      "max_width": null,
      "min_height": null,
      "min_width": null,
      "object_fit": null,
      "object_position": null,
      "order": null,
      "overflow": null,
      "overflow_x": null,
      "overflow_y": null,
      "padding": null,
      "right": null,
      "top": null,
      "visibility": null,
      "width": null
     }
    }
   }
  }
 },
 "nbformat": 4,
 "nbformat_minor": 4
}
