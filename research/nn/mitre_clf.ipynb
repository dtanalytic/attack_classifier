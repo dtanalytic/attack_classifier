{
 "cells": [
  {
   "cell_type": "markdown",
   "metadata": {
    "id": "MjepYhYNDAeV"
   },
   "source": [
    "# Настройка среды локально"
   ]
  },
  {
   "cell_type": "code",
   "execution_count": 1,
   "metadata": {
    "tags": []
   },
   "outputs": [],
   "source": [
    "%load_ext autoreload\n",
    "%autoreload 2"
   ]
  },
  {
   "cell_type": "raw",
   "metadata": {
    "scrolled": true,
    "tags": []
   },
   "source": [
    "import sys\n",
    "!{sys.executable} -m pip install py3nvml\n"
   ]
  },
  {
   "cell_type": "code",
   "execution_count": 2,
   "metadata": {},
   "outputs": [],
   "source": [
    "import os\n",
    "os.chdir('C://work/dev/python/progs/texts/sec_bert/')"
   ]
  },
  {
   "cell_type": "code",
   "execution_count": 3,
   "metadata": {},
   "outputs": [],
   "source": [
    "from ruamel.yaml import YAML\n",
    "\n",
    "\n",
    "\n",
    "conf = YAML().load(open('params.yaml'))\n",
    "\n",
    "conf_dop = YAML().load(open('dvc_pipes/train_bert_emb/params_bert.yaml'))"
   ]
  },
  {
   "cell_type": "code",
   "execution_count": 6,
   "metadata": {},
   "outputs": [
    {
     "data": {
      "text/plain": [
       "(15149, 5)"
      ]
     },
     "execution_count": 6,
     "metadata": {},
     "output_type": "execute_result"
    }
   ],
   "source": [
    "mitre_attack_df.shape"
   ]
  },
  {
   "cell_type": "code",
   "execution_count": null,
   "metadata": {},
   "outputs": [],
   "source": []
  },
  {
   "cell_type": "markdown",
   "metadata": {
    "id": "MjepYhYNDAeV"
   },
   "source": [
    "# Настройка среды в облаке"
   ]
  },
  {
   "cell_type": "raw",
   "metadata": {
    "colab": {
     "base_uri": "https://localhost:8080/"
    },
    "id": "4Q0i_RAMzES9",
    "outputId": "26555077-e4e2-4857-f789-d74022683f03"
   },
   "source": [
    "!pip install datasets -q\n",
    "!pip install transformers[torch] -q\n",
    "!pip install accelerate -U -q\n",
    "!pip install iterative-stratification"
   ]
  },
  {
   "cell_type": "raw",
   "metadata": {
    "colab": {
     "base_uri": "https://localhost:8080/"
    },
    "id": "BjqcBSd9id58",
    "outputId": "f0de4946-5b99-4d86-e14a-af4511f2472e"
   },
   "source": [
    "!mkdir scibert_multi_label_model\n",
    "!wget https://ctidtram.blob.core.windows.net/tram-models/multi-label-20230803/config.json -O scibert_multi_label_model/config.json\n",
    "!wget https://ctidtram.blob.core.windows.net/tram-models/multi-label-20230803/pytorch_model.bin -O scibert_multi_label_model/pytorch_model.bin\n"
   ]
  },
  {
   "cell_type": "markdown",
   "metadata": {
    "id": "84jLHJ40C9AQ"
   },
   "source": [
    "# Препроцессинг"
   ]
  },
  {
   "cell_type": "code",
   "execution_count": 4,
   "metadata": {
    "id": "zGIRJ8U76dDG"
   },
   "outputs": [],
   "source": [
    "import pandas as pd\n",
    "import numpy as np\n",
    "import joblib\n",
    "from sklearn.metrics import average_precision_score\n",
    "from src.funcs import set_seed\n",
    "\n",
    "set_seed(conf['seed'])"
   ]
  },
  {
   "cell_type": "code",
   "execution_count": 5,
   "metadata": {
    "id": "I-zUX2n_Ifxl"
   },
   "outputs": [],
   "source": [
    "import torch\n",
    "from torch.utils.data import DataLoader\n",
    "\n",
    "DEVICE = torch.device(\"cuda\") if torch.cuda.is_available() else torch.device(\"cpu\")\n"
   ]
  },
  {
   "cell_type": "code",
   "execution_count": 6,
   "metadata": {
    "id": "3g2-dDVdH1ld"
   },
   "outputs": [
    {
     "name": "stderr",
     "output_type": "stream",
     "text": [
      "C:\\tools\\Anaconda3\\envs\\pytorch_env\\lib\\site-packages\\tqdm\\auto.py:21: TqdmWarning: IProgress not found. Please update jupyter and ipywidgets. See https://ipywidgets.readthedocs.io/en/stable/user_install.html\n",
      "  from .autonotebook import tqdm as notebook_tqdm\n"
     ]
    }
   ],
   "source": [
    "from torch.utils.data import DataLoader\n",
    "\n",
    "from transformers import BertTokenizer, BertForSequenceClassification\n",
    "from transformers import AutoTokenizer, AutoModelForMaskedLM, BertConfig, AutoModel\n",
    "from transformers import DataCollatorWithPadding\n",
    "from transformers import RobertaTokenizer, RobertaModel\n",
    "\n"
   ]
  },
  {
   "cell_type": "markdown",
   "metadata": {
    "id": "_xo6lDSZ1MT6"
   },
   "source": [
    "## функции"
   ]
  },
  {
   "cell_type": "code",
   "execution_count": 23,
   "metadata": {
    "id": "ExkDgYRN1Nhn"
   },
   "outputs": [],
   "source": [
    "from src.train_eval_model import metric_multi\n",
    "from sklearn.metrics import average_precision_score\n",
    "\n",
    "from itertools import chain\n",
    "from collections import defaultdict\n",
    "\n",
    "from src.funcs import get_preds\n"
   ]
  },
  {
   "cell_type": "markdown",
   "metadata": {
    "id": "4Jxuv8oelLIm"
   },
   "source": [
    "## переменные\n"
   ]
  },
  {
   "cell_type": "code",
   "execution_count": null,
   "metadata": {},
   "outputs": [],
   "source": []
  },
  {
   "cell_type": "code",
   "execution_count": 9,
   "metadata": {
    "id": "T6dnaX336_Tc"
   },
   "outputs": [],
   "source": [
    "TRAIN_BATCH_SIZE = conf_dop['nn']['batch_size']\n",
    "VALID_BATCH_SIZE = conf_dop['nn']['batch_size']\n",
    "\n",
    "MAX_SEQ_LENGTH = conf_dop['nn']['maxlen']\n",
    "\n",
    "DROPOUT_RATIO = conf_dop['nn_bert']['drop_ratio']\n",
    "\n",
    "MODE = conf_dop['nn_bert']['mode'] # pooler\n",
    "\n",
    "LEARNING_RATE = conf_dop['nn']['learning_rate']\n",
    "EPOCH_NUM = conf_dop['nn']['epoch_num']\n",
    "\n",
    "exp_gamma = conf_dop['nn']['exp_gamma'] \n",
    "milestone_gamma = conf_dop['nn']['milestone_gamma']\n",
    "milestone_l = conf_dop['nn']['milestone_l'] \n",
    "l2 = conf_dop['nn']['l2'] "
   ]
  },
  {
   "cell_type": "markdown",
   "metadata": {
    "id": "9Fvxmd_WC58I"
   },
   "source": [
    "## загрузка датасета и формирование target"
   ]
  },
  {
   "cell_type": "code",
   "execution_count": 10,
   "metadata": {},
   "outputs": [],
   "source": [
    "mlb = joblib.load(conf['prep_text']['mlb_fn'])\n",
    "data = pd.read_csv(conf['feat_gen']['data_fn'])\n",
    "\n",
    "data['target'] = data['target'].map(lambda x: eval(x))\n",
    "data['labels'] = data['labels'].map(lambda x: eval(x))\n",
    "tr_idx = data.query('split==\"tr\"').index\n",
    "val_idx = data.query('split==\"val\"').index\n",
    "ts_idx = data.query('split==\"ts\"').index"
   ]
  },
  {
   "cell_type": "markdown",
   "metadata": {
    "id": "MOqRoJLDd2uu"
   },
   "source": [
    "# Моделирование"
   ]
  },
  {
   "cell_type": "markdown",
   "metadata": {
    "id": "cb2MZSlRkxq8"
   },
   "source": [
    "## загрузка модели"
   ]
  },
  {
   "cell_type": "code",
   "execution_count": 11,
   "metadata": {},
   "outputs": [],
   "source": [
    "bert_type = conf_dop['nn_bert']['bert_type']"
   ]
  },
  {
   "cell_type": "code",
   "execution_count": 12,
   "metadata": {
    "colab": {
     "base_uri": "https://localhost:8080/",
     "height": 205,
     "referenced_widgets": [
      "1ccd2a13d8aa44afb8c02c8c081aaedf",
      "ea12986f5c994964b7ddffc0762e98a3",
      "1412e2c8ecea46efa4a75a29a6c66757",
      "9010179ef7eb4730b87e1cff291ac1ac",
      "f0ab725516cb468d93a13cc6b0f7d8b1",
      "9209f94cac044169b04fee78097110f7",
      "d09d742055bc4a3c9fc3bef0bdacf84f",
      "fccd16c42c0f4cd9bf55d69539898737",
      "749890e8d8d84ab0b420a2212ebc4e76",
      "607bdcfcddb7410ca93f953ba635d2d9",
      "d51433921bd4498a9dbdba38c082a207",
      "16d9bd41cf0540ea8f5f20b877d10504",
      "47ea94a1e5a245cd80202f00fbb77fb6",
      "f2f7506de6084ad297d33b35d5ae7555",
      "f24afc40e7a64a768888d3f5e9d90906",
      "153e906e928d49b78424a8d7d8c7f8e6",
      "0ba7ebb675e24d7eaaab5208da688a6e",
      "d0f4ad279ebd440f8b23d42a47fdca55",
      "cecd1ef9d14b4d66872e4e1a16d70376",
      "4ce030fe73ae454689669ac2f06f633d",
      "eb0305267ce64fe2bf2b38aa2573a4fd",
      "2d636289925a4cb18dc0a21b1a7c07a5"
     ]
    },
    "id": "X8dps8eDd1ub",
    "outputId": "ea4167a7-6dd9-44ad-d718-d02765ccbfd9",
    "scrolled": true
   },
   "outputs": [],
   "source": [
    "if bert_type == 'secbert_plus':\n",
    "    \n",
    "    checkpoint = \"ehsanaghaei/SecureBERT_Plus\"\n",
    "    tokenizer = RobertaTokenizer.from_pretrained(checkpoint)\n",
    "    model = RobertaModel.from_pretrained(checkpoint, output_hidden_states=True)\n",
    "    tokenizer_opts = {'max_length':MAX_SEQ_LENGTH, 'return_tensors':\"pt\", 'padding':True, 'truncation':True, 'add_special_tokens':True}\n",
    "    bert_model= model\n",
    "    \n",
    "elif bert_type == 'secbert':\n",
    "\n",
    "    checkpoint = \"jackaduma/SecBERT\"\n",
    "    tokenizer = AutoTokenizer.from_pretrained(checkpoint)\n",
    "    tokenizer_opts = {'max_length':MAX_SEQ_LENGTH, 'return_tensors':\"pt\", 'padding':True, 'truncation':True, 'add_special_tokens':True}\n",
    "    config = BertConfig.from_pretrained(checkpoint, output_hidden_states=True)\n",
    "    bert_model = AutoModel.from_pretrained(checkpoint, config=config).base_model\n",
    "\n",
    "elif bert_type == 'scibert':\n",
    "    checkpoint = 'allenai/scibert_scivocab_uncased'\n",
    "    tokenizer = BertTokenizer.from_pretrained(checkpoint, max_length=512)\n",
    "    model = BertForSequenceClassification.from_pretrained('scibert_multi_label_model')\n",
    "    bert_model= model.bert\n",
    "    tokenizer_opts = {'return_tensors':\"pt\", 'truncation':True,\n",
    "                      'padding':'max_length', 'max_length':MAX_SEQ_LENGTH}\n",
    "\n"
   ]
  },
  {
   "cell_type": "markdown",
   "metadata": {
    "id": "ZpPV8aYNIBvY"
   },
   "source": [
    "## подготовка данных"
   ]
  },
  {
   "cell_type": "code",
   "execution_count": 15,
   "metadata": {
    "id": "b9xshGDmo1sw"
   },
   "outputs": [],
   "source": [
    "from torch.utils.data import Dataset\n",
    "\n",
    "class TextDFDataset(Dataset):\n",
    "\n",
    "    def __init__(self, df, tokenizer, tokenizer_opts):\n",
    "\n",
    "      self.df = df\n",
    "      self.tokenizer = tokenizer\n",
    "      self.tokenizer_opts = tokenizer_opts \n",
    "        \n",
    "    def __getitem__(self, idx):\n",
    "      # import pdb;pdb.set_trace()\n",
    "      tok_d = self.tokenizer(self.df.loc[self.df.index[idx], 'sentence'], **self.tokenizer_opts)\n",
    "\n",
    "      return {**{k:v.flatten() for k,v in tok_d.items()}, **{'target':torch.tensor(self.df.loc[self.df.index[idx], 'target'], dtype=torch.float)}}\n",
    "\n",
    "    def __len__(self):\n",
    "\n",
    "      return self.df.shape[0]\n",
    "\n",
    "tr_ds = TextDFDataset(data.query('split==\"tr\"').reset_index(drop=True), tokenizer =tokenizer, tokenizer_opts=tokenizer_opts)\n",
    "val_ds = TextDFDataset(data.query('split==\"val\"').reset_index(drop=True), tokenizer =tokenizer, tokenizer_opts=tokenizer_opts)\n",
    "ts_ds = TextDFDataset(data.query('split==\"ts\"').reset_index(drop=True), tokenizer =tokenizer, tokenizer_opts=tokenizer_opts)\n"
   ]
  },
  {
   "cell_type": "code",
   "execution_count": 16,
   "metadata": {
    "id": "YAwramXdjhfk"
   },
   "outputs": [],
   "source": [
    "tr_ld = DataLoader(tr_ds, batch_size = TRAIN_BATCH_SIZE, shuffle = True, collate_fn = DataCollatorWithPadding(tokenizer=tokenizer))\n",
    "val_ld = DataLoader(val_ds, batch_size = VALID_BATCH_SIZE, shuffle = False, collate_fn = DataCollatorWithPadding(tokenizer=tokenizer))\n",
    "ts_ld = DataLoader(ts_ds, batch_size = VALID_BATCH_SIZE, shuffle = False, collate_fn = DataCollatorWithPadding(tokenizer=tokenizer))"
   ]
  },
  {
   "cell_type": "markdown",
   "metadata": {
    "id": "Jfmbgp0ybHD4"
   },
   "source": [
    "### проверка"
   ]
  },
  {
   "cell_type": "code",
   "execution_count": 17,
   "metadata": {
    "id": "aruPAx7zlOsU"
   },
   "outputs": [],
   "source": [
    "batch = next(iter(val_ld))\n"
   ]
  },
  {
   "cell_type": "markdown",
   "metadata": {
    "id": "UjHbfG2fmsjY"
   },
   "source": [
    "## архитектура модели"
   ]
  },
  {
   "cell_type": "code",
   "execution_count": 18,
   "metadata": {},
   "outputs": [
    {
     "data": {
      "text/plain": [
       "14"
      ]
     },
     "execution_count": 18,
     "metadata": {},
     "output_type": "execute_result"
    }
   ],
   "source": [
    "len(mlb.classes_)"
   ]
  },
  {
   "cell_type": "code",
   "execution_count": 19,
   "metadata": {
    "id": "W-CNLxzopjAW"
   },
   "outputs": [],
   "source": [
    "class TextModelClass(torch.nn.Module):\n",
    "\n",
    "    def __init__(self, classnum, dropout_ratio):\n",
    "\n",
    "        super().__init__()\n",
    "        self.bert = bert_model\n",
    "        self.lin = torch.nn.Linear(768, 768)\n",
    "        self.drop_out = torch.nn.Dropout(dropout_ratio)\n",
    "        self.lin_out = torch.nn.Linear(768, classnum)\n",
    "\n",
    "    def forward(self, X):\n",
    "\n",
    "        out = self.bert(**{k: v.to(DEVICE) for k, v in X.items() if k!='target'})\n",
    "        if MODE=='cls':\n",
    "            out = out.last_hidden_state[:,0,:]\n",
    "        elif MODE=='pooler':\n",
    "            out = out.pooler_output\n",
    "        out = self.lin(out)\n",
    "        out = torch.nn.ReLU()(out)\n",
    "        out = self.drop_out(out)\n",
    "        out = self.lin_out(out)\n",
    "\n",
    "        return out\n",
    "\n",
    "model = TextModelClass(classnum=len(mlb.classes_), dropout_ratio=DROPOUT_RATIO)\n",
    "model = model.to(DEVICE)\n",
    "\n"
   ]
  },
  {
   "cell_type": "code",
   "execution_count": 20,
   "metadata": {
    "id": "H9rAmZTTmxO0"
   },
   "outputs": [],
   "source": [
    "# Заморозьте все слои\n",
    "for param in model.bert.parameters():\n",
    "    param.requires_grad = False"
   ]
  },
  {
   "cell_type": "markdown",
   "metadata": {
    "id": "l13SXRYOWrf1"
   },
   "source": [
    "### проверка"
   ]
  },
  {
   "cell_type": "markdown",
   "metadata": {
    "id": "yHyiwJq0Whlq"
   },
   "source": [
    "out = model(batch)\n",
    "out"
   ]
  },
  {
   "cell_type": "markdown",
   "metadata": {
    "id": "ODLv8L7C94UC"
   },
   "source": [
    "## обучение"
   ]
  },
  {
   "cell_type": "code",
   "execution_count": 21,
   "metadata": {
    "colab": {
     "base_uri": "https://localhost:8080/",
     "height": 49,
     "referenced_widgets": [
      "f8caa329869745d696a7e3de26a7c73e",
      "c3d20ec05b7043448fdb24cbd8ef5ac6",
      "0882ddb6162943b6b4ff34ebee4f4d41",
      "03fda7025890417da9a07468bfcdc608",
      "69aaddfa8ce046dbb5629e7ca1bfba90",
      "96109246071c4bcab5c489bf0f0c1fda",
      "c1627c7bf1024ed5bd2357dc2bdf5b97",
      "5aa11edbc82c47b1b2408db5589a7bef",
      "1cb6884c4d4e466a9e4cf31b3894fb6b",
      "7c585dd04e984b6d96a296fbf40f7b4f",
      "11a77ad1e6fc4b91bafc051f20082bad"
     ]
    },
    "id": "st_amtTHigYE",
    "outputId": "6752325c-cb10-4331-8cad-a1ca8319ef5b"
   },
   "outputs": [
    {
     "name": "stderr",
     "output_type": "stream",
     "text": [
      "  0%|                                                                                            | 0/2 [00:00<?, ?it/s]C:\\tools\\Anaconda3\\envs\\pytorch_env\\lib\\site-packages\\transformers\\models\\bert\\modeling_bert.py:435: UserWarning: 1Torch was not compiled with flash attention. (Triggered internally at C:\\cb\\pytorch_1000000000000\\work\\aten\\src\\ATen\\native\\transformers\\cuda\\sdp_utils.cpp:455.)\n",
      "  attn_output = torch.nn.functional.scaled_dot_product_attention(\n",
      "100%|███████████████████████████████████████████████████████████████████████████████████| 2/2 [10:59<00:00, 329.20s/it]"
     ]
    }
   ],
   "source": [
    "from tqdm.auto import tqdm\n",
    "from torch.optim.lr_scheduler import StepLR, ExponentialLR, MultiStepLR\n",
    "from sklearn.metrics import average_precision_score, log_loss\n",
    "\n",
    "loss_fn = torch.nn.BCEWithLogitsLoss()\n",
    "\n",
    "optimizer = torch.optim.Adam(params =  model.parameters(), lr=LEARNING_RATE, weight_decay=l2)\n",
    "# optimizer = torch.optim.RMSprop(model.parameters(), lr=LEARNING_RATE)\n",
    "\n",
    "scheduler1 = ExponentialLR(optimizer, gamma=conf_dop['nn']['exp_gamma'] )\n",
    "scheduler2 = MultiStepLR(optimizer, milestones=conf_dop['nn']['milestone_l'], gamma=conf_dop['nn']['milestone_gamma'])\n",
    "\n",
    "\n",
    "val_iter_num = 1\n",
    "refresh_cache_iter = 10\n",
    "progress_bar = tqdm(range(EPOCH_NUM))\n",
    "\n",
    "loss_d = {}\n",
    "\n",
    "model = model.to(DEVICE)\n",
    "\n",
    "for epoch in range(1, EPOCH_NUM+1):\n",
    "    loss_tr_l = []\n",
    "    model.train()\n",
    "    res_d = defaultdict(list)\n",
    "    tr_batch_num = len(tr_ld)\n",
    "    tr_loss_epoch = 0\n",
    "    for batch_tr in tr_ld:\n",
    "        out = model(batch_tr)\n",
    "        # import pdb;pdb.set_trace()\n",
    "        optimizer.zero_grad()\n",
    "\n",
    "        loss = loss_fn(out, batch_tr['target'].to(DEVICE))\n",
    "        loss.backward()\n",
    "        optimizer.step()\n",
    "        tr_loss_epoch = tr_loss_epoch + loss.item()\n",
    "        with torch.no_grad():\n",
    "            model.eval()\n",
    "            res_d['tr_target'].append(batch_tr['target'].numpy()) \n",
    "            res_d['tr_pred'].append(out.sigmoid().cpu().numpy()) \n",
    "\n",
    "    res_d['tr_target'] = list(chain(*res_d['tr_target']))\n",
    "    res_d['tr_pred'] = list(chain(*res_d['tr_pred']))\n",
    "    \n",
    "    scheduler1.step()\n",
    "    scheduler2.step()\n",
    "    \n",
    "    if epoch%val_iter_num==0:\n",
    "        model.eval()\n",
    "        val_batch_num = len(val_ld)\n",
    "        val_loss_epoch = 0\n",
    "        pr_auc = 0\n",
    "        with torch.no_grad():\n",
    "            for batch_val in val_ld:\n",
    "                pred = model(batch_val)\n",
    "                val_loss = loss_fn(pred, batch_val['target'].to(DEVICE))\n",
    "                val_loss_epoch = val_loss_epoch+val_loss.item()\n",
    "                sigm_preds = pred.sigmoid().cpu()\n",
    "\n",
    "                pr_auc = pr_auc + metric_multi(batch_val['target'].numpy(), sigm_preds.numpy(), average_precision_score)[0]\n",
    "\n",
    "                res_d['target'].append(batch_val['target'].numpy())\n",
    "                res_d['pred'].append(sigm_preds.numpy())\n",
    "\n",
    "            res_d['target'] = list(chain(*res_d['target']))\n",
    "            res_d['pred'] = list(chain(*res_d['pred']))\n",
    "\n",
    "    # loss_d[epoch] = {'loss_tr':tr_loss_epoch/tr_batch_num,\n",
    "    #                   'loss_val':val_loss_epoch/val_batch_num,\n",
    "    #                 'pr_auc_batch':pr_auc/val_batch_num,\n",
    "    #                  'pr_auc':metric_multi(np.array(res_d['target']), np.array(res_d['pred']), average_precision_score)[0]}\n",
    "\n",
    "    loss_d[epoch] = {'log_loss_tr_batch':tr_loss_epoch/tr_batch_num,\n",
    "                      'log_loss_val_batch':val_loss_epoch/val_batch_num,\n",
    "                    'pr_auc_batch':pr_auc/val_batch_num,\n",
    "                     'log_loss_val':metric_multi(np.array(res_d['target']), np.array(res_d['pred']), log_loss)[0],\n",
    "                    'log_loss_tr':metric_multi(np.array(res_d['tr_target']), np.array(res_d['tr_pred']), log_loss)[0],\n",
    "                     'pr_auc_val':metric_multi(np.array(res_d['target']), np.array(res_d['pred']), average_precision_score)[0],\n",
    "                    'pr_auc_tr':metric_multi(np.array(res_d['tr_target']), np.array(res_d['tr_pred']), average_precision_score)[0]}\n",
    "    progress_bar.update(1)"
   ]
  },
  {
   "cell_type": "code",
   "execution_count": 24,
   "metadata": {},
   "outputs": [],
   "source": []
  },
  {
   "cell_type": "code",
   "execution_count": 73,
   "metadata": {},
   "outputs": [],
   "source": [
    "name = os.path.basename(conf_dop['nn_bert']['model_fn'])\n",
    "dirname = os.path.dirname(conf_dop['nn_bert']['model_fn'])\n",
    "\n",
    "torch.save(model, f'{dirname}/{bert_type}_{name}')"
   ]
  },
  {
   "cell_type": "code",
   "execution_count": 74,
   "metadata": {},
   "outputs": [],
   "source": [
    "model = torch.load(f'{dirname}/{bert_type}_{name}')\n",
    "# saving old one\n",
    "\n",
    "os.rename(f'{dirname}/{bert_type}_{name}', f'{dirname}/prev_{bert_type}_{name}')"
   ]
  },
  {
   "cell_type": "code",
   "execution_count": null,
   "metadata": {},
   "outputs": [],
   "source": []
  },
  {
   "cell_type": "code",
   "execution_count": null,
   "metadata": {},
   "outputs": [],
   "source": []
  },
  {
   "cell_type": "code",
   "execution_count": null,
   "metadata": {},
   "outputs": [],
   "source": [
    "import matplotlib.pyplot as plt\n",
    "\n",
    "plt.plot(loss_d.keys(),[it['log_loss_tr'] for it in loss_d.values()], label='log_loss_tr')\n",
    "plt.plot(loss_d.keys(),[it['log_loss_val'] for it in loss_d.values()], label='log_loss_val')\n",
    "plt.legend()"
   ]
  },
  {
   "cell_type": "code",
   "execution_count": null,
   "metadata": {},
   "outputs": [],
   "source": []
  },
  {
   "cell_type": "code",
   "execution_count": null,
   "metadata": {},
   "outputs": [],
   "source": [
    "import matplotlib.pyplot as plt\n",
    "\n",
    "plt.plot(loss_d.keys(),[it['pr_auc_tr'] for it in loss_d.values()], label='pr_auc_tr')\n",
    "plt.plot(loss_d.keys(),[it['pr_auc_val'] for it in loss_d.values()], label='pr_auc_val')\n",
    "plt.legend()"
   ]
  },
  {
   "cell_type": "code",
   "execution_count": null,
   "metadata": {
    "colab": {
     "base_uri": "https://localhost:8080/"
    },
    "id": "x-vvM4rXYCHn",
    "outputId": "220b90eb-9dfc-44c3-8e1a-f1f95b4ba709"
   },
   "outputs": [],
   "source": [
    "[it['pr_auc'] for it in loss_d.values()]"
   ]
  },
  {
   "cell_type": "code",
   "execution_count": null,
   "metadata": {
    "colab": {
     "base_uri": "https://localhost:8080/"
    },
    "id": "WIU1l48fiL3G",
    "outputId": "bbb57b62-c93b-48c2-9b04-6b625d24eb6f"
   },
   "outputs": [],
   "source": [
    "[it['loss_val'] for it in loss_d.values()]"
   ]
  },
  {
   "cell_type": "code",
   "execution_count": null,
   "metadata": {
    "colab": {
     "base_uri": "https://localhost:8080/"
    },
    "id": "WIU1l48fiL3G",
    "outputId": "bbb57b62-c93b-48c2-9b04-6b625d24eb6f"
   },
   "outputs": [],
   "source": [
    "[it['loss_tr'] for it in loss_d.values()]"
   ]
  },
  {
   "cell_type": "raw",
   "metadata": {
    "id": "8Hh03PtqGYwh"
   },
   "source": [
    "0.62 pr_auc на val, надо на переобучение смотреть\n",
    "\n",
    "- 130 эпох\n",
    "- batch = 8\n",
    "- seq_len = 128\n",
    "- можно со скоростью поиграть еще"
   ]
  },
  {
   "cell_type": "markdown",
   "metadata": {
    "id": "wCKWQgfH4Rgt"
   },
   "source": [
    "# Дотренировка"
   ]
  },
  {
   "cell_type": "code",
   "execution_count": null,
   "metadata": {
    "id": "1JoDZmv_pKAU"
   },
   "outputs": [],
   "source": [
    "# !mkdir '/content/drive/MyDrive/Colab Notebooks/texts/sec_bert/data/models'"
   ]
  },
  {
   "cell_type": "code",
   "execution_count": null,
   "metadata": {
    "id": "EgkzBpKx7nLu"
   },
   "outputs": [],
   "source": [
    "# torch.save(model, 'data/models/jackaduma_model130.pt')\n",
    "torch.save(model, 'data/models/secbertplus7.pt')\n",
    "# torch.save(model, '/content/drive/MyDrive/Colab Notebooks/texts/sec_bert/data/models/allenai_model12.pt')"
   ]
  },
  {
   "cell_type": "code",
   "execution_count": 60,
   "metadata": {
    "id": "A7017wxd4Yi1"
   },
   "outputs": [],
   "source": [
    "# model= torch.load('/content/drive/MyDrive/Colab Notebooks/texts/sec_bert/data/models/jackaduma_model15.pt')\n",
    "model = torch.load(conf_dop['nn_bert']['model_fn'])"
   ]
  },
  {
   "cell_type": "code",
   "execution_count": 63,
   "metadata": {},
   "outputs": [],
   "source": [
    "name = os.path.basename(conf_dop['nn_bert']['model_fn'])\n",
    "dirname = os.path.dirname(conf_dop['nn_bert']['model_fn'])\n",
    "os.rename(conf_dop['nn_bert']['model_fn'], f'{dirname}/prev_{name}')"
   ]
  },
  {
   "cell_type": "code",
   "execution_count": null,
   "metadata": {},
   "outputs": [],
   "source": []
  },
  {
   "cell_type": "code",
   "execution_count": 71,
   "metadata": {},
   "outputs": [
    {
     "data": {
      "text/html": [
       "<div>\n",
       "<style scoped>\n",
       "    .dataframe tbody tr th:only-of-type {\n",
       "        vertical-align: middle;\n",
       "    }\n",
       "\n",
       "    .dataframe tbody tr th {\n",
       "        vertical-align: top;\n",
       "    }\n",
       "\n",
       "    .dataframe thead th {\n",
       "        text-align: right;\n",
       "    }\n",
       "</style>\n",
       "<table border=\"1\" class=\"dataframe\">\n",
       "  <thead>\n",
       "    <tr style=\"text-align: right;\">\n",
       "      <th></th>\n",
       "      <th>sentence</th>\n",
       "      <th>labels</th>\n",
       "    </tr>\n",
       "  </thead>\n",
       "  <tbody>\n",
       "    <tr>\n",
       "      <th>0</th>\n",
       "      <td>title: NotPetya Technical Analysis – A Triple Threat: File Encryption, MFT Encryption, Credential Theft url: https://www.crowdstrike.com/blog/petrwrap-ransomware-technical-analysis-triple-threat-f...</td>\n",
       "      <td>[]</td>\n",
       "    </tr>\n",
       "    <tr>\n",
       "      <th>1</th>\n",
       "      <td>Executive Summary This technical analysis provides an in-depth analysis and review of NotPetya.</td>\n",
       "      <td>[]</td>\n",
       "    </tr>\n",
       "    <tr>\n",
       "      <th>2</th>\n",
       "      <td>For more information on CrowdStrike’s proactive protection features see the earlier CrowdStrike blog on how Falcon Endpoint Protection prevents the NotPetya attack.</td>\n",
       "      <td>[]</td>\n",
       "    </tr>\n",
       "    <tr>\n",
       "      <th>3</th>\n",
       "      <td>NotPetya combines ransomware with the ability to propagate itself across a network.</td>\n",
       "      <td>[]</td>\n",
       "    </tr>\n",
       "    <tr>\n",
       "      <th>4</th>\n",
       "      <td>It spreads to Microsoft Windows machines using several propagation methods, including the EternalBlue exploit for the CVE-2017-0144 vulnerability in the SMB service.</td>\n",
       "      <td>[T1210]</td>\n",
       "    </tr>\n",
       "  </tbody>\n",
       "</table>\n",
       "</div>"
      ],
      "text/plain": [
       "                                                                                                                                                                                                  sentence  \\\n",
       "0  title: NotPetya Technical Analysis – A Triple Threat: File Encryption, MFT Encryption, Credential Theft url: https://www.crowdstrike.com/blog/petrwrap-ransomware-technical-analysis-triple-threat-f...   \n",
       "1                                                                                                         Executive Summary This technical analysis provides an in-depth analysis and review of NotPetya.    \n",
       "2                                    For more information on CrowdStrike’s proactive protection features see the earlier CrowdStrike blog on how Falcon Endpoint Protection prevents the NotPetya attack.    \n",
       "3                                                                                                                      NotPetya combines ransomware with the ability to propagate itself across a network.   \n",
       "4                                    It spreads to Microsoft Windows machines using several propagation methods, including the EternalBlue exploit for the CVE-2017-0144 vulnerability in the SMB service.   \n",
       "\n",
       "    labels  \n",
       "0       []  \n",
       "1       []  \n",
       "2       []  \n",
       "3       []  \n",
       "4  [T1210]  "
      ]
     },
     "metadata": {},
     "output_type": "display_data"
    }
   ],
   "source": [
    "with pd.option_context('display.max_colwidth', 200):\n",
    "    display(tram_df.head())"
   ]
  },
  {
   "cell_type": "code",
   "execution_count": 68,
   "metadata": {},
   "outputs": [
    {
     "data": {
      "text/html": [
       "<div>\n",
       "<style scoped>\n",
       "    .dataframe tbody tr th:only-of-type {\n",
       "        vertical-align: middle;\n",
       "    }\n",
       "\n",
       "    .dataframe tbody tr th {\n",
       "        vertical-align: top;\n",
       "    }\n",
       "\n",
       "    .dataframe thead th {\n",
       "        text-align: right;\n",
       "    }\n",
       "</style>\n",
       "<table border=\"1\" class=\"dataframe\">\n",
       "  <thead>\n",
       "    <tr style=\"text-align: right;\">\n",
       "      <th></th>\n",
       "      <th>sentence</th>\n",
       "      <th>labels</th>\n",
       "    </tr>\n",
       "  </thead>\n",
       "  <tbody>\n",
       "    <tr>\n",
       "      <th>1235</th>\n",
       "      <td>Figure 5.</td>\n",
       "      <td>[]</td>\n",
       "    </tr>\n",
       "    <tr>\n",
       "      <th>1584</th>\n",
       "      <td>Figure 5.</td>\n",
       "      <td>[]</td>\n",
       "    </tr>\n",
       "    <tr>\n",
       "      <th>1944</th>\n",
       "      <td>Figure 5.</td>\n",
       "      <td>[]</td>\n",
       "    </tr>\n",
       "    <tr>\n",
       "      <th>3093</th>\n",
       "      <td>T1059</td>\n",
       "      <td>[]</td>\n",
       "    </tr>\n",
       "    <tr>\n",
       "      <th>3110</th>\n",
       "      <td>T1562.001</td>\n",
       "      <td>[]</td>\n",
       "    </tr>\n",
       "    <tr>\n",
       "      <th>3112</th>\n",
       "      <td>T1564.003</td>\n",
       "      <td>[]</td>\n",
       "    </tr>\n",
       "    <tr>\n",
       "      <th>3362</th>\n",
       "      <td>Figure 5.</td>\n",
       "      <td>[]</td>\n",
       "    </tr>\n",
       "    <tr>\n",
       "      <th>4392</th>\n",
       "      <td>Figure 5.</td>\n",
       "      <td>[]</td>\n",
       "    </tr>\n",
       "    <tr>\n",
       "      <th>4612</th>\n",
       "      <td>Figure 5.</td>\n",
       "      <td>[]</td>\n",
       "    </tr>\n",
       "    <tr>\n",
       "      <th>4816</th>\n",
       "      <td>[T1059</td>\n",
       "      <td>[]</td>\n",
       "    </tr>\n",
       "    <tr>\n",
       "      <th>5359</th>\n",
       "      <td>Figure 5.</td>\n",
       "      <td>[]</td>\n",
       "    </tr>\n",
       "    <tr>\n",
       "      <th>5562</th>\n",
       "      <td>Figure 5.</td>\n",
       "      <td>[]</td>\n",
       "    </tr>\n",
       "    <tr>\n",
       "      <th>5871</th>\n",
       "      <td>T1572</td>\n",
       "      <td>[]</td>\n",
       "    </tr>\n",
       "    <tr>\n",
       "      <th>5971</th>\n",
       "      <td>Figure 5.</td>\n",
       "      <td>[]</td>\n",
       "    </tr>\n",
       "    <tr>\n",
       "      <th>6892</th>\n",
       "      <td>[T1105].</td>\n",
       "      <td>[]</td>\n",
       "    </tr>\n",
       "    <tr>\n",
       "      <th>7437</th>\n",
       "      <td>Figure 5.</td>\n",
       "      <td>[]</td>\n",
       "    </tr>\n",
       "    <tr>\n",
       "      <th>7509</th>\n",
       "      <td>T1053.005</td>\n",
       "      <td>[]</td>\n",
       "    </tr>\n",
       "    <tr>\n",
       "      <th>7525</th>\n",
       "      <td>T1562.001</td>\n",
       "      <td>[]</td>\n",
       "    </tr>\n",
       "    <tr>\n",
       "      <th>7796</th>\n",
       "      <td>[NU5].</td>\n",
       "      <td>[]</td>\n",
       "    </tr>\n",
       "    <tr>\n",
       "      <th>7998</th>\n",
       "      <td>Fig 5.</td>\n",
       "      <td>[]</td>\n",
       "    </tr>\n",
       "    <tr>\n",
       "      <th>8094</th>\n",
       "      <td>Figure 5.</td>\n",
       "      <td>[]</td>\n",
       "    </tr>\n",
       "    <tr>\n",
       "      <th>8989</th>\n",
       "      <td>587)</td>\n",
       "      <td>[]</td>\n",
       "    </tr>\n",
       "    <tr>\n",
       "      <th>9354</th>\n",
       "      <td>Figure 5.</td>\n",
       "      <td>[]</td>\n",
       "    </tr>\n",
       "    <tr>\n",
       "      <th>9663</th>\n",
       "      <td>5.</td>\n",
       "      <td>[T1112]</td>\n",
       "    </tr>\n",
       "    <tr>\n",
       "      <th>10804</th>\n",
       "      <td>Figure 5.</td>\n",
       "      <td>[]</td>\n",
       "    </tr>\n",
       "    <tr>\n",
       "      <th>10909</th>\n",
       "      <td>R580958</td>\n",
       "      <td>[]</td>\n",
       "    </tr>\n",
       "    <tr>\n",
       "      <th>11431</th>\n",
       "      <td>5.</td>\n",
       "      <td>[]</td>\n",
       "    </tr>\n",
       "    <tr>\n",
       "      <th>11485</th>\n",
       "      <td>Figure 5.</td>\n",
       "      <td>[]</td>\n",
       "    </tr>\n",
       "    <tr>\n",
       "      <th>11789</th>\n",
       "      <td>Figure 5.</td>\n",
       "      <td>[]</td>\n",
       "    </tr>\n",
       "    <tr>\n",
       "      <th>14640</th>\n",
       "      <td>Figure 5.</td>\n",
       "      <td>[]</td>\n",
       "    </tr>\n",
       "    <tr>\n",
       "      <th>14744</th>\n",
       "      <td>[T1615].</td>\n",
       "      <td>[]</td>\n",
       "    </tr>\n",
       "    <tr>\n",
       "      <th>15623</th>\n",
       "      <td>Figure 5.</td>\n",
       "      <td>[]</td>\n",
       "    </tr>\n",
       "    <tr>\n",
       "      <th>15716</th>\n",
       "      <td>Figure 5.</td>\n",
       "      <td>[]</td>\n",
       "    </tr>\n",
       "    <tr>\n",
       "      <th>16717</th>\n",
       "      <td>T1135.</td>\n",
       "      <td>[]</td>\n",
       "    </tr>\n",
       "    <tr>\n",
       "      <th>16734</th>\n",
       "      <td>T1105.</td>\n",
       "      <td>[]</td>\n",
       "    </tr>\n",
       "    <tr>\n",
       "      <th>17146</th>\n",
       "      <td>Figure 5.</td>\n",
       "      <td>[]</td>\n",
       "    </tr>\n",
       "    <tr>\n",
       "      <th>17580</th>\n",
       "      <td>Table 5.</td>\n",
       "      <td>[]</td>\n",
       "    </tr>\n",
       "    <tr>\n",
       "      <th>18784</th>\n",
       "      <td>[T1537].</td>\n",
       "      <td>[]</td>\n",
       "    </tr>\n",
       "    <tr>\n",
       "      <th>18989</th>\n",
       "      <td>Figure 5.</td>\n",
       "      <td>[]</td>\n",
       "    </tr>\n",
       "    <tr>\n",
       "      <th>19087</th>\n",
       "      <td>[T1185]).</td>\n",
       "      <td>[]</td>\n",
       "    </tr>\n",
       "  </tbody>\n",
       "</table>\n",
       "</div>"
      ],
      "text/plain": [
       "        sentence   labels\n",
       "1235   Figure 5.       []\n",
       "1584   Figure 5.       []\n",
       "1944   Figure 5.       []\n",
       "3093       T1059       []\n",
       "3110   T1562.001       []\n",
       "3112   T1564.003       []\n",
       "3362   Figure 5.       []\n",
       "4392   Figure 5.       []\n",
       "4612   Figure 5.       []\n",
       "4816      [T1059       []\n",
       "5359   Figure 5.       []\n",
       "5562   Figure 5.       []\n",
       "5871       T1572       []\n",
       "5971   Figure 5.       []\n",
       "6892    [T1105].       []\n",
       "7437   Figure 5.       []\n",
       "7509   T1053.005       []\n",
       "7525   T1562.001       []\n",
       "7796      [NU5].       []\n",
       "7998      Fig 5.       []\n",
       "8094   Figure 5.       []\n",
       "8989        587)       []\n",
       "9354   Figure 5.       []\n",
       "9663         5.   [T1112]\n",
       "10804  Figure 5.       []\n",
       "10909    R580958       []\n",
       "11431         5.       []\n",
       "11485  Figure 5.       []\n",
       "11789  Figure 5.       []\n",
       "14640  Figure 5.       []\n",
       "14744   [T1615].       []\n",
       "15623  Figure 5.       []\n",
       "15716  Figure 5.       []\n",
       "16717     T1135.       []\n",
       "16734     T1105.       []\n",
       "17146  Figure 5.       []\n",
       "17580   Table 5.       []\n",
       "18784   [T1537].       []\n",
       "18989  Figure 5.       []\n",
       "19087  [T1185]).       []"
      ]
     },
     "execution_count": 68,
     "metadata": {},
     "output_type": "execute_result"
    }
   ],
   "source": [
    "tram_df = pd.read_json(conf['get_data']['tram_fn']).drop(columns='doc_title')\n",
    "# tram_df[(tram_df.sentence.str.contains(\"5.\")) & (tram_df.sentence.str.len()<10)]"
   ]
  },
  {
   "cell_type": "markdown",
   "metadata": {
    "id": "nY2jmDjx3V8P"
   },
   "source": [
    "# Проверка предсказаний"
   ]
  },
  {
   "cell_type": "code",
   "execution_count": null,
   "metadata": {
    "id": "ffkCOiTG995-"
   },
   "outputs": [],
   "source": [
    "res_val = get_preds(model, ld=val_ld)\n",
    "res_tr = get_preds(model, ld=tr_ld)"
   ]
  },
  {
   "cell_type": "code",
   "execution_count": null,
   "metadata": {
    "id": "ffkCOiTG995-"
   },
   "outputs": [],
   "source": [
    "res_ts = get_preds(model, ld=ts_ld)"
   ]
  },
  {
   "cell_type": "code",
   "execution_count": null,
   "metadata": {
    "id": "GpNLhxyDEhxt"
   },
   "outputs": [],
   "source": [
    "fin_metric, res_l = metric_multi(np.array(res_val['target']), np.array(res_val['pred']), average_precision_score)\n",
    "print(fin_metric)\n",
    "res_val_df = pd.DataFrame({'qual':res_l, 'class':mlb.classes_})\n",
    "\n",
    "fin_metric, res_l = metric_multi(np.array(res_tr['target']), np.array(res_tr['pred']), average_precision_score)\n",
    "print(fin_metric)\n",
    "res_tr_df = pd.DataFrame({'qual':res_l, 'class':mlb.classes_})\n",
    "\n",
    "fin_metric, res_l = metric_multi(np.array(res_ts['target']), np.array(res_ts['pred']), average_precision_score)\n",
    "print(fin_metric)\n",
    "res_ts_df = pd.DataFrame({'qual':res_l, 'class':mlb.classes_})"
   ]
  },
  {
   "cell_type": "code",
   "execution_count": null,
   "metadata": {
    "colab": {
     "base_uri": "https://localhost:8080/",
     "height": 206
    },
    "id": "oG02WSmdKSbI",
    "outputId": "0a24d3ad-476f-4389-80f5-c981456592c6"
   },
   "outputs": [],
   "source": [
    "res_ts_df.query('qual<0.8')"
   ]
  },
  {
   "cell_type": "code",
   "execution_count": null,
   "metadata": {
    "colab": {
     "base_uri": "https://localhost:8080/"
    },
    "id": "KJ_wLxL2Mig9",
    "outputId": "05314898-6a58-4bc6-801d-cc0693c83170"
   },
   "outputs": [],
   "source": [
    "res_val_df.query('qual>0.4')['qual']"
   ]
  },
  {
   "cell_type": "code",
   "execution_count": null,
   "metadata": {
    "colab": {
     "base_uri": "https://localhost:8080/",
     "height": 229
    },
    "id": "krOqTDyOMrl8",
    "outputId": "74f72ba2-efa0-431e-d90b-6cacf6ac514d"
   },
   "outputs": [],
   "source": [
    "df.drop(columns='target').explode('labels').pivot_table(index = ['split'], columns = ['labels'], values='labels', aggfunc='count' )"
   ]
  },
  {
   "cell_type": "code",
   "execution_count": null,
   "metadata": {
    "id": "ilnPj-fkNGAQ"
   },
   "outputs": [],
   "source": []
  }
 ],
 "metadata": {
  "colab": {
   "provenance": [],
   "toc_visible": true
  },
  "kernelspec": {
   "display_name": "pytorch_env",
   "language": "python",
   "name": "pytorch_env"
  },
  "language_info": {
   "codemirror_mode": {
    "name": "ipython",
    "version": 3
   },
   "file_extension": ".py",
   "mimetype": "text/x-python",
   "name": "python",
   "nbconvert_exporter": "python",
   "pygments_lexer": "ipython3",
   "version": "3.10.14"
  },
  "widgets": {
   "application/vnd.jupyter.widget-state+json": {
    "03fda7025890417da9a07468bfcdc608": {
     "model_module": "@jupyter-widgets/controls",
     "model_module_version": "1.5.0",
     "model_name": "HTMLModel",
     "state": {
      "_dom_classes": [],
      "_model_module": "@jupyter-widgets/controls",
      "_model_module_version": "1.5.0",
      "_model_name": "HTMLModel",
      "_view_count": null,
      "_view_module": "@jupyter-widgets/controls",
      "_view_module_version": "1.5.0",
      "_view_name": "HTMLView",
      "description": "",
      "description_tooltip": null,
      "layout": "IPY_MODEL_7c585dd04e984b6d96a296fbf40f7b4f",
      "placeholder": "​",
      "style": "IPY_MODEL_11a77ad1e6fc4b91bafc051f20082bad",
      "value": " 0/2 [00:00&lt;?, ?it/s]"
     }
    },
    "0882ddb6162943b6b4ff34ebee4f4d41": {
     "model_module": "@jupyter-widgets/controls",
     "model_module_version": "1.5.0",
     "model_name": "FloatProgressModel",
     "state": {
      "_dom_classes": [],
      "_model_module": "@jupyter-widgets/controls",
      "_model_module_version": "1.5.0",
      "_model_name": "FloatProgressModel",
      "_view_count": null,
      "_view_module": "@jupyter-widgets/controls",
      "_view_module_version": "1.5.0",
      "_view_name": "ProgressView",
      "bar_style": "",
      "description": "",
      "description_tooltip": null,
      "layout": "IPY_MODEL_5aa11edbc82c47b1b2408db5589a7bef",
      "max": 2,
      "min": 0,
      "orientation": "horizontal",
      "style": "IPY_MODEL_1cb6884c4d4e466a9e4cf31b3894fb6b",
      "value": 0
     }
    },
    "0ba7ebb675e24d7eaaab5208da688a6e": {
     "model_module": "@jupyter-widgets/base",
     "model_module_version": "1.2.0",
     "model_name": "LayoutModel",
     "state": {
      "_model_module": "@jupyter-widgets/base",
      "_model_module_version": "1.2.0",
      "_model_name": "LayoutModel",
      "_view_count": null,
      "_view_module": "@jupyter-widgets/base",
      "_view_module_version": "1.2.0",
      "_view_name": "LayoutView",
      "align_content": null,
      "align_items": null,
      "align_self": null,
      "border": null,
      "bottom": null,
      "display": null,
      "flex": null,
      "flex_flow": null,
      "grid_area": null,
      "grid_auto_columns": null,
      "grid_auto_flow": null,
      "grid_auto_rows": null,
      "grid_column": null,
      "grid_gap": null,
      "grid_row": null,
      "grid_template_areas": null,
      "grid_template_columns": null,
      "grid_template_rows": null,
      "height": null,
      "justify_content": null,
      "justify_items": null,
      "left": null,
      "margin": null,
      "max_height": null,
      "max_width": null,
      "min_height": null,
      "min_width": null,
      "object_fit": null,
      "object_position": null,
      "order": null,
      "overflow": null,
      "overflow_x": null,
      "overflow_y": null,
      "padding": null,
      "right": null,
      "top": null,
      "visibility": null,
      "width": null
     }
    },
    "11a77ad1e6fc4b91bafc051f20082bad": {
     "model_module": "@jupyter-widgets/controls",
     "model_module_version": "1.5.0",
     "model_name": "DescriptionStyleModel",
     "state": {
      "_model_module": "@jupyter-widgets/controls",
      "_model_module_version": "1.5.0",
      "_model_name": "DescriptionStyleModel",
      "_view_count": null,
      "_view_module": "@jupyter-widgets/base",
      "_view_module_version": "1.2.0",
      "_view_name": "StyleView",
      "description_width": ""
     }
    },
    "1412e2c8ecea46efa4a75a29a6c66757": {
     "model_module": "@jupyter-widgets/controls",
     "model_module_version": "1.5.0",
     "model_name": "FloatProgressModel",
     "state": {
      "_dom_classes": [],
      "_model_module": "@jupyter-widgets/controls",
      "_model_module_version": "1.5.0",
      "_model_name": "FloatProgressModel",
      "_view_count": null,
      "_view_module": "@jupyter-widgets/controls",
      "_view_module_version": "1.5.0",
      "_view_name": "ProgressView",
      "bar_style": "success",
      "description": "",
      "description_tooltip": null,
      "layout": "IPY_MODEL_fccd16c42c0f4cd9bf55d69539898737",
      "max": 227845,
      "min": 0,
      "orientation": "horizontal",
      "style": "IPY_MODEL_749890e8d8d84ab0b420a2212ebc4e76",
      "value": 227845
     }
    },
    "153e906e928d49b78424a8d7d8c7f8e6": {
     "model_module": "@jupyter-widgets/base",
     "model_module_version": "1.2.0",
     "model_name": "LayoutModel",
     "state": {
      "_model_module": "@jupyter-widgets/base",
      "_model_module_version": "1.2.0",
      "_model_name": "LayoutModel",
      "_view_count": null,
      "_view_module": "@jupyter-widgets/base",
      "_view_module_version": "1.2.0",
      "_view_name": "LayoutView",
      "align_content": null,
      "align_items": null,
      "align_self": null,
      "border": null,
      "bottom": null,
      "display": null,
      "flex": null,
      "flex_flow": null,
      "grid_area": null,
      "grid_auto_columns": null,
      "grid_auto_flow": null,
      "grid_auto_rows": null,
      "grid_column": null,
      "grid_gap": null,
      "grid_row": null,
      "grid_template_areas": null,
      "grid_template_columns": null,
      "grid_template_rows": null,
      "height": null,
      "justify_content": null,
      "justify_items": null,
      "left": null,
      "margin": null,
      "max_height": null,
      "max_width": null,
      "min_height": null,
      "min_width": null,
      "object_fit": null,
      "object_position": null,
      "order": null,
      "overflow": null,
      "overflow_x": null,
      "overflow_y": null,
      "padding": null,
      "right": null,
      "top": null,
      "visibility": null,
      "width": null
     }
    },
    "16d9bd41cf0540ea8f5f20b877d10504": {
     "model_module": "@jupyter-widgets/controls",
     "model_module_version": "1.5.0",
     "model_name": "HBoxModel",
     "state": {
      "_dom_classes": [],
      "_model_module": "@jupyter-widgets/controls",
      "_model_module_version": "1.5.0",
      "_model_name": "HBoxModel",
      "_view_count": null,
      "_view_module": "@jupyter-widgets/controls",
      "_view_module_version": "1.5.0",
      "_view_name": "HBoxView",
      "box_style": "",
      "children": [
       "IPY_MODEL_47ea94a1e5a245cd80202f00fbb77fb6",
       "IPY_MODEL_f2f7506de6084ad297d33b35d5ae7555",
       "IPY_MODEL_f24afc40e7a64a768888d3f5e9d90906"
      ],
      "layout": "IPY_MODEL_153e906e928d49b78424a8d7d8c7f8e6"
     }
    },
    "1cb6884c4d4e466a9e4cf31b3894fb6b": {
     "model_module": "@jupyter-widgets/controls",
     "model_module_version": "1.5.0",
     "model_name": "ProgressStyleModel",
     "state": {
      "_model_module": "@jupyter-widgets/controls",
      "_model_module_version": "1.5.0",
      "_model_name": "ProgressStyleModel",
      "_view_count": null,
      "_view_module": "@jupyter-widgets/base",
      "_view_module_version": "1.2.0",
      "_view_name": "StyleView",
      "bar_color": null,
      "description_width": ""
     }
    },
    "1ccd2a13d8aa44afb8c02c8c081aaedf": {
     "model_module": "@jupyter-widgets/controls",
     "model_module_version": "1.5.0",
     "model_name": "HBoxModel",
     "state": {
      "_dom_classes": [],
      "_model_module": "@jupyter-widgets/controls",
      "_model_module_version": "1.5.0",
      "_model_name": "HBoxModel",
      "_view_count": null,
      "_view_module": "@jupyter-widgets/controls",
      "_view_module_version": "1.5.0",
      "_view_name": "HBoxView",
      "box_style": "",
      "children": [
       "IPY_MODEL_ea12986f5c994964b7ddffc0762e98a3",
       "IPY_MODEL_1412e2c8ecea46efa4a75a29a6c66757",
       "IPY_MODEL_9010179ef7eb4730b87e1cff291ac1ac"
      ],
      "layout": "IPY_MODEL_f0ab725516cb468d93a13cc6b0f7d8b1"
     }
    },
    "2d636289925a4cb18dc0a21b1a7c07a5": {
     "model_module": "@jupyter-widgets/controls",
     "model_module_version": "1.5.0",
     "model_name": "DescriptionStyleModel",
     "state": {
      "_model_module": "@jupyter-widgets/controls",
      "_model_module_version": "1.5.0",
      "_model_name": "DescriptionStyleModel",
      "_view_count": null,
      "_view_module": "@jupyter-widgets/base",
      "_view_module_version": "1.2.0",
      "_view_name": "StyleView",
      "description_width": ""
     }
    },
    "47ea94a1e5a245cd80202f00fbb77fb6": {
     "model_module": "@jupyter-widgets/controls",
     "model_module_version": "1.5.0",
     "model_name": "HTMLModel",
     "state": {
      "_dom_classes": [],
      "_model_module": "@jupyter-widgets/controls",
      "_model_module_version": "1.5.0",
      "_model_name": "HTMLModel",
      "_view_count": null,
      "_view_module": "@jupyter-widgets/controls",
      "_view_module_version": "1.5.0",
      "_view_name": "HTMLView",
      "description": "",
      "description_tooltip": null,
      "layout": "IPY_MODEL_0ba7ebb675e24d7eaaab5208da688a6e",
      "placeholder": "​",
      "style": "IPY_MODEL_d0f4ad279ebd440f8b23d42a47fdca55",
      "value": "config.json: 100%"
     }
    },
    "4ce030fe73ae454689669ac2f06f633d": {
     "model_module": "@jupyter-widgets/controls",
     "model_module_version": "1.5.0",
     "model_name": "ProgressStyleModel",
     "state": {
      "_model_module": "@jupyter-widgets/controls",
      "_model_module_version": "1.5.0",
      "_model_name": "ProgressStyleModel",
      "_view_count": null,
      "_view_module": "@jupyter-widgets/base",
      "_view_module_version": "1.2.0",
      "_view_name": "StyleView",
      "bar_color": null,
      "description_width": ""
     }
    },
    "5aa11edbc82c47b1b2408db5589a7bef": {
     "model_module": "@jupyter-widgets/base",
     "model_module_version": "1.2.0",
     "model_name": "LayoutModel",
     "state": {
      "_model_module": "@jupyter-widgets/base",
      "_model_module_version": "1.2.0",
      "_model_name": "LayoutModel",
      "_view_count": null,
      "_view_module": "@jupyter-widgets/base",
      "_view_module_version": "1.2.0",
      "_view_name": "LayoutView",
      "align_content": null,
      "align_items": null,
      "align_self": null,
      "border": null,
      "bottom": null,
      "display": null,
      "flex": null,
      "flex_flow": null,
      "grid_area": null,
      "grid_auto_columns": null,
      "grid_auto_flow": null,
      "grid_auto_rows": null,
      "grid_column": null,
      "grid_gap": null,
      "grid_row": null,
      "grid_template_areas": null,
      "grid_template_columns": null,
      "grid_template_rows": null,
      "height": null,
      "justify_content": null,
      "justify_items": null,
      "left": null,
      "margin": null,
      "max_height": null,
      "max_width": null,
      "min_height": null,
      "min_width": null,
      "object_fit": null,
      "object_position": null,
      "order": null,
      "overflow": null,
      "overflow_x": null,
      "overflow_y": null,
      "padding": null,
      "right": null,
      "top": null,
      "visibility": null,
      "width": null
     }
    },
    "607bdcfcddb7410ca93f953ba635d2d9": {
     "model_module": "@jupyter-widgets/base",
     "model_module_version": "1.2.0",
     "model_name": "LayoutModel",
     "state": {
      "_model_module": "@jupyter-widgets/base",
      "_model_module_version": "1.2.0",
      "_model_name": "LayoutModel",
      "_view_count": null,
      "_view_module": "@jupyter-widgets/base",
      "_view_module_version": "1.2.0",
      "_view_name": "LayoutView",
      "align_content": null,
      "align_items": null,
      "align_self": null,
      "border": null,
      "bottom": null,
      "display": null,
      "flex": null,
      "flex_flow": null,
      "grid_area": null,
      "grid_auto_columns": null,
      "grid_auto_flow": null,
      "grid_auto_rows": null,
      "grid_column": null,
      "grid_gap": null,
      "grid_row": null,
      "grid_template_areas": null,
      "grid_template_columns": null,
      "grid_template_rows": null,
      "height": null,
      "justify_content": null,
      "justify_items": null,
      "left": null,
      "margin": null,
      "max_height": null,
      "max_width": null,
      "min_height": null,
      "min_width": null,
      "object_fit": null,
      "object_position": null,
      "order": null,
      "overflow": null,
      "overflow_x": null,
      "overflow_y": null,
      "padding": null,
      "right": null,
      "top": null,
      "visibility": null,
      "width": null
     }
    },
    "69aaddfa8ce046dbb5629e7ca1bfba90": {
     "model_module": "@jupyter-widgets/base",
     "model_module_version": "1.2.0",
     "model_name": "LayoutModel",
     "state": {
      "_model_module": "@jupyter-widgets/base",
      "_model_module_version": "1.2.0",
      "_model_name": "LayoutModel",
      "_view_count": null,
      "_view_module": "@jupyter-widgets/base",
      "_view_module_version": "1.2.0",
      "_view_name": "LayoutView",
      "align_content": null,
      "align_items": null,
      "align_self": null,
      "border": null,
      "bottom": null,
      "display": null,
      "flex": null,
      "flex_flow": null,
      "grid_area": null,
      "grid_auto_columns": null,
      "grid_auto_flow": null,
      "grid_auto_rows": null,
      "grid_column": null,
      "grid_gap": null,
      "grid_row": null,
      "grid_template_areas": null,
      "grid_template_columns": null,
      "grid_template_rows": null,
      "height": null,
      "justify_content": null,
      "justify_items": null,
      "left": null,
      "margin": null,
      "max_height": null,
      "max_width": null,
      "min_height": null,
      "min_width": null,
      "object_fit": null,
      "object_position": null,
      "order": null,
      "overflow": null,
      "overflow_x": null,
      "overflow_y": null,
      "padding": null,
      "right": null,
      "top": null,
      "visibility": null,
      "width": null
     }
    },
    "749890e8d8d84ab0b420a2212ebc4e76": {
     "model_module": "@jupyter-widgets/controls",
     "model_module_version": "1.5.0",
     "model_name": "ProgressStyleModel",
     "state": {
      "_model_module": "@jupyter-widgets/controls",
      "_model_module_version": "1.5.0",
      "_model_name": "ProgressStyleModel",
      "_view_count": null,
      "_view_module": "@jupyter-widgets/base",
      "_view_module_version": "1.2.0",
      "_view_name": "StyleView",
      "bar_color": null,
      "description_width": ""
     }
    },
    "7c585dd04e984b6d96a296fbf40f7b4f": {
     "model_module": "@jupyter-widgets/base",
     "model_module_version": "1.2.0",
     "model_name": "LayoutModel",
     "state": {
      "_model_module": "@jupyter-widgets/base",
      "_model_module_version": "1.2.0",
      "_model_name": "LayoutModel",
      "_view_count": null,
      "_view_module": "@jupyter-widgets/base",
      "_view_module_version": "1.2.0",
      "_view_name": "LayoutView",
      "align_content": null,
      "align_items": null,
      "align_self": null,
      "border": null,
      "bottom": null,
      "display": null,
      "flex": null,
      "flex_flow": null,
      "grid_area": null,
      "grid_auto_columns": null,
      "grid_auto_flow": null,
      "grid_auto_rows": null,
      "grid_column": null,
      "grid_gap": null,
      "grid_row": null,
      "grid_template_areas": null,
      "grid_template_columns": null,
      "grid_template_rows": null,
      "height": null,
      "justify_content": null,
      "justify_items": null,
      "left": null,
      "margin": null,
      "max_height": null,
      "max_width": null,
      "min_height": null,
      "min_width": null,
      "object_fit": null,
      "object_position": null,
      "order": null,
      "overflow": null,
      "overflow_x": null,
      "overflow_y": null,
      "padding": null,
      "right": null,
      "top": null,
      "visibility": null,
      "width": null
     }
    },
    "9010179ef7eb4730b87e1cff291ac1ac": {
     "model_module": "@jupyter-widgets/controls",
     "model_module_version": "1.5.0",
     "model_name": "HTMLModel",
     "state": {
      "_dom_classes": [],
      "_model_module": "@jupyter-widgets/controls",
      "_model_module_version": "1.5.0",
      "_model_name": "HTMLModel",
      "_view_count": null,
      "_view_module": "@jupyter-widgets/controls",
      "_view_module_version": "1.5.0",
      "_view_name": "HTMLView",
      "description": "",
      "description_tooltip": null,
      "layout": "IPY_MODEL_607bdcfcddb7410ca93f953ba635d2d9",
      "placeholder": "​",
      "style": "IPY_MODEL_d51433921bd4498a9dbdba38c082a207",
      "value": " 228k/228k [00:00&lt;00:00, 1.75MB/s]"
     }
    },
    "9209f94cac044169b04fee78097110f7": {
     "model_module": "@jupyter-widgets/base",
     "model_module_version": "1.2.0",
     "model_name": "LayoutModel",
     "state": {
      "_model_module": "@jupyter-widgets/base",
      "_model_module_version": "1.2.0",
      "_model_name": "LayoutModel",
      "_view_count": null,
      "_view_module": "@jupyter-widgets/base",
      "_view_module_version": "1.2.0",
      "_view_name": "LayoutView",
      "align_content": null,
      "align_items": null,
      "align_self": null,
      "border": null,
      "bottom": null,
      "display": null,
      "flex": null,
      "flex_flow": null,
      "grid_area": null,
      "grid_auto_columns": null,
      "grid_auto_flow": null,
      "grid_auto_rows": null,
      "grid_column": null,
      "grid_gap": null,
      "grid_row": null,
      "grid_template_areas": null,
      "grid_template_columns": null,
      "grid_template_rows": null,
      "height": null,
      "justify_content": null,
      "justify_items": null,
      "left": null,
      "margin": null,
      "max_height": null,
      "max_width": null,
      "min_height": null,
      "min_width": null,
      "object_fit": null,
      "object_position": null,
      "order": null,
      "overflow": null,
      "overflow_x": null,
      "overflow_y": null,
      "padding": null,
      "right": null,
      "top": null,
      "visibility": null,
      "width": null
     }
    },
    "96109246071c4bcab5c489bf0f0c1fda": {
     "model_module": "@jupyter-widgets/base",
     "model_module_version": "1.2.0",
     "model_name": "LayoutModel",
     "state": {
      "_model_module": "@jupyter-widgets/base",
      "_model_module_version": "1.2.0",
      "_model_name": "LayoutModel",
      "_view_count": null,
      "_view_module": "@jupyter-widgets/base",
      "_view_module_version": "1.2.0",
      "_view_name": "LayoutView",
      "align_content": null,
      "align_items": null,
      "align_self": null,
      "border": null,
      "bottom": null,
      "display": null,
      "flex": null,
      "flex_flow": null,
      "grid_area": null,
      "grid_auto_columns": null,
      "grid_auto_flow": null,
      "grid_auto_rows": null,
      "grid_column": null,
      "grid_gap": null,
      "grid_row": null,
      "grid_template_areas": null,
      "grid_template_columns": null,
      "grid_template_rows": null,
      "height": null,
      "justify_content": null,
      "justify_items": null,
      "left": null,
      "margin": null,
      "max_height": null,
      "max_width": null,
      "min_height": null,
      "min_width": null,
      "object_fit": null,
      "object_position": null,
      "order": null,
      "overflow": null,
      "overflow_x": null,
      "overflow_y": null,
      "padding": null,
      "right": null,
      "top": null,
      "visibility": null,
      "width": null
     }
    },
    "c1627c7bf1024ed5bd2357dc2bdf5b97": {
     "model_module": "@jupyter-widgets/controls",
     "model_module_version": "1.5.0",
     "model_name": "DescriptionStyleModel",
     "state": {
      "_model_module": "@jupyter-widgets/controls",
      "_model_module_version": "1.5.0",
      "_model_name": "DescriptionStyleModel",
      "_view_count": null,
      "_view_module": "@jupyter-widgets/base",
      "_view_module_version": "1.2.0",
      "_view_name": "StyleView",
      "description_width": ""
     }
    },
    "c3d20ec05b7043448fdb24cbd8ef5ac6": {
     "model_module": "@jupyter-widgets/controls",
     "model_module_version": "1.5.0",
     "model_name": "HTMLModel",
     "state": {
      "_dom_classes": [],
      "_model_module": "@jupyter-widgets/controls",
      "_model_module_version": "1.5.0",
      "_model_name": "HTMLModel",
      "_view_count": null,
      "_view_module": "@jupyter-widgets/controls",
      "_view_module_version": "1.5.0",
      "_view_name": "HTMLView",
      "description": "",
      "description_tooltip": null,
      "layout": "IPY_MODEL_96109246071c4bcab5c489bf0f0c1fda",
      "placeholder": "​",
      "style": "IPY_MODEL_c1627c7bf1024ed5bd2357dc2bdf5b97",
      "value": "  0%"
     }
    },
    "cecd1ef9d14b4d66872e4e1a16d70376": {
     "model_module": "@jupyter-widgets/base",
     "model_module_version": "1.2.0",
     "model_name": "LayoutModel",
     "state": {
      "_model_module": "@jupyter-widgets/base",
      "_model_module_version": "1.2.0",
      "_model_name": "LayoutModel",
      "_view_count": null,
      "_view_module": "@jupyter-widgets/base",
      "_view_module_version": "1.2.0",
      "_view_name": "LayoutView",
      "align_content": null,
      "align_items": null,
      "align_self": null,
      "border": null,
      "bottom": null,
      "display": null,
      "flex": null,
      "flex_flow": null,
      "grid_area": null,
      "grid_auto_columns": null,
      "grid_auto_flow": null,
      "grid_auto_rows": null,
      "grid_column": null,
      "grid_gap": null,
      "grid_row": null,
      "grid_template_areas": null,
      "grid_template_columns": null,
      "grid_template_rows": null,
      "height": null,
      "justify_content": null,
      "justify_items": null,
      "left": null,
      "margin": null,
      "max_height": null,
      "max_width": null,
      "min_height": null,
      "min_width": null,
      "object_fit": null,
      "object_position": null,
      "order": null,
      "overflow": null,
      "overflow_x": null,
      "overflow_y": null,
      "padding": null,
      "right": null,
      "top": null,
      "visibility": null,
      "width": null
     }
    },
    "d09d742055bc4a3c9fc3bef0bdacf84f": {
     "model_module": "@jupyter-widgets/controls",
     "model_module_version": "1.5.0",
     "model_name": "DescriptionStyleModel",
     "state": {
      "_model_module": "@jupyter-widgets/controls",
      "_model_module_version": "1.5.0",
      "_model_name": "DescriptionStyleModel",
      "_view_count": null,
      "_view_module": "@jupyter-widgets/base",
      "_view_module_version": "1.2.0",
      "_view_name": "StyleView",
      "description_width": ""
     }
    },
    "d0f4ad279ebd440f8b23d42a47fdca55": {
     "model_module": "@jupyter-widgets/controls",
     "model_module_version": "1.5.0",
     "model_name": "DescriptionStyleModel",
     "state": {
      "_model_module": "@jupyter-widgets/controls",
      "_model_module_version": "1.5.0",
      "_model_name": "DescriptionStyleModel",
      "_view_count": null,
      "_view_module": "@jupyter-widgets/base",
      "_view_module_version": "1.2.0",
      "_view_name": "StyleView",
      "description_width": ""
     }
    },
    "d51433921bd4498a9dbdba38c082a207": {
     "model_module": "@jupyter-widgets/controls",
     "model_module_version": "1.5.0",
     "model_name": "DescriptionStyleModel",
     "state": {
      "_model_module": "@jupyter-widgets/controls",
      "_model_module_version": "1.5.0",
      "_model_name": "DescriptionStyleModel",
      "_view_count": null,
      "_view_module": "@jupyter-widgets/base",
      "_view_module_version": "1.2.0",
      "_view_name": "StyleView",
      "description_width": ""
     }
    },
    "ea12986f5c994964b7ddffc0762e98a3": {
     "model_module": "@jupyter-widgets/controls",
     "model_module_version": "1.5.0",
     "model_name": "HTMLModel",
     "state": {
      "_dom_classes": [],
      "_model_module": "@jupyter-widgets/controls",
      "_model_module_version": "1.5.0",
      "_model_name": "HTMLModel",
      "_view_count": null,
      "_view_module": "@jupyter-widgets/controls",
      "_view_module_version": "1.5.0",
      "_view_name": "HTMLView",
      "description": "",
      "description_tooltip": null,
      "layout": "IPY_MODEL_9209f94cac044169b04fee78097110f7",
      "placeholder": "​",
      "style": "IPY_MODEL_d09d742055bc4a3c9fc3bef0bdacf84f",
      "value": "vocab.txt: 100%"
     }
    },
    "eb0305267ce64fe2bf2b38aa2573a4fd": {
     "model_module": "@jupyter-widgets/base",
     "model_module_version": "1.2.0",
     "model_name": "LayoutModel",
     "state": {
      "_model_module": "@jupyter-widgets/base",
      "_model_module_version": "1.2.0",
      "_model_name": "LayoutModel",
      "_view_count": null,
      "_view_module": "@jupyter-widgets/base",
      "_view_module_version": "1.2.0",
      "_view_name": "LayoutView",
      "align_content": null,
      "align_items": null,
      "align_self": null,
      "border": null,
      "bottom": null,
      "display": null,
      "flex": null,
      "flex_flow": null,
      "grid_area": null,
      "grid_auto_columns": null,
      "grid_auto_flow": null,
      "grid_auto_rows": null,
      "grid_column": null,
      "grid_gap": null,
      "grid_row": null,
      "grid_template_areas": null,
      "grid_template_columns": null,
      "grid_template_rows": null,
      "height": null,
      "justify_content": null,
      "justify_items": null,
      "left": null,
      "margin": null,
      "max_height": null,
      "max_width": null,
      "min_height": null,
      "min_width": null,
      "object_fit": null,
      "object_position": null,
      "order": null,
      "overflow": null,
      "overflow_x": null,
      "overflow_y": null,
      "padding": null,
      "right": null,
      "top": null,
      "visibility": null,
      "width": null
     }
    },
    "f0ab725516cb468d93a13cc6b0f7d8b1": {
     "model_module": "@jupyter-widgets/base",
     "model_module_version": "1.2.0",
     "model_name": "LayoutModel",
     "state": {
      "_model_module": "@jupyter-widgets/base",
      "_model_module_version": "1.2.0",
      "_model_name": "LayoutModel",
      "_view_count": null,
      "_view_module": "@jupyter-widgets/base",
      "_view_module_version": "1.2.0",
      "_view_name": "LayoutView",
      "align_content": null,
      "align_items": null,
      "align_self": null,
      "border": null,
      "bottom": null,
      "display": null,
      "flex": null,
      "flex_flow": null,
      "grid_area": null,
      "grid_auto_columns": null,
      "grid_auto_flow": null,
      "grid_auto_rows": null,
      "grid_column": null,
      "grid_gap": null,
      "grid_row": null,
      "grid_template_areas": null,
      "grid_template_columns": null,
      "grid_template_rows": null,
      "height": null,
      "justify_content": null,
      "justify_items": null,
      "left": null,
      "margin": null,
      "max_height": null,
      "max_width": null,
      "min_height": null,
      "min_width": null,
      "object_fit": null,
      "object_position": null,
      "order": null,
      "overflow": null,
      "overflow_x": null,
      "overflow_y": null,
      "padding": null,
      "right": null,
      "top": null,
      "visibility": null,
      "width": null
     }
    },
    "f24afc40e7a64a768888d3f5e9d90906": {
     "model_module": "@jupyter-widgets/controls",
     "model_module_version": "1.5.0",
     "model_name": "HTMLModel",
     "state": {
      "_dom_classes": [],
      "_model_module": "@jupyter-widgets/controls",
      "_model_module_version": "1.5.0",
      "_model_name": "HTMLModel",
      "_view_count": null,
      "_view_module": "@jupyter-widgets/controls",
      "_view_module_version": "1.5.0",
      "_view_name": "HTMLView",
      "description": "",
      "description_tooltip": null,
      "layout": "IPY_MODEL_eb0305267ce64fe2bf2b38aa2573a4fd",
      "placeholder": "​",
      "style": "IPY_MODEL_2d636289925a4cb18dc0a21b1a7c07a5",
      "value": " 385/385 [00:00&lt;00:00, 14.6kB/s]"
     }
    },
    "f2f7506de6084ad297d33b35d5ae7555": {
     "model_module": "@jupyter-widgets/controls",
     "model_module_version": "1.5.0",
     "model_name": "FloatProgressModel",
     "state": {
      "_dom_classes": [],
      "_model_module": "@jupyter-widgets/controls",
      "_model_module_version": "1.5.0",
      "_model_name": "FloatProgressModel",
      "_view_count": null,
      "_view_module": "@jupyter-widgets/controls",
      "_view_module_version": "1.5.0",
      "_view_name": "ProgressView",
      "bar_style": "success",
      "description": "",
      "description_tooltip": null,
      "layout": "IPY_MODEL_cecd1ef9d14b4d66872e4e1a16d70376",
      "max": 385,
      "min": 0,
      "orientation": "horizontal",
      "style": "IPY_MODEL_4ce030fe73ae454689669ac2f06f633d",
      "value": 385
     }
    },
    "f8caa329869745d696a7e3de26a7c73e": {
     "model_module": "@jupyter-widgets/controls",
     "model_module_version": "1.5.0",
     "model_name": "HBoxModel",
     "state": {
      "_dom_classes": [],
      "_model_module": "@jupyter-widgets/controls",
      "_model_module_version": "1.5.0",
      "_model_name": "HBoxModel",
      "_view_count": null,
      "_view_module": "@jupyter-widgets/controls",
      "_view_module_version": "1.5.0",
      "_view_name": "HBoxView",
      "box_style": "",
      "children": [
       "IPY_MODEL_c3d20ec05b7043448fdb24cbd8ef5ac6",
       "IPY_MODEL_0882ddb6162943b6b4ff34ebee4f4d41",
       "IPY_MODEL_03fda7025890417da9a07468bfcdc608"
      ],
      "layout": "IPY_MODEL_69aaddfa8ce046dbb5629e7ca1bfba90"
     }
    },
    "fccd16c42c0f4cd9bf55d69539898737": {
     "model_module": "@jupyter-widgets/base",
     "model_module_version": "1.2.0",
     "model_name": "LayoutModel",
     "state": {
      "_model_module": "@jupyter-widgets/base",
      "_model_module_version": "1.2.0",
      "_model_name": "LayoutModel",
      "_view_count": null,
      "_view_module": "@jupyter-widgets/base",
      "_view_module_version": "1.2.0",
      "_view_name": "LayoutView",
      "align_content": null,
      "align_items": null,
      "align_self": null,
      "border": null,
      "bottom": null,
      "display": null,
      "flex": null,
      "flex_flow": null,
      "grid_area": null,
      "grid_auto_columns": null,
      "grid_auto_flow": null,
      "grid_auto_rows": null,
      "grid_column": null,
      "grid_gap": null,
      "grid_row": null,
      "grid_template_areas": null,
      "grid_template_columns": null,
      "grid_template_rows": null,
      "height": null,
      "justify_content": null,
      "justify_items": null,
      "left": null,
      "margin": null,
      "max_height": null,
      "max_width": null,
      "min_height": null,
      "min_width": null,
      "object_fit": null,
      "object_position": null,
      "order": null,
      "overflow": null,
      "overflow_x": null,
      "overflow_y": null,
      "padding": null,
      "right": null,
      "top": null,
      "visibility": null,
      "width": null
     }
    }
   }
  }
 },
 "nbformat": 4,
 "nbformat_minor": 4
}
