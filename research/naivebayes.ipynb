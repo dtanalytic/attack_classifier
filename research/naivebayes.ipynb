{
 "cells": [
  {
   "cell_type": "code",
   "execution_count": 68,
   "id": "835ceb8c-0d95-4b4e-abaa-aac2ac935605",
   "metadata": {
    "tags": []
   },
   "outputs": [
    {
     "name": "stdout",
     "output_type": "stream",
     "text": [
      "The autoreload extension is already loaded. To reload it, use:\n",
      "  %reload_ext autoreload\n"
     ]
    }
   ],
   "source": [
    "%load_ext autoreload\n",
    "%autoreload 2"
   ]
  },
  {
   "cell_type": "raw",
   "id": "b08f2ee2-b53d-4e60-b7cb-cc70e019e3b8",
   "metadata": {
    "scrolled": true,
    "tags": []
   },
   "source": [
    "import sys\n",
    "!{sys.executable} -m pip install py3nvml\n"
   ]
  },
  {
   "cell_type": "code",
   "execution_count": 69,
   "id": "d874a8fc-763b-44dc-8151-50120fdfed59",
   "metadata": {},
   "outputs": [],
   "source": [
    "import os\n",
    "os.chdir('C://work/dev/python/progs/texts/sec_bert/')"
   ]
  },
  {
   "cell_type": "markdown",
   "id": "976b92ee-e722-4c33-a81d-a56e5623f891",
   "metadata": {},
   "source": [
    "# Объявления"
   ]
  },
  {
   "cell_type": "code",
   "execution_count": 70,
   "id": "406581a0-993c-47ec-9dfc-df275395b18c",
   "metadata": {},
   "outputs": [],
   "source": [
    "import pandas as pd\n",
    "import numpy as np\n",
    "import phik\n",
    "from itertools import chain\n",
    "\n",
    "\n",
    "import joblib\n",
    "from sklearn.metrics import average_precision_score"
   ]
  },
  {
   "cell_type": "code",
   "execution_count": 71,
   "id": "538279e1-d2f8-403d-8a69-5a1df75c28c9",
   "metadata": {},
   "outputs": [],
   "source": [
    "from ruamel.yaml import YAML\n",
    "conf = YAML().load(open('params.yaml'))\n",
    "np.random.seed(conf['seed'])"
   ]
  },
  {
   "cell_type": "markdown",
   "id": "a0cd0534-7979-4d41-bf5f-d6f4fa3ca2f3",
   "metadata": {},
   "source": [
    "# Загружаем"
   ]
  },
  {
   "cell_type": "code",
   "execution_count": 72,
   "id": "73813a31-9511-4dc9-8756-89973b523f8b",
   "metadata": {},
   "outputs": [],
   "source": [
    "import pandas as pd\n",
    "import numpy as np\n",
    "import joblib\n",
    "import json\n",
    "import click\n",
    "from sklearn.pipeline import make_pipeline\n",
    "from sklearn.multioutput import ClassifierChain\n",
    "from sklearn.multiclass import OneVsRestClassifier\n",
    "from sklearn.preprocessing import RobustScaler\n",
    "from sklearn.metrics import log_loss, roc_auc_score, average_precision_score\n",
    "\n",
    "from sklearn.linear_model import LogisticRegression\n",
    "from sklearn.tree import DecisionTreeClassifier\n",
    "from sklearn.ensemble import ExtraTreesClassifier, HistGradientBoostingClassifier\n",
    "from sklearn.neighbors import KNeighborsClassifier"
   ]
  },
  {
   "cell_type": "code",
   "execution_count": 73,
   "id": "88eb59f1-5709-48d8-a5f7-d7ddd97ebaea",
   "metadata": {},
   "outputs": [],
   "source": [
    "feat_data = pd.read_csv(conf['feat_eng']['feat_final_fn'])\n",
    "\n",
    "mlb = joblib.load(conf['prep_text']['mlb_fn'])\n",
    "data = pd.read_csv(conf['feat_gen']['data_fn'])\n",
    "\n",
    "data['target'] = data['target'].map(lambda x: eval(x))\n",
    "\n",
    "data['labels'] = data['labels'].map(lambda x: eval(x))\n",
    "\n",
    "\n",
    "tr_idx = data.query('split==\"tr\"').index\n",
    "val_idx = data.query('split==\"val\"').index\n",
    "ts_idx = data.query('split==\"ts\"').index\n"
   ]
  },
  {
   "cell_type": "code",
   "execution_count": 74,
   "id": "3b5b3c63-901b-43f6-96ad-ec4d5fdabd30",
   "metadata": {},
   "outputs": [],
   "source": [
    "col_l = feat_data.columns"
   ]
  },
  {
   "cell_type": "code",
   "execution_count": 75,
   "id": "10f6d53c-466e-4930-9413-01a5b65b5a70",
   "metadata": {},
   "outputs": [
    {
     "data": {
      "text/plain": [
       "count    14358.000000\n",
       "mean        26.226285\n",
       "std         38.423265\n",
       "min          2.000000\n",
       "50%         17.000000\n",
       "90%         34.000000\n",
       "95%         55.000000\n",
       "97%        132.000000\n",
       "max        640.000000\n",
       "Name: sentence, dtype: float64"
      ]
     },
     "execution_count": 75,
     "metadata": {},
     "output_type": "execute_result"
    }
   ],
   "source": [
    "data['sentence'].str.split().str.len().describe(percentiles=[0.9, 0.95, 0.97])"
   ]
  },
  {
   "cell_type": "markdown",
   "id": "775ea30b-6148-4743-851c-b885593dd5d5",
   "metadata": {},
   "source": [
    "# Байес"
   ]
  },
  {
   "cell_type": "code",
   "execution_count": 76,
   "id": "b0eea087-0b8e-4ac5-8346-4bcc612ba054",
   "metadata": {},
   "outputs": [
    {
     "data": {
      "text/html": [
       "<style>#sk-container-id-1 {\n",
       "  /* Definition of color scheme common for light and dark mode */\n",
       "  --sklearn-color-text: black;\n",
       "  --sklearn-color-line: gray;\n",
       "  /* Definition of color scheme for unfitted estimators */\n",
       "  --sklearn-color-unfitted-level-0: #fff5e6;\n",
       "  --sklearn-color-unfitted-level-1: #f6e4d2;\n",
       "  --sklearn-color-unfitted-level-2: #ffe0b3;\n",
       "  --sklearn-color-unfitted-level-3: chocolate;\n",
       "  /* Definition of color scheme for fitted estimators */\n",
       "  --sklearn-color-fitted-level-0: #f0f8ff;\n",
       "  --sklearn-color-fitted-level-1: #d4ebff;\n",
       "  --sklearn-color-fitted-level-2: #b3dbfd;\n",
       "  --sklearn-color-fitted-level-3: cornflowerblue;\n",
       "\n",
       "  /* Specific color for light theme */\n",
       "  --sklearn-color-text-on-default-background: var(--sg-text-color, var(--theme-code-foreground, var(--jp-content-font-color1, black)));\n",
       "  --sklearn-color-background: var(--sg-background-color, var(--theme-background, var(--jp-layout-color0, white)));\n",
       "  --sklearn-color-border-box: var(--sg-text-color, var(--theme-code-foreground, var(--jp-content-font-color1, black)));\n",
       "  --sklearn-color-icon: #696969;\n",
       "\n",
       "  @media (prefers-color-scheme: dark) {\n",
       "    /* Redefinition of color scheme for dark theme */\n",
       "    --sklearn-color-text-on-default-background: var(--sg-text-color, var(--theme-code-foreground, var(--jp-content-font-color1, white)));\n",
       "    --sklearn-color-background: var(--sg-background-color, var(--theme-background, var(--jp-layout-color0, #111)));\n",
       "    --sklearn-color-border-box: var(--sg-text-color, var(--theme-code-foreground, var(--jp-content-font-color1, white)));\n",
       "    --sklearn-color-icon: #878787;\n",
       "  }\n",
       "}\n",
       "\n",
       "#sk-container-id-1 {\n",
       "  color: var(--sklearn-color-text);\n",
       "}\n",
       "\n",
       "#sk-container-id-1 pre {\n",
       "  padding: 0;\n",
       "}\n",
       "\n",
       "#sk-container-id-1 input.sk-hidden--visually {\n",
       "  border: 0;\n",
       "  clip: rect(1px 1px 1px 1px);\n",
       "  clip: rect(1px, 1px, 1px, 1px);\n",
       "  height: 1px;\n",
       "  margin: -1px;\n",
       "  overflow: hidden;\n",
       "  padding: 0;\n",
       "  position: absolute;\n",
       "  width: 1px;\n",
       "}\n",
       "\n",
       "#sk-container-id-1 div.sk-dashed-wrapped {\n",
       "  border: 1px dashed var(--sklearn-color-line);\n",
       "  margin: 0 0.4em 0.5em 0.4em;\n",
       "  box-sizing: border-box;\n",
       "  padding-bottom: 0.4em;\n",
       "  background-color: var(--sklearn-color-background);\n",
       "}\n",
       "\n",
       "#sk-container-id-1 div.sk-container {\n",
       "  /* jupyter's `normalize.less` sets `[hidden] { display: none; }`\n",
       "     but bootstrap.min.css set `[hidden] { display: none !important; }`\n",
       "     so we also need the `!important` here to be able to override the\n",
       "     default hidden behavior on the sphinx rendered scikit-learn.org.\n",
       "     See: https://github.com/scikit-learn/scikit-learn/issues/21755 */\n",
       "  display: inline-block !important;\n",
       "  position: relative;\n",
       "}\n",
       "\n",
       "#sk-container-id-1 div.sk-text-repr-fallback {\n",
       "  display: none;\n",
       "}\n",
       "\n",
       "div.sk-parallel-item,\n",
       "div.sk-serial,\n",
       "div.sk-item {\n",
       "  /* draw centered vertical line to link estimators */\n",
       "  background-image: linear-gradient(var(--sklearn-color-text-on-default-background), var(--sklearn-color-text-on-default-background));\n",
       "  background-size: 2px 100%;\n",
       "  background-repeat: no-repeat;\n",
       "  background-position: center center;\n",
       "}\n",
       "\n",
       "/* Parallel-specific style estimator block */\n",
       "\n",
       "#sk-container-id-1 div.sk-parallel-item::after {\n",
       "  content: \"\";\n",
       "  width: 100%;\n",
       "  border-bottom: 2px solid var(--sklearn-color-text-on-default-background);\n",
       "  flex-grow: 1;\n",
       "}\n",
       "\n",
       "#sk-container-id-1 div.sk-parallel {\n",
       "  display: flex;\n",
       "  align-items: stretch;\n",
       "  justify-content: center;\n",
       "  background-color: var(--sklearn-color-background);\n",
       "  position: relative;\n",
       "}\n",
       "\n",
       "#sk-container-id-1 div.sk-parallel-item {\n",
       "  display: flex;\n",
       "  flex-direction: column;\n",
       "}\n",
       "\n",
       "#sk-container-id-1 div.sk-parallel-item:first-child::after {\n",
       "  align-self: flex-end;\n",
       "  width: 50%;\n",
       "}\n",
       "\n",
       "#sk-container-id-1 div.sk-parallel-item:last-child::after {\n",
       "  align-self: flex-start;\n",
       "  width: 50%;\n",
       "}\n",
       "\n",
       "#sk-container-id-1 div.sk-parallel-item:only-child::after {\n",
       "  width: 0;\n",
       "}\n",
       "\n",
       "/* Serial-specific style estimator block */\n",
       "\n",
       "#sk-container-id-1 div.sk-serial {\n",
       "  display: flex;\n",
       "  flex-direction: column;\n",
       "  align-items: center;\n",
       "  background-color: var(--sklearn-color-background);\n",
       "  padding-right: 1em;\n",
       "  padding-left: 1em;\n",
       "}\n",
       "\n",
       "\n",
       "/* Toggleable style: style used for estimator/Pipeline/ColumnTransformer box that is\n",
       "clickable and can be expanded/collapsed.\n",
       "- Pipeline and ColumnTransformer use this feature and define the default style\n",
       "- Estimators will overwrite some part of the style using the `sk-estimator` class\n",
       "*/\n",
       "\n",
       "/* Pipeline and ColumnTransformer style (default) */\n",
       "\n",
       "#sk-container-id-1 div.sk-toggleable {\n",
       "  /* Default theme specific background. It is overwritten whether we have a\n",
       "  specific estimator or a Pipeline/ColumnTransformer */\n",
       "  background-color: var(--sklearn-color-background);\n",
       "}\n",
       "\n",
       "/* Toggleable label */\n",
       "#sk-container-id-1 label.sk-toggleable__label {\n",
       "  cursor: pointer;\n",
       "  display: block;\n",
       "  width: 100%;\n",
       "  margin-bottom: 0;\n",
       "  padding: 0.5em;\n",
       "  box-sizing: border-box;\n",
       "  text-align: center;\n",
       "}\n",
       "\n",
       "#sk-container-id-1 label.sk-toggleable__label-arrow:before {\n",
       "  /* Arrow on the left of the label */\n",
       "  content: \"▸\";\n",
       "  float: left;\n",
       "  margin-right: 0.25em;\n",
       "  color: var(--sklearn-color-icon);\n",
       "}\n",
       "\n",
       "#sk-container-id-1 label.sk-toggleable__label-arrow:hover:before {\n",
       "  color: var(--sklearn-color-text);\n",
       "}\n",
       "\n",
       "/* Toggleable content - dropdown */\n",
       "\n",
       "#sk-container-id-1 div.sk-toggleable__content {\n",
       "  max-height: 0;\n",
       "  max-width: 0;\n",
       "  overflow: hidden;\n",
       "  text-align: left;\n",
       "  /* unfitted */\n",
       "  background-color: var(--sklearn-color-unfitted-level-0);\n",
       "}\n",
       "\n",
       "#sk-container-id-1 div.sk-toggleable__content.fitted {\n",
       "  /* fitted */\n",
       "  background-color: var(--sklearn-color-fitted-level-0);\n",
       "}\n",
       "\n",
       "#sk-container-id-1 div.sk-toggleable__content pre {\n",
       "  margin: 0.2em;\n",
       "  border-radius: 0.25em;\n",
       "  color: var(--sklearn-color-text);\n",
       "  /* unfitted */\n",
       "  background-color: var(--sklearn-color-unfitted-level-0);\n",
       "}\n",
       "\n",
       "#sk-container-id-1 div.sk-toggleable__content.fitted pre {\n",
       "  /* unfitted */\n",
       "  background-color: var(--sklearn-color-fitted-level-0);\n",
       "}\n",
       "\n",
       "#sk-container-id-1 input.sk-toggleable__control:checked~div.sk-toggleable__content {\n",
       "  /* Expand drop-down */\n",
       "  max-height: 200px;\n",
       "  max-width: 100%;\n",
       "  overflow: auto;\n",
       "}\n",
       "\n",
       "#sk-container-id-1 input.sk-toggleable__control:checked~label.sk-toggleable__label-arrow:before {\n",
       "  content: \"▾\";\n",
       "}\n",
       "\n",
       "/* Pipeline/ColumnTransformer-specific style */\n",
       "\n",
       "#sk-container-id-1 div.sk-label input.sk-toggleable__control:checked~label.sk-toggleable__label {\n",
       "  color: var(--sklearn-color-text);\n",
       "  background-color: var(--sklearn-color-unfitted-level-2);\n",
       "}\n",
       "\n",
       "#sk-container-id-1 div.sk-label.fitted input.sk-toggleable__control:checked~label.sk-toggleable__label {\n",
       "  background-color: var(--sklearn-color-fitted-level-2);\n",
       "}\n",
       "\n",
       "/* Estimator-specific style */\n",
       "\n",
       "/* Colorize estimator box */\n",
       "#sk-container-id-1 div.sk-estimator input.sk-toggleable__control:checked~label.sk-toggleable__label {\n",
       "  /* unfitted */\n",
       "  background-color: var(--sklearn-color-unfitted-level-2);\n",
       "}\n",
       "\n",
       "#sk-container-id-1 div.sk-estimator.fitted input.sk-toggleable__control:checked~label.sk-toggleable__label {\n",
       "  /* fitted */\n",
       "  background-color: var(--sklearn-color-fitted-level-2);\n",
       "}\n",
       "\n",
       "#sk-container-id-1 div.sk-label label.sk-toggleable__label,\n",
       "#sk-container-id-1 div.sk-label label {\n",
       "  /* The background is the default theme color */\n",
       "  color: var(--sklearn-color-text-on-default-background);\n",
       "}\n",
       "\n",
       "/* On hover, darken the color of the background */\n",
       "#sk-container-id-1 div.sk-label:hover label.sk-toggleable__label {\n",
       "  color: var(--sklearn-color-text);\n",
       "  background-color: var(--sklearn-color-unfitted-level-2);\n",
       "}\n",
       "\n",
       "/* Label box, darken color on hover, fitted */\n",
       "#sk-container-id-1 div.sk-label.fitted:hover label.sk-toggleable__label.fitted {\n",
       "  color: var(--sklearn-color-text);\n",
       "  background-color: var(--sklearn-color-fitted-level-2);\n",
       "}\n",
       "\n",
       "/* Estimator label */\n",
       "\n",
       "#sk-container-id-1 div.sk-label label {\n",
       "  font-family: monospace;\n",
       "  font-weight: bold;\n",
       "  display: inline-block;\n",
       "  line-height: 1.2em;\n",
       "}\n",
       "\n",
       "#sk-container-id-1 div.sk-label-container {\n",
       "  text-align: center;\n",
       "}\n",
       "\n",
       "/* Estimator-specific */\n",
       "#sk-container-id-1 div.sk-estimator {\n",
       "  font-family: monospace;\n",
       "  border: 1px dotted var(--sklearn-color-border-box);\n",
       "  border-radius: 0.25em;\n",
       "  box-sizing: border-box;\n",
       "  margin-bottom: 0.5em;\n",
       "  /* unfitted */\n",
       "  background-color: var(--sklearn-color-unfitted-level-0);\n",
       "}\n",
       "\n",
       "#sk-container-id-1 div.sk-estimator.fitted {\n",
       "  /* fitted */\n",
       "  background-color: var(--sklearn-color-fitted-level-0);\n",
       "}\n",
       "\n",
       "/* on hover */\n",
       "#sk-container-id-1 div.sk-estimator:hover {\n",
       "  /* unfitted */\n",
       "  background-color: var(--sklearn-color-unfitted-level-2);\n",
       "}\n",
       "\n",
       "#sk-container-id-1 div.sk-estimator.fitted:hover {\n",
       "  /* fitted */\n",
       "  background-color: var(--sklearn-color-fitted-level-2);\n",
       "}\n",
       "\n",
       "/* Specification for estimator info (e.g. \"i\" and \"?\") */\n",
       "\n",
       "/* Common style for \"i\" and \"?\" */\n",
       "\n",
       ".sk-estimator-doc-link,\n",
       "a:link.sk-estimator-doc-link,\n",
       "a:visited.sk-estimator-doc-link {\n",
       "  float: right;\n",
       "  font-size: smaller;\n",
       "  line-height: 1em;\n",
       "  font-family: monospace;\n",
       "  background-color: var(--sklearn-color-background);\n",
       "  border-radius: 1em;\n",
       "  height: 1em;\n",
       "  width: 1em;\n",
       "  text-decoration: none !important;\n",
       "  margin-left: 1ex;\n",
       "  /* unfitted */\n",
       "  border: var(--sklearn-color-unfitted-level-1) 1pt solid;\n",
       "  color: var(--sklearn-color-unfitted-level-1);\n",
       "}\n",
       "\n",
       ".sk-estimator-doc-link.fitted,\n",
       "a:link.sk-estimator-doc-link.fitted,\n",
       "a:visited.sk-estimator-doc-link.fitted {\n",
       "  /* fitted */\n",
       "  border: var(--sklearn-color-fitted-level-1) 1pt solid;\n",
       "  color: var(--sklearn-color-fitted-level-1);\n",
       "}\n",
       "\n",
       "/* On hover */\n",
       "div.sk-estimator:hover .sk-estimator-doc-link:hover,\n",
       ".sk-estimator-doc-link:hover,\n",
       "div.sk-label-container:hover .sk-estimator-doc-link:hover,\n",
       ".sk-estimator-doc-link:hover {\n",
       "  /* unfitted */\n",
       "  background-color: var(--sklearn-color-unfitted-level-3);\n",
       "  color: var(--sklearn-color-background);\n",
       "  text-decoration: none;\n",
       "}\n",
       "\n",
       "div.sk-estimator.fitted:hover .sk-estimator-doc-link.fitted:hover,\n",
       ".sk-estimator-doc-link.fitted:hover,\n",
       "div.sk-label-container:hover .sk-estimator-doc-link.fitted:hover,\n",
       ".sk-estimator-doc-link.fitted:hover {\n",
       "  /* fitted */\n",
       "  background-color: var(--sklearn-color-fitted-level-3);\n",
       "  color: var(--sklearn-color-background);\n",
       "  text-decoration: none;\n",
       "}\n",
       "\n",
       "/* Span, style for the box shown on hovering the info icon */\n",
       ".sk-estimator-doc-link span {\n",
       "  display: none;\n",
       "  z-index: 9999;\n",
       "  position: relative;\n",
       "  font-weight: normal;\n",
       "  right: .2ex;\n",
       "  padding: .5ex;\n",
       "  margin: .5ex;\n",
       "  width: min-content;\n",
       "  min-width: 20ex;\n",
       "  max-width: 50ex;\n",
       "  color: var(--sklearn-color-text);\n",
       "  box-shadow: 2pt 2pt 4pt #999;\n",
       "  /* unfitted */\n",
       "  background: var(--sklearn-color-unfitted-level-0);\n",
       "  border: .5pt solid var(--sklearn-color-unfitted-level-3);\n",
       "}\n",
       "\n",
       ".sk-estimator-doc-link.fitted span {\n",
       "  /* fitted */\n",
       "  background: var(--sklearn-color-fitted-level-0);\n",
       "  border: var(--sklearn-color-fitted-level-3);\n",
       "}\n",
       "\n",
       ".sk-estimator-doc-link:hover span {\n",
       "  display: block;\n",
       "}\n",
       "\n",
       "/* \"?\"-specific style due to the `<a>` HTML tag */\n",
       "\n",
       "#sk-container-id-1 a.estimator_doc_link {\n",
       "  float: right;\n",
       "  font-size: 1rem;\n",
       "  line-height: 1em;\n",
       "  font-family: monospace;\n",
       "  background-color: var(--sklearn-color-background);\n",
       "  border-radius: 1rem;\n",
       "  height: 1rem;\n",
       "  width: 1rem;\n",
       "  text-decoration: none;\n",
       "  /* unfitted */\n",
       "  color: var(--sklearn-color-unfitted-level-1);\n",
       "  border: var(--sklearn-color-unfitted-level-1) 1pt solid;\n",
       "}\n",
       "\n",
       "#sk-container-id-1 a.estimator_doc_link.fitted {\n",
       "  /* fitted */\n",
       "  border: var(--sklearn-color-fitted-level-1) 1pt solid;\n",
       "  color: var(--sklearn-color-fitted-level-1);\n",
       "}\n",
       "\n",
       "/* On hover */\n",
       "#sk-container-id-1 a.estimator_doc_link:hover {\n",
       "  /* unfitted */\n",
       "  background-color: var(--sklearn-color-unfitted-level-3);\n",
       "  color: var(--sklearn-color-background);\n",
       "  text-decoration: none;\n",
       "}\n",
       "\n",
       "#sk-container-id-1 a.estimator_doc_link.fitted:hover {\n",
       "  /* fitted */\n",
       "  background-color: var(--sklearn-color-fitted-level-3);\n",
       "}\n",
       "</style><div id=\"sk-container-id-1\" class=\"sk-top-container\"><div class=\"sk-text-repr-fallback\"><pre>OneVsRestClassifier(estimator=MultinomialNB(alpha=0.0001, fit_prior=False))</pre><b>In a Jupyter environment, please rerun this cell to show the HTML representation or trust the notebook. <br />On GitHub, the HTML representation is unable to render, please try loading this page with nbviewer.org.</b></div><div class=\"sk-container\" hidden><div class=\"sk-item sk-dashed-wrapped\"><div class=\"sk-label-container\"><div class=\"sk-label fitted sk-toggleable\"><input class=\"sk-toggleable__control sk-hidden--visually\" id=\"sk-estimator-id-1\" type=\"checkbox\" ><label for=\"sk-estimator-id-1\" class=\"sk-toggleable__label fitted sk-toggleable__label-arrow fitted\">&nbsp;&nbsp;OneVsRestClassifier<a class=\"sk-estimator-doc-link fitted\" rel=\"noreferrer\" target=\"_blank\" href=\"https://scikit-learn.org/1.5/modules/generated/sklearn.multiclass.OneVsRestClassifier.html\">?<span>Documentation for OneVsRestClassifier</span></a><span class=\"sk-estimator-doc-link fitted\">i<span>Fitted</span></span></label><div class=\"sk-toggleable__content fitted\"><pre>OneVsRestClassifier(estimator=MultinomialNB(alpha=0.0001, fit_prior=False))</pre></div> </div></div><div class=\"sk-parallel\"><div class=\"sk-parallel-item\"><div class=\"sk-item\"><div class=\"sk-label-container\"><div class=\"sk-label fitted sk-toggleable\"><input class=\"sk-toggleable__control sk-hidden--visually\" id=\"sk-estimator-id-2\" type=\"checkbox\" ><label for=\"sk-estimator-id-2\" class=\"sk-toggleable__label fitted sk-toggleable__label-arrow fitted\">estimator: MultinomialNB</label><div class=\"sk-toggleable__content fitted\"><pre>MultinomialNB(alpha=0.0001, fit_prior=False)</pre></div> </div></div><div class=\"sk-serial\"><div class=\"sk-item\"><div class=\"sk-estimator fitted sk-toggleable\"><input class=\"sk-toggleable__control sk-hidden--visually\" id=\"sk-estimator-id-3\" type=\"checkbox\" ><label for=\"sk-estimator-id-3\" class=\"sk-toggleable__label fitted sk-toggleable__label-arrow fitted\">&nbsp;MultinomialNB<a class=\"sk-estimator-doc-link fitted\" rel=\"noreferrer\" target=\"_blank\" href=\"https://scikit-learn.org/1.5/modules/generated/sklearn.naive_bayes.MultinomialNB.html\">?<span>Documentation for MultinomialNB</span></a></label><div class=\"sk-toggleable__content fitted\"><pre>MultinomialNB(alpha=0.0001, fit_prior=False)</pre></div> </div></div></div></div></div></div></div></div></div>"
      ],
      "text/plain": [
       "OneVsRestClassifier(estimator=MultinomialNB(alpha=0.0001, fit_prior=False))"
      ]
     },
     "execution_count": 76,
     "metadata": {},
     "output_type": "execute_result"
    }
   ],
   "source": [
    "from sklearn.naive_bayes import MultinomialNB\n",
    "\n",
    "# пока лучшая версия\n",
    "model = OneVsRestClassifier(MultinomialNB(alpha=0.0001, fit_prior=False))\n",
    "\n",
    "# # хуже версия\n",
    "# model = OneVsRestClassifier(LogisticRegression(random_state=conf['seed'], \n",
    "#                                                class_weight=conf['train_eval_model']['balanced'], max_iter=10000))\n",
    "\n",
    "## самая слабая версия\n",
    "# model = LogisticRegression(random_state=conf['seed'], \n",
    "#                                                class_weight=conf['train_eval_model']['balanced'], max_iter=10000)\n",
    "# if conf['train_eval_model']['chain']:\n",
    "#     wrap_class = ClassifierChain\n",
    "# else:\n",
    "#     wrap_class = OneVsRestClassifier\n",
    "# model = make_pipeline(RobustScaler(), wrap_class(model, random_state=conf['seed'])) if conf['train_eval_model']['chain'] else make_pipeline(RobustScaler(), wrap_class(model))\n",
    "\n",
    "                            \n",
    "model.fit(feat_data.loc[tr_idx].astype(np.float16).values, np.array(data.loc[tr_idx, 'target'].values.tolist()))\n"
   ]
  },
  {
   "cell_type": "markdown",
   "id": "aad94026-62b0-48e3-b35b-d826147f953f",
   "metadata": {},
   "source": [
    "## оценим качество"
   ]
  },
  {
   "cell_type": "code",
   "execution_count": 77,
   "id": "80d72643-f740-4921-a688-23dd2876ed60",
   "metadata": {},
   "outputs": [
    {
     "data": {
      "text/plain": [
       "(0.4112147747655164, 0.9356705027145835, 0.674386972502036)"
      ]
     },
     "execution_count": 77,
     "metadata": {},
     "output_type": "execute_result"
    }
   ],
   "source": [
    "from src.train_eval_model import metric_multi\n",
    "Y_val = np.array(data.loc[val_idx, 'target'].values.tolist())\n",
    "X_val = feat_data.loc[val_idx].astype(np.float16).values\n",
    "\n",
    "Y_val_proba = model.predict_proba(X_val)\n",
    "\n",
    "roc_auc, _ = metric_multi(Y_val, Y_val_proba, roc_auc_score)\n",
    "logloss, _ = metric_multi(Y_val, Y_val_proba, log_loss, labels=[0,1])\n",
    "pr_auc, _ = metric_multi(Y_val, Y_val_proba, average_precision_score)\n",
    "\n",
    "logloss, roc_auc, pr_auc\n"
   ]
  },
  {
   "cell_type": "code",
   "execution_count": null,
   "id": "719599bd-c943-497f-ad42-bcea6a55f742",
   "metadata": {},
   "outputs": [],
   "source": []
  },
  {
   "cell_type": "code",
   "execution_count": 78,
   "id": "865612a3-0a4a-4518-9234-8f176241f437",
   "metadata": {},
   "outputs": [
    {
     "data": {
      "text/plain": [
       "0.10625"
      ]
     },
     "execution_count": 78,
     "metadata": {},
     "output_type": "execute_result"
    }
   ],
   "source": [
    "# перекос на класс defence_evasion\n",
    "(Y_val_proba>0.6)[:,0].mean()"
   ]
  },
  {
   "cell_type": "markdown",
   "id": "359aeb95-6c7c-4e9f-9e47-f97d62627ad6",
   "metadata": {},
   "source": [
    "## построим вероятности для слов"
   ]
  },
  {
   "cell_type": "code",
   "execution_count": 79,
   "id": "b2de5383-92ec-413f-add2-bb229143f319",
   "metadata": {},
   "outputs": [],
   "source": [
    "# формируем массив слов примечательных для атак\n",
    "feat_cols_ar = np.eye(len(col_l))\n",
    "\n",
    "feat_cols_probs = model.predict_proba(feat_cols_ar)\n",
    "col_prob_df = pd.DataFrame(feat_cols_probs, index=col_l, columns=mlb.classes_)\n",
    "\n",
    "cls_d = {}\n",
    "for num, cls in enumerate(mlb.classes_):\n",
    "    idx = np.argsort(feat_cols_probs[:, num])\n",
    "    cls_d[cls] = [(col_l[it], feat_cols_probs[:, num][it]) for it in idx]\n",
    "    "
   ]
  },
  {
   "cell_type": "markdown",
   "id": "577b5b5f-c733-471e-b8f0-244ad5c5b31a",
   "metadata": {},
   "source": [
    "## где ошибается"
   ]
  },
  {
   "cell_type": "code",
   "execution_count": 223,
   "id": "10b19b3f-17f4-43be-b49d-33786cb40404",
   "metadata": {},
   "outputs": [],
   "source": [
    "res_df = pd.DataFrame()\n",
    "res_df['y'] = Y_val.tolist()\n",
    "res_df['y_proba'] = Y_val_proba.tolist()"
   ]
  },
  {
   "cell_type": "markdown",
   "id": "8a0ae065-9792-48fc-9769-7b929d0afbf4",
   "metadata": {},
   "source": [
    "### разные границы для всех"
   ]
  },
  {
   "cell_type": "code",
   "execution_count": 237,
   "id": "3b7b03cf-f0ee-41f5-824a-e7a8514fb59d",
   "metadata": {},
   "outputs": [],
   "source": [
    "Y_tr = np.array(data.loc[tr_idx, 'target'].values.tolist())\n",
    "Y_tr_proba = model.predict_proba(feat_data.loc[tr_idx].astype(np.float16).values)\n"
   ]
  },
  {
   "cell_type": "code",
   "execution_count": 238,
   "id": "d4395c89-c4f9-427f-865f-002c9a703d45",
   "metadata": {},
   "outputs": [],
   "source": [
    "y_true = Y_tr\n",
    "probas = Y_tr_proba\n",
    "logreg_thresh_l = []\n",
    "res_d = {}"
   ]
  },
  {
   "cell_type": "code",
   "execution_count": 239,
   "id": "57cadf19-394a-451d-b8cf-41bfbefb915b",
   "metadata": {},
   "outputs": [
    {
     "data": {
      "text/plain": [
       "0.5663756943657182"
      ]
     },
     "execution_count": 239,
     "metadata": {},
     "output_type": "execute_result"
    }
   ],
   "source": [
    "p, r, f1, _ = precision_recall_fscore_support(y_true, (probas>0.5).astype(int), average='micro')\n",
    "f1"
   ]
  },
  {
   "cell_type": "code",
   "execution_count": 240,
   "id": "88373ba6-dd6a-4197-b1ce-604e2c54ce46",
   "metadata": {},
   "outputs": [],
   "source": [
    "num_cls = len(mlb.classes_)\n",
    "\n",
    "for i in range(num_cls):\n",
    "    res_metrics_l = []\n",
    "    for thresh in np.arange(0.05, 0.95, 0.05):\n",
    "        \n",
    "        y_i = y_true[:,i]\n",
    "        proba_i = (probas[:,i]>thresh).astype(int)\n",
    "        p, r, f1, sup = [it[1] for it in precision_recall_fscore_support(y_i, proba_i)]\n",
    "\n",
    "        res_metrics_df = pd.DataFrame({'precision':p, 'recall':r, 'f1':f1, 'sup':sup}, index=[thresh])\n",
    "        res_metrics_l.append(res_metrics_df)\n",
    "\n",
    "\n",
    "    res_d[i] = pd.concat([it for it in res_metrics_l], axis=0)\n",
    "    logreg_thresh_l.append(res_d[i].index[res_d[i]['f1'].argmax()].round(3))\n",
    "\n",
    "preds = np.apply_along_axis(lambda x: x>=x[-1], 0, np.vstack([probas, logreg_thresh_l]))[:-1].astype(int)"
   ]
  },
  {
   "cell_type": "code",
   "execution_count": 241,
   "id": "9b682268-1a4c-4a13-b07e-a6398284317c",
   "metadata": {},
   "outputs": [
    {
     "data": {
      "text/plain": [
       "0.7015851715172355"
      ]
     },
     "execution_count": 241,
     "metadata": {},
     "output_type": "execute_result"
    }
   ],
   "source": [
    "p, r, f1, _ = precision_recall_fscore_support(y_true, (preds).astype(int), average='micro')\n",
    "f1"
   ]
  },
  {
   "cell_type": "code",
   "execution_count": 242,
   "id": "5898f4b9-5051-4902-a4fe-f6774fde53d8",
   "metadata": {},
   "outputs": [],
   "source": [
    "thresh_col = 'y_p'\n",
    "res_df[thresh_col] = res_df['y_proba'].map(lambda x: [int(val>=thresh) for val, thresh in zip(x, logreg_thresh_l)])"
   ]
  },
  {
   "cell_type": "code",
   "execution_count": 243,
   "id": "89bf79bf-7234-4ef8-bbcf-9fc60fd8c533",
   "metadata": {},
   "outputs": [],
   "source": [
    "error_df = data.loc[val_idx].reset_index(names='val_idx').join(res_df[['y', 'y_proba', thresh_col]])\n",
    "error_df['prob_label'] = mlb.inverse_transform(np.array(error_df[thresh_col].tolist()))"
   ]
  },
  {
   "cell_type": "code",
   "execution_count": 245,
   "id": "28005c55-0616-4daa-9295-af2e6b046728",
   "metadata": {},
   "outputs": [
    {
     "data": {
      "text/plain": [
       "0.6993077832179638"
      ]
     },
     "execution_count": 245,
     "metadata": {},
     "output_type": "execute_result"
    }
   ],
   "source": [
    "p, r, f1, sup = precision_recall_fscore_support(np.array(res_df['y'].values.tolist()), \n",
    "                                                    np.array(res_df[thresh_col].values.tolist()), average='micro')\n",
    "f1"
   ]
  },
  {
   "cell_type": "markdown",
   "id": "72425b3d-13f7-4e86-a956-6369cb059643",
   "metadata": {},
   "source": [
    "### какие классы хуже предсказываются"
   ]
  },
  {
   "cell_type": "code",
   "execution_count": 247,
   "id": "1752126f-b16e-4812-b48c-f79d3413152a",
   "metadata": {},
   "outputs": [
    {
     "data": {
      "text/html": [
       "<div>\n",
       "<style scoped>\n",
       "    .dataframe tbody tr th:only-of-type {\n",
       "        vertical-align: middle;\n",
       "    }\n",
       "\n",
       "    .dataframe tbody tr th {\n",
       "        vertical-align: top;\n",
       "    }\n",
       "\n",
       "    .dataframe thead th {\n",
       "        text-align: right;\n",
       "    }\n",
       "</style>\n",
       "<table border=\"1\" class=\"dataframe\">\n",
       "  <thead>\n",
       "    <tr style=\"text-align: right;\">\n",
       "      <th></th>\n",
       "      <th>qual</th>\n",
       "      <th>class</th>\n",
       "    </tr>\n",
       "  </thead>\n",
       "  <tbody>\n",
       "    <tr>\n",
       "      <th>10</th>\n",
       "      <td>0.136267</td>\n",
       "      <td>reconnaissance</td>\n",
       "    </tr>\n",
       "    <tr>\n",
       "      <th>6</th>\n",
       "      <td>0.306148</td>\n",
       "      <td>lateral-movement</td>\n",
       "    </tr>\n",
       "    <tr>\n",
       "      <th>13</th>\n",
       "      <td>0.330382</td>\n",
       "      <td>exfiltration</td>\n",
       "    </tr>\n",
       "    <tr>\n",
       "      <th>11</th>\n",
       "      <td>0.346120</td>\n",
       "      <td>impact</td>\n",
       "    </tr>\n",
       "    <tr>\n",
       "      <th>12</th>\n",
       "      <td>0.389165</td>\n",
       "      <td>initial-access</td>\n",
       "    </tr>\n",
       "    <tr>\n",
       "      <th>9</th>\n",
       "      <td>0.407678</td>\n",
       "      <td>resource-development</td>\n",
       "    </tr>\n",
       "    <tr>\n",
       "      <th>7</th>\n",
       "      <td>0.439639</td>\n",
       "      <td>credential-access</td>\n",
       "    </tr>\n",
       "    <tr>\n",
       "      <th>3</th>\n",
       "      <td>0.493920</td>\n",
       "      <td>persistence</td>\n",
       "    </tr>\n",
       "    <tr>\n",
       "      <th>0</th>\n",
       "      <td>0.508295</td>\n",
       "      <td>defense-evasion</td>\n",
       "    </tr>\n",
       "    <tr>\n",
       "      <th>5</th>\n",
       "      <td>0.550833</td>\n",
       "      <td>collection</td>\n",
       "    </tr>\n",
       "    <tr>\n",
       "      <th>1</th>\n",
       "      <td>0.552924</td>\n",
       "      <td>privilege-escalation</td>\n",
       "    </tr>\n",
       "    <tr>\n",
       "      <th>2</th>\n",
       "      <td>0.557114</td>\n",
       "      <td>execution</td>\n",
       "    </tr>\n",
       "    <tr>\n",
       "      <th>4</th>\n",
       "      <td>0.587973</td>\n",
       "      <td>command-and-control</td>\n",
       "    </tr>\n",
       "    <tr>\n",
       "      <th>8</th>\n",
       "      <td>0.680159</td>\n",
       "      <td>discovery</td>\n",
       "    </tr>\n",
       "  </tbody>\n",
       "</table>\n",
       "</div>"
      ],
      "text/plain": [
       "        qual                 class\n",
       "10  0.136267        reconnaissance\n",
       "6   0.306148      lateral-movement\n",
       "13  0.330382          exfiltration\n",
       "11  0.346120                impact\n",
       "12  0.389165        initial-access\n",
       "9   0.407678  resource-development\n",
       "7   0.439639     credential-access\n",
       "3   0.493920           persistence\n",
       "0   0.508295       defense-evasion\n",
       "5   0.550833            collection\n",
       "1   0.552924  privilege-escalation\n",
       "2   0.557114             execution\n",
       "4   0.587973   command-and-control\n",
       "8   0.680159             discovery"
      ]
     },
     "execution_count": 247,
     "metadata": {},
     "output_type": "execute_result"
    }
   ],
   "source": [
    "fin_metric, res_l = metric_multi(np.array(error_df['y'].tolist()), np.array(error_df[thresh_col].tolist()), average_precision_score)\n",
    "\n",
    "pd.DataFrame({'qual':res_l, 'class':mlb.classes_}).sort_values(by='qual').head(15)"
   ]
  },
  {
   "cell_type": "code",
   "execution_count": 235,
   "id": "d3392dd8-7a22-41f3-a169-200852ab6382",
   "metadata": {},
   "outputs": [],
   "source": [
    "# idx = 2396\n",
    "# row = error_df[['labels', 'prob_label']].loc[idx]\n",
    "\n",
    "df_l = []\n",
    "for idx in range(error_df[['labels', 'prob_label']].shape[0]):\n",
    "    row = error_df[['labels', 'prob_label']].iloc[idx]\n",
    "\n",
    "    \n",
    "\n",
    "# idx = 2396\n",
    "# row = error_df[['labels', 'prob_label']].iloc[idx]\n",
    "\n",
    "    row_l = []\n",
    "    good_s = set(row['labels']).intersection(row['prob_label'])\n",
    "    if len(good_s)>0:\n",
    "        for it in good_s:\n",
    "            row_l.append(pd.DataFrame({'labels':it, 'prob_label':it}, index=[idx]))\n",
    "            \n",
    "    in_labels_s = set(row['labels']).difference(row['prob_label'])\n",
    "    in_probas_s = set(row['prob_label']).difference(row['labels'])\n",
    "    l1 = len(in_labels_s)\n",
    "    l2 = len(in_probas_s)\n",
    "\n",
    "    if l1>0 or l2>0:\n",
    "        row_l.append(pd.DataFrame({'labels':[in_labels_s], 'prob_label':[in_probas_s]}, index=[idx]))\n",
    "    # if len(in_labels_s)>0:\n",
    "    #     for it in in_labels_s:\n",
    "    #         row_l.append(pd.DataFrame({'labels':it, 'prob_label':'empty'}, index=[idx]))\n",
    "            \n",
    "    \n",
    "    # if len(in_probas_s)>0:\n",
    "    #     for it in in_probas_s:\n",
    "    #         row_l.append(pd.DataFrame({'labels':'empty', 'prob_label':it}, index=[idx]))\n",
    "    df_l.append(pd.concat(row_l))"
   ]
  },
  {
   "cell_type": "code",
   "execution_count": 236,
   "id": "976bafeb-d962-41fd-9d34-4d0421d1c556",
   "metadata": {},
   "outputs": [
    {
     "data": {
      "text/plain": [
       "<sklearn.metrics._plot.confusion_matrix.ConfusionMatrixDisplay at 0x20f61c7d1e0>"
      ]
     },
     "execution_count": 236,
     "metadata": {},
     "output_type": "execute_result"
    },
    {
     "data": {
      "image/png": "[encoded data removed]",
      "text/plain": [
       "<Figure size 640x480 with 1 Axes>"
      ]
     },
     "metadata": {},
     "output_type": "display_data"
    }
   ],
   "source": [
    "from sklearn.metrics import ConfusionMatrixDisplay\n",
    "conf_df = pd.concat(df_l).explode(['prob_label']).explode(['labels']).fillna('empty')\n",
    "ConfusionMatrixDisplay.from_predictions(y_true = conf_df['labels'], y_pred = conf_df['prob_label'], colorbar=False,\n",
    "                                        xticks_rotation='vertical')"
   ]
  },
  {
   "cell_type": "code",
   "execution_count": 163,
   "id": "eb54ea17-1177-40e7-8b32-1d72565b23ec",
   "metadata": {},
   "outputs": [],
   "source": [
    "conf_df = conf_df.reset_index()"
   ]
  },
  {
   "cell_type": "code",
   "execution_count": 180,
   "id": "39fec5ad-6e62-4d47-a9d2-700465b9e22a",
   "metadata": {},
   "outputs": [
    {
     "data": {
      "text/html": [
       "<div>\n",
       "<style scoped>\n",
       "    .dataframe tbody tr th:only-of-type {\n",
       "        vertical-align: middle;\n",
       "    }\n",
       "\n",
       "    .dataframe tbody tr th {\n",
       "        vertical-align: top;\n",
       "    }\n",
       "\n",
       "    .dataframe thead th {\n",
       "        text-align: right;\n",
       "    }\n",
       "</style>\n",
       "<table border=\"1\" class=\"dataframe\">\n",
       "  <thead>\n",
       "    <tr style=\"text-align: right;\">\n",
       "      <th></th>\n",
       "      <th>index</th>\n",
       "      <th>labels</th>\n",
       "      <th>prob_label</th>\n",
       "    </tr>\n",
       "  </thead>\n",
       "  <tbody>\n",
       "    <tr>\n",
       "      <th>0</th>\n",
       "      <td>0</td>\n",
       "      <td>execution</td>\n",
       "      <td>execution</td>\n",
       "    </tr>\n",
       "    <tr>\n",
       "      <th>1</th>\n",
       "      <td>1</td>\n",
       "      <td>resource-development</td>\n",
       "      <td>resource-development</td>\n",
       "    </tr>\n",
       "    <tr>\n",
       "      <th>2</th>\n",
       "      <td>2</td>\n",
       "      <td>resource-development</td>\n",
       "      <td>resource-development</td>\n",
       "    </tr>\n",
       "    <tr>\n",
       "      <th>3</th>\n",
       "      <td>2</td>\n",
       "      <td>empty</td>\n",
       "      <td>command-and-control</td>\n",
       "    </tr>\n",
       "    <tr>\n",
       "      <th>4</th>\n",
       "      <td>3</td>\n",
       "      <td>command-and-control</td>\n",
       "      <td>command-and-control</td>\n",
       "    </tr>\n",
       "    <tr>\n",
       "      <th>...</th>\n",
       "      <td>...</td>\n",
       "      <td>...</td>\n",
       "      <td>...</td>\n",
       "    </tr>\n",
       "    <tr>\n",
       "      <th>3804</th>\n",
       "      <td>2396</td>\n",
       "      <td>initial-access</td>\n",
       "      <td>discovery</td>\n",
       "    </tr>\n",
       "    <tr>\n",
       "      <th>3805</th>\n",
       "      <td>2396</td>\n",
       "      <td>persistence</td>\n",
       "      <td>discovery</td>\n",
       "    </tr>\n",
       "    <tr>\n",
       "      <th>3806</th>\n",
       "      <td>2397</td>\n",
       "      <td>impact</td>\n",
       "      <td>impact</td>\n",
       "    </tr>\n",
       "    <tr>\n",
       "      <th>3807</th>\n",
       "      <td>2398</td>\n",
       "      <td>impact</td>\n",
       "      <td>empty</td>\n",
       "    </tr>\n",
       "    <tr>\n",
       "      <th>3808</th>\n",
       "      <td>2399</td>\n",
       "      <td>impact</td>\n",
       "      <td>empty</td>\n",
       "    </tr>\n",
       "  </tbody>\n",
       "</table>\n",
       "<p>3809 rows × 3 columns</p>\n",
       "</div>"
      ],
      "text/plain": [
       "      index                labels            prob_label\n",
       "0         0             execution             execution\n",
       "1         1  resource-development  resource-development\n",
       "2         2  resource-development  resource-development\n",
       "3         2                 empty   command-and-control\n",
       "4         3   command-and-control   command-and-control\n",
       "...     ...                   ...                   ...\n",
       "3804   2396        initial-access             discovery\n",
       "3805   2396           persistence             discovery\n",
       "3806   2397                impact                impact\n",
       "3807   2398                impact                 empty\n",
       "3808   2399                impact                 empty\n",
       "\n",
       "[3809 rows x 3 columns]"
      ]
     },
     "execution_count": 180,
     "metadata": {},
     "output_type": "execute_result"
    }
   ],
   "source": [
    "conf_df"
   ]
  },
  {
   "cell_type": "markdown",
   "id": "80ecec5b-00f2-4954-a1bb-15249cfe2126",
   "metadata": {},
   "source": [
    "#### defense-evasion"
   ]
  },
  {
   "cell_type": "code",
   "execution_count": 154,
   "id": "628bd561-8352-4dd0-ad93-15756a3c69a1",
   "metadata": {},
   "outputs": [],
   "source": [
    "cls = 'defense-evasion'\n"
   ]
  },
  {
   "cell_type": "code",
   "execution_count": 165,
   "id": "a2e33a71-3bce-4078-a701-a704bd30132f",
   "metadata": {},
   "outputs": [],
   "source": [
    "cls_idx = conf_df['labels']==cls"
   ]
  },
  {
   "cell_type": "code",
   "execution_count": 168,
   "id": "dfb37da9-8ecc-4b23-a828-e4f6861f86aa",
   "metadata": {},
   "outputs": [
    {
     "data": {
      "text/plain": [
       "prob_label\n",
       "defense-evasion         329\n",
       "empty                   125\n",
       "execution                26\n",
       "discovery                22\n",
       "persistence              21\n",
       "privilege-escalation     21\n",
       "impact                   20\n",
       "command-and-control      19\n",
       "lateral-movement         12\n",
       "collection               11\n",
       "resource-development     10\n",
       "initial-access            9\n",
       "exfiltration              8\n",
       "credential-access         6\n",
       "reconnaissance            4\n",
       "Name: count, dtype: int64"
      ]
     },
     "execution_count": 168,
     "metadata": {},
     "output_type": "execute_result"
    }
   ],
   "source": [
    "conf_df.loc[cls_idx, 'prob_label'].value_counts()"
   ]
  },
  {
   "cell_type": "code",
   "execution_count": 182,
   "id": "51ee7b23-7dab-4e2d-b0eb-20961fe1052f",
   "metadata": {},
   "outputs": [],
   "source": [
    "conf_cls = 'empty'\n",
    "conf_idx = conf_df.loc[cls_idx & (conf_df.prob_label==conf_cls), 'index'].unique().tolist()"
   ]
  },
  {
   "cell_type": "markdown",
   "id": "3072ae79-ccbf-4845-9780-532bbac30d03",
   "metadata": {},
   "source": [
    "##### смотрим на кейс"
   ]
  },
  {
   "cell_type": "code",
   "execution_count": 191,
   "id": "9932b005-725c-49fc-940b-7c9da458aeb5",
   "metadata": {},
   "outputs": [
    {
     "data": {
      "text/plain": [
       "val_idx                                                                                                                                                                                                                                                                                                                                                                                                                                                                                                                                                                                                                                                                                                                                                                                   18\n",
       "sentence         An adversary may revert changes made to a cloud instance after they have performed malicious activities in attempt to evade detection and remove evidence of their presence. In highly virtualized environments, such as cloud-based infrastructure, this may be accomplished by restoring virtual machine (VM) or data storage snapshots through the cloud management dashboard or cloud APIs.\\n\\nAnother variation of this technique is to utilize temporary storage attached to the compute instance. Most cloud providers provide various types of storage including persistent, local, and/or ephemeral, with the ephemeral types often reset upon stop/restart of the VM.(Citation: Tech Republic - Restore AWS Snapshots)(Citation: Google - Restore Cloud Snapshot)\n",
       "labels                                                                                                                                                                                                                                                                                                                                                                                                                                                                                                                                                                                                                                                                                                                                                                     [defense-evasion]\n",
       "url                                                                                                                                                                                                                                                                                                                                                                                                                                                                                                                                                                                                                                                                                                                                            https://attack.mitre.org/techniques/T1578/004\n",
       "par_name                                                                                                                                                                                                                                                                                                                                                                                                                                                                                                                                                                                                                                                                                                                                                 Modify Cloud Compute Infrastructure\n",
       "origin_labels                                                                                                                                                                                                                                                                                                                                                                                                                                                                                                                                                                                                                                                                                                                                                                  ['T1578.004']\n",
       "prep_text                                                                                                                                                                                                                                                        adversari may revert chang made cloud instanc after they have perform malici activ attempt evad detect and remov evid their presenc high such this may restor virtual machin data storag snapshot through the cloud manag dashboard cloud api anoth variat this techniqu util temporari storag attach the comput instanc most cloud provid provid various type storag includ persist local and/or ephemer with the ephemer type often reset upon the citat tech republ restor aw snapshot citat googl restor cloud snapshot\n",
       "target                                                                                                                                                                                                                                                                                                                                                                                                                                                                                                                                                                                                                                                                                                                                            [1, 0, 0, 0, 0, 0, 0, 0, 0, 0, 0, 0, 0, 0]\n",
       "split                                                                                                                                                                                                                                                                                                                                                                                                                                                                                                                                                                                                                                                                                                                                                                                    val\n",
       "threat_words                                                                                                                                                                                                                                                                                                                                                                                                                                                                                                                                                                                                                                                                                                                                                                              []\n",
       "y                                                                                                                                                                                                                                                                                                                                                                                                                                                                                                                                                                                                                                                                                                                                                 [1, 0, 0, 0, 0, 0, 0, 0, 0, 0, 0, 0, 0, 0]\n",
       "y_proba                                                                                                                                                                                                                                                                                                                                                                                                                                                                                        [0.3946450261608902, 0.43218931442393943, 0.4483019462949201, 0.4597342110383126, 0.3993174608506074, 0.23764520321369112, 0.3021769860371284, 0.28928600936993126, 0.21981054987767631, 0.2632851547146964, 0.4675944587152786, 0.1743314143597982, 0.5358312905244462, 0.34239555375211006]\n",
       "y_p_0.55                                                                                                                                                                                                                                                                                                                                                                                                                                                                                                                                                                                                                                                                                                                                          [0, 0, 0, 0, 0, 0, 0, 0, 0, 0, 0, 0, 0, 0]\n",
       "prob_label                                                                                                                                                                                                                                                                                                                                                                                                                                                                                                                                                                                                                                                                                                                                                                                ()\n",
       "Name: 4, dtype: object"
      ]
     },
     "metadata": {},
     "output_type": "display_data"
    }
   ],
   "source": [
    "N=0\n",
    "\n",
    "with pd.option_context('display.max_colwidth', 1000):\n",
    "    display(error_df.iloc[conf_idx].iloc[N])"
   ]
  },
  {
   "cell_type": "code",
   "execution_count": 194,
   "id": "aefd5b19-9ce9-44da-9607-ce2ade636d54",
   "metadata": {},
   "outputs": [
    {
     "data": {
      "text/plain": [
       "array(['defense-evasion', 'privilege-escalation', 'execution',\n",
       "       'persistence', 'command-and-control', 'collection',\n",
       "       'lateral-movement', 'credential-access', 'discovery',\n",
       "       'resource-development', 'reconnaissance', 'impact',\n",
       "       'initial-access', 'exfiltration'], dtype=object)"
      ]
     },
     "execution_count": 194,
     "metadata": {},
     "output_type": "execute_result"
    }
   ],
   "source": [
    "mlb.classes_"
   ]
  },
  {
   "cell_type": "markdown",
   "id": "46fa1047-f2d5-4563-ac7c-434c41503c38",
   "metadata": {},
   "source": [
    "##### смотрим на фичи"
   ]
  },
  {
   "cell_type": "code",
   "execution_count": 190,
   "id": "a6058403-963b-4d3b-8891-eb0ab236b29e",
   "metadata": {},
   "outputs": [
    {
     "data": {
      "text/plain": [
       "data           0.058026\n",
       "persist        0.093602\n",
       "api            0.070928\n",
       "malici         0.055108\n",
       "such           0.061342\n",
       "citat googl    0.099505\n",
       "googl          0.086549\n",
       "Name: 18, dtype: float64"
      ]
     },
     "execution_count": 190,
     "metadata": {},
     "output_type": "execute_result"
    }
   ],
   "source": [
    "feat_data.iloc[18].loc[lambda x: x>0]"
   ]
  },
  {
   "cell_type": "markdown",
   "id": "6a16e93c-f0f4-4123-a327-128276adc8d9",
   "metadata": {},
   "source": [
    "##### значимость в облаке слов"
   ]
  },
  {
   "cell_type": "code",
   "execution_count": 196,
   "id": "1ce777ad-43eb-4dc2-94b6-d4cb8d228320",
   "metadata": {},
   "outputs": [
    {
     "data": {
      "text/plain": [
       "defense-evasion         0.437543\n",
       "privilege-escalation    0.876619\n",
       "execution               0.225680\n",
       "persistence             0.982138\n",
       "command-and-control     0.191315\n",
       "collection              0.231217\n",
       "lateral-movement        0.087717\n",
       "credential-access       0.376708\n",
       "discovery               0.000047\n",
       "resource-development    0.000334\n",
       "reconnaissance          0.000596\n",
       "impact                  0.372788\n",
       "initial-access          0.751409\n",
       "exfiltration            0.000337\n",
       "Name: persist, dtype: float64"
      ]
     },
     "execution_count": 196,
     "metadata": {},
     "output_type": "execute_result"
    }
   ],
   "source": [
    "col_prob_df.loc['persist']"
   ]
  },
  {
   "cell_type": "markdown",
   "id": "0f1abad4-c2a7-4366-a798-a712a5ee4736",
   "metadata": {},
   "source": [
    "#### impact"
   ]
  },
  {
   "cell_type": "code",
   "execution_count": 105,
   "id": "3259d87d-e423-4844-81d0-092c7beeaee0",
   "metadata": {},
   "outputs": [],
   "source": [
    "cls = 'impact'"
   ]
  },
  {
   "cell_type": "code",
   "execution_count": 106,
   "id": "f213bbb2-42c1-48b3-bdae-e14308e190c3",
   "metadata": {},
   "outputs": [],
   "source": [
    "cls_idx = error_df['labels'].map(lambda x: cls in x)"
   ]
  },
  {
   "cell_type": "code",
   "execution_count": 107,
   "id": "7652590f-e2a6-4466-821c-53a03872d13c",
   "metadata": {},
   "outputs": [],
   "source": [
    "y = np.array(error_df.loc[cls_idx, 'target'].values.tolist())\n",
    "y_p = np.array(error_df.loc[cls_idx, thresh_col].values.tolist())"
   ]
  },
  {
   "cell_type": "code",
   "execution_count": 108,
   "id": "da06aa18-b6aa-4db9-8cad-6e442d302cb1",
   "metadata": {},
   "outputs": [
    {
     "data": {
      "text/plain": [
       "(0.5573770491803278, 0.7727272727272727, 0.6476190476190476, None)"
      ]
     },
     "execution_count": 108,
     "metadata": {},
     "output_type": "execute_result"
    }
   ],
   "source": [
    "p, r, f1, sup = precision_recall_fscore_support(y, y_p, average='micro')\n",
    "\n",
    "p, r, f1, sup"
   ]
  },
  {
   "cell_type": "code",
   "execution_count": 109,
   "id": "6a7cb9e0-009c-4169-a138-6e1ce54a5e1c",
   "metadata": {},
   "outputs": [
    {
     "data": {
      "text/plain": [
       "prob_label          \n",
       "impact                  34\n",
       "defense-evasion         13\n",
       "NaN                      7\n",
       "collection               3\n",
       "discovery                3\n",
       "command-and-control      2\n",
       "execution                1\n",
       "exfiltration             1\n",
       "initial-access           1\n",
       "privilege-escalation     1\n",
       "reconnaissance           1\n",
       "resource-development     1\n",
       "Name: count, dtype: int64"
      ]
     },
     "execution_count": 109,
     "metadata": {},
     "output_type": "execute_result"
    }
   ],
   "source": [
    "error_df.loc[cls_idx, ['prob_label']].explode('prob_label').value_counts(dropna=False)"
   ]
  },
  {
   "cell_type": "markdown",
   "id": "88845d90-8321-40b0-bead-bfde0e2ea8bf",
   "metadata": {},
   "source": [
    "<div class='alert alert-info'>\n",
    "    \n",
    "- impact путается с defense-evasion\n",
    "- немного с collection и discovery\n",
    "</div>"
   ]
  },
  {
   "cell_type": "code",
   "execution_count": 31,
   "id": "f547f4bf-fc6a-49fb-a713-3abf374ef3d8",
   "metadata": {},
   "outputs": [
    {
     "data": {
      "text/plain": [
       "val_idx                                                                                                                                                                                                                                                                                                                                                                                                                                                                                                                           40\n",
       "sentence         Adversaries may launch a denial of service (DoS) attack targeting an endpoint's operating system (OS). A system's OS is responsible for managing the finite resources as well as preventing the entire system from being overwhelmed by excessive demands on its capacity. These attacks do not need to exhaust the actual resources on a system; the attacks may simply exhaust the limits and available resources that an OS self-imposes.\\n\\nDifferent ways to achieve this exist, including TCP state-exhaus...\n",
       "labels                                                                                                                                                                                                                                                                                                                                                                                                                                                                                                                      [impact]\n",
       "url                                                                                                                                                                                                                                                                                                                                                                                                                                                                                    https://attack.mitre.org/techniques/T1499/001\n",
       "par_name                                                                                                                                                                                                                                                                                                                                                                                                                                                                                                  Endpoint Denial of Service\n",
       "origin_labels                                                                                                                                                                                                                                                                                                                                                                                                                                                                                                          ['T1499.001']\n",
       "prep_text         may launch denial servic dos attack target endpoint oper system system for manag the finit resourc well prevent the entir system from be excess demand it capac these attack not need exhaust the actual resourc system the attack may simpli exhaust the limit and avail resourc that differ way achiev this exist includ tcp attack such syn flood and ack flood citat arbor jan 2018 with syn flood excess amount syn packet are sent but the 3-way tcp handshak never complet becaus each has maximum numbe...\n",
       "target                                                                                                                                                                                                                                                                                                                                                                                                                                                                                    [0, 0, 0, 0, 0, 0, 0, 0, 0, 0, 0, 1, 0, 0]\n",
       "split                                                                                                                                                                                                                                                                                                                                                                                                                                                                                                                            val\n",
       "threat_words                                                                                                                                                                                                                                                                                                                                                                                                                                                                                                                      []\n",
       "y                                                                                                                                                                                                                                                                                                                                                                                                                                                                                         [0, 0, 0, 0, 0, 0, 0, 0, 0, 0, 0, 1, 0, 0]\n",
       "y_proba                                                                                                                                                                                                                                [0.2540060840763454, 0.10445374974254044, 0.24006467498279183, 0.29635511054927793, 0.3573017018530939, 0.3868357491424722, 0.38392943346931707, 0.4064437217696345, 0.3410005242463411, 0.5234419507117134, 0.3897944176324509, 0.5181729447448634, 0.4002768915190493, 0.34068574479859026]\n",
       "y_p_0.55                                                                                                                                                                                                                                                                                                                                                                                                                                                                                  [0, 0, 0, 0, 0, 0, 0, 0, 0, 0, 0, 0, 0, 0]\n",
       "prob_label                                                                                                                                                                                                                                                                                                                                                                                                                                                                                                                        ()\n",
       "Name: 7, dtype: object"
      ]
     },
     "metadata": {},
     "output_type": "display_data"
    }
   ],
   "source": [
    "N=0\n",
    "\n",
    "with pd.option_context('display.max_colwidth', 500):\n",
    "    display(error_df.loc[cls_idx].iloc[N])"
   ]
  },
  {
   "cell_type": "code",
   "execution_count": 32,
   "id": "55c90e44-6f8b-42fe-91e3-7bcf7af8af5f",
   "metadata": {},
   "outputs": [
    {
     "data": {
      "text/plain": [
       "index            40.000000\n",
       "target            0.110326\n",
       "server            0.071572\n",
       "oper              0.036434\n",
       "system            0.147388\n",
       "access            0.037554\n",
       "servic            0.107975\n",
       "sent              0.097244\n",
       "for               0.149623\n",
       "it                0.071603\n",
       "such              0.037220\n",
       "been              0.041900\n",
       "connect           0.047017\n",
       "connect.1         0.047017\n",
       "connect.2         0.047017\n",
       "from              0.028974\n",
       "denial servic     0.071708\n",
       "Name: 7, dtype: float64"
      ]
     },
     "execution_count": 32,
     "metadata": {},
     "output_type": "execute_result"
    }
   ],
   "source": [
    "feat_data.loc[val_idx].reset_index()[cls_idx].iloc[N].loc[lambda x: x>0]"
   ]
  },
  {
   "cell_type": "code",
   "execution_count": 33,
   "id": "21e46f3c-2c01-4bef-ae26-db991bdbeaff",
   "metadata": {
    "collapsed": true,
    "jupyter": {
     "outputs_hidden": true
    }
   },
   "outputs": [
    {
     "ename": "KeyError",
     "evalue": "'DoS'",
     "output_type": "error",
     "traceback": [
      "\u001b[1;31m---------------------------------------------------------------------------\u001b[0m",
      "\u001b[1;31mKeyError\u001b[0m                                  Traceback (most recent call last)",
      "File \u001b[1;32mC:\\tools\\Anaconda3\\envs\\pytorch_env\\lib\\site-packages\\pandas\\core\\indexes\\base.py:3805\u001b[0m, in \u001b[0;36mIndex.get_loc\u001b[1;34m(self, key)\u001b[0m\n\u001b[0;32m   3804\u001b[0m \u001b[38;5;28;01mtry\u001b[39;00m:\n\u001b[1;32m-> 3805\u001b[0m     \u001b[38;5;28;01mreturn\u001b[39;00m \u001b[38;5;28;43mself\u001b[39;49m\u001b[38;5;241;43m.\u001b[39;49m\u001b[43m_engine\u001b[49m\u001b[38;5;241;43m.\u001b[39;49m\u001b[43mget_loc\u001b[49m\u001b[43m(\u001b[49m\u001b[43mcasted_key\u001b[49m\u001b[43m)\u001b[49m\n\u001b[0;32m   3806\u001b[0m \u001b[38;5;28;01mexcept\u001b[39;00m \u001b[38;5;167;01mKeyError\u001b[39;00m \u001b[38;5;28;01mas\u001b[39;00m err:\n",
      "File \u001b[1;32mindex.pyx:167\u001b[0m, in \u001b[0;36mpandas._libs.index.IndexEngine.get_loc\u001b[1;34m()\u001b[0m\n",
      "File \u001b[1;32mindex.pyx:196\u001b[0m, in \u001b[0;36mpandas._libs.index.IndexEngine.get_loc\u001b[1;34m()\u001b[0m\n",
      "File \u001b[1;32mpandas\\\\_libs\\\\hashtable_class_helper.pxi:7081\u001b[0m, in \u001b[0;36mpandas._libs.hashtable.PyObjectHashTable.get_item\u001b[1;34m()\u001b[0m\n",
      "File \u001b[1;32mpandas\\\\_libs\\\\hashtable_class_helper.pxi:7089\u001b[0m, in \u001b[0;36mpandas._libs.hashtable.PyObjectHashTable.get_item\u001b[1;34m()\u001b[0m\n",
      "\u001b[1;31mKeyError\u001b[0m: 'DoS'",
      "\nThe above exception was the direct cause of the following exception:\n",
      "\u001b[1;31mKeyError\u001b[0m                                  Traceback (most recent call last)",
      "Cell \u001b[1;32mIn[33], line 1\u001b[0m\n\u001b[1;32m----> 1\u001b[0m \u001b[43mcol_prob_df\u001b[49m\u001b[38;5;241;43m.\u001b[39;49m\u001b[43mloc\u001b[49m\u001b[43m[\u001b[49m\u001b[38;5;124;43m'\u001b[39;49m\u001b[38;5;124;43mDoS\u001b[39;49m\u001b[38;5;124;43m'\u001b[39;49m\u001b[43m]\u001b[49m\n",
      "File \u001b[1;32mC:\\tools\\Anaconda3\\envs\\pytorch_env\\lib\\site-packages\\pandas\\core\\indexing.py:1191\u001b[0m, in \u001b[0;36m_LocationIndexer.__getitem__\u001b[1;34m(self, key)\u001b[0m\n\u001b[0;32m   1189\u001b[0m maybe_callable \u001b[38;5;241m=\u001b[39m com\u001b[38;5;241m.\u001b[39mapply_if_callable(key, \u001b[38;5;28mself\u001b[39m\u001b[38;5;241m.\u001b[39mobj)\n\u001b[0;32m   1190\u001b[0m maybe_callable \u001b[38;5;241m=\u001b[39m \u001b[38;5;28mself\u001b[39m\u001b[38;5;241m.\u001b[39m_check_deprecated_callable_usage(key, maybe_callable)\n\u001b[1;32m-> 1191\u001b[0m \u001b[38;5;28;01mreturn\u001b[39;00m \u001b[38;5;28;43mself\u001b[39;49m\u001b[38;5;241;43m.\u001b[39;49m\u001b[43m_getitem_axis\u001b[49m\u001b[43m(\u001b[49m\u001b[43mmaybe_callable\u001b[49m\u001b[43m,\u001b[49m\u001b[43m \u001b[49m\u001b[43maxis\u001b[49m\u001b[38;5;241;43m=\u001b[39;49m\u001b[43maxis\u001b[49m\u001b[43m)\u001b[49m\n",
      "File \u001b[1;32mC:\\tools\\Anaconda3\\envs\\pytorch_env\\lib\\site-packages\\pandas\\core\\indexing.py:1431\u001b[0m, in \u001b[0;36m_LocIndexer._getitem_axis\u001b[1;34m(self, key, axis)\u001b[0m\n\u001b[0;32m   1429\u001b[0m \u001b[38;5;66;03m# fall thru to straight lookup\u001b[39;00m\n\u001b[0;32m   1430\u001b[0m \u001b[38;5;28mself\u001b[39m\u001b[38;5;241m.\u001b[39m_validate_key(key, axis)\n\u001b[1;32m-> 1431\u001b[0m \u001b[38;5;28;01mreturn\u001b[39;00m \u001b[38;5;28;43mself\u001b[39;49m\u001b[38;5;241;43m.\u001b[39;49m\u001b[43m_get_label\u001b[49m\u001b[43m(\u001b[49m\u001b[43mkey\u001b[49m\u001b[43m,\u001b[49m\u001b[43m \u001b[49m\u001b[43maxis\u001b[49m\u001b[38;5;241;43m=\u001b[39;49m\u001b[43maxis\u001b[49m\u001b[43m)\u001b[49m\n",
      "File \u001b[1;32mC:\\tools\\Anaconda3\\envs\\pytorch_env\\lib\\site-packages\\pandas\\core\\indexing.py:1381\u001b[0m, in \u001b[0;36m_LocIndexer._get_label\u001b[1;34m(self, label, axis)\u001b[0m\n\u001b[0;32m   1379\u001b[0m \u001b[38;5;28;01mdef\u001b[39;00m \u001b[38;5;21m_get_label\u001b[39m(\u001b[38;5;28mself\u001b[39m, label, axis: AxisInt):\n\u001b[0;32m   1380\u001b[0m     \u001b[38;5;66;03m# GH#5567 this will fail if the label is not present in the axis.\u001b[39;00m\n\u001b[1;32m-> 1381\u001b[0m     \u001b[38;5;28;01mreturn\u001b[39;00m \u001b[38;5;28;43mself\u001b[39;49m\u001b[38;5;241;43m.\u001b[39;49m\u001b[43mobj\u001b[49m\u001b[38;5;241;43m.\u001b[39;49m\u001b[43mxs\u001b[49m\u001b[43m(\u001b[49m\u001b[43mlabel\u001b[49m\u001b[43m,\u001b[49m\u001b[43m \u001b[49m\u001b[43maxis\u001b[49m\u001b[38;5;241;43m=\u001b[39;49m\u001b[43maxis\u001b[49m\u001b[43m)\u001b[49m\n",
      "File \u001b[1;32mC:\\tools\\Anaconda3\\envs\\pytorch_env\\lib\\site-packages\\pandas\\core\\generic.py:4301\u001b[0m, in \u001b[0;36mNDFrame.xs\u001b[1;34m(self, key, axis, level, drop_level)\u001b[0m\n\u001b[0;32m   4299\u001b[0m             new_index \u001b[38;5;241m=\u001b[39m index[loc]\n\u001b[0;32m   4300\u001b[0m \u001b[38;5;28;01melse\u001b[39;00m:\n\u001b[1;32m-> 4301\u001b[0m     loc \u001b[38;5;241m=\u001b[39m \u001b[43mindex\u001b[49m\u001b[38;5;241;43m.\u001b[39;49m\u001b[43mget_loc\u001b[49m\u001b[43m(\u001b[49m\u001b[43mkey\u001b[49m\u001b[43m)\u001b[49m\n\u001b[0;32m   4303\u001b[0m     \u001b[38;5;28;01mif\u001b[39;00m \u001b[38;5;28misinstance\u001b[39m(loc, np\u001b[38;5;241m.\u001b[39mndarray):\n\u001b[0;32m   4304\u001b[0m         \u001b[38;5;28;01mif\u001b[39;00m loc\u001b[38;5;241m.\u001b[39mdtype \u001b[38;5;241m==\u001b[39m np\u001b[38;5;241m.\u001b[39mbool_:\n",
      "File \u001b[1;32mC:\\tools\\Anaconda3\\envs\\pytorch_env\\lib\\site-packages\\pandas\\core\\indexes\\base.py:3812\u001b[0m, in \u001b[0;36mIndex.get_loc\u001b[1;34m(self, key)\u001b[0m\n\u001b[0;32m   3807\u001b[0m     \u001b[38;5;28;01mif\u001b[39;00m \u001b[38;5;28misinstance\u001b[39m(casted_key, \u001b[38;5;28mslice\u001b[39m) \u001b[38;5;129;01mor\u001b[39;00m (\n\u001b[0;32m   3808\u001b[0m         \u001b[38;5;28misinstance\u001b[39m(casted_key, abc\u001b[38;5;241m.\u001b[39mIterable)\n\u001b[0;32m   3809\u001b[0m         \u001b[38;5;129;01mand\u001b[39;00m \u001b[38;5;28many\u001b[39m(\u001b[38;5;28misinstance\u001b[39m(x, \u001b[38;5;28mslice\u001b[39m) \u001b[38;5;28;01mfor\u001b[39;00m x \u001b[38;5;129;01min\u001b[39;00m casted_key)\n\u001b[0;32m   3810\u001b[0m     ):\n\u001b[0;32m   3811\u001b[0m         \u001b[38;5;28;01mraise\u001b[39;00m InvalidIndexError(key)\n\u001b[1;32m-> 3812\u001b[0m     \u001b[38;5;28;01mraise\u001b[39;00m \u001b[38;5;167;01mKeyError\u001b[39;00m(key) \u001b[38;5;28;01mfrom\u001b[39;00m \u001b[38;5;21;01merr\u001b[39;00m\n\u001b[0;32m   3813\u001b[0m \u001b[38;5;28;01mexcept\u001b[39;00m \u001b[38;5;167;01mTypeError\u001b[39;00m:\n\u001b[0;32m   3814\u001b[0m     \u001b[38;5;66;03m# If we have a listlike key, _check_indexing_error will raise\u001b[39;00m\n\u001b[0;32m   3815\u001b[0m     \u001b[38;5;66;03m#  InvalidIndexError. Otherwise we fall through and re-raise\u001b[39;00m\n\u001b[0;32m   3816\u001b[0m     \u001b[38;5;66;03m#  the TypeError.\u001b[39;00m\n\u001b[0;32m   3817\u001b[0m     \u001b[38;5;28mself\u001b[39m\u001b[38;5;241m.\u001b[39m_check_indexing_error(key)\n",
      "\u001b[1;31mKeyError\u001b[0m: 'DoS'"
     ]
    }
   ],
   "source": [
    "col_prob_df.loc['DoS']"
   ]
  },
  {
   "cell_type": "raw",
   "id": "b25d9815-4179-4a08-b7b8-cbc700ea703c",
   "metadata": {},
   "source": [
    "Я использую MultinomialNB для классификации текста. Придумай, как мне интерпретировать результаты работы, имя матрицу слов, почему предсказан один класс а не другой.\n",
    "Могу ли я вручную посчитать вероятность"
   ]
  },
  {
   "cell_type": "code",
   "execution_count": 34,
   "id": "3b61acac-d278-423d-9a43-00a671c0ad9f",
   "metadata": {},
   "outputs": [
    {
     "data": {
      "text/plain": [
       "0.29545454545454547"
      ]
     },
     "execution_count": 34,
     "metadata": {},
     "output_type": "execute_result"
    }
   ],
   "source": [
    "y_p[:,0].mean()"
   ]
  },
  {
   "cell_type": "code",
   "execution_count": 35,
   "id": "2b3cc251-4d50-41c0-906c-ee3546fc60db",
   "metadata": {},
   "outputs": [
    {
     "data": {
      "text/plain": [
       "0.24657963446475195"
      ]
     },
     "execution_count": 35,
     "metadata": {},
     "output_type": "execute_result"
    }
   ],
   "source": [
    "np.array(data.loc[tr_idx]['target'].tolist())[:, 0].mean()"
   ]
  },
  {
   "cell_type": "markdown",
   "id": "4bdb790e-01f0-4c2f-9925-c27d5f76f73b",
   "metadata": {},
   "source": [
    "## главные слова тактик"
   ]
  },
  {
   "cell_type": "code",
   "execution_count": 224,
   "id": "dc761cd6-5944-4099-99fd-4effe9bab099",
   "metadata": {},
   "outputs": [
    {
     "data": {
      "text/plain": [
       "[('dll', 0.7996392018454358),\n",
       " ('disabl', 0.8164761247024322),\n",
       " ('sign', 0.8248165793683071),\n",
       " ('obfusc', 0.830973359326624),\n",
       " ('bypass', 0.8446198625882976),\n",
       " ('pass the', 0.848739920600278),\n",
       " ('hidden', 0.8642184034116897),\n",
       " ('decrypt', 0.8871889437108471),\n",
       " ('uac', 0.9490013365751169),\n",
       " ('use dll', 0.9999858144238292)]"
      ]
     },
     "execution_count": 224,
     "metadata": {},
     "output_type": "execute_result"
    }
   ],
   "source": [
    "cls_d['defense-evasion'][-10:]"
   ]
  },
  {
   "cell_type": "code",
   "execution_count": 225,
   "id": "8477b1e0-3516-4166-9678-b1f27fb41b89",
   "metadata": {},
   "outputs": [
    {
     "data": {
      "text/plain": [
       "[('destroy 2018', 0.39883677085220354),\n",
       " ('stop', 0.4081634586405214),\n",
       " ('mine', 0.4687043360003906),\n",
       " ('goal', 0.5038434083678075),\n",
       " ('destroy', 0.535323708631271),\n",
       " ('overwrit', 0.5474879382127805),\n",
       " ('shadow', 0.5858543825428222),\n",
       " ('ransom', 0.7304021301267504),\n",
       " ('denial servic', 0.8201458819981089),\n",
       " ('mbr', 0.8505373067624795)]"
      ]
     },
     "execution_count": 225,
     "metadata": {},
     "output_type": "execute_result"
    }
   ],
   "source": [
    "cls_d['impact'][-10:]"
   ]
  },
  {
   "cell_type": "markdown",
   "id": "7e30d9c3-8db7-491a-98d1-cf5573db2955",
   "metadata": {},
   "source": [
    "<div class='alert alert-info'>\n",
    "\n",
    "- в некоторых тактиках могут появиться слова, которых нет (например, tcp в exfiltration при сглаживании - alpha = 1) \n",
    "- Если задать fit_prior=False, то мы сбалансируем выборки перед обучением, так как иначе будут априорная вероятность будет подбираться, учитывая неравномерность в количестве встречаемости\n",
    "</div>"
   ]
  },
  {
   "cell_type": "markdown",
   "id": "7296abe2-e8e7-4603-aa9d-9292922f61c2",
   "metadata": {},
   "source": [
    "### проверка"
   ]
  },
  {
   "cell_type": "code",
   "execution_count": null,
   "id": "39fd576d-eee8-4e1d-a30c-6cbace62d6d2",
   "metadata": {},
   "outputs": [],
   "source": [
    "word = 'gather'"
   ]
  },
  {
   "cell_type": "markdown",
   "id": "8fdd7377-92c1-4702-8812-9dd5eb73933f",
   "metadata": {},
   "source": [
    "#### слово по тактикам\n"
   ]
  },
  {
   "cell_type": "code",
   "execution_count": 39,
   "id": "dc7d5d3d-cca1-4555-ae45-b817bfac144e",
   "metadata": {},
   "outputs": [],
   "source": [
    "idx_word = np.where(feat_cols==word)[0][0]\n"
   ]
  },
  {
   "cell_type": "code",
   "execution_count": 40,
   "id": "0be8dc51-c664-43af-88f4-c9c8bf86b913",
   "metadata": {},
   "outputs": [
    {
     "data": {
      "text/plain": [
       "(array([11, 12,  6,  4,  1,  3,  9,  0, 13,  2, 10,  5,  7,  8],\n",
       "       dtype=int64),\n",
       " array([0.00224125, 0.0022719 , 0.00275761, 0.00320066, 0.00494394,\n",
       "        0.00569306, 0.00769047, 0.01945607, 0.02389086, 0.04741253,\n",
       "        0.06084578, 0.07219202, 0.08770189, 0.43687638]))"
      ]
     },
     "execution_count": 40,
     "metadata": {},
     "output_type": "execute_result"
    }
   ],
   "source": [
    "themes = np.argsort(feat_cols_probs[idx_word]) \n",
    "probs = np.sort(feat_cols_probs[idx_word])\n",
    "themes, probs"
   ]
  },
  {
   "cell_type": "code",
   "execution_count": 41,
   "id": "8ed9b826-e5f0-4159-8be5-2e5c13911a5f",
   "metadata": {},
   "outputs": [
    {
     "data": {
      "text/plain": [
       "array(['discovery', 'credential-access', 'collection', 'reconnaissance',\n",
       "       'execution'], dtype=object)"
      ]
     },
     "execution_count": 41,
     "metadata": {},
     "output_type": "execute_result"
    }
   ],
   "source": [
    "N=5\n",
    "mlb.classes_[themes[-N:][::-1]]\n"
   ]
  },
  {
   "cell_type": "markdown",
   "id": "6788a180-808d-4a05-b935-b66efe6a366d",
   "metadata": {},
   "source": [
    "При fit_prior=False слова сильнее повышают вероятность малых классов 'impact', 'exfiltration'"
   ]
  },
  {
   "cell_type": "markdown",
   "id": "cda1505e-a6c7-48e1-a57c-ae704a1bbd9c",
   "metadata": {},
   "source": [
    "#### слово для тактики\n"
   ]
  },
  {
   "cell_type": "code",
   "execution_count": 44,
   "id": "8dda3b90-d02d-405b-abde-133d1afcb2db",
   "metadata": {},
   "outputs": [
    {
     "data": {
      "text/html": [
       "<div>\n",
       "<style scoped>\n",
       "    .dataframe tbody tr th:only-of-type {\n",
       "        vertical-align: middle;\n",
       "    }\n",
       "\n",
       "    .dataframe tbody tr th {\n",
       "        vertical-align: top;\n",
       "    }\n",
       "\n",
       "    .dataframe thead th {\n",
       "        text-align: right;\n",
       "    }\n",
       "</style>\n",
       "<table border=\"1\" class=\"dataframe\">\n",
       "  <thead>\n",
       "    <tr style=\"text-align: right;\">\n",
       "      <th></th>\n",
       "      <th>sentence</th>\n",
       "      <th>labels</th>\n",
       "      <th>prep_text</th>\n",
       "      <th>target</th>\n",
       "      <th>split</th>\n",
       "      <th>threat_words</th>\n",
       "    </tr>\n",
       "  </thead>\n",
       "  <tbody>\n",
       "    <tr>\n",
       "      <th>308</th>\n",
       "      <td>Adversaries may exfiltrate data, such as sensi...</td>\n",
       "      <td>exfiltration</td>\n",
       "      <td>may exfiltr data such sensit document through...</td>\n",
       "      <td>[0, 0, 0, 0, 0, 0, 0, 0, 0, 0, 0, 0, 0, 1]</td>\n",
       "      <td>tr</td>\n",
       "      <td>[]</td>\n",
       "    </tr>\n",
       "    <tr>\n",
       "      <th>7472</th>\n",
       "      <td>[Doki] has used a script that gathers informat...</td>\n",
       "      <td>exfiltration</td>\n",
       "      <td>doki has use script that gather from hardcod ...</td>\n",
       "      <td>[0, 0, 0, 0, 0, 0, 0, 0, 0, 0, 0, 0, 0, 1]</td>\n",
       "      <td>tr</td>\n",
       "      <td>[]</td>\n",
       "    </tr>\n",
       "    <tr>\n",
       "      <th>7477</th>\n",
       "      <td>[Ebury] can automatically exfiltrate gathered ...</td>\n",
       "      <td>exfiltration</td>\n",
       "      <td>eburi can exfiltr gather ssh citat eset windi...</td>\n",
       "      <td>[0, 0, 0, 0, 0, 0, 0, 0, 0, 0, 0, 0, 0, 1]</td>\n",
       "      <td>tr</td>\n",
       "      <td>[]</td>\n",
       "    </tr>\n",
       "    <tr>\n",
       "      <th>7483</th>\n",
       "      <td>[Gamaredon Group] has used modules that automa...</td>\n",
       "      <td>exfiltration</td>\n",
       "      <td>gamaredon group has use modul that upload gat...</td>\n",
       "      <td>[0, 0, 0, 0, 0, 0, 0, 0, 0, 0, 0, 0, 0, 1]</td>\n",
       "      <td>tr</td>\n",
       "      <td>[]</td>\n",
       "    </tr>\n",
       "    <tr>\n",
       "      <th>8767</th>\n",
       "      <td>[Empire] can send data gathered from a target ...</td>\n",
       "      <td>exfiltration</td>\n",
       "      <td>empir can send data gather from target throug...</td>\n",
       "      <td>[0, 0, 0, 0, 0, 0, 0, 0, 0, 0, 0, 0, 0, 1]</td>\n",
       "      <td>tr</td>\n",
       "      <td>[]</td>\n",
       "    </tr>\n",
       "    <tr>\n",
       "      <th>8775</th>\n",
       "      <td>[Ursnif] has used HTTP POSTs to exfil gathered...</td>\n",
       "      <td>exfiltration</td>\n",
       "      <td>ursnif has use http post exfil gather citat t...</td>\n",
       "      <td>[0, 0, 0, 0, 0, 0, 0, 0, 0, 0, 0, 0, 0, 1]</td>\n",
       "      <td>tr</td>\n",
       "      <td>[]</td>\n",
       "    </tr>\n",
       "    <tr>\n",
       "      <th>8778</th>\n",
       "      <td>[CharmPower] can exfiltrate gathered data to a...</td>\n",
       "      <td>exfiltration</td>\n",
       "      <td>charmpow can exfiltr gather data hardcod url ...</td>\n",
       "      <td>[0, 0, 0, 0, 0, 0, 0, 0, 0, 0, 0, 0, 0, 1]</td>\n",
       "      <td>tr</td>\n",
       "      <td>[]</td>\n",
       "    </tr>\n",
       "    <tr>\n",
       "      <th>8802</th>\n",
       "      <td>[FunnyDream] can execute commands, including g...</td>\n",
       "      <td>exfiltration</td>\n",
       "      <td>funnydream can execut command includ gather u...</td>\n",
       "      <td>[0, 0, 0, 0, 0, 0, 0, 0, 0, 0, 0, 0, 0, 1]</td>\n",
       "      <td>tr</td>\n",
       "      <td>[]</td>\n",
       "    </tr>\n",
       "    <tr>\n",
       "      <th>8845</th>\n",
       "      <td>[Kessel] has exfiltrated information gathered ...</td>\n",
       "      <td>exfiltration</td>\n",
       "      <td>kessel has gather from the infect system the ...</td>\n",
       "      <td>[0, 0, 0, 0, 0, 0, 0, 0, 0, 0, 0, 0, 0, 1]</td>\n",
       "      <td>tr</td>\n",
       "      <td>[]</td>\n",
       "    </tr>\n",
       "    <tr>\n",
       "      <th>8851</th>\n",
       "      <td>[Rising Sun] can send data gathered from the i...</td>\n",
       "      <td>exfiltration</td>\n",
       "      <td>rise sun can send data gather from the infect...</td>\n",
       "      <td>[0, 0, 0, 0, 0, 0, 0, 0, 0, 0, 0, 0, 0, 1]</td>\n",
       "      <td>tr</td>\n",
       "      <td>[]</td>\n",
       "    </tr>\n",
       "    <tr>\n",
       "      <th>8868</th>\n",
       "      <td>[RDAT] can exfiltrate data gathered from the i...</td>\n",
       "      <td>exfiltration</td>\n",
       "      <td>rdat can exfiltr data gather from the infect ...</td>\n",
       "      <td>[0, 0, 0, 0, 0, 0, 0, 0, 0, 0, 0, 0, 0, 1]</td>\n",
       "      <td>tr</td>\n",
       "      <td>[]</td>\n",
       "    </tr>\n",
       "    <tr>\n",
       "      <th>9472</th>\n",
       "      <td>[Hydraq] connects to a predefined domain on po...</td>\n",
       "      <td>exfiltration</td>\n",
       "      <td>hydraq connect predefin domain port 443 exfil...</td>\n",
       "      <td>[0, 0, 0, 0, 0, 0, 0, 0, 0, 0, 0, 0, 0, 1]</td>\n",
       "      <td>val</td>\n",
       "      <td>[]</td>\n",
       "    </tr>\n",
       "    <tr>\n",
       "      <th>20073</th>\n",
       "      <td>This new backdoor gathers basic system informa...</td>\n",
       "      <td>exfiltration</td>\n",
       "      <td>this new backdoor gather basic system which t...</td>\n",
       "      <td>[1, 0, 0, 0, 0, 0, 0, 0, 1, 0, 0, 0, 0, 1]</td>\n",
       "      <td>tr</td>\n",
       "      <td>[]</td>\n",
       "    </tr>\n",
       "    <tr>\n",
       "      <th>20155</th>\n",
       "      <td>For example, the system information gathered b...</td>\n",
       "      <td>exfiltration</td>\n",
       "      <td>for exampl the system gather domino backdoor ...</td>\n",
       "      <td>[0, 0, 0, 0, 0, 0, 0, 0, 0, 0, 0, 0, 0, 1]</td>\n",
       "      <td>tr</td>\n",
       "      <td>[]</td>\n",
       "    </tr>\n",
       "    <tr>\n",
       "      <th>20891</th>\n",
       "      <td>When the data was gathered on a local system u...</td>\n",
       "      <td>exfiltration</td>\n",
       "      <td>when the data was gather local system use the...</td>\n",
       "      <td>[1, 0, 0, 0, 0, 1, 0, 0, 0, 0, 0, 0, 0, 1]</td>\n",
       "      <td>tr</td>\n",
       "      <td>[]</td>\n",
       "    </tr>\n",
       "    <tr>\n",
       "      <th>20960</th>\n",
       "      <td>T1543.003 Create or Modify System Process: Win...</td>\n",
       "      <td>exfiltration</td>\n",
       "      <td>t1543.003 creat modifi system process window ...</td>\n",
       "      <td>[1, 1, 1, 1, 0, 0, 0, 1, 0, 0, 0, 0, 1, 1]</td>\n",
       "      <td>tr</td>\n",
       "      <td>[]</td>\n",
       "    </tr>\n",
       "    <tr>\n",
       "      <th>33107</th>\n",
       "      <td>Data gathered by the trojan is then extracted ...</td>\n",
       "      <td>exfiltration</td>\n",
       "      <td>data gather the trojan then extract server ad</td>\n",
       "      <td>[0, 0, 0, 0, 0, 0, 0, 0, 0, 0, 0, 0, 0, 1]</td>\n",
       "      <td>ts</td>\n",
       "      <td>[]</td>\n",
       "    </tr>\n",
       "  </tbody>\n",
       "</table>\n",
       "</div>"
      ],
      "text/plain": [
       "                                                sentence        labels  \\\n",
       "308    Adversaries may exfiltrate data, such as sensi...  exfiltration   \n",
       "7472   [Doki] has used a script that gathers informat...  exfiltration   \n",
       "7477   [Ebury] can automatically exfiltrate gathered ...  exfiltration   \n",
       "7483   [Gamaredon Group] has used modules that automa...  exfiltration   \n",
       "8767   [Empire] can send data gathered from a target ...  exfiltration   \n",
       "8775   [Ursnif] has used HTTP POSTs to exfil gathered...  exfiltration   \n",
       "8778   [CharmPower] can exfiltrate gathered data to a...  exfiltration   \n",
       "8802   [FunnyDream] can execute commands, including g...  exfiltration   \n",
       "8845   [Kessel] has exfiltrated information gathered ...  exfiltration   \n",
       "8851   [Rising Sun] can send data gathered from the i...  exfiltration   \n",
       "8868   [RDAT] can exfiltrate data gathered from the i...  exfiltration   \n",
       "9472   [Hydraq] connects to a predefined domain on po...  exfiltration   \n",
       "20073  This new backdoor gathers basic system informa...  exfiltration   \n",
       "20155  For example, the system information gathered b...  exfiltration   \n",
       "20891  When the data was gathered on a local system u...  exfiltration   \n",
       "20960  T1543.003 Create or Modify System Process: Win...  exfiltration   \n",
       "33107  Data gathered by the trojan is then extracted ...  exfiltration   \n",
       "\n",
       "                                               prep_text  \\\n",
       "308     may exfiltr data such sensit document through...   \n",
       "7472    doki has use script that gather from hardcod ...   \n",
       "7477    eburi can exfiltr gather ssh citat eset windi...   \n",
       "7483    gamaredon group has use modul that upload gat...   \n",
       "8767    empir can send data gather from target throug...   \n",
       "8775    ursnif has use http post exfil gather citat t...   \n",
       "8778    charmpow can exfiltr gather data hardcod url ...   \n",
       "8802    funnydream can execut command includ gather u...   \n",
       "8845    kessel has gather from the infect system the ...   \n",
       "8851    rise sun can send data gather from the infect...   \n",
       "8868    rdat can exfiltr data gather from the infect ...   \n",
       "9472    hydraq connect predefin domain port 443 exfil...   \n",
       "20073   this new backdoor gather basic system which t...   \n",
       "20155   for exampl the system gather domino backdoor ...   \n",
       "20891   when the data was gather local system use the...   \n",
       "20960   t1543.003 creat modifi system process window ...   \n",
       "33107      data gather the trojan then extract server ad   \n",
       "\n",
       "                                           target split threat_words  \n",
       "308    [0, 0, 0, 0, 0, 0, 0, 0, 0, 0, 0, 0, 0, 1]    tr           []  \n",
       "7472   [0, 0, 0, 0, 0, 0, 0, 0, 0, 0, 0, 0, 0, 1]    tr           []  \n",
       "7477   [0, 0, 0, 0, 0, 0, 0, 0, 0, 0, 0, 0, 0, 1]    tr           []  \n",
       "7483   [0, 0, 0, 0, 0, 0, 0, 0, 0, 0, 0, 0, 0, 1]    tr           []  \n",
       "8767   [0, 0, 0, 0, 0, 0, 0, 0, 0, 0, 0, 0, 0, 1]    tr           []  \n",
       "8775   [0, 0, 0, 0, 0, 0, 0, 0, 0, 0, 0, 0, 0, 1]    tr           []  \n",
       "8778   [0, 0, 0, 0, 0, 0, 0, 0, 0, 0, 0, 0, 0, 1]    tr           []  \n",
       "8802   [0, 0, 0, 0, 0, 0, 0, 0, 0, 0, 0, 0, 0, 1]    tr           []  \n",
       "8845   [0, 0, 0, 0, 0, 0, 0, 0, 0, 0, 0, 0, 0, 1]    tr           []  \n",
       "8851   [0, 0, 0, 0, 0, 0, 0, 0, 0, 0, 0, 0, 0, 1]    tr           []  \n",
       "8868   [0, 0, 0, 0, 0, 0, 0, 0, 0, 0, 0, 0, 0, 1]    tr           []  \n",
       "9472   [0, 0, 0, 0, 0, 0, 0, 0, 0, 0, 0, 0, 0, 1]   val           []  \n",
       "20073  [1, 0, 0, 0, 0, 0, 0, 0, 1, 0, 0, 0, 0, 1]    tr           []  \n",
       "20155  [0, 0, 0, 0, 0, 0, 0, 0, 0, 0, 0, 0, 0, 1]    tr           []  \n",
       "20891  [1, 0, 0, 0, 0, 1, 0, 0, 0, 0, 0, 0, 0, 1]    tr           []  \n",
       "20960  [1, 1, 1, 1, 0, 0, 0, 1, 0, 0, 0, 0, 1, 1]    tr           []  \n",
       "33107  [0, 0, 0, 0, 0, 0, 0, 0, 0, 0, 0, 0, 0, 1]    ts           []  "
      ]
     },
     "execution_count": 44,
     "metadata": {},
     "output_type": "execute_result"
    }
   ],
   "source": [
    "data.explode('labels').query('labels==\"exfiltration\" and sentence.str.contains(@word)')"
   ]
  },
  {
   "cell_type": "markdown",
   "id": "5e3867b5-da89-4b37-b0ce-877192307579",
   "metadata": {},
   "source": [
    "#### распределение тактик с конкретным словом\n"
   ]
  },
  {
   "cell_type": "code",
   "execution_count": 45,
   "id": "d4c62e69-a5e0-4661-a3b8-1ce5afec2fe6",
   "metadata": {},
   "outputs": [
    {
     "data": {
      "text/html": [
       "<div>\n",
       "<style scoped>\n",
       "    .dataframe tbody tr th:only-of-type {\n",
       "        vertical-align: middle;\n",
       "    }\n",
       "\n",
       "    .dataframe tbody tr th {\n",
       "        vertical-align: top;\n",
       "    }\n",
       "\n",
       "    .dataframe thead tr th {\n",
       "        text-align: left;\n",
       "    }\n",
       "\n",
       "    .dataframe thead tr:last-of-type th {\n",
       "        text-align: right;\n",
       "    }\n",
       "</style>\n",
       "<table border=\"1\" class=\"dataframe\">\n",
       "  <thead>\n",
       "    <tr>\n",
       "      <th></th>\n",
       "      <th>count</th>\n",
       "      <th>sum</th>\n",
       "      <th>mean</th>\n",
       "    </tr>\n",
       "    <tr>\n",
       "      <th></th>\n",
       "      <th>has_sent</th>\n",
       "      <th>has_sent</th>\n",
       "      <th>has_sent</th>\n",
       "    </tr>\n",
       "    <tr>\n",
       "      <th>labels</th>\n",
       "      <th></th>\n",
       "      <th></th>\n",
       "      <th></th>\n",
       "    </tr>\n",
       "  </thead>\n",
       "  <tbody>\n",
       "    <tr>\n",
       "      <th>reconnaissance</th>\n",
       "      <td>152</td>\n",
       "      <td>50</td>\n",
       "      <td>0.328947</td>\n",
       "    </tr>\n",
       "    <tr>\n",
       "      <th>discovery</th>\n",
       "      <td>3211</td>\n",
       "      <td>260</td>\n",
       "      <td>0.080972</td>\n",
       "    </tr>\n",
       "    <tr>\n",
       "      <th>credential-access</th>\n",
       "      <td>1050</td>\n",
       "      <td>61</td>\n",
       "      <td>0.058095</td>\n",
       "    </tr>\n",
       "    <tr>\n",
       "      <th>exfiltration</th>\n",
       "      <td>401</td>\n",
       "      <td>17</td>\n",
       "      <td>0.042394</td>\n",
       "    </tr>\n",
       "    <tr>\n",
       "      <th>collection</th>\n",
       "      <td>1357</td>\n",
       "      <td>42</td>\n",
       "      <td>0.030951</td>\n",
       "    </tr>\n",
       "    <tr>\n",
       "      <th>resource-development</th>\n",
       "      <td>398</td>\n",
       "      <td>7</td>\n",
       "      <td>0.017588</td>\n",
       "    </tr>\n",
       "    <tr>\n",
       "      <th>impact</th>\n",
       "      <td>264</td>\n",
       "      <td>4</td>\n",
       "      <td>0.015152</td>\n",
       "    </tr>\n",
       "    <tr>\n",
       "      <th>execution</th>\n",
       "      <td>2731</td>\n",
       "      <td>32</td>\n",
       "      <td>0.011717</td>\n",
       "    </tr>\n",
       "    <tr>\n",
       "      <th>lateral-movement</th>\n",
       "      <td>514</td>\n",
       "      <td>3</td>\n",
       "      <td>0.005837</td>\n",
       "    </tr>\n",
       "    <tr>\n",
       "      <th>persistence</th>\n",
       "      <td>1863</td>\n",
       "      <td>8</td>\n",
       "      <td>0.004294</td>\n",
       "    </tr>\n",
       "    <tr>\n",
       "      <th>initial-access</th>\n",
       "      <td>859</td>\n",
       "      <td>3</td>\n",
       "      <td>0.003492</td>\n",
       "    </tr>\n",
       "    <tr>\n",
       "      <th>defense-evasion</th>\n",
       "      <td>5688</td>\n",
       "      <td>19</td>\n",
       "      <td>0.003340</td>\n",
       "    </tr>\n",
       "    <tr>\n",
       "      <th>privilege-escalation</th>\n",
       "      <td>2314</td>\n",
       "      <td>7</td>\n",
       "      <td>0.003025</td>\n",
       "    </tr>\n",
       "    <tr>\n",
       "      <th>command-and-control</th>\n",
       "      <td>2773</td>\n",
       "      <td>2</td>\n",
       "      <td>0.000721</td>\n",
       "    </tr>\n",
       "  </tbody>\n",
       "</table>\n",
       "</div>"
      ],
      "text/plain": [
       "                        count      sum      mean\n",
       "                     has_sent has_sent  has_sent\n",
       "labels                                          \n",
       "reconnaissance            152       50  0.328947\n",
       "discovery                3211      260  0.080972\n",
       "credential-access        1050       61  0.058095\n",
       "exfiltration              401       17  0.042394\n",
       "collection               1357       42  0.030951\n",
       "resource-development      398        7  0.017588\n",
       "impact                    264        4  0.015152\n",
       "execution                2731       32  0.011717\n",
       "lateral-movement          514        3  0.005837\n",
       "persistence              1863        8  0.004294\n",
       "initial-access            859        3  0.003492\n",
       "defense-evasion          5688       19  0.003340\n",
       "privilege-escalation     2314        7  0.003025\n",
       "command-and-control      2773        2  0.000721"
      ]
     },
     "execution_count": 45,
     "metadata": {},
     "output_type": "execute_result"
    }
   ],
   "source": [
    "data.explode('labels').assign(has_sent = lambda x: x['sentence'].str.contains(word)).pivot_table(index='labels', values='has_sent', aggfunc=['count', 'sum', 'mean'\n",
    "]).sort_values(by=('mean', 'has_sent'), ascending=False)"
   ]
  },
  {
   "cell_type": "markdown",
   "id": "ecf1d90f-f3cc-41fd-83e8-75046142d92e",
   "metadata": {},
   "source": [
    "## какие это тактики"
   ]
  },
  {
   "cell_type": "code",
   "execution_count": 55,
   "id": "a954debf-1602-4e40-b220-7625b64e175a",
   "metadata": {},
   "outputs": [],
   "source": [
    "word_values_attack = {k:np.sum([it[1] for it in v]) for k,v in cls_d.items()}\n",
    "thresh = pd.Series(word_values_attack).quantile(0.3)"
   ]
  },
  {
   "cell_type": "code",
   "execution_count": 56,
   "id": "296dfa3f-e32c-4e57-a244-721854c38b80",
   "metadata": {},
   "outputs": [
    {
     "data": {
      "text/plain": [
       "{'resource-development': [('creat', 0.026041472889922694),\n",
       "  ('server', 0.02664449696286266),\n",
       "  ('citat', 0.027422153453069843),\n",
       "  ('for', 0.03295371761796157),\n",
       "  ('has', 0.037530519872121096),\n",
       "  ('email', 0.03874940279772653),\n",
       "  ('account', 0.042682979543648136),\n",
       "  ('legitim', 0.04906706426545268),\n",
       "  ('obtain', 0.12715787931153832),\n",
       "  ('mimikatz', 0.1332939814427944)],\n",
       " 'reconnaissance': [('identifi', 0.012079882841152306),\n",
       "  ('obtain', 0.013384441953763785),\n",
       "  ('access', 0.013603451507283591),\n",
       "  ('victim', 0.0140446038951574),\n",
       "  ('email', 0.014743845140746767),\n",
       "  ('collect', 0.01552624685956348),\n",
       "  ('address', 0.0199154001412228),\n",
       "  ('about', 0.05589173657117092),\n",
       "  ('gather', 0.06084578061384603),\n",
       "  ('search', 0.08067751840493648)],\n",
       " 'impact': [('can', 0.01259819404464767),\n",
       "  ('victim', 0.013069661521971426),\n",
       "  ('/code', 0.01670622437791487),\n",
       "  ('citat', 0.017016729078916323),\n",
       "  ('data', 0.017477476366829937),\n",
       "  ('system', 0.021901594853876456),\n",
       "  ('servic', 0.021996330993009412),\n",
       "  ('disabl', 0.030955171353948645),\n",
       "  ('encrypt', 0.041205219388129447),\n",
       "  ('delet', 0.08568422687883431)],\n",
       " 'exfiltration': [('can', 0.016520824351608895),\n",
       "  ('file', 0.0170761219513948),\n",
       "  ('keystrok', 0.019618713169705745),\n",
       "  ('gather', 0.023890863432256344),\n",
       "  ('it', 0.04088745371954676),\n",
       "  ('http', 0.040935500598379804),\n",
       "  ('collect', 0.04248564708391307),\n",
       "  ('server', 0.06043325796281269),\n",
       "  ('data', 0.09218603086802621),\n",
       "  ('over', 0.12908990177730445)]}"
      ]
     },
     "execution_count": 56,
     "metadata": {},
     "output_type": "execute_result"
    }
   ],
   "source": [
    "{k:v for k,v in cls_d.items() if np.sum([ it[1] for it in v])<thresh}"
   ]
  },
  {
   "cell_type": "markdown",
   "id": "e0ebf2da-60d2-46ea-9597-4a2601658902",
   "metadata": {},
   "source": [
    "## logloss в зависимости от балансировки"
   ]
  },
  {
   "cell_type": "code",
   "execution_count": 13,
   "id": "9c16f206-a6fa-4d24-bec7-4b51777f49c8",
   "metadata": {},
   "outputs": [
    {
     "data": {
      "text/plain": [
       "(0.4112147747655164, 0.19301847368082892)"
      ]
     },
     "execution_count": 13,
     "metadata": {},
     "output_type": "execute_result"
    }
   ],
   "source": [
    "from sklearn.naive_bayes import MultinomialNB\n",
    "from src.train_eval_model import metric_multi\n",
    "\n",
    "\n",
    "model1 = OneVsRestClassifier(MultinomialNB(alpha=0.0001, fit_prior=False))\n",
    "model2 = OneVsRestClassifier(MultinomialNB(alpha=0.0001, fit_prior=True))\n",
    "\n",
    "model1.fit(feat_data.loc[tr_idx].astype(np.float16).values, np.array(data.loc[tr_idx, 'target'].values.tolist()))\n",
    "model2.fit(feat_data.loc[tr_idx].astype(np.float16).values, np.array(data.loc[tr_idx, 'target'].values.tolist()))\n",
    "\n",
    "\n",
    "Y_val = np.array(data.loc[val_idx, 'target'].values.tolist())\n",
    "X_val = feat_data.loc[val_idx].astype(np.float16).values\n",
    "\n",
    "Y_val_proba1 = model1.predict_proba(X_val)\n",
    "Y_val_proba2 = model2.predict_proba(X_val)\n",
    "\n",
    "logloss1, vals1 = metric_multi(Y_val, Y_val_proba1, log_loss, labels=[0,1])\n",
    "logloss2, vals2 = metric_multi(Y_val, Y_val_proba2, log_loss, labels=[0,1])\n",
    "\n",
    "logloss1, logloss2"
   ]
  },
  {
   "cell_type": "code",
   "execution_count": 14,
   "id": "485dd955-6bd1-4fa1-9abc-8a2dd8ffc3ab",
   "metadata": {},
   "outputs": [
    {
     "data": {
      "text/plain": [
       "(0.3741743720808009, 0.07896847922260394)"
      ]
     },
     "execution_count": 14,
     "metadata": {},
     "output_type": "execute_result"
    }
   ],
   "source": [
    "i = 13\n",
    "log_loss(Y_val[:, i], Y_val_proba1[:, i]), log_loss(Y_val[:, i], Y_val_proba2[:, i])"
   ]
  },
  {
   "cell_type": "raw",
   "id": "22b1cb1d-df86-4aa3-b6e2-eba5f633b8a1",
   "metadata": {
    "collapsed": true,
    "jupyter": {
     "outputs_hidden": true
    }
   },
   "source": [
    "import pdb; pdb.runcall(log_loss, Y_val[:, i], Y_val_proba1[:, i])"
   ]
  },
  {
   "cell_type": "code",
   "execution_count": null,
   "id": "58fd2f2d-8030-4be2-9c31-5b1b77f384af",
   "metadata": {},
   "outputs": [],
   "source": []
  },
  {
   "cell_type": "code",
   "execution_count": null,
   "id": "940f0bbc-1f11-4b9d-9198-7b23639dc443",
   "metadata": {},
   "outputs": [],
   "source": [
    "# тут основная функция на самом деле\n",
    "# чтобы избежать декораторов поставим точки останова прямо в функции\n",
    "from sklearn.metrics._classification import log_loss as log_loss_\n",
    "# line 2922\n",
    "\n",
    "# log_loss_(Y_val[:, i], Y_val_proba1[:, i])"
   ]
  },
  {
   "cell_type": "code",
   "execution_count": 54,
   "id": "af9177f9-468e-46a8-90c4-ee1b327d57fc",
   "metadata": {},
   "outputs": [
    {
     "data": {
      "text/plain": [
       "0.3741743720808009"
      ]
     },
     "execution_count": 54,
     "metadata": {},
     "output_type": "execute_result"
    }
   ],
   "source": [
    "from scipy.special import xlogy\n",
    "from sklearn.utils._array_api import _average\n",
    "\n",
    "y_pred = Y_val_proba1[:, i].reshape(-1,1)\n",
    "transformed_labels = Y_val[:, i].reshape(-1,1)\n",
    "\n",
    "eps = np.finfo(y_pred.dtype).eps\n",
    "\n",
    "transformed_labels = np.append(\n",
    "            1 - transformed_labels, transformed_labels, axis=1\n",
    "        )\n",
    "y_pred = np.append(1 - y_pred, y_pred, axis=1)\n",
    "\n",
    "# кстати это аналогично сглаживанию в fastai?\n",
    "y_pred = np.clip(y_pred, eps, 1 - eps)\n",
    "\n",
    "loss = -xlogy(transformed_labels, y_pred).sum(axis=1)\n",
    "# float(_average(loss, weights=None, normalize=True))\n",
    "loss.mean()"
   ]
  },
  {
   "cell_type": "code",
   "execution_count": 66,
   "id": "2936325b-2e16-4d87-a192-fcfcbbdaf69f",
   "metadata": {},
   "outputs": [
    {
     "data": {
      "text/plain": [
       "(0.6660543594967968,\n",
       " 0.061302801225221734,\n",
       " 0.28567279502412374,\n",
       " 0.011495714607628616)"
      ]
     },
     "execution_count": 66,
     "metadata": {},
     "output_type": "execute_result"
    }
   ],
   "source": [
    "# там, где 1 по идее нет такого всплеска \n",
    "# там, где класс = 0 всплеск значений вероятности\n",
    "\n",
    "idx0 = np.where(Y_val[:, i]==0)[0].tolist()\n",
    "idx1 = np.where(Y_val[:, i]==1)[0].tolist()\n",
    "\n",
    "# при одинаковом распределении в logloss при 1 лучший вклад вносится, \n",
    "# зато из-за средних вероятностей и вклад для 0 больше, что влияет на потери сильно, так как 0 больше значительно\n",
    "(Y_val_proba1[idx1, i].mean(), Y_val_proba2[idx1, i].mean(), \n",
    "Y_val_proba1[idx0, i].mean(), Y_val_proba2[idx0, i].mean())\n"
   ]
  },
  {
   "cell_type": "markdown",
   "id": "83771797-01c2-4122-9fe7-88f16063c30f",
   "metadata": {},
   "source": [
    "# Остальное"
   ]
  },
  {
   "cell_type": "markdown",
   "id": "35a656e1-6c0a-4db0-98f7-311160ef5a1f",
   "metadata": {},
   "source": [
    "### одна граница для всех"
   ]
  },
  {
   "cell_type": "code",
   "execution_count": 81,
   "id": "113fc86a-3b9e-437a-941f-71a66d18778d",
   "metadata": {},
   "outputs": [],
   "source": [
    "for thresh in np.arange(0.1, 0.9, 0.05):\n",
    "    res_df[f'y_p_{str(thresh.round(2))}'] = res_df['y_proba'].map(lambda x: [int(it>thresh) for it in x])"
   ]
  },
  {
   "cell_type": "code",
   "execution_count": 82,
   "id": "74aaf07e-13b9-467f-acfd-4c8ed8213a12",
   "metadata": {},
   "outputs": [],
   "source": [
    "y_p_cols = [it for it in res_df.columns if 'y_p_' in it]\n"
   ]
  },
  {
   "cell_type": "code",
   "execution_count": 83,
   "id": "faae4bb1-3ebb-4f66-a659-8de109a2d686",
   "metadata": {},
   "outputs": [],
   "source": [
    "from sklearn.metrics import precision_recall_fscore_support\n",
    "pres_l = []\n",
    "f1_l = []\n",
    "rec_l = []\n",
    "sup_l = []\n",
    "\n",
    "for col in y_p_cols:\n",
    "    p, r, f1, sup = precision_recall_fscore_support(np.array(res_df['y'].values.tolist()), \n",
    "                                                    np.array(res_df[col].values.tolist()), average='micro')\n",
    "    pres_l.append(p)\n",
    "    rec_l.append(r)\n",
    "    f1_l.append(f1)\n",
    "    sup_l.append(sup)\n",
    "\n",
    "thresh_df = pd.DataFrame({'pres':pres_l, 'recall':rec_l, 'f1':f1_l, 'sup':sup_l}, index=y_p_cols)"
   ]
  },
  {
   "cell_type": "code",
   "execution_count": 84,
   "id": "43124121-671c-4906-9cd8-f7ea63dce9f8",
   "metadata": {},
   "outputs": [],
   "source": [
    "thresh_col = thresh_df.index[thresh_df['f1'].argmax()]\n",
    "\n",
    "error_df = data.loc[val_idx].reset_index(names='val_idx').join(res_df[['y', 'y_proba', thresh_col]])\n",
    "error_df['prob_label'] = mlb.inverse_transform(np.array(error_df[thresh_col].tolist()))\n"
   ]
  },
  {
   "cell_type": "code",
   "execution_count": 85,
   "id": "f6b3ba65-2aa2-4086-a7b0-77ff9120e35d",
   "metadata": {},
   "outputs": [
    {
     "data": {
      "text/html": [
       "<div>\n",
       "<style scoped>\n",
       "    .dataframe tbody tr th:only-of-type {\n",
       "        vertical-align: middle;\n",
       "    }\n",
       "\n",
       "    .dataframe tbody tr th {\n",
       "        vertical-align: top;\n",
       "    }\n",
       "\n",
       "    .dataframe thead th {\n",
       "        text-align: right;\n",
       "    }\n",
       "</style>\n",
       "<table border=\"1\" class=\"dataframe\">\n",
       "  <thead>\n",
       "    <tr style=\"text-align: right;\">\n",
       "      <th></th>\n",
       "      <th>val_idx</th>\n",
       "      <th>sentence</th>\n",
       "      <th>labels</th>\n",
       "      <th>url</th>\n",
       "      <th>par_name</th>\n",
       "      <th>origin_labels</th>\n",
       "      <th>prep_text</th>\n",
       "      <th>target</th>\n",
       "      <th>split</th>\n",
       "      <th>threat_words</th>\n",
       "      <th>y</th>\n",
       "      <th>y_proba</th>\n",
       "      <th>y_p_0.55</th>\n",
       "      <th>prob_label</th>\n",
       "    </tr>\n",
       "  </thead>\n",
       "  <tbody>\n",
       "    <tr>\n",
       "      <th>1950</th>\n",
       "      <td>11526</td>\n",
       "      <td>During [Operation CuckooBees], the threat acto...</td>\n",
       "      <td>[execution]</td>\n",
       "      <td>https://attack.mitre.org/techniques/T1059/003</td>\n",
       "      <td>Command and Scripting Interpreter</td>\n",
       "      <td>['T1059.003']</td>\n",
       "      <td>dure oper cuckoobe the threat actor use batch...</td>\n",
       "      <td>[0, 0, 1, 0, 0, 0, 0, 0, 0, 0, 0, 0, 0, 0]</td>\n",
       "      <td>val</td>\n",
       "      <td>[]</td>\n",
       "      <td>[0, 0, 1, 0, 0, 0, 0, 0, 0, 0, 0, 0, 0, 0]</td>\n",
       "      <td>[0.5024607179457661, 0.47205612310684986, 0.56...</td>\n",
       "      <td>[0, 0, 1, 0, 0, 0, 0, 0, 0, 0, 0, 0, 0, 0]</td>\n",
       "      <td>(execution,)</td>\n",
       "    </tr>\n",
       "  </tbody>\n",
       "</table>\n",
       "</div>"
      ],
      "text/plain": [
       "      val_idx                                           sentence       labels  \\\n",
       "1950    11526  During [Operation CuckooBees], the threat acto...  [execution]   \n",
       "\n",
       "                                                url  \\\n",
       "1950  https://attack.mitre.org/techniques/T1059/003   \n",
       "\n",
       "                               par_name  origin_labels  \\\n",
       "1950  Command and Scripting Interpreter  ['T1059.003']   \n",
       "\n",
       "                                              prep_text  \\\n",
       "1950   dure oper cuckoobe the threat actor use batch...   \n",
       "\n",
       "                                          target split threat_words  \\\n",
       "1950  [0, 0, 1, 0, 0, 0, 0, 0, 0, 0, 0, 0, 0, 0]   val           []   \n",
       "\n",
       "                                               y  \\\n",
       "1950  [0, 0, 1, 0, 0, 0, 0, 0, 0, 0, 0, 0, 0, 0]   \n",
       "\n",
       "                                                y_proba  \\\n",
       "1950  [0.5024607179457661, 0.47205612310684986, 0.56...   \n",
       "\n",
       "                                        y_p_0.55    prob_label  \n",
       "1950  [0, 0, 1, 0, 0, 0, 0, 0, 0, 0, 0, 0, 0, 0]  (execution,)  "
      ]
     },
     "execution_count": 85,
     "metadata": {},
     "output_type": "execute_result"
    }
   ],
   "source": [
    "error_df.sample(1)"
   ]
  },
  {
   "cell_type": "markdown",
   "id": "f6a38214-e1da-4e4c-8f40-ca591e6ef888",
   "metadata": {},
   "source": [
    "## с метками по одной"
   ]
  },
  {
   "cell_type": "code",
   "execution_count": 7,
   "id": "e25e1bdf-c7f1-4879-84c7-ac96d90be8a7",
   "metadata": {},
   "outputs": [],
   "source": [
    "exp_df = feat_data.assign(labels= data['labels']).explode('labels')"
   ]
  },
  {
   "cell_type": "code",
   "execution_count": 8,
   "id": "fcde3bef-2484-4b7c-baa9-249dff5e8833",
   "metadata": {
    "scrolled": true
   },
   "outputs": [],
   "source": [
    "col_l = [col for col in exp_df.columns if not 'truncated' in col]\n",
    "exp_df = exp_df[col_l]"
   ]
  },
  {
   "cell_type": "code",
   "execution_count": null,
   "id": "8ba119d8-43ad-42f5-bde8-ed79b79af5db",
   "metadata": {},
   "outputs": [
    {
     "name": "stderr",
     "output_type": "stream",
     "text": [
      "C:\\tools\\Anaconda3\\envs\\pytorch_env\\lib\\site-packages\\sklearn\\linear_model\\_logistic.py:1247: FutureWarning: 'multi_class' was deprecated in version 1.5 and will be removed in 1.7. From then on, it will always use 'multinomial'. Leave it to its default value to avoid this warning.\n",
      "  warnings.warn(\n"
     ]
    }
   ],
   "source": [
    "from sklearn.linear_model import LogisticRegression\n",
    "feat_sel_model = LogisticRegression(penalty='l1', solver='saga', n_jobs=-1,\n",
    "                                    random_state=conf['seed'], max_iter=10000)\n",
    "feat_sel_model.fit(exp_df.drop(columns='labels').astype(np.float16), exp_df['labels'].fillna('no'))"
   ]
  },
  {
   "cell_type": "code",
   "execution_count": 15,
   "id": "9199bf70-7702-4d58-8bf9-cf056c9f807f",
   "metadata": {},
   "outputs": [
    {
     "data": {
      "text/plain": [
       "237417"
      ]
     },
     "execution_count": 15,
     "metadata": {},
     "output_type": "execute_result"
    }
   ],
   "source": [
    "coef_ar = feat_sel_model.coef_\n",
    "(coef_ar==0).sum()"
   ]
  },
  {
   "cell_type": "code",
   "execution_count": 16,
   "id": "68a541d2-8a42-483a-8a9e-fa7071ab74de",
   "metadata": {},
   "outputs": [
    {
     "data": {
      "text/plain": [
       "0.9785347758887172"
      ]
     },
     "execution_count": 16,
     "metadata": {},
     "output_type": "execute_result"
    }
   ],
   "source": [
    "(coef_ar==0).mean()"
   ]
  },
  {
   "cell_type": "code",
   "execution_count": null,
   "id": "472b94a6-25ff-4093-9fbd-335173760a62",
   "metadata": {},
   "outputs": [],
   "source": [
    "Какая форма вывода коэффициентов логистической регрессии (.coef_) для мультиклассовой классификации"
   ]
  },
  {
   "cell_type": "code",
   "execution_count": 12,
   "id": "9767389b-676c-4976-8f34-e36e4d875ed2",
   "metadata": {},
   "outputs": [
    {
     "data": {
      "text/plain": [
       "(16176,)"
      ]
     },
     "execution_count": 12,
     "metadata": {},
     "output_type": "execute_result"
    }
   ],
   "source": [
    "exp_df.columns.shape"
   ]
  },
  {
   "cell_type": "code",
   "execution_count": null,
   "id": "a62a1556-eef3-43c5-99f9-d98865da1a54",
   "metadata": {},
   "outputs": [],
   "source": []
  },
  {
   "cell_type": "markdown",
   "id": "5cda451c-6f6c-45b9-a90d-b844be138cdc",
   "metadata": {},
   "source": [
    "### phik"
   ]
  },
  {
   "cell_type": "raw",
   "id": "4c30764a-163a-4d01-a09f-f8262341891e",
   "metadata": {
    "collapsed": true,
    "jupyter": {
     "outputs_hidden": true
    },
    "scrolled": true
   },
   "source": [
    "%%time\n",
    "res_ser = exp_df.iloc[:,-100:].phik_matrix()['labels'].loc[lambda x: x>0.1]"
   ]
  },
  {
   "cell_type": "code",
   "execution_count": 30,
   "id": "14a30ed1-33b2-42d3-9f5a-46f71fb01c18",
   "metadata": {
    "collapsed": true,
    "jupyter": {
     "outputs_hidden": true
    }
   },
   "outputs": [
    {
     "ename": "MemoryError",
     "evalue": "Unable to allocate 4.66 GiB for an array with shape (625697525,) and data type float64",
     "output_type": "error",
     "traceback": [
      "\u001b[1;31m---------------------------------------------------------------------------\u001b[0m",
      "\u001b[1;31mMemoryError\u001b[0m                               Traceback (most recent call last)",
      "Cell \u001b[1;32mIn[30], line 1\u001b[0m\n\u001b[1;32m----> 1\u001b[0m lower \u001b[38;5;241m=\u001b[39m \u001b[43mexp_df\u001b[49m\u001b[38;5;241;43m.\u001b[39;49m\u001b[43mstack\u001b[49m\u001b[43m(\u001b[49m\u001b[43m)\u001b[49m\u001b[38;5;241m.\u001b[39mquantile(\u001b[38;5;241m0.05\u001b[39m)\n",
      "File \u001b[1;32mC:\\tools\\Anaconda3\\envs\\pytorch_env\\lib\\site-packages\\pandas\\core\\frame.py:9700\u001b[0m, in \u001b[0;36mDataFrame.stack\u001b[1;34m(self, level, dropna, sort, future_stack)\u001b[0m\n\u001b[0;32m   9698\u001b[0m         result \u001b[38;5;241m=\u001b[39m stack_multiple(\u001b[38;5;28mself\u001b[39m, level, dropna\u001b[38;5;241m=\u001b[39mdropna, sort\u001b[38;5;241m=\u001b[39msort)\n\u001b[0;32m   9699\u001b[0m     \u001b[38;5;28;01melse\u001b[39;00m:\n\u001b[1;32m-> 9700\u001b[0m         result \u001b[38;5;241m=\u001b[39m \u001b[43mstack\u001b[49m\u001b[43m(\u001b[49m\u001b[38;5;28;43mself\u001b[39;49m\u001b[43m,\u001b[49m\u001b[43m \u001b[49m\u001b[43mlevel\u001b[49m\u001b[43m,\u001b[49m\u001b[43m \u001b[49m\u001b[43mdropna\u001b[49m\u001b[38;5;241;43m=\u001b[39;49m\u001b[43mdropna\u001b[49m\u001b[43m,\u001b[49m\u001b[43m \u001b[49m\u001b[43msort\u001b[49m\u001b[38;5;241;43m=\u001b[39;49m\u001b[43msort\u001b[49m\u001b[43m)\u001b[49m\n\u001b[0;32m   9701\u001b[0m \u001b[38;5;28;01melse\u001b[39;00m:\n\u001b[0;32m   9702\u001b[0m     \u001b[38;5;28;01mfrom\u001b[39;00m \u001b[38;5;21;01mpandas\u001b[39;00m\u001b[38;5;21;01m.\u001b[39;00m\u001b[38;5;21;01mcore\u001b[39;00m\u001b[38;5;21;01m.\u001b[39;00m\u001b[38;5;21;01mreshape\u001b[39;00m\u001b[38;5;21;01m.\u001b[39;00m\u001b[38;5;21;01mreshape\u001b[39;00m \u001b[38;5;28;01mimport\u001b[39;00m stack_v3\n",
      "File \u001b[1;32mC:\\tools\\Anaconda3\\envs\\pytorch_env\\lib\\site-packages\\pandas\\core\\reshape\\reshape.py:642\u001b[0m, in \u001b[0;36mstack\u001b[1;34m(frame, level, dropna, sort)\u001b[0m\n\u001b[0;32m    639\u001b[0m         new_values \u001b[38;5;241m=\u001b[39m _reorder_for_extension_array_stack(new_values, N, K)\n\u001b[0;32m    640\u001b[0m     \u001b[38;5;28;01melse\u001b[39;00m:\n\u001b[0;32m    641\u001b[0m         \u001b[38;5;66;03m# homogeneous, non-EA\u001b[39;00m\n\u001b[1;32m--> 642\u001b[0m         new_values \u001b[38;5;241m=\u001b[39m \u001b[43mframe\u001b[49m\u001b[38;5;241;43m.\u001b[39;49m\u001b[43m_values\u001b[49m\u001b[38;5;241;43m.\u001b[39;49m\u001b[43mravel\u001b[49m\u001b[43m(\u001b[49m\u001b[43m)\u001b[49m\n\u001b[0;32m    644\u001b[0m \u001b[38;5;28;01melse\u001b[39;00m:\n\u001b[0;32m    645\u001b[0m     \u001b[38;5;66;03m# non-homogeneous\u001b[39;00m\n\u001b[0;32m    646\u001b[0m     new_values \u001b[38;5;241m=\u001b[39m frame\u001b[38;5;241m.\u001b[39m_values\u001b[38;5;241m.\u001b[39mravel()\n",
      "\u001b[1;31mMemoryError\u001b[0m: Unable to allocate 4.66 GiB for an array with shape (625697525,) and data type float64"
     ]
    }
   ],
   "source": [
    "lower = exp_df.stack().quantile(0.05)"
   ]
  },
  {
   "cell_type": "code",
   "execution_count": 17,
   "id": "0003ea28-cc34-4fa2-bb1b-ad28515010a5",
   "metadata": {},
   "outputs": [
    {
     "name": "stderr",
     "output_type": "stream",
     "text": [
      "\n",
      "KeyboardInterrupt\n",
      "\n"
     ]
    }
   ],
   "source": [
    "res_ser = exp_df.mean(axis=0)"
   ]
  },
  {
   "cell_type": "code",
   "execution_count": null,
   "id": "256fa115-f525-4133-8e5d-e380b7c94fdd",
   "metadata": {},
   "outputs": [],
   "source": [
    "res_ser.mean()"
   ]
  },
  {
   "cell_type": "code",
   "execution_count": null,
   "id": "50010063-6058-44aa-939f-e3a8bc3ed74c",
   "metadata": {},
   "outputs": [],
   "source": []
  }
 ],
 "metadata": {
  "kernelspec": {
   "display_name": "pytorch_env",
   "language": "python",
   "name": "pytorch_env"
  },
  "language_info": {
   "codemirror_mode": {
    "name": "ipython",
    "version": 3
   },
   "file_extension": ".py",
   "mimetype": "text/x-python",
   "name": "python",
   "nbconvert_exporter": "python",
   "pygments_lexer": "ipython3",
   "version": "3.10.14"
  }
 },
 "nbformat": 4,
 "nbformat_minor": 5
}
