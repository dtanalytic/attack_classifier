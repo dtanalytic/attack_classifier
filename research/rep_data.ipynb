{
 "cells": [
  {
   "cell_type": "code",
   "execution_count": 10,
   "id": "f0672854-ebcf-4d70-83a2-66ceda999ea3",
   "metadata": {
    "tags": []
   },
   "outputs": [
    {
     "name": "stdout",
     "output_type": "stream",
     "text": [
      "The autoreload extension is already loaded. To reload it, use:\n",
      "  %reload_ext autoreload\n"
     ]
    }
   ],
   "source": [
    "%load_ext autoreload\n",
    "%autoreload 2"
   ]
  },
  {
   "cell_type": "raw",
   "id": "e0a61c40-52bb-4c16-9501-7af3733c1b38",
   "metadata": {
    "scrolled": true,
    "tags": []
   },
   "source": [
    "import sys\n",
    "!{sys.executable} -m pip install phik\n"
   ]
  },
  {
   "cell_type": "code",
   "execution_count": 1,
   "id": "f7db9ef1-33a7-4bb0-b0c1-67bd2a470fff",
   "metadata": {},
   "outputs": [],
   "source": [
    "import os\n",
    "os.chdir('C://work/dev/python/progs/texts/sec_bert/')"
   ]
  },
  {
   "cell_type": "code",
   "execution_count": 3,
   "id": "917a875d-5bbf-4cee-89c7-26cb9d43163e",
   "metadata": {},
   "outputs": [],
   "source": [
    "import pandas as pd\n",
    "import numpy as np\n",
    "import joblib\n",
    "\n",
    "from ruamel.yaml import YAML\n",
    "\n",
    "conf = YAML().load(open('params.yaml'))\n",
    "conf_conv = YAML().load(open('dvc_pipes/train_conv_emb/params_conv.yaml'))\n",
    "conf_bert = YAML().load(open('dvc_pipes/train_bert_emb/params_bert.yaml'))\n",
    "\n",
    "np.random.seed(conf['seed'])\n"
   ]
  },
  {
   "cell_type": "code",
   "execution_count": 16,
   "id": "3b87ca17-8c3b-41c3-97b2-30d8f55e41e7",
   "metadata": {},
   "outputs": [],
   "source": [
    "import json\n",
    "\n",
    "mitre_attack_df = pd.read_csv(conf['get_data']['data_mitre_attack_proc_fn'])\n",
    "mitre_attack_df = mitre_attack_df.assign(labels = mitre_attack_df['labels'].map(lambda x:[x]))\n",
    "\n",
    "# mitre_attack_df = mitre_attack_df[mitre_attack_df['sentence'].str.split().str.len()>=10].reset_index(drop=True)\n",
    "# write same sentences for different technick \n",
    "mitre_attack_df[(mitre_attack_df.duplicated('sentence', keep=False))\n",
    "        &(mitre_attack_df['sentence']!=' ')\\\n",
    "        &(mitre_attack_df['sentence'].str.split().str.len()>=10)\\\n",
    "        &(~mitre_attack_df['sentence'].str.contains('*', regex=False))].sort_values(by='sentence')\\\n",
    "        .to_csv('data/artifacts/duple_text_dif_techniks.csv')\n",
    "\n",
    "# mitre_attack_df = mitre_attack_df.drop_duplicates('sentence')\n",
    "\n",
    "with open(conf['get_data']['label2tactic_fn'], 'rt') as f_r:\n",
    "    label2tactic = json.load(f_r)\n",
    "\n",
    "tram_df = pd.read_json(conf['get_data']['tram_fn']).drop(columns='doc_title')\n",
    "sel = tram_df.sentence.str.findall(';').str.len()>0\n",
    "tram_df[sel].to_csv('data/artifacts/tram_rubbish.csv', index=False)\n",
    "tram_df = tram_df[~sel]\n",
    "tram_df = tram_df.drop_duplicates(subset='sentence')\n",
    "\n",
    "\n",
    "\n",
    "\n",
    "if conf['get_data']['use_alt_mitre']:\n",
    "    par_d = mitre_attack_df.explode('labels').set_index('labels')['par_name'].to_dict()\n",
    "    mitr_alt_data = pd.read_csv(conf['get_data']['mitre_alt_fn'])\n",
    "    mitr_alt_data['labels'] = mitr_alt_data[['label_subtec', 'label_tec']].apply(lambda x: list(set((x[0], x[1]))), axis=1)\n",
    "    mitr_alt_data = mitr_alt_data[['sentence', 'labels']]\n",
    "    mitr_alt_data['par_name'] = mitr_alt_data['labels'].map(lambda x: sorted([par_d[it] if it in par_d and len(it)>6 else '' for it in x])[-1])\n",
    "\n",
    "    mitr_df = mitr_alt_data\n",
    "\n",
    "else:\n",
    "    mitr_df = mitre_attack_df\n",
    "\n",
    "if conf['get_data']['use_tram_f']:\n",
    "    df = pd.concat([mitr_df, tram_df], ignore_index=True)\n",
    "else:\n",
    "    df = mitr_df\n",
    "    "
   ]
  },
  {
   "cell_type": "code",
   "execution_count": null,
   "id": "d01ceda0-64a2-4ea0-bd9c-66a547998b92",
   "metadata": {},
   "outputs": [],
   "source": []
  },
  {
   "cell_type": "code",
   "execution_count": null,
   "id": "3f9367dd-50c1-4ad5-8d17-201cd4d31a46",
   "metadata": {},
   "outputs": [],
   "source": [
    "DN = conf['get_data']['rep_dn']\n",
    "\n",
    "fns = [f'{DN}/{it}' for it in os.listdir(DN) if 'json' in it]\n",
    "\n",
    "\n",
    "tab_df = pd.concat([pd.read_json(fn).explode('tables') for fn in fns], ignore_index=True)\n",
    "\n",
    "tab_df['tables'] = tab_df['tables'].map(lambda x: [(it1, it2) \n",
    "                                for it1, it2 in zip(x['TechniqueID'].values(), x['Procedure'].values())])\n",
    "tab_df = tab_df.explode('tables').drop_duplicates().reset_index(drop=True)\n",
    "tab_df['technic'] = tab_df['tables'].map(lambda x: x[0])\n",
    "tab_df['sentence'] = tab_df['tables'].map(lambda x: x[1])\n",
    "\n",
    "tab_df = tab_df[tab_df['sentence'].str.split().str.len()>3]\n",
    "tab_df['labels'] = tab_df['technic'].map(lambda x: [x.upper()])\n",
    "\n",
    "\n",
    "label2tactic = joblib.load('data/label2tactic.pkl')\n",
    "\n",
    "# тут и мобильные угрозы есть, поэтому фильтруем их\n",
    "tab_df = tab_df[tab_df['labels'].map(lambda x: all([it in label2tactic for it in x]))]"
   ]
  },
  {
   "cell_type": "code",
   "execution_count": 20,
   "id": "7ccf32fc-9a45-4ba9-bd0a-840641a9938b",
   "metadata": {},
   "outputs": [
    {
     "data": {
      "text/html": [
       "<div>\n",
       "<style scoped>\n",
       "    .dataframe tbody tr th:only-of-type {\n",
       "        vertical-align: middle;\n",
       "    }\n",
       "\n",
       "    .dataframe tbody tr th {\n",
       "        vertical-align: top;\n",
       "    }\n",
       "\n",
       "    .dataframe thead th {\n",
       "        text-align: right;\n",
       "    }\n",
       "</style>\n",
       "<table border=\"1\" class=\"dataframe\">\n",
       "  <thead>\n",
       "    <tr style=\"text-align: right;\">\n",
       "      <th></th>\n",
       "      <th>sentence</th>\n",
       "      <th>labels</th>\n",
       "      <th>url</th>\n",
       "      <th>par_name</th>\n",
       "      <th>is_proc</th>\n",
       "    </tr>\n",
       "  </thead>\n",
       "  <tbody>\n",
       "    <tr>\n",
       "      <th>0</th>\n",
       "      <td>Adversaries may inject malicious code into pro...</td>\n",
       "      <td>[T1055.011]</td>\n",
       "      <td>https://attack.mitre.org/techniques/T1055/011</td>\n",
       "      <td>Process Injection</td>\n",
       "      <td>False</td>\n",
       "    </tr>\n",
       "    <tr>\n",
       "      <th>1</th>\n",
       "      <td>Before creating a window, graphical Windows-ba...</td>\n",
       "      <td>[T1055.011]</td>\n",
       "      <td>https://attack.mitre.org/techniques/T1055/011</td>\n",
       "      <td>Process Injection</td>\n",
       "      <td>False</td>\n",
       "    </tr>\n",
       "    <tr>\n",
       "      <th>2</th>\n",
       "      <td>Although small, the EWM is large enough to sto...</td>\n",
       "      <td>[T1055.011]</td>\n",
       "      <td>https://attack.mitre.org/techniques/T1055/011</td>\n",
       "      <td>Process Injection</td>\n",
       "      <td>False</td>\n",
       "    </tr>\n",
       "    <tr>\n",
       "      <th>3</th>\n",
       "      <td>Execution granted through EWM injection may al...</td>\n",
       "      <td>[T1055.011]</td>\n",
       "      <td>https://attack.mitre.org/techniques/T1055/011</td>\n",
       "      <td>Process Injection</td>\n",
       "      <td>False</td>\n",
       "    </tr>\n",
       "    <tr>\n",
       "      <th>4</th>\n",
       "      <td>Running code in the context of another process...</td>\n",
       "      <td>[T1055.011]</td>\n",
       "      <td>https://attack.mitre.org/techniques/T1055/011</td>\n",
       "      <td>Process Injection</td>\n",
       "      <td>False</td>\n",
       "    </tr>\n",
       "    <tr>\n",
       "      <th>...</th>\n",
       "      <td>...</td>\n",
       "      <td>...</td>\n",
       "      <td>...</td>\n",
       "      <td>...</td>\n",
       "      <td>...</td>\n",
       "    </tr>\n",
       "    <tr>\n",
       "      <th>35373</th>\n",
       "      <td>The backdoor uses an unencrypted binary protoc...</td>\n",
       "      <td>[T1095]</td>\n",
       "      <td>/opt/nifi/configuration_resources/rstthreat/ti...</td>\n",
       "      <td>NaN</td>\n",
       "      <td>NaN</td>\n",
       "    </tr>\n",
       "    <tr>\n",
       "      <th>35374</th>\n",
       "      <td>Cyber Toufan s attacks often involve data extr...</td>\n",
       "      <td>[T1485]</td>\n",
       "      <td>/opt/nifi/configuration_resources/rstthreat/ti...</td>\n",
       "      <td>NaN</td>\n",
       "      <td>NaN</td>\n",
       "    </tr>\n",
       "    <tr>\n",
       "      <th>35375</th>\n",
       "      <td>Cyber Toufan likely conducts active scanning t...</td>\n",
       "      <td>[T1595]</td>\n",
       "      <td>/opt/nifi/configuration_resources/rstthreat/ti...</td>\n",
       "      <td>NaN</td>\n",
       "      <td>NaN</td>\n",
       "    </tr>\n",
       "    <tr>\n",
       "      <th>35376</th>\n",
       "      <td>Given their operational scale, they may acquir...</td>\n",
       "      <td>[T1583]</td>\n",
       "      <td>/opt/nifi/configuration_resources/rstthreat/ti...</td>\n",
       "      <td>NaN</td>\n",
       "      <td>NaN</td>\n",
       "    </tr>\n",
       "    <tr>\n",
       "      <th>35377</th>\n",
       "      <td>Cyber Toufan might use obfuscation techniques ...</td>\n",
       "      <td>[T1027]</td>\n",
       "      <td>/opt/nifi/configuration_resources/rstthreat/ti...</td>\n",
       "      <td>NaN</td>\n",
       "      <td>NaN</td>\n",
       "    </tr>\n",
       "  </tbody>\n",
       "</table>\n",
       "<p>35378 rows × 5 columns</p>\n",
       "</div>"
      ],
      "text/plain": [
       "                                                sentence       labels  \\\n",
       "0      Adversaries may inject malicious code into pro...  [T1055.011]   \n",
       "1      Before creating a window, graphical Windows-ba...  [T1055.011]   \n",
       "2      Although small, the EWM is large enough to sto...  [T1055.011]   \n",
       "3      Execution granted through EWM injection may al...  [T1055.011]   \n",
       "4      Running code in the context of another process...  [T1055.011]   \n",
       "...                                                  ...          ...   \n",
       "35373  The backdoor uses an unencrypted binary protoc...      [T1095]   \n",
       "35374  Cyber Toufan s attacks often involve data extr...      [T1485]   \n",
       "35375  Cyber Toufan likely conducts active scanning t...      [T1595]   \n",
       "35376  Given their operational scale, they may acquir...      [T1583]   \n",
       "35377  Cyber Toufan might use obfuscation techniques ...      [T1027]   \n",
       "\n",
       "                                                     url           par_name  \\\n",
       "0          https://attack.mitre.org/techniques/T1055/011  Process Injection   \n",
       "1          https://attack.mitre.org/techniques/T1055/011  Process Injection   \n",
       "2          https://attack.mitre.org/techniques/T1055/011  Process Injection   \n",
       "3          https://attack.mitre.org/techniques/T1055/011  Process Injection   \n",
       "4          https://attack.mitre.org/techniques/T1055/011  Process Injection   \n",
       "...                                                  ...                ...   \n",
       "35373  /opt/nifi/configuration_resources/rstthreat/ti...                NaN   \n",
       "35374  /opt/nifi/configuration_resources/rstthreat/ti...                NaN   \n",
       "35375  /opt/nifi/configuration_resources/rstthreat/ti...                NaN   \n",
       "35376  /opt/nifi/configuration_resources/rstthreat/ti...                NaN   \n",
       "35377  /opt/nifi/configuration_resources/rstthreat/ti...                NaN   \n",
       "\n",
       "      is_proc  \n",
       "0       False  \n",
       "1       False  \n",
       "2       False  \n",
       "3       False  \n",
       "4       False  \n",
       "...       ...  \n",
       "35373     NaN  \n",
       "35374     NaN  \n",
       "35375     NaN  \n",
       "35376     NaN  \n",
       "35377     NaN  \n",
       "\n",
       "[35378 rows x 5 columns]"
      ]
     },
     "execution_count": 20,
     "metadata": {},
     "output_type": "execute_result"
    }
   ],
   "source": [
    "pd.concat([df, tab_df[['sentence',\t'labels', 'report_path']].rename(columns={'report_path':'url'})], ignore_index=True)"
   ]
  },
  {
   "cell_type": "code",
   "execution_count": null,
   "id": "87a78eaf-05a4-4631-8e5f-c45a58d932e7",
   "metadata": {},
   "outputs": [],
   "source": []
  },
  {
   "cell_type": "code",
   "execution_count": null,
   "id": "ddd77a05-9728-45b9-a95a-49286172367e",
   "metadata": {},
   "outputs": [],
   "source": []
  },
  {
   "cell_type": "raw",
   "id": "420ad299-2029-4cb9-ac0a-a6c94ed7da34",
   "metadata": {},
   "source": [
    "with pd.option_context('display.max_colwidth', 200):\n",
    "    display(tab_df.iloc[44:50])"
   ]
  },
  {
   "cell_type": "code",
   "execution_count": 9,
   "id": "3b968f7f-252d-4aa6-a466-41d0d0c8f462",
   "metadata": {},
   "outputs": [
    {
     "data": {
      "text/plain": [
       "['data/rep_data.pkl']"
      ]
     },
     "execution_count": 9,
     "metadata": {},
     "output_type": "execute_result"
    }
   ],
   "source": [
    "import joblib\n",
    "joblib.dump(tab_df, 'data/rep_data.pkl')"
   ]
  },
  {
   "cell_type": "markdown",
   "id": "e30fcd4d-773b-4b6a-99c8-962eb4006bdd",
   "metadata": {},
   "source": [
    "# Аномалии"
   ]
  },
  {
   "cell_type": "code",
   "execution_count": 15,
   "id": "c7dc4c8c-8113-4574-b238-7526eb846d16",
   "metadata": {},
   "outputs": [],
   "source": [
    "tab_df = tab_df[tab_df['sentence'].str.split().str.len()<3]"
   ]
  },
  {
   "cell_type": "markdown",
   "id": "2320d4a3-54b5-4a76-ac4f-adb380ef35fb",
   "metadata": {},
   "source": [
    "# Проблемы \n",
    "\n",
    "- есть дубли, случайно или что-то перезаписано (файл attck_procedures_202203, 0 элемента, 2 таблицы)\n",
    "- короткие описания в пару слов, могут вводить в заблуждение модель (файл attck_procedures_202203, 1 элемент, 0 таблица)"
   ]
  },
  {
   "cell_type": "markdown",
   "id": "db3895b2-68c7-4be5-842c-9e0da1d58a2c",
   "metadata": {},
   "source": [
    "# Старое"
   ]
  },
  {
   "cell_type": "code",
   "execution_count": 2,
   "id": "0eba42d1-1fd2-4975-9fa9-5853e2503f9b",
   "metadata": {},
   "outputs": [],
   "source": [
    "import pandas as pd\n",
    "import numpy as np\n",
    "np.random.seed(0)\n",
    "\n"
   ]
  },
  {
   "cell_type": "code",
   "execution_count": 19,
   "id": "5bf33a78-75d3-4475-ad8a-c80dd32e5051",
   "metadata": {},
   "outputs": [
    {
     "data": {
      "text/plain": [
       "'data/reports_202212/20221202_decoded_avast_io_report_0x2ca02e2c/model.json'"
      ]
     },
     "execution_count": 19,
     "metadata": {},
     "output_type": "execute_result"
    }
   ],
   "source": [
    "import os\n",
    "dn = 'data/reports_202212'\n",
    "fns = [f'{dn}/{it}/model.json' for it in os.listdir(dn)]\n",
    "# fn = fns[5]\n",
    "fn"
   ]
  },
  {
   "cell_type": "code",
   "execution_count": 18,
   "id": "62542f7e-92b0-4944-9e86-a705afd0f9f0",
   "metadata": {
    "collapsed": true,
    "jupyter": {
     "outputs_hidden": true
    }
   },
   "outputs": [
    {
     "ename": "FileNotFoundError",
     "evalue": "[Errno 2] No such file or directory: 'data/reports_202212/20221202_decoded_avast_io_report_0x2ca02e2c/model.json'",
     "output_type": "error",
     "traceback": [
      "\u001b[1;31m---------------------------------------------------------------------------\u001b[0m",
      "\u001b[1;31mFileNotFoundError\u001b[0m                         Traceback (most recent call last)",
      "Cell \u001b[1;32mIn[18], line 8\u001b[0m\n\u001b[0;32m      5\u001b[0m     rep_sents \u001b[38;5;241m=\u001b[39m [it[\u001b[38;5;124m'\u001b[39m\u001b[38;5;124mtext\u001b[39m\u001b[38;5;124m'\u001b[39m] \u001b[38;5;28;01mfor\u001b[39;00m it \u001b[38;5;129;01min\u001b[39;00m rep_sents]\n\u001b[0;32m      6\u001b[0m     \u001b[38;5;28;01mreturn\u001b[39;00m rep_sents\n\u001b[1;32m----> 8\u001b[0m rep_sents \u001b[38;5;241m=\u001b[39m \u001b[43mget_report_paras\u001b[49m\u001b[43m(\u001b[49m\u001b[43mfn\u001b[49m\u001b[43m)\u001b[49m\n",
      "Cell \u001b[1;32mIn[18], line 4\u001b[0m, in \u001b[0;36mget_report_paras\u001b[1;34m(fn)\u001b[0m\n\u001b[0;32m      3\u001b[0m \u001b[38;5;28;01mdef\u001b[39;00m \u001b[38;5;21mget_report_paras\u001b[39m(fn):\n\u001b[1;32m----> 4\u001b[0m     rep_sents \u001b[38;5;241m=\u001b[39m [it \u001b[38;5;28;01mfor\u001b[39;00m chapter \u001b[38;5;129;01min\u001b[39;00m json\u001b[38;5;241m.\u001b[39mload(\u001b[38;5;28;43mopen\u001b[39;49m\u001b[43m(\u001b[49m\u001b[43mfn\u001b[49m\u001b[43m,\u001b[49m\u001b[43m \u001b[49m\u001b[38;5;124;43m'\u001b[39;49m\u001b[38;5;124;43mrt\u001b[39;49m\u001b[38;5;124;43m'\u001b[39;49m\u001b[43m)\u001b[49m)[\u001b[38;5;124m'\u001b[39m\u001b[38;5;124mchapters\u001b[39m\u001b[38;5;124m'\u001b[39m] \u001b[38;5;28;01mfor\u001b[39;00m it \u001b[38;5;129;01min\u001b[39;00m chapter[\u001b[38;5;124m'\u001b[39m\u001b[38;5;124msentences\u001b[39m\u001b[38;5;124m'\u001b[39m]]\n\u001b[0;32m      5\u001b[0m     rep_sents \u001b[38;5;241m=\u001b[39m [it[\u001b[38;5;124m'\u001b[39m\u001b[38;5;124mtext\u001b[39m\u001b[38;5;124m'\u001b[39m] \u001b[38;5;28;01mfor\u001b[39;00m it \u001b[38;5;129;01min\u001b[39;00m rep_sents]\n\u001b[0;32m      6\u001b[0m     \u001b[38;5;28;01mreturn\u001b[39;00m rep_sents\n",
      "File \u001b[1;32mC:\\tools\\Anaconda3\\envs\\pytorch_env\\lib\\site-packages\\IPython\\core\\interactiveshell.py:324\u001b[0m, in \u001b[0;36m_modified_open\u001b[1;34m(file, *args, **kwargs)\u001b[0m\n\u001b[0;32m    317\u001b[0m \u001b[38;5;28;01mif\u001b[39;00m file \u001b[38;5;129;01min\u001b[39;00m {\u001b[38;5;241m0\u001b[39m, \u001b[38;5;241m1\u001b[39m, \u001b[38;5;241m2\u001b[39m}:\n\u001b[0;32m    318\u001b[0m     \u001b[38;5;28;01mraise\u001b[39;00m \u001b[38;5;167;01mValueError\u001b[39;00m(\n\u001b[0;32m    319\u001b[0m         \u001b[38;5;124mf\u001b[39m\u001b[38;5;124m\"\u001b[39m\u001b[38;5;124mIPython won\u001b[39m\u001b[38;5;124m'\u001b[39m\u001b[38;5;124mt let you open fd=\u001b[39m\u001b[38;5;132;01m{\u001b[39;00mfile\u001b[38;5;132;01m}\u001b[39;00m\u001b[38;5;124m by default \u001b[39m\u001b[38;5;124m\"\u001b[39m\n\u001b[0;32m    320\u001b[0m         \u001b[38;5;124m\"\u001b[39m\u001b[38;5;124mas it is likely to crash IPython. If you know what you are doing, \u001b[39m\u001b[38;5;124m\"\u001b[39m\n\u001b[0;32m    321\u001b[0m         \u001b[38;5;124m\"\u001b[39m\u001b[38;5;124myou can use builtins\u001b[39m\u001b[38;5;124m'\u001b[39m\u001b[38;5;124m open.\u001b[39m\u001b[38;5;124m\"\u001b[39m\n\u001b[0;32m    322\u001b[0m     )\n\u001b[1;32m--> 324\u001b[0m \u001b[38;5;28;01mreturn\u001b[39;00m io_open(file, \u001b[38;5;241m*\u001b[39margs, \u001b[38;5;241m*\u001b[39m\u001b[38;5;241m*\u001b[39mkwargs)\n",
      "\u001b[1;31mFileNotFoundError\u001b[0m: [Errno 2] No such file or directory: 'data/reports_202212/20221202_decoded_avast_io_report_0x2ca02e2c/model.json'"
     ]
    }
   ],
   "source": [
    "import json\n",
    "\n",
    "def get_report_paras(fn):\n",
    "    rep_sents = [it for chapter in json.load(open(fn, 'rt'))['chapters'] for it in chapter['sentences']]\n",
    "    rep_sents = [it['text'] for it in rep_sents]\n",
    "    return rep_sents\n",
    "    \n",
    "rep_sents = get_report_paras(fn)"
   ]
  },
  {
   "cell_type": "code",
   "execution_count": 20,
   "id": "51be6f69-95ec-4dd4-b112-b9ea8196a738",
   "metadata": {},
   "outputs": [
    {
     "name": "stdout",
     "output_type": "stream",
     "text": [
      "data/reports_202212/20221202_asec_ahnlab_com_report_0x97bb2408/model.json\n",
      "data/reports_202212/20221205_us-cert_cisa_gov_report_0xdc5d404f/model.json\n",
      "data/reports_202212/20221223_trendmicro_com_report_0x203a8843/model.json\n"
     ]
    }
   ],
   "source": [
    "import re\n",
    "regexp_ttp = re.compile(r'(^| )(t\\d{3,}(\\.\\d+)?)([., ]|$)', flags=re.IGNORECASE)\n",
    "# regexp_ttp = r'[\\d\\.]{1,}'\n",
    "for fn in fns:\n",
    "    if os.path.exists(fn):\n",
    "        rep_sents = get_report_paras(fn)\n",
    "        text = '\\n'.join(rep_sents)\n",
    "        res_l = re.findall(regexp_ttp, text)\n",
    "        if len(res_l)>0:\n",
    "            print(fn)"
   ]
  },
  {
   "cell_type": "code",
   "execution_count": 28,
   "id": "d442a04a-a042-447f-b0ea-b9606de1901d",
   "metadata": {},
   "outputs": [
    {
     "data": {
      "text/plain": [
       "[(' ', 'T1218.007', '.007', ' '),\n",
       " (' ', 'T1218.011', '.011', ' '),\n",
       " (' ', 'T1218.011', '.011', ' '),\n",
       " (' ', 'T1027.009', '.009', ' '),\n",
       " (' ', 'T1218.011', '.011', ' ')]"
      ]
     },
     "execution_count": 28,
     "metadata": {},
     "output_type": "execute_result"
    }
   ],
   "source": [
    "fn = 'data/reports_202212/20221223_trendmicro_com_report_0x203a8843/model.json'\n",
    "rep_sents = get_report_paras(fn)\n",
    "text = '\\n'.join(rep_sents)\n",
    "# print(text)\n",
    "res_l = re.findall(regexp_ttp, text)\n",
    "res_l"
   ]
  },
  {
   "cell_type": "code",
   "execution_count": null,
   "id": "66288a82-927d-4cac-b2c9-4a9539cfe982",
   "metadata": {},
   "outputs": [],
   "source": []
  },
  {
   "cell_type": "code",
   "execution_count": null,
   "id": "d7a8c56f-fd1d-49ce-b270-4a0fec64dca5",
   "metadata": {},
   "outputs": [],
   "source": []
  },
  {
   "cell_type": "code",
   "execution_count": null,
   "id": "3f394b54-b1e5-44ec-a17c-bf27fcdb39b0",
   "metadata": {},
   "outputs": [],
   "source": [
    "для всех sentences из каждой chapter\n",
    "\n"
   ]
  },
  {
   "cell_type": "code",
   "execution_count": null,
   "id": "2d2b3142-4bcc-43d9-a719-cb2563212676",
   "metadata": {},
   "outputs": [],
   "source": [
    "поисковой механизм\n",
    "- берем поабзацно и сравниваем"
   ]
  }
 ],
 "metadata": {
  "kernelspec": {
   "display_name": "pytorch_env",
   "language": "python",
   "name": "pytorch_env"
  },
  "language_info": {
   "codemirror_mode": {
    "name": "ipython",
    "version": 3
   },
   "file_extension": ".py",
   "mimetype": "text/x-python",
   "name": "python",
   "nbconvert_exporter": "python",
   "pygments_lexer": "ipython3",
   "version": "3.10.14"
  }
 },
 "nbformat": 4,
 "nbformat_minor": 5
}
