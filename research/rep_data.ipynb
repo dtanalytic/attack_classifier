{
 "cells": [
  {
   "cell_type": "code",
   "execution_count": 10,
   "id": "f0672854-ebcf-4d70-83a2-66ceda999ea3",
   "metadata": {
    "tags": []
   },
   "outputs": [
    {
     "name": "stdout",
     "output_type": "stream",
     "text": [
      "The autoreload extension is already loaded. To reload it, use:\n",
      "  %reload_ext autoreload\n"
     ]
    }
   ],
   "source": [
    "%load_ext autoreload\n",
    "%autoreload 2"
   ]
  },
  {
   "cell_type": "raw",
   "id": "e0a61c40-52bb-4c16-9501-7af3733c1b38",
   "metadata": {
    "scrolled": true,
    "tags": []
   },
   "source": [
    "import sys\n",
    "!{sys.executable} -m pip install phik\n"
   ]
  },
  {
   "cell_type": "code",
   "execution_count": 11,
   "id": "f7db9ef1-33a7-4bb0-b0c1-67bd2a470fff",
   "metadata": {},
   "outputs": [],
   "source": [
    "import os\n",
    "os.chdir('C://work/dev/python/progs/texts/sec_bert/')"
   ]
  },
  {
   "cell_type": "code",
   "execution_count": null,
   "id": "3b87ca17-8c3b-41c3-97b2-30d8f55e41e7",
   "metadata": {},
   "outputs": [],
   "source": []
  },
  {
   "cell_type": "code",
   "execution_count": 26,
   "id": "917a875d-5bbf-4cee-89c7-26cb9d43163e",
   "metadata": {},
   "outputs": [],
   "source": [
    "import pandas as pd \n",
    "import joblib\n"
   ]
  },
  {
   "cell_type": "code",
   "execution_count": 27,
   "id": "f88b86bd-bdd8-4d18-9629-e8829582b09c",
   "metadata": {},
   "outputs": [
    {
     "data": {
      "text/html": [
       "<div>\n",
       "<style scoped>\n",
       "    .dataframe tbody tr th:only-of-type {\n",
       "        vertical-align: middle;\n",
       "    }\n",
       "\n",
       "    .dataframe tbody tr th {\n",
       "        vertical-align: top;\n",
       "    }\n",
       "\n",
       "    .dataframe thead th {\n",
       "        text-align: right;\n",
       "    }\n",
       "</style>\n",
       "<table border=\"1\" class=\"dataframe\">\n",
       "  <thead>\n",
       "    <tr style=\"text-align: right;\">\n",
       "      <th></th>\n",
       "      <th>report_path</th>\n",
       "      <th>tables</th>\n",
       "      <th>technic</th>\n",
       "      <th>sentence</th>\n",
       "      <th>labels</th>\n",
       "    </tr>\n",
       "  </thead>\n",
       "  <tbody>\n",
       "    <tr>\n",
       "      <th>0</th>\n",
       "      <td>/opt/nifi/configuration_resources/rstthreat/ti...</td>\n",
       "      <td>(t1583.001, Mustang Panda has registered domai...</td>\n",
       "      <td>t1583.001</td>\n",
       "      <td>Mustang Panda has registered domains for use a...</td>\n",
       "      <td>[T1583.001]</td>\n",
       "    </tr>\n",
       "    <tr>\n",
       "      <th>1</th>\n",
       "      <td>/opt/nifi/configuration_resources/rstthreat/ti...</td>\n",
       "      <td>(t1583.003, Some download servers used by Must...</td>\n",
       "      <td>t1583.003</td>\n",
       "      <td>Some download servers used by Mustang Panda ap...</td>\n",
       "      <td>[T1583.003]</td>\n",
       "    </tr>\n",
       "    <tr>\n",
       "      <th>2</th>\n",
       "      <td>/opt/nifi/configuration_resources/rstthreat/ti...</td>\n",
       "      <td>(t1583.004, Mustang Panda uses servers that ap...</td>\n",
       "      <td>t1583.004</td>\n",
       "      <td>Mustang Panda uses servers that appear to be e...</td>\n",
       "      <td>[T1583.004]</td>\n",
       "    </tr>\n",
       "    <tr>\n",
       "      <th>3</th>\n",
       "      <td>/opt/nifi/configuration_resources/rstthreat/ti...</td>\n",
       "      <td>(t1587.001, Mustang Panda has developed custom...</td>\n",
       "      <td>t1587.001</td>\n",
       "      <td>Mustang Panda has developed custom loader and ...</td>\n",
       "      <td>[T1587.001]</td>\n",
       "    </tr>\n",
       "    <tr>\n",
       "      <th>4</th>\n",
       "      <td>/opt/nifi/configuration_resources/rstthreat/ti...</td>\n",
       "      <td>(t1588.006, Multiple DLL hijacking vulnerabili...</td>\n",
       "      <td>t1588.006</td>\n",
       "      <td>Multiple DLL hijacking vulnerabilities are use...</td>\n",
       "      <td>[T1588.006]</td>\n",
       "    </tr>\n",
       "  </tbody>\n",
       "</table>\n",
       "</div>"
      ],
      "text/plain": [
       "                                         report_path  \\\n",
       "0  /opt/nifi/configuration_resources/rstthreat/ti...   \n",
       "1  /opt/nifi/configuration_resources/rstthreat/ti...   \n",
       "2  /opt/nifi/configuration_resources/rstthreat/ti...   \n",
       "3  /opt/nifi/configuration_resources/rstthreat/ti...   \n",
       "4  /opt/nifi/configuration_resources/rstthreat/ti...   \n",
       "\n",
       "                                              tables    technic  \\\n",
       "0  (t1583.001, Mustang Panda has registered domai...  t1583.001   \n",
       "1  (t1583.003, Some download servers used by Must...  t1583.003   \n",
       "2  (t1583.004, Mustang Panda uses servers that ap...  t1583.004   \n",
       "3  (t1587.001, Mustang Panda has developed custom...  t1587.001   \n",
       "4  (t1588.006, Multiple DLL hijacking vulnerabili...  t1588.006   \n",
       "\n",
       "                                            sentence       labels  \n",
       "0  Mustang Panda has registered domains for use a...  [T1583.001]  \n",
       "1  Some download servers used by Mustang Panda ap...  [T1583.003]  \n",
       "2  Mustang Panda uses servers that appear to be e...  [T1583.004]  \n",
       "3  Mustang Panda has developed custom loader and ...  [T1587.001]  \n",
       "4  Multiple DLL hijacking vulnerabilities are use...  [T1588.006]  "
      ]
     },
     "execution_count": 27,
     "metadata": {},
     "output_type": "execute_result"
    }
   ],
   "source": [
    "DN = 'data/reports_attck_tables/2022'\n",
    "fns = [f'{DN}/{it}' for it in os.listdir(DN) if 'json' in it]\n",
    "\n",
    "tab_df = pd.concat([pd.read_json(fn).explode('tables') for fn in fns], ignore_index=True)\n",
    "\n",
    "tab_df['tables'] = tab_df['tables'].map(lambda x: [(it1, it2) \n",
    "                                for it1, it2 in zip(x['TechniqueID'].values(), x['Procedure'].values())])\n",
    "tab_df = tab_df.explode('tables').drop_duplicates().reset_index(drop=True)\n",
    "tab_df['technic'] = tab_df['tables'].map(lambda x: x[0])\n",
    "tab_df['sentence'] = tab_df['tables'].map(lambda x: x[1])\n",
    "\n",
    "tab_df = tab_df[tab_df['sentence'].str.split().str.len()>3]\n",
    "tab_df['labels'] = tab_df['technic'].map(lambda x: [x.upper()])\n",
    "tab_df.head()"
   ]
  },
  {
   "cell_type": "code",
   "execution_count": 36,
   "id": "63c3fc63-7b7a-42ce-a079-4bccbba01e1b",
   "metadata": {
    "collapsed": true,
    "jupyter": {
     "outputs_hidden": true
    }
   },
   "outputs": [
    {
     "data": {
      "text/html": [
       "<div>\n",
       "<style scoped>\n",
       "    .dataframe tbody tr th:only-of-type {\n",
       "        vertical-align: middle;\n",
       "    }\n",
       "\n",
       "    .dataframe tbody tr th {\n",
       "        vertical-align: top;\n",
       "    }\n",
       "\n",
       "    .dataframe thead th {\n",
       "        text-align: right;\n",
       "    }\n",
       "</style>\n",
       "<table border=\"1\" class=\"dataframe\">\n",
       "  <thead>\n",
       "    <tr style=\"text-align: right;\">\n",
       "      <th></th>\n",
       "      <th>report_path</th>\n",
       "      <th>tables</th>\n",
       "      <th>technic</th>\n",
       "      <th>sentence</th>\n",
       "      <th>labels</th>\n",
       "    </tr>\n",
       "  </thead>\n",
       "  <tbody>\n",
       "    <tr>\n",
       "      <th>10</th>\n",
       "      <td>/opt/nifi/configuration_resources/rstthreat/ti...</td>\n",
       "      <td>(t1574.002, The downloader obtains and launche...</td>\n",
       "      <td>t1574.002</td>\n",
       "      <td>The downloader obtains and launches a vulnerab...</td>\n",
       "      <td>[T1574.002]</td>\n",
       "    </tr>\n",
       "    <tr>\n",
       "      <th>56</th>\n",
       "      <td>/opt/nifi/configuration_resources/rstthreat/ti...</td>\n",
       "      <td>(t1574.002, Hijack Execution Flow: DLL Side-Lo...</td>\n",
       "      <td>t1574.002</td>\n",
       "      <td>Hijack Execution Flow: DLL Side-Loading</td>\n",
       "      <td>[T1574.002]</td>\n",
       "    </tr>\n",
       "    <tr>\n",
       "      <th>191</th>\n",
       "      <td>/opt/nifi/configuration_resources/rstthreat/ti...</td>\n",
       "      <td>(t1574.002, FlowCloud uses DLL Side-Loading to...</td>\n",
       "      <td>t1574.002</td>\n",
       "      <td>FlowCloud uses DLL Side-Loading to launch its ...</td>\n",
       "      <td>[T1574.002]</td>\n",
       "    </tr>\n",
       "    <tr>\n",
       "      <th>664</th>\n",
       "      <td>/opt/nifi/configuration_resources/rstthreat/ti...</td>\n",
       "      <td>(t1574.002, Hijack Execution Flow: DLL Side-Lo...</td>\n",
       "      <td>t1574.002</td>\n",
       "      <td>Hijack Execution Flow: DLL Side-Loading</td>\n",
       "      <td>[T1574.002]</td>\n",
       "    </tr>\n",
       "    <tr>\n",
       "      <th>681</th>\n",
       "      <td>/opt/nifi/configuration_resources/rstthreat/ti...</td>\n",
       "      <td>(t1574.002, SpyAgent hooks and patches various...</td>\n",
       "      <td>t1574.002</td>\n",
       "      <td>SpyAgent hooks and patches various API functio...</td>\n",
       "      <td>[T1574.002]</td>\n",
       "    </tr>\n",
       "    <tr>\n",
       "      <th>762</th>\n",
       "      <td>/opt/nifi/configuration_resources/rstthreat/ti...</td>\n",
       "      <td>(t1574.002, Many of the Lazarus droppers and l...</td>\n",
       "      <td>t1574.002</td>\n",
       "      <td>Many of the Lazarus droppers and loaders use a...</td>\n",
       "      <td>[T1574.002]</td>\n",
       "    </tr>\n",
       "    <tr>\n",
       "      <th>928</th>\n",
       "      <td>/opt/nifi/configuration_resources/rstthreat/ti...</td>\n",
       "      <td>(t1574.002, MirrorFace side-loads LODEINFO by ...</td>\n",
       "      <td>t1574.002</td>\n",
       "      <td>MirrorFace side-loads LODEINFO by dropping a m...</td>\n",
       "      <td>[T1574.002]</td>\n",
       "    </tr>\n",
       "    <tr>\n",
       "      <th>953</th>\n",
       "      <td>/opt/nifi/configuration_resources/rstthreat/ti...</td>\n",
       "      <td>(t1574.002, The attackers abused the legitimat...</td>\n",
       "      <td>t1574.002</td>\n",
       "      <td>The attackers abused the legitimate Logagent.e...</td>\n",
       "      <td>[T1574.002]</td>\n",
       "    </tr>\n",
       "  </tbody>\n",
       "</table>\n",
       "</div>"
      ],
      "text/plain": [
       "                                           report_path  \\\n",
       "10   /opt/nifi/configuration_resources/rstthreat/ti...   \n",
       "56   /opt/nifi/configuration_resources/rstthreat/ti...   \n",
       "191  /opt/nifi/configuration_resources/rstthreat/ti...   \n",
       "664  /opt/nifi/configuration_resources/rstthreat/ti...   \n",
       "681  /opt/nifi/configuration_resources/rstthreat/ti...   \n",
       "762  /opt/nifi/configuration_resources/rstthreat/ti...   \n",
       "928  /opt/nifi/configuration_resources/rstthreat/ti...   \n",
       "953  /opt/nifi/configuration_resources/rstthreat/ti...   \n",
       "\n",
       "                                                tables    technic  \\\n",
       "10   (t1574.002, The downloader obtains and launche...  t1574.002   \n",
       "56   (t1574.002, Hijack Execution Flow: DLL Side-Lo...  t1574.002   \n",
       "191  (t1574.002, FlowCloud uses DLL Side-Loading to...  t1574.002   \n",
       "664  (t1574.002, Hijack Execution Flow: DLL Side-Lo...  t1574.002   \n",
       "681  (t1574.002, SpyAgent hooks and patches various...  t1574.002   \n",
       "762  (t1574.002, Many of the Lazarus droppers and l...  t1574.002   \n",
       "928  (t1574.002, MirrorFace side-loads LODEINFO by ...  t1574.002   \n",
       "953  (t1574.002, The attackers abused the legitimat...  t1574.002   \n",
       "\n",
       "                                              sentence       labels  \n",
       "10   The downloader obtains and launches a vulnerab...  [T1574.002]  \n",
       "56             Hijack Execution Flow: DLL Side-Loading  [T1574.002]  \n",
       "191  FlowCloud uses DLL Side-Loading to launch its ...  [T1574.002]  \n",
       "664            Hijack Execution Flow: DLL Side-Loading  [T1574.002]  \n",
       "681  SpyAgent hooks and patches various API functio...  [T1574.002]  \n",
       "762  Many of the Lazarus droppers and loaders use a...  [T1574.002]  \n",
       "928  MirrorFace side-loads LODEINFO by dropping a m...  [T1574.002]  \n",
       "953  The attackers abused the legitimate Logagent.e...  [T1574.002]  "
      ]
     },
     "execution_count": 36,
     "metadata": {},
     "output_type": "execute_result"
    }
   ],
   "source": [
    "tab_df[tab_df['technic']==\"t1574.002\"]"
   ]
  },
  {
   "cell_type": "code",
   "execution_count": 7,
   "id": "2a3f8946-fa5c-4583-af04-347cda0d32c3",
   "metadata": {},
   "outputs": [],
   "source": [
    "label2tactic = joblib.load('data/label2tactic.pkl')\n",
    "\n",
    "# тут и мобильные угрозы есть, поэтому фильтруем их\n",
    "tab_df = tab_df[tab_df['labels'].map(lambda x: all([it in label2tactic for it in x]))]"
   ]
  },
  {
   "cell_type": "raw",
   "id": "420ad299-2029-4cb9-ac0a-a6c94ed7da34",
   "metadata": {},
   "source": [
    "with pd.option_context('display.max_colwidth', 200):\n",
    "    display(tab_df.iloc[44:50])"
   ]
  },
  {
   "cell_type": "code",
   "execution_count": 8,
   "id": "c11d1192-9015-4356-8da7-5682e2ef114b",
   "metadata": {},
   "outputs": [
    {
     "data": {
      "text/plain": [
       "(837, 5)"
      ]
     },
     "execution_count": 8,
     "metadata": {},
     "output_type": "execute_result"
    }
   ],
   "source": [
    "tab_df.shape"
   ]
  },
  {
   "cell_type": "code",
   "execution_count": 9,
   "id": "3b968f7f-252d-4aa6-a466-41d0d0c8f462",
   "metadata": {},
   "outputs": [
    {
     "data": {
      "text/plain": [
       "['data/rep_data.pkl']"
      ]
     },
     "execution_count": 9,
     "metadata": {},
     "output_type": "execute_result"
    }
   ],
   "source": [
    "import joblib\n",
    "joblib.dump(tab_df, 'data/rep_data.pkl')"
   ]
  },
  {
   "cell_type": "markdown",
   "id": "e30fcd4d-773b-4b6a-99c8-962eb4006bdd",
   "metadata": {},
   "source": [
    "# Аномалии"
   ]
  },
  {
   "cell_type": "code",
   "execution_count": 15,
   "id": "c7dc4c8c-8113-4574-b238-7526eb846d16",
   "metadata": {},
   "outputs": [],
   "source": [
    "tab_df = tab_df[tab_df['sentence'].str.split().str.len()<3]"
   ]
  },
  {
   "cell_type": "markdown",
   "id": "2320d4a3-54b5-4a76-ac4f-adb380ef35fb",
   "metadata": {},
   "source": [
    "# Проблемы \n",
    "\n",
    "- есть дубли, случайно или что-то перезаписано (файл attck_procedures_202203, 0 элемента, 2 таблицы)\n",
    "- короткие описания в пару слов, могут вводить в заблуждение модель (файл attck_procedures_202203, 1 элемент, 0 таблица)"
   ]
  },
  {
   "cell_type": "markdown",
   "id": "db3895b2-68c7-4be5-842c-9e0da1d58a2c",
   "metadata": {},
   "source": [
    "# Старое"
   ]
  },
  {
   "cell_type": "code",
   "execution_count": 2,
   "id": "0eba42d1-1fd2-4975-9fa9-5853e2503f9b",
   "metadata": {},
   "outputs": [],
   "source": [
    "import pandas as pd\n",
    "import numpy as np\n",
    "np.random.seed(0)\n",
    "\n"
   ]
  },
  {
   "cell_type": "code",
   "execution_count": 19,
   "id": "5bf33a78-75d3-4475-ad8a-c80dd32e5051",
   "metadata": {},
   "outputs": [
    {
     "data": {
      "text/plain": [
       "'data/reports_202212/20221202_decoded_avast_io_report_0x2ca02e2c/model.json'"
      ]
     },
     "execution_count": 19,
     "metadata": {},
     "output_type": "execute_result"
    }
   ],
   "source": [
    "import os\n",
    "dn = 'data/reports_202212'\n",
    "fns = [f'{dn}/{it}/model.json' for it in os.listdir(dn)]\n",
    "# fn = fns[5]\n",
    "fn"
   ]
  },
  {
   "cell_type": "code",
   "execution_count": 18,
   "id": "62542f7e-92b0-4944-9e86-a705afd0f9f0",
   "metadata": {
    "collapsed": true,
    "jupyter": {
     "outputs_hidden": true
    }
   },
   "outputs": [
    {
     "ename": "FileNotFoundError",
     "evalue": "[Errno 2] No such file or directory: 'data/reports_202212/20221202_decoded_avast_io_report_0x2ca02e2c/model.json'",
     "output_type": "error",
     "traceback": [
      "\u001b[1;31m---------------------------------------------------------------------------\u001b[0m",
      "\u001b[1;31mFileNotFoundError\u001b[0m                         Traceback (most recent call last)",
      "Cell \u001b[1;32mIn[18], line 8\u001b[0m\n\u001b[0;32m      5\u001b[0m     rep_sents \u001b[38;5;241m=\u001b[39m [it[\u001b[38;5;124m'\u001b[39m\u001b[38;5;124mtext\u001b[39m\u001b[38;5;124m'\u001b[39m] \u001b[38;5;28;01mfor\u001b[39;00m it \u001b[38;5;129;01min\u001b[39;00m rep_sents]\n\u001b[0;32m      6\u001b[0m     \u001b[38;5;28;01mreturn\u001b[39;00m rep_sents\n\u001b[1;32m----> 8\u001b[0m rep_sents \u001b[38;5;241m=\u001b[39m \u001b[43mget_report_paras\u001b[49m\u001b[43m(\u001b[49m\u001b[43mfn\u001b[49m\u001b[43m)\u001b[49m\n",
      "Cell \u001b[1;32mIn[18], line 4\u001b[0m, in \u001b[0;36mget_report_paras\u001b[1;34m(fn)\u001b[0m\n\u001b[0;32m      3\u001b[0m \u001b[38;5;28;01mdef\u001b[39;00m \u001b[38;5;21mget_report_paras\u001b[39m(fn):\n\u001b[1;32m----> 4\u001b[0m     rep_sents \u001b[38;5;241m=\u001b[39m [it \u001b[38;5;28;01mfor\u001b[39;00m chapter \u001b[38;5;129;01min\u001b[39;00m json\u001b[38;5;241m.\u001b[39mload(\u001b[38;5;28;43mopen\u001b[39;49m\u001b[43m(\u001b[49m\u001b[43mfn\u001b[49m\u001b[43m,\u001b[49m\u001b[43m \u001b[49m\u001b[38;5;124;43m'\u001b[39;49m\u001b[38;5;124;43mrt\u001b[39;49m\u001b[38;5;124;43m'\u001b[39;49m\u001b[43m)\u001b[49m)[\u001b[38;5;124m'\u001b[39m\u001b[38;5;124mchapters\u001b[39m\u001b[38;5;124m'\u001b[39m] \u001b[38;5;28;01mfor\u001b[39;00m it \u001b[38;5;129;01min\u001b[39;00m chapter[\u001b[38;5;124m'\u001b[39m\u001b[38;5;124msentences\u001b[39m\u001b[38;5;124m'\u001b[39m]]\n\u001b[0;32m      5\u001b[0m     rep_sents \u001b[38;5;241m=\u001b[39m [it[\u001b[38;5;124m'\u001b[39m\u001b[38;5;124mtext\u001b[39m\u001b[38;5;124m'\u001b[39m] \u001b[38;5;28;01mfor\u001b[39;00m it \u001b[38;5;129;01min\u001b[39;00m rep_sents]\n\u001b[0;32m      6\u001b[0m     \u001b[38;5;28;01mreturn\u001b[39;00m rep_sents\n",
      "File \u001b[1;32mC:\\tools\\Anaconda3\\envs\\pytorch_env\\lib\\site-packages\\IPython\\core\\interactiveshell.py:324\u001b[0m, in \u001b[0;36m_modified_open\u001b[1;34m(file, *args, **kwargs)\u001b[0m\n\u001b[0;32m    317\u001b[0m \u001b[38;5;28;01mif\u001b[39;00m file \u001b[38;5;129;01min\u001b[39;00m {\u001b[38;5;241m0\u001b[39m, \u001b[38;5;241m1\u001b[39m, \u001b[38;5;241m2\u001b[39m}:\n\u001b[0;32m    318\u001b[0m     \u001b[38;5;28;01mraise\u001b[39;00m \u001b[38;5;167;01mValueError\u001b[39;00m(\n\u001b[0;32m    319\u001b[0m         \u001b[38;5;124mf\u001b[39m\u001b[38;5;124m\"\u001b[39m\u001b[38;5;124mIPython won\u001b[39m\u001b[38;5;124m'\u001b[39m\u001b[38;5;124mt let you open fd=\u001b[39m\u001b[38;5;132;01m{\u001b[39;00mfile\u001b[38;5;132;01m}\u001b[39;00m\u001b[38;5;124m by default \u001b[39m\u001b[38;5;124m\"\u001b[39m\n\u001b[0;32m    320\u001b[0m         \u001b[38;5;124m\"\u001b[39m\u001b[38;5;124mas it is likely to crash IPython. If you know what you are doing, \u001b[39m\u001b[38;5;124m\"\u001b[39m\n\u001b[0;32m    321\u001b[0m         \u001b[38;5;124m\"\u001b[39m\u001b[38;5;124myou can use builtins\u001b[39m\u001b[38;5;124m'\u001b[39m\u001b[38;5;124m open.\u001b[39m\u001b[38;5;124m\"\u001b[39m\n\u001b[0;32m    322\u001b[0m     )\n\u001b[1;32m--> 324\u001b[0m \u001b[38;5;28;01mreturn\u001b[39;00m io_open(file, \u001b[38;5;241m*\u001b[39margs, \u001b[38;5;241m*\u001b[39m\u001b[38;5;241m*\u001b[39mkwargs)\n",
      "\u001b[1;31mFileNotFoundError\u001b[0m: [Errno 2] No such file or directory: 'data/reports_202212/20221202_decoded_avast_io_report_0x2ca02e2c/model.json'"
     ]
    }
   ],
   "source": [
    "import json\n",
    "\n",
    "def get_report_paras(fn):\n",
    "    rep_sents = [it for chapter in json.load(open(fn, 'rt'))['chapters'] for it in chapter['sentences']]\n",
    "    rep_sents = [it['text'] for it in rep_sents]\n",
    "    return rep_sents\n",
    "    \n",
    "rep_sents = get_report_paras(fn)"
   ]
  },
  {
   "cell_type": "code",
   "execution_count": 20,
   "id": "51be6f69-95ec-4dd4-b112-b9ea8196a738",
   "metadata": {},
   "outputs": [
    {
     "name": "stdout",
     "output_type": "stream",
     "text": [
      "data/reports_202212/20221202_asec_ahnlab_com_report_0x97bb2408/model.json\n",
      "data/reports_202212/20221205_us-cert_cisa_gov_report_0xdc5d404f/model.json\n",
      "data/reports_202212/20221223_trendmicro_com_report_0x203a8843/model.json\n"
     ]
    }
   ],
   "source": [
    "import re\n",
    "regexp_ttp = re.compile(r'(^| )(t\\d{3,}(\\.\\d+)?)([., ]|$)', flags=re.IGNORECASE)\n",
    "# regexp_ttp = r'[\\d\\.]{1,}'\n",
    "for fn in fns:\n",
    "    if os.path.exists(fn):\n",
    "        rep_sents = get_report_paras(fn)\n",
    "        text = '\\n'.join(rep_sents)\n",
    "        res_l = re.findall(regexp_ttp, text)\n",
    "        if len(res_l)>0:\n",
    "            print(fn)"
   ]
  },
  {
   "cell_type": "code",
   "execution_count": 28,
   "id": "d442a04a-a042-447f-b0ea-b9606de1901d",
   "metadata": {},
   "outputs": [
    {
     "data": {
      "text/plain": [
       "[(' ', 'T1218.007', '.007', ' '),\n",
       " (' ', 'T1218.011', '.011', ' '),\n",
       " (' ', 'T1218.011', '.011', ' '),\n",
       " (' ', 'T1027.009', '.009', ' '),\n",
       " (' ', 'T1218.011', '.011', ' ')]"
      ]
     },
     "execution_count": 28,
     "metadata": {},
     "output_type": "execute_result"
    }
   ],
   "source": [
    "fn = 'data/reports_202212/20221223_trendmicro_com_report_0x203a8843/model.json'\n",
    "rep_sents = get_report_paras(fn)\n",
    "text = '\\n'.join(rep_sents)\n",
    "# print(text)\n",
    "res_l = re.findall(regexp_ttp, text)\n",
    "res_l"
   ]
  },
  {
   "cell_type": "code",
   "execution_count": null,
   "id": "66288a82-927d-4cac-b2c9-4a9539cfe982",
   "metadata": {},
   "outputs": [],
   "source": []
  },
  {
   "cell_type": "code",
   "execution_count": null,
   "id": "d7a8c56f-fd1d-49ce-b270-4a0fec64dca5",
   "metadata": {},
   "outputs": [],
   "source": []
  },
  {
   "cell_type": "code",
   "execution_count": null,
   "id": "3f394b54-b1e5-44ec-a17c-bf27fcdb39b0",
   "metadata": {},
   "outputs": [],
   "source": [
    "для всех sentences из каждой chapter\n",
    "\n"
   ]
  },
  {
   "cell_type": "code",
   "execution_count": null,
   "id": "2d2b3142-4bcc-43d9-a719-cb2563212676",
   "metadata": {},
   "outputs": [],
   "source": [
    "поисковой механизм\n",
    "- берем поабзацно и сравниваем"
   ]
  }
 ],
 "metadata": {
  "kernelspec": {
   "display_name": "pytorch_env",
   "language": "python",
   "name": "pytorch_env"
  },
  "language_info": {
   "codemirror_mode": {
    "name": "ipython",
    "version": 3
   },
   "file_extension": ".py",
   "mimetype": "text/x-python",
   "name": "python",
   "nbconvert_exporter": "python",
   "pygments_lexer": "ipython3",
   "version": "3.10.14"
  }
 },
 "nbformat": 4,
 "nbformat_minor": 5
}
